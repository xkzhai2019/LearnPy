{
 "cells": [
  {
   "cell_type": "markdown",
   "id": "d446cab7-1c4d-46c5-ae73-4ee863a9ccc9",
   "metadata": {},
   "source": [
    "## 12. 可迭代对象、迭代器与生成器"
   ]
  },
  {
   "cell_type": "markdown",
   "id": "8ef1303b-3023-4ce9-87cd-c64cd3259f82",
   "metadata": {},
   "source": [
    "### 12.1 两种循环"
   ]
  },
  {
   "cell_type": "code",
   "execution_count": 3,
   "id": "024909f8-c45b-407b-9e1b-3ead9e33b9a7",
   "metadata": {},
   "outputs": [
    {
     "name": "stdout",
     "output_type": "stream",
     "text": [
      "red\n",
      "black\n",
      "blue\n"
     ]
    }
   ],
   "source": [
    "# for循环\n",
    "# for item in iterable\n",
    "colors = ['red','black','blue']\n",
    "for color in colors:\n",
    "    print(color)"
   ]
  },
  {
   "cell_type": "code",
   "execution_count": 4,
   "id": "5839440d-a05a-4cd7-9f57-8edd1299fa73",
   "metadata": {},
   "outputs": [
    {
     "name": "stdout",
     "output_type": "stream",
     "text": [
      "red\n",
      "black\n",
      "blue\n"
     ]
    }
   ],
   "source": [
    "# while循环\n",
    "colors = ['red','black','blue']\n",
    "i = 0\n",
    "while i<len(colors):\n",
    "    print(colors[i])\n",
    "    i += 1"
   ]
  },
  {
   "cell_type": "markdown",
   "id": "5a276378-c248-444e-a755-9c88dfa7bbc8",
   "metadata": {},
   "source": [
    "可以看到：for循环的使用方式简单得多！"
   ]
  },
  {
   "cell_type": "markdown",
   "id": "7cb14a55-cf08-4cde-894a-de1d61b43201",
   "metadata": {},
   "source": [
    "### 12.2 可迭代对象（iterable）"
   ]
  },
  {
   "cell_type": "markdown",
   "id": "a8005798-6c4a-464d-8ed0-55f47d8634a7",
   "metadata": {},
   "source": [
    "可迭代对象：内部实现了__iter__()方法的对象"
   ]
  },
  {
   "cell_type": "markdown",
   "id": "4d33198c-f127-485b-a465-8b668b1b3612",
   "metadata": {},
   "source": [
    "Python中常见的内置可迭代对象包括：列表、元组、字符串、字典等"
   ]
  },
  {
   "cell_type": "code",
   "execution_count": 10,
   "id": "44aaf9b0-213b-4494-9a7c-1e282a371e3a",
   "metadata": {},
   "outputs": [
    {
     "name": "stdout",
     "output_type": "stream",
     "text": [
      "<list_iterator object at 0x79d0c07f6940>\n",
      "<list_iterator object at 0x79d0c07e2280>\n"
     ]
    }
   ],
   "source": [
    "# 使用__iter__() 或者 iter()获取一个可迭代对象的迭代器\n",
    "nums = [1,2,3,4,5]\n",
    "print(nums.__iter__())\n",
    "print(iter(nums))"
   ]
  },
  {
   "cell_type": "code",
   "execution_count": 59,
   "id": "fa05f813-fd84-4b4c-a022-cd8d5504d58d",
   "metadata": {},
   "outputs": [
    {
     "name": "stdout",
     "output_type": "stream",
     "text": [
      "<list_iterator object at 0x79d0c01c6430>\n",
      "1\n",
      "2\n",
      "3\n",
      "4\n",
      "5\n",
      "1\n",
      "2\n",
      "3\n",
      "4\n",
      "5\n",
      "<tuple_iterator object at 0x79d0c01c6430>\n",
      "<str_iterator object at 0x79d0c01c6430>\n",
      "<dict_keyiterator object at 0x79d0c02a5270>\n",
      "<range_iterator object at 0x79d0c01c6420>\n"
     ]
    }
   ],
   "source": [
    "# 列表\n",
    "nums = [1,2,3,4,5]\n",
    "print(nums.__iter__())\n",
    "for num in nums:\n",
    "    print(num)\n",
    "    \n",
    "for num in nums:\n",
    "    print(num)\n",
    "\n",
    "# 元组\n",
    "colors = ('red','black','green')\n",
    "print(colors.__iter__())\n",
    "\n",
    "# 字符串\n",
    "s = \"hello java\"\n",
    "print(s.__iter__())\n",
    "\n",
    "# 字典\n",
    "dt = {'Jack':19,'Tom':18}\n",
    "print(dt.__iter__())\n",
    "\n",
    "# range \n",
    "items = range(10)\n",
    "print(items.__iter__())"
   ]
  },
  {
   "cell_type": "code",
   "execution_count": 17,
   "id": "2bd3fa21-9ba8-4d1e-a510-bae435ce8760",
   "metadata": {},
   "outputs": [
    {
     "ename": "TypeError",
     "evalue": "'int' object is not iterable",
     "output_type": "error",
     "traceback": [
      "\u001b[0;31m---------------------------------------------------------------------------\u001b[0m",
      "\u001b[0;31mTypeError\u001b[0m                                 Traceback (most recent call last)",
      "Cell \u001b[0;32mIn[17], line 4\u001b[0m\n\u001b[1;32m      2\u001b[0m year \u001b[38;5;241m=\u001b[39m \u001b[38;5;241m2004\u001b[39m\n\u001b[1;32m      3\u001b[0m \u001b[38;5;66;03m# print(year.__iter__())\u001b[39;00m\n\u001b[0;32m----> 4\u001b[0m \u001b[38;5;28mprint\u001b[39m(\u001b[38;5;28;43miter\u001b[39;49m\u001b[43m(\u001b[49m\u001b[43myear\u001b[49m\u001b[43m)\u001b[49m)\n",
      "\u001b[0;31mTypeError\u001b[0m: 'int' object is not iterable"
     ]
    }
   ],
   "source": [
    "# 对不可迭代对象使用__iter__ 和 iter() 会直接报错\n",
    "year = 2004\n",
    "# print(year.__iter__())\n",
    "print(iter(year))"
   ]
  },
  {
   "cell_type": "markdown",
   "id": "578ef700-eb6b-4982-87ef-00f3f375e2df",
   "metadata": {},
   "source": [
    "### 12.3 迭代器"
   ]
  },
  {
   "cell_type": "markdown",
   "id": "6d5affd7-2dd3-4306-80e9-7e7faeb76ea1",
   "metadata": {},
   "source": [
    "所谓迭代器，就是一种可以迭代其他对象的对象。"
   ]
  },
  {
   "cell_type": "code",
   "execution_count": 19,
   "id": "f91341e5-99e7-48d7-81e1-5234180fbf68",
   "metadata": {},
   "outputs": [
    {
     "name": "stdout",
     "output_type": "stream",
     "text": [
      "red\n",
      "black\n",
      "green\n"
     ]
    },
    {
     "ename": "StopIteration",
     "evalue": "",
     "output_type": "error",
     "traceback": [
      "\u001b[0;31m---------------------------------------------------------------------------\u001b[0m",
      "\u001b[0;31mStopIteration\u001b[0m                             Traceback (most recent call last)",
      "Cell \u001b[0;32mIn[19], line 8\u001b[0m\n\u001b[1;32m      6\u001b[0m \u001b[38;5;28mprint\u001b[39m(ret\u001b[38;5;241m.\u001b[39m\u001b[38;5;21m__next__\u001b[39m())\n\u001b[1;32m      7\u001b[0m \u001b[38;5;28mprint\u001b[39m(\u001b[38;5;28mnext\u001b[39m(ret))\n\u001b[0;32m----> 8\u001b[0m \u001b[38;5;28mprint\u001b[39m(\u001b[38;5;28;43mnext\u001b[39;49m\u001b[43m(\u001b[49m\u001b[43mret\u001b[49m\u001b[43m)\u001b[49m) \u001b[38;5;66;03m# 超出元组范围，报错\u001b[39;00m\n",
      "\u001b[0;31mStopIteration\u001b[0m: "
     ]
    }
   ],
   "source": [
    "# 使用__next__() 或者 next()函数获取下一次迭代的结果\n",
    "colors = ('red','black','green')\n",
    "ret = colors.__iter__()\n",
    "\n",
    "print(ret.__next__())\n",
    "print(ret.__next__())\n",
    "print(next(ret))\n",
    "print(next(ret)) # 超出元组范围，报错"
   ]
  },
  {
   "cell_type": "code",
   "execution_count": 22,
   "id": "a3a32da3-5cfc-4f23-ad1c-0dea29ea53e3",
   "metadata": {},
   "outputs": [
    {
     "name": "stdout",
     "output_type": "stream",
     "text": [
      "<tuple_iterator object at 0x79d0c0424070>\n",
      "<tuple_iterator object at 0x79d0c0424070>\n",
      "<tuple_iterator object at 0x79d0c0424070>\n"
     ]
    }
   ],
   "source": [
    "# 迭代器的迭代器--------就是迭代器本身\n",
    "colors = ('red','black','green')\n",
    "ret = colors.__iter__()\n",
    "print(ret)\n",
    "print(ret.__iter__())\n",
    "print(iter(ret))"
   ]
  },
  {
   "cell_type": "code",
   "execution_count": 38,
   "id": "eadb6fa0-3d81-4405-9470-0a8b8a510ccf",
   "metadata": {},
   "outputs": [
    {
     "name": "stdout",
     "output_type": "stream",
     "text": [
      "red\n",
      "True\n",
      "True\n",
      "True\n",
      "False\n"
     ]
    },
    {
     "ename": "AttributeError",
     "evalue": "'tuple' object has no attribute '__next__'",
     "output_type": "error",
     "traceback": [
      "\u001b[0;31m---------------------------------------------------------------------------\u001b[0m",
      "\u001b[0;31mAttributeError\u001b[0m                            Traceback (most recent call last)",
      "Cell \u001b[0;32mIn[38], line 11\u001b[0m\n\u001b[1;32m      9\u001b[0m \u001b[38;5;28mprint\u001b[39m(\u001b[38;5;28misinstance\u001b[39m(ret,Iterator))\n\u001b[1;32m     10\u001b[0m \u001b[38;5;28mprint\u001b[39m(\u001b[38;5;28misinstance\u001b[39m(colors,Iterator))\n\u001b[0;32m---> 11\u001b[0m \u001b[38;5;28mprint\u001b[39m(\u001b[43mcolors\u001b[49m\u001b[38;5;241;43m.\u001b[39;49m\u001b[38;5;21;43m__next__\u001b[39;49m())\n",
      "\u001b[0;31mAttributeError\u001b[0m: 'tuple' object has no attribute '__next__'"
     ]
    }
   ],
   "source": [
    "# 可迭代对象不能使用next() 和 __next__()方法，这两个是迭代器独有的\n",
    "from collections.abc import Iterable, Iterator\n",
    "colors = ('red','black','green')\n",
    "ret = colors.__iter__()\n",
    "\n",
    "print(ret.__next__())\n",
    "print(isinstance(ret,Iterable))\n",
    "print(isinstance(colors,Iterable))\n",
    "print(isinstance(ret,Iterator))\n",
    "print(isinstance(colors,Iterator))\n",
    "print(colors.__next__())"
   ]
  },
  {
   "cell_type": "markdown",
   "id": "fb35cdeb-8375-472b-bfc9-45df3b8eed20",
   "metadata": {},
   "source": [
    "###### 小结：\n",
    "* 如果一个对象实现了__iter__()方法，则该对象就是一个可迭代对象；\n",
    "* 如果一个对象同时实现了__iter__()方法和__next__()方法，则该对象是一个迭代器；\n",
    "* 迭代器是可迭代对象的一种，而使用__iter__()方法，可以将可迭代对象转化为迭代器；\n",
    "* 可以使用isinstance()函数来判断一个对象是可迭代对象还是迭代器"
   ]
  },
  {
   "cell_type": "markdown",
   "id": "48f5114c-1017-4a7e-a40c-a68f0d5fc628",
   "metadata": {},
   "source": [
    "### 12.4 生成器"
   ]
  },
  {
   "cell_type": "markdown",
   "id": "5907b928-b6d6-4988-8990-5e9b1d42ed0a",
   "metadata": {},
   "source": [
    "生成器：一种特殊的函数，内部使用了yield关键字：\n",
    "* 一个函数使用了yield关键字后，就会返回一个迭代器\n",
    "* 生成器本质上还是一个迭代器"
   ]
  },
  {
   "cell_type": "code",
   "execution_count": 45,
   "id": "1cc02ff9-f55d-44db-8128-1e29d09c6b12",
   "metadata": {},
   "outputs": [
    {
     "name": "stdout",
     "output_type": "stream",
     "text": [
      "<class 'generator'>\n",
      "True\n",
      "0\n",
      "2\n",
      "4\n",
      "6\n",
      "8\n"
     ]
    }
   ],
   "source": [
    "from collections.abc import Iterable, Iterator\n",
    "def get_even(n):\n",
    "    for i in range(0,n):\n",
    "        if i%2 ==0:\n",
    "            yield i # 类似于return，但return返回的是一次性的，且会中断函数的执行，但yield是一步步生成结果\n",
    "print(type(get_even(10)))\n",
    "print(isinstance(get_even(10),Iterator))\n",
    "for i in get_even(10):\n",
    "    print(i)"
   ]
  },
  {
   "cell_type": "code",
   "execution_count": 50,
   "id": "c470be7e-1e49-4d98-8f36-e0bce9e26e0c",
   "metadata": {},
   "outputs": [
    {
     "name": "stdout",
     "output_type": "stream",
     "text": [
      "0\n",
      "2\n",
      "4\n",
      "6\n",
      "8\n"
     ]
    }
   ],
   "source": [
    "def get_even(n):\n",
    "    for i in range(0,n):\n",
    "        if i%2 ==0:\n",
    "            yield i \n",
    "ret = get_even(10)\n",
    "print(ret.__next__())\n",
    "print(ret.__next__())\n",
    "print(ret.__next__())\n",
    "print(ret.__next__())\n",
    "print(next(ret))"
   ]
  },
  {
   "cell_type": "markdown",
   "id": "bb46d25c-7b4d-4d30-b8df-3d9af9601960",
   "metadata": {},
   "source": [
    "##### 元组生成器-----生成器推导式"
   ]
  },
  {
   "cell_type": "code",
   "execution_count": 55,
   "id": "6bdac2c3-77d0-47e6-bfd0-a963f8fcc23e",
   "metadata": {},
   "outputs": [
    {
     "name": "stdout",
     "output_type": "stream",
     "text": [
      "<generator object <genexpr> at 0x79d0c05b0ac0>\n",
      "1\n",
      "4\n",
      "9\n",
      "16\n"
     ]
    }
   ],
   "source": [
    "nums = (n**2 for n in range(1,6))\n",
    "print(nums)\n",
    "#for i in nums:\n",
    "#    print(i)\n",
    "\n",
    "print(next(nums))\n",
    "print(next(nums))\n",
    "print(next(nums))\n",
    "print(nums.__next__())"
   ]
  },
  {
   "cell_type": "markdown",
   "id": "fe4be031-d39c-4695-acb7-d695e56cef93",
   "metadata": {},
   "source": [
    "### 12.5 内置函数"
   ]
  },
  {
   "cell_type": "markdown",
   "id": "869db2ff-3aa4-49e7-aa97-cfb8918912b2",
   "metadata": {},
   "source": [
    "可迭代对象的显著特点：可以使用for 循环遍历"
   ]
  },
  {
   "cell_type": "markdown",
   "id": "379ebb8f-1488-4559-8416-dfe6cebc168c",
   "metadata": {},
   "source": [
    "#### 12.5.1 enumerate()函数：将一个可迭代对象组合成一个带索引的序列"
   ]
  },
  {
   "cell_type": "code",
   "execution_count": 60,
   "id": "c2232192-85a5-45a5-97f4-fa9184afcf96",
   "metadata": {},
   "outputs": [
    {
     "name": "stdout",
     "output_type": "stream",
     "text": [
      "red 0\n",
      "green 1\n",
      "blue 2\n"
     ]
    }
   ],
   "source": [
    "# enumerate(iterable, start) ------从start开始，不断生成\"(当前下标，当前元素)\"的新可迭代对象，同时也是迭代器\n",
    "colors = ['red','green','blue']\n",
    "for index,color in enumerate(colors):\n",
    "    print(color,index)"
   ]
  },
  {
   "cell_type": "code",
   "execution_count": 65,
   "id": "931d480b-fab1-4b04-98c8-c5ac93dbeebe",
   "metadata": {},
   "outputs": [
    {
     "name": "stdout",
     "output_type": "stream",
     "text": [
      "<class 'enumerate'>\n",
      "True\n",
      "True\n"
     ]
    }
   ],
   "source": [
    "from collections.abc import Iterable, Iterator\n",
    "colors = ['red','green','blue']\n",
    "print(type(enumerate(colors)))\n",
    "print(isinstance(enumerate(colors),Iterable))\n",
    "print(isinstance(enumerate(colors),Iterator))"
   ]
  },
  {
   "cell_type": "code",
   "execution_count": 66,
   "id": "a6369a20-811f-4fd2-a09b-f7c82795c42e",
   "metadata": {},
   "outputs": [
    {
     "name": "stdout",
     "output_type": "stream",
     "text": [
      "(0, 'red')\n",
      "(1, 'green')\n",
      "(2, 'blue')\n"
     ]
    }
   ],
   "source": [
    "colors = ['red','green','blue']\n",
    "it = enumerate(colors)\n",
    "print(next(it))\n",
    "print(next(it))\n",
    "print(next(it))"
   ]
  },
  {
   "cell_type": "markdown",
   "id": "e70f7b54-5e9b-4d8a-8208-d7ba8a03a3e8",
   "metadata": {},
   "source": [
    "#### 12.5.2 reversed()函数-----对一个可迭代对象的所有元素进行“反转”"
   ]
  },
  {
   "cell_type": "code",
   "execution_count": 77,
   "id": "3ed99cf6-a0f7-4d39-b313-9370869d2bf6",
   "metadata": {},
   "outputs": [
    {
     "name": "stdout",
     "output_type": "stream",
     "text": [
      "<list_reverseiterator object at 0x79d0c01c6370>\n",
      "[5, 4, 3, 2, 1]\n"
     ]
    }
   ],
   "source": [
    "# 列表\n",
    "nums = [1,2,3,4,5]\n",
    "ret = reversed(nums) # 返回的是迭代器\n",
    "print(ret)\n",
    "print(list(ret))\n",
    "# print(ret.__next__())"
   ]
  },
  {
   "cell_type": "code",
   "execution_count": 80,
   "id": "80db3ebe-1060-42b6-8ce7-4979459ed44c",
   "metadata": {},
   "outputs": [
    {
     "name": "stdout",
     "output_type": "stream",
     "text": [
      "('red', 'blue', 'green')\n",
      "<reversed object at 0x79d0c01c63a0>\n",
      "('green', 'blue', 'red')\n"
     ]
    }
   ],
   "source": [
    "# 元组\n",
    "colors = ('red','blue','green')\n",
    "print(colors)\n",
    "ret = reversed(colors)\n",
    "print(ret)\n",
    "print(tuple(ret))"
   ]
  },
  {
   "cell_type": "code",
   "execution_count": 92,
   "id": "815f2953-08cf-49fa-bec0-7442df6b9515",
   "metadata": {},
   "outputs": [
    {
     "name": "stdout",
     "output_type": "stream",
     "text": [
      "<reversed object at 0x79d0c01dd0a0>\n",
      "['n', 'o', 'h', 't', 'y', 'p']\n",
      "nohtyp\n"
     ]
    }
   ],
   "source": [
    "# 字符串\n",
    "s = 'python'\n",
    "print(str(reversed(s))) # 无法直接使用str()将其转换为字符串\n",
    "lst = list(reversed(s))\n",
    "print(lst)\n",
    "\n",
    "ret = ''.join(lst)\n",
    "print(ret)"
   ]
  },
  {
   "cell_type": "code",
   "execution_count": 94,
   "id": "baa48cb3-21a5-499d-b851-acce3cc3cfc5",
   "metadata": {},
   "outputs": [
    {
     "name": "stdout",
     "output_type": "stream",
     "text": [
      "['Tony', 'Lucy', 'Jack']\n"
     ]
    }
   ],
   "source": [
    "# 字典\n",
    "users = {'Jack':1001,'Lucy':1002,'Tony':1003}\n",
    "ret = list(reversed(users)) # 针对的是字典的键\n",
    "\n",
    "print(ret)"
   ]
  },
  {
   "cell_type": "code",
   "execution_count": 98,
   "id": "08b5241e-088e-4228-8e82-b1255c545da3",
   "metadata": {},
   "outputs": [
    {
     "name": "stdout",
     "output_type": "stream",
     "text": [
      "range(0, 5)\n",
      "[0, 1, 2, 3, 4]\n",
      "<range_iterator object at 0x79d0c01dd960>\n",
      "[4, 3, 2, 1, 0]\n"
     ]
    }
   ],
   "source": [
    "# range\n",
    "nums = range(0,5)\n",
    "print(nums)\n",
    "print(list(nums))\n",
    "\n",
    "ret = reversed(nums)\n",
    "print(ret)\n",
    "print(list(ret))"
   ]
  },
  {
   "cell_type": "markdown",
   "id": "38a3465d-c40d-4107-8b5b-1adaa979342e",
   "metadata": {},
   "source": [
    "#### 12.5.3 sorted()函数---对一个可迭代对象中的元素进行排序"
   ]
  },
  {
   "cell_type": "raw",
   "id": "d1ab3e43-6ca0-4607-86cf-ee38a376b8d1",
   "metadata": {},
   "source": [
    "# sorted(iterable, key=函数, reverse=True 或 False)\n",
    "# 默认升序，reverse=False"
   ]
  },
  {
   "cell_type": "markdown",
   "id": "296f2f16-6780-473a-b594-88f8d8960148",
   "metadata": {},
   "source": [
    "##### 1. 列表排序\n"
   ]
  },
  {
   "cell_type": "code",
   "execution_count": 101,
   "id": "88576ca5-26f5-4a9e-ba5a-757818d7447d",
   "metadata": {},
   "outputs": [
    {
     "name": "stdout",
     "output_type": "stream",
     "text": [
      "[1, 2, 3, 3, 5, 6, 7, 9]\n"
     ]
    }
   ],
   "source": [
    "nums = [3,5,6,7,9,1,2,3]\n",
    "nums.sort() # sort()方法\n",
    "print(nums)"
   ]
  },
  {
   "cell_type": "code",
   "execution_count": 105,
   "id": "f3a3632d-7828-412e-a1b7-44c2fffda42c",
   "metadata": {},
   "outputs": [
    {
     "name": "stdout",
     "output_type": "stream",
     "text": [
      "[3, 5, 6, 7, 9, 1, 2, 3]\n",
      "[9, 7, 6, 5, 3, 3, 2, 1]\n"
     ]
    }
   ],
   "source": [
    "nums = [3,5,6,7,9,1,2,3]\n",
    "ret = sorted(nums,reverse = True) \n",
    "print(nums)\n",
    "print(ret)"
   ]
  },
  {
   "cell_type": "code",
   "execution_count": 106,
   "id": "8274723e-6e74-41b0-b364-bceb4f797858",
   "metadata": {},
   "outputs": [
    {
     "name": "stdout",
     "output_type": "stream",
     "text": [
      "[3, -5, 6, 7, 9, -1, -2, 3]\n",
      "[-5, -2, -1, 3, 3, 6, 7, 9]\n",
      "[-1, -2, 3, 3, -5, 6, 7, 9]\n"
     ]
    }
   ],
   "source": [
    "# 按绝对值排序\n",
    "nums = [3,-5,6,7,9,-1,-2,3]\n",
    "print(nums)\n",
    "\n",
    "ret1 = sorted(nums)\n",
    "print(ret1)\n",
    "\n",
    "ret2 = sorted(nums,key=abs)\n",
    "print(ret2)"
   ]
  },
  {
   "cell_type": "code",
   "execution_count": 108,
   "id": "79e78c49-55fc-439e-9362-ef23d484f6d1",
   "metadata": {},
   "outputs": [
    {
     "name": "stdout",
     "output_type": "stream",
     "text": [
      "[('Tony', 20), ('Jack', 21), ('Lucy', 19)]\n",
      "[('Jack', 21), ('Lucy', 19), ('Tony', 20)]\n"
     ]
    }
   ],
   "source": [
    "# 复杂列表排序\n",
    "users = [('Tony',20),('Jack',21),('Lucy',19)]\n",
    "print(users)\n",
    "ret  = sorted(users,key=lambda user:user[0]) # 按姓名排序\n",
    "print(ret)"
   ]
  },
  {
   "cell_type": "code",
   "execution_count": 109,
   "id": "bb1288a0-9a64-4d1d-85c7-0e4934c1f072",
   "metadata": {},
   "outputs": [
    {
     "name": "stdout",
     "output_type": "stream",
     "text": [
      "[('Tony', 20, 1003), ('Jack', 21, 1001), ('Lucy', 19, 1002)]\n",
      "[('Jack', 21, 1001), ('Lucy', 19, 1002), ('Tony', 20, 1003)]\n"
     ]
    }
   ],
   "source": [
    "# 复杂列表排序\n",
    "users = [('Tony',20,1003),('Jack',21,1001),('Lucy',19,1002)]\n",
    "print(users)\n",
    "ret  = sorted(users,key=lambda user:user[2]) # 按学号排序\n",
    "print(ret)"
   ]
  },
  {
   "cell_type": "markdown",
   "id": "8b145e8d-5b33-4864-9f22-89ce5999bf8d",
   "metadata": {},
   "source": [
    "##### 2. 字典排序 "
   ]
  },
  {
   "cell_type": "code",
   "execution_count": 112,
   "id": "6cc9907c-c6bc-40ae-b7df-9b2f702798db",
   "metadata": {},
   "outputs": [
    {
     "name": "stdout",
     "output_type": "stream",
     "text": [
      "['a', 'b', 'c']\n"
     ]
    }
   ],
   "source": [
    "# 对字典排序，本质上是对key排序\n",
    "d = {'b':2,'a':3,'c':1}\n",
    "ret = sorted(d) # 默认返回的是key排序形成的列表\n",
    "print(ret)"
   ]
  },
  {
   "cell_type": "code",
   "execution_count": 121,
   "id": "84854988-263d-44fe-9a97-b129986f3edd",
   "metadata": {},
   "outputs": [
    {
     "name": "stdout",
     "output_type": "stream",
     "text": [
      "dict_items([('b', 2), ('a', 3), ('c', 1)])\n",
      "[('a', 3), ('b', 2), ('c', 1)]\n"
     ]
    }
   ],
   "source": [
    "# 利用items对字典排序\n",
    "d = {'b':2,'a':3,'c':1}\n",
    "print(d.items())\n",
    "ret = sorted(d.items(),key=lambda x:x[0]) # 按键排序\n",
    "print(ret)"
   ]
  },
  {
   "cell_type": "code",
   "execution_count": 122,
   "id": "bcd23f86-9a20-4676-a85b-59dd4c8917ac",
   "metadata": {},
   "outputs": [
    {
     "name": "stdout",
     "output_type": "stream",
     "text": [
      "dict_items([('b', 2), ('a', 3), ('c', 1)])\n",
      "[('c', 1), ('b', 2), ('a', 3)]\n"
     ]
    }
   ],
   "source": [
    "# 利用items对字典排序\n",
    "d = {'b':2,'a':3,'c':1}\n",
    "print(d.items())\n",
    "ret = sorted(d.items(),key=lambda x:x[1]) # 按值排序\n",
    "print(ret)"
   ]
  },
  {
   "cell_type": "markdown",
   "id": "83ee6b5b-e73b-441c-adc4-d6f1d1bc9694",
   "metadata": {},
   "source": [
    "##### 3. JSON排序"
   ]
  },
  {
   "cell_type": "code",
   "execution_count": 124,
   "id": "cabbe4e8-98e1-4680-9813-743c3993526a",
   "metadata": {},
   "outputs": [
    {
     "name": "stdout",
     "output_type": "stream",
     "text": [
      "[{'name': 'Lucy', 'age': 19}, {'name': 'Tony', 'age': 20}, {'name': 'Jack', 'age': 21}]\n"
     ]
    }
   ],
   "source": [
    "users = [{\"name\":\"Jack\",\"age\":21},\n",
    "         {\"name\":\"Lucy\",\"age\":19},\n",
    "         {\"name\":\"Tony\",\"age\":20}\n",
    "        ] #这里的JSON本质是一个列表，列表的每一项是一个字典\n",
    "ret = sorted(users,key=lambda user:user['age'])\n",
    "print(ret)"
   ]
  }
 ],
 "metadata": {
  "kernelspec": {
   "display_name": "Python 3 (ipykernel)",
   "language": "python",
   "name": "python3"
  },
  "language_info": {
   "codemirror_mode": {
    "name": "ipython",
    "version": 3
   },
   "file_extension": ".py",
   "mimetype": "text/x-python",
   "name": "python",
   "nbconvert_exporter": "python",
   "pygments_lexer": "ipython3",
   "version": "3.9.1"
  }
 },
 "nbformat": 4,
 "nbformat_minor": 5
}
