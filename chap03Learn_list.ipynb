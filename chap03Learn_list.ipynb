{
 "cells": [
  {
   "cell_type": "markdown",
   "id": "74bf79d1-0c97-477a-b649-89626badd565",
   "metadata": {},
   "source": [
    "## 3. 列表与元组"
   ]
  },
  {
   "cell_type": "markdown",
   "id": "9d4522b1-5092-4518-a4a4-1aa43cc0f6de",
   "metadata": {},
   "source": [
    "### 序列：Python最基本的数据结构\n",
    "* 列表\n",
    "* 元组\n",
    "* 字符串\n",
    "\n",
    "“下标”：同“位置”、“索引”，从0开始"
   ]
  },
  {
   "cell_type": "markdown",
   "id": "67789049-5150-49a0-aaed-58a0bb30778e",
   "metadata": {},
   "source": [
    "### 3.1 列表"
   ]
  },
  {
   "cell_type": "markdown",
   "id": "26b2f154-3b1e-4a19-affa-a11d440ec304",
   "metadata": {},
   "source": [
    "#### 3.1.1 列表的创建"
   ]
  },
  {
   "cell_type": "code",
   "execution_count": 32,
   "id": "ad09c77a-ce72-4627-b2b1-db44ab155817",
   "metadata": {},
   "outputs": [
    {
     "name": "stdout",
     "output_type": "stream",
     "text": [
      "[]\n",
      "['ant', 'cat', 'eve']\n",
      "[1, 2, 'ptyh']\n",
      "[[1, 2], [3, 4], 'test']\n"
     ]
    }
   ],
   "source": [
    "# 使用[]来创建\n",
    "lst1 = [] # 空列表\n",
    "lst2 = ['ant','cat','eve'] # 包含3个字符串的列表\n",
    "lst3 = [1,2,'ptyh'] # 列表中元素的类型可以不一样\n",
    "lst4 = [[1,2],[3,4],'test'] # 列表的元素也可以是列表\n",
    "print(lst1)\n",
    "print(lst2)\n",
    "print(lst3)\n",
    "print(lst4)"
   ]
  },
  {
   "cell_type": "markdown",
   "id": "e9e15867-672f-4e2e-ba47-ad82608d2fb0",
   "metadata": {},
   "source": [
    "#### 3.1.2 获取列表元素"
   ]
  },
  {
   "cell_type": "markdown",
   "id": "1b98c27c-7ed3-46ae-b7a7-8ccd2a9dc815",
   "metadata": {},
   "source": [
    "##### 1. 正数下标：最左边元素的下标为0"
   ]
  },
  {
   "cell_type": "code",
   "execution_count": null,
   "id": "c8cd6209-25a4-4c0a-b813-9dc8a7b4fc4f",
   "metadata": {},
   "outputs": [],
   "source": [
    "lst = ['ant','bee','cat',1,2,'cat']\n",
    "print(lst[1]) # 1表示列表中的第2个元素\n",
    "# print(lst[6])\n",
    "print(lst[end])"
   ]
  },
  {
   "cell_type": "markdown",
   "id": "210982be-dfc4-49f4-9326-3a5292b8aa8b",
   "metadata": {},
   "source": [
    "##### 2. 负数下标：最右边元素的下标为-1"
   ]
  },
  {
   "cell_type": "code",
   "execution_count": 36,
   "id": "d6b9dfa4-f334-4050-9542-c23b7ce04f6e",
   "metadata": {},
   "outputs": [
    {
     "name": "stdout",
     "output_type": "stream",
     "text": [
      "cat\n"
     ]
    }
   ],
   "source": [
    "lst = ['ant','bee','cat',1,2,'cat']\n",
    "print(lst[-1]) # -1表示列表中最后一个元素"
   ]
  },
  {
   "cell_type": "markdown",
   "id": "5f55f242-bd56-44d2-92ce-0911c5c1f27c",
   "metadata": {},
   "source": [
    "#### 3.1.3 修改元素"
   ]
  },
  {
   "cell_type": "code",
   "execution_count": 37,
   "id": "91f46c8f-b006-4ad5-9a2f-cd20c6c0ba97",
   "metadata": {},
   "outputs": [
    {
     "name": "stdout",
     "output_type": "stream",
     "text": [
      "['ant', 'bee', 'cat', 1, 2, 'cat']\n"
     ]
    }
   ],
   "source": [
    "lst = ['ant','bee','cat',1,2,'cat']\n",
    "print(lst)"
   ]
  },
  {
   "cell_type": "code",
   "execution_count": 38,
   "id": "0933fde3-07c8-440b-9894-62caf03a4679",
   "metadata": {},
   "outputs": [
    {
     "name": "stdout",
     "output_type": "stream",
     "text": [
      "cat\n",
      "[3, 4]\n"
     ]
    }
   ],
   "source": [
    "print(lst[2])\n",
    "lst[2] = [3,4]\n",
    "print(lst[2])"
   ]
  },
  {
   "cell_type": "code",
   "execution_count": 39,
   "id": "8652fbf3-31e7-4a2c-b79b-956d40b27194",
   "metadata": {},
   "outputs": [
    {
     "ename": "IndexError",
     "evalue": "list assignment index out of range",
     "output_type": "error",
     "traceback": [
      "\u001b[0;31m---------------------------------------------------------------------------\u001b[0m",
      "\u001b[0;31mIndexError\u001b[0m                                Traceback (most recent call last)",
      "Cell \u001b[0;32mIn[39], line 1\u001b[0m\n\u001b[0;32m----> 1\u001b[0m \u001b[43mlst\u001b[49m\u001b[43m[\u001b[49m\u001b[38;5;241;43m10\u001b[39;49m\u001b[43m]\u001b[49m \u001b[38;5;241m=\u001b[39m \u001b[38;5;241m1\u001b[39m\n",
      "\u001b[0;31mIndexError\u001b[0m: list assignment index out of range"
     ]
    }
   ],
   "source": [
    "lst[10] = 1"
   ]
  },
  {
   "cell_type": "markdown",
   "id": "8294b671-b6f9-4de7-8583-ff9d85d69d2f",
   "metadata": {},
   "source": [
    "#### 3.1.4 添加元素"
   ]
  },
  {
   "cell_type": "code",
   "execution_count": 40,
   "id": "3483c52d-e585-42ff-8310-3cad5a4d9fa6",
   "metadata": {},
   "outputs": [
    {
     "name": "stdout",
     "output_type": "stream",
     "text": [
      "['ant', 'bee', 'cat', 1, 2, 'cat']\n"
     ]
    }
   ],
   "source": [
    "lst = ['ant','bee','cat',1,2,'cat']\n",
    "print(lst)"
   ]
  },
  {
   "cell_type": "markdown",
   "id": "ed196b78-8f26-47b1-9bab-e96aa42617c6",
   "metadata": {},
   "source": [
    "##### 1. insert(n,value): 在下标n处添加元素value"
   ]
  },
  {
   "cell_type": "code",
   "execution_count": 41,
   "id": "9c3afae4-368a-48b6-b1ba-df7f1d032936",
   "metadata": {},
   "outputs": [
    {
     "name": "stdout",
     "output_type": "stream",
     "text": [
      "['ant', 4, 'bee', 'cat', 1, 2, 'cat']\n"
     ]
    }
   ],
   "source": [
    "lst.insert(1,4)\n",
    "print(lst)"
   ]
  },
  {
   "cell_type": "code",
   "execution_count": 42,
   "id": "53d6fb3b-11d7-4a64-97bf-a4677b3547ae",
   "metadata": {},
   "outputs": [
    {
     "name": "stdout",
     "output_type": "stream",
     "text": [
      "['ant', 4, 'bee', 'cat', 1, 2, 4, 4, 'cat']\n"
     ]
    }
   ],
   "source": [
    "lst.insert(-1,4) # -1不代表在元素末尾添加元素\n",
    "lst.insert(-1,4) # -1不代表在元素末尾添加元素\n",
    "print(lst)"
   ]
  },
  {
   "cell_type": "code",
   "execution_count": 43,
   "id": "2046dba1-c33b-4b0d-8fe4-0c7444279106",
   "metadata": {},
   "outputs": [
    {
     "name": "stdout",
     "output_type": "stream",
     "text": [
      "[4, 'ant', 4, 'bee', 'cat', 1, 2, 4, 4, 'cat']\n"
     ]
    }
   ],
   "source": [
    "lst.insert(0,4) # 利用insert在列表开头添加元素\n",
    "print(lst)"
   ]
  },
  {
   "cell_type": "code",
   "execution_count": 44,
   "id": "81bcd30d-c5a2-4eef-918d-33e6b2a7f1cc",
   "metadata": {},
   "outputs": [
    {
     "name": "stdout",
     "output_type": "stream",
     "text": [
      "[4, 'ant', 4, 'bee', 'cat', 1, 2, 4, 4, 'cat', 4]\n"
     ]
    }
   ],
   "source": [
    "# lst.insert(end,4)\n",
    "lst.insert(10,4) # 利用insert在列表末尾添加元素\n",
    "print(lst)"
   ]
  },
  {
   "cell_type": "code",
   "execution_count": 45,
   "id": "3b09f6bd-cc9b-4627-9332-25a32994b8f7",
   "metadata": {},
   "outputs": [
    {
     "name": "stdout",
     "output_type": "stream",
     "text": [
      "[4, 'ant', 4, 'bee', 'cat', 1, 2, 4, 4, 'cat', 4, 4]\n"
     ]
    }
   ],
   "source": [
    "lst.insert(20,4) # 当n超过列表长度时，不报错，而是在末尾添加\n",
    "print(lst)"
   ]
  },
  {
   "cell_type": "markdown",
   "id": "0ac25b75-f43e-4e12-900c-d4bc1192b145",
   "metadata": {},
   "source": [
    "##### 2. append(value): 在列表末尾添加value"
   ]
  },
  {
   "cell_type": "code",
   "execution_count": 46,
   "id": "567e00b8-7b3b-45c4-a6c7-2fe9e2d859ea",
   "metadata": {},
   "outputs": [
    {
     "name": "stdout",
     "output_type": "stream",
     "text": [
      "[4, 'ant', 4, 'bee', 'cat', 1, 2, 4, 4, 'cat', 4, 4, 'dog']\n",
      "[4, 'ant', 4, 'bee', 'cat', 1, 2, 4, 4, 'cat', 4, 4, 'dog', [6, 6]]\n"
     ]
    }
   ],
   "source": [
    "lst.append('dog')\n",
    "print(lst)\n",
    "lst.append([6,6])\n",
    "print(lst)"
   ]
  },
  {
   "cell_type": "markdown",
   "id": "5bd798e8-3238-4d93-9d82-76f3895c5b51",
   "metadata": {},
   "source": [
    "#### 3.1.5 删除元素"
   ]
  },
  {
   "cell_type": "markdown",
   "id": "4a4c10e2-3591-4b64-9095-c725d64d6c8e",
   "metadata": {},
   "source": [
    "##### 1. del list[n]：删除第n+1个元素"
   ]
  },
  {
   "cell_type": "code",
   "execution_count": 52,
   "id": "dae1ce27-a018-4376-a51b-3bff6b62117d",
   "metadata": {},
   "outputs": [
    {
     "name": "stdout",
     "output_type": "stream",
     "text": [
      "['ant', 'bee', 'cat', 1, 2, 'cat']\n"
     ]
    }
   ],
   "source": [
    "lst = ['ant','bee','cat',1,2,'cat']\n",
    "print(lst)"
   ]
  },
  {
   "cell_type": "code",
   "execution_count": 53,
   "id": "3063420e-c4b5-4eb0-a32f-05e074a5ebfb",
   "metadata": {},
   "outputs": [
    {
     "name": "stdout",
     "output_type": "stream",
     "text": [
      "['ant', 'bee', 'cat', 1, 2]\n"
     ]
    }
   ],
   "source": [
    "del lst[-1] # 删除末尾元素\n",
    "print(lst)"
   ]
  },
  {
   "cell_type": "code",
   "execution_count": 54,
   "id": "a16c4801-88ea-426d-b085-ab4a6d08e21c",
   "metadata": {},
   "outputs": [
    {
     "name": "stdout",
     "output_type": "stream",
     "text": [
      "['ant', 'cat', 1, 2]\n"
     ]
    }
   ],
   "source": [
    "del lst[1] # 删除第2个元素\n",
    "print(lst)"
   ]
  },
  {
   "cell_type": "code",
   "execution_count": 55,
   "id": "6865c133-37ce-42ba-87dc-97c818eb881c",
   "metadata": {},
   "outputs": [
    {
     "ename": "IndexError",
     "evalue": "list assignment index out of range",
     "output_type": "error",
     "traceback": [
      "\u001b[0;31m---------------------------------------------------------------------------\u001b[0m",
      "\u001b[0;31mIndexError\u001b[0m                                Traceback (most recent call last)",
      "Cell \u001b[0;32mIn[55], line 1\u001b[0m\n\u001b[0;32m----> 1\u001b[0m \u001b[38;5;28;01mdel\u001b[39;00m lst[\u001b[38;5;241m100\u001b[39m]\n\u001b[1;32m      2\u001b[0m \u001b[38;5;28mprint\u001b[39m(lst)\n",
      "\u001b[0;31mIndexError\u001b[0m: list assignment index out of range"
     ]
    }
   ],
   "source": [
    "del lst[100]\n",
    "print(lst)"
   ]
  },
  {
   "cell_type": "markdown",
   "id": "364963e5-6cf1-4c4b-9083-fee8953e32c9",
   "metadata": {},
   "source": [
    "##### 2. pop(n)：删除第n+1个元素，并返回该元素的值；n省略时，删除最后一个元素"
   ]
  },
  {
   "cell_type": "code",
   "execution_count": 61,
   "id": "762c20e3-fc02-4f86-9136-f028d9e66b12",
   "metadata": {},
   "outputs": [
    {
     "name": "stdout",
     "output_type": "stream",
     "text": [
      "['ant', 'bee', 'cat', 1, 2, 'cat']\n",
      "cat\n",
      "['ant', 'bee', 'cat', 1, 2]\n"
     ]
    }
   ],
   "source": [
    "lst = ['ant','bee','cat',1,2,'cat']\n",
    "print(lst)\n",
    "\n",
    "print(lst.pop()) # n省略时，删除最后一个元素\n",
    "print(lst)"
   ]
  },
  {
   "cell_type": "code",
   "execution_count": 62,
   "id": "23072b4e-a5bf-48d0-9d8c-5b4f62d07841",
   "metadata": {},
   "outputs": [
    {
     "name": "stdout",
     "output_type": "stream",
     "text": [
      "2\n",
      "['ant', 'bee', 'cat', 1]\n"
     ]
    }
   ],
   "source": [
    "print(lst.pop(-1)) # -1仍表示最后一个元素\n",
    "print(lst)"
   ]
  },
  {
   "cell_type": "code",
   "execution_count": 63,
   "id": "59222ff7-822d-456d-b31b-ead241b734dc",
   "metadata": {},
   "outputs": [
    {
     "name": "stdout",
     "output_type": "stream",
     "text": [
      "ant\n",
      "['bee', 'cat', 1]\n"
     ]
    }
   ],
   "source": [
    "print(lst.pop(0)) # 删除第一个元素\n",
    "print(lst)"
   ]
  },
  {
   "cell_type": "markdown",
   "id": "338a4f34-b9f8-4d8f-8e33-ce06be7baa4e",
   "metadata": {},
   "source": [
    "##### 3. remove(value)：根据value来删除元素"
   ]
  },
  {
   "cell_type": "code",
   "execution_count": 64,
   "id": "e3144ab8-c847-4e1f-b555-ad67cc1c0982",
   "metadata": {},
   "outputs": [
    {
     "name": "stdout",
     "output_type": "stream",
     "text": [
      "['ant', 'bee', 'cat', 1, 2, 'cat']\n",
      "['ant', 'bee', 1, 2, 'cat']\n"
     ]
    }
   ],
   "source": [
    "lst = ['ant','bee','cat',1,2,'cat']\n",
    "print(lst)\n",
    "\n",
    "lst.remove('cat') # 只会删除列表中第一个匹配到的值\n",
    "print(lst)"
   ]
  },
  {
   "cell_type": "code",
   "execution_count": 65,
   "id": "9277169c-24d4-4a3d-b651-990be8f1c581",
   "metadata": {},
   "outputs": [
    {
     "ename": "ValueError",
     "evalue": "list.remove(x): x not in list",
     "output_type": "error",
     "traceback": [
      "\u001b[0;31m---------------------------------------------------------------------------\u001b[0m",
      "\u001b[0;31mValueError\u001b[0m                                Traceback (most recent call last)",
      "Cell \u001b[0;32mIn[65], line 1\u001b[0m\n\u001b[0;32m----> 1\u001b[0m \u001b[43mlst\u001b[49m\u001b[38;5;241;43m.\u001b[39;49m\u001b[43mremove\u001b[49m\u001b[43m(\u001b[49m\u001b[38;5;241;43m3\u001b[39;49m\u001b[43m)\u001b[49m \u001b[38;5;66;03m# 删除不存在的元素时，报错\u001b[39;00m\n",
      "\u001b[0;31mValueError\u001b[0m: list.remove(x): x not in list"
     ]
    }
   ],
   "source": [
    "lst.remove(3) # 删除不存在的元素时，报错"
   ]
  },
  {
   "cell_type": "code",
   "execution_count": 66,
   "id": "f2452dc0-a7fa-43e8-90f5-953b59eb2f2e",
   "metadata": {},
   "outputs": [
    {
     "name": "stdout",
     "output_type": "stream",
     "text": [
      "['ant', 'bee', 'cat', 1, 2, 'cat']\n"
     ]
    }
   ],
   "source": [
    "# 为避免报错，可以在删除前判断是否存在\n",
    "lst = ['ant','bee','cat',1,2,'cat']\n",
    "if 'dog' in lst:\n",
    "    lst.remove('dog')\n",
    "print(lst)"
   ]
  },
  {
   "cell_type": "code",
   "execution_count": 72,
   "id": "747a4cdf-2e12-4cd0-a8d7-c2765416d839",
   "metadata": {},
   "outputs": [
    {
     "ename": "IndexError",
     "evalue": "list index out of range",
     "output_type": "error",
     "traceback": [
      "\u001b[0;31m---------------------------------------------------------------------------\u001b[0m",
      "\u001b[0;31mIndexError\u001b[0m                                Traceback (most recent call last)",
      "Cell \u001b[0;32mIn[72], line 4\u001b[0m\n\u001b[1;32m      2\u001b[0m lst \u001b[38;5;241m=\u001b[39m [\u001b[38;5;124m'\u001b[39m\u001b[38;5;124mant\u001b[39m\u001b[38;5;124m'\u001b[39m,\u001b[38;5;124m'\u001b[39m\u001b[38;5;124mbee\u001b[39m\u001b[38;5;124m'\u001b[39m,\u001b[38;5;124m'\u001b[39m\u001b[38;5;124mcat\u001b[39m\u001b[38;5;124m'\u001b[39m,\u001b[38;5;241m1\u001b[39m,\u001b[38;5;241m2\u001b[39m,\u001b[38;5;124m'\u001b[39m\u001b[38;5;124mcat\u001b[39m\u001b[38;5;124m'\u001b[39m]\n\u001b[1;32m      3\u001b[0m \u001b[38;5;28;01mfor\u001b[39;00m i \u001b[38;5;129;01min\u001b[39;00m \u001b[38;5;28mrange\u001b[39m(\u001b[38;5;28mlen\u001b[39m(lst)):\n\u001b[0;32m----> 4\u001b[0m     \u001b[38;5;28;01mif\u001b[39;00m \u001b[43mlst\u001b[49m\u001b[43m[\u001b[49m\u001b[43mi\u001b[49m\u001b[43m]\u001b[49m \u001b[38;5;241m==\u001b[39m \u001b[38;5;124m'\u001b[39m\u001b[38;5;124mcat\u001b[39m\u001b[38;5;124m'\u001b[39m:\n\u001b[1;32m      5\u001b[0m         lst\u001b[38;5;241m.\u001b[39mremove(lst[i]) \u001b[38;5;66;03m# 会改变原列表，从而后续访问列表时，报错\u001b[39;00m\n\u001b[1;32m      6\u001b[0m \u001b[38;5;28mprint\u001b[39m(lst)\n",
      "\u001b[0;31mIndexError\u001b[0m: list index out of range"
     ]
    }
   ],
   "source": [
    "# 若想把列表中所有的某值删除，可以使用for循环\n",
    "lst = ['ant','bee','cat',1,2,'cat']\n",
    "for i in range(len(lst)):\n",
    "    if lst[i] == 'cat':\n",
    "        lst.remove(lst[i]) # 会改变原列表，从而后续访问列表时，报错\n",
    "print(lst)"
   ]
  },
  {
   "cell_type": "code",
   "execution_count": 77,
   "id": "e51db5bf-fb99-4c8c-ad61-0d7fcd6cfcaf",
   "metadata": {},
   "outputs": [
    {
     "name": "stdout",
     "output_type": "stream",
     "text": [
      "['ant', 'bee', 1, 2, 'cat']\n"
     ]
    }
   ],
   "source": [
    "# 若想把列表中所有的某值删除，可以使用for循环\n",
    "lst = ['ant','bee','cat','cat',1,2,'cat']\n",
    "for s in lst: \n",
    "#第1次删除元素后，列表为['ant','bee','cat',1,2,'cat']， 进入循环时，s跳过了cat，遍历到了1\n",
    "#直到s遍历到最后一个'cat'，满足删除条件，执行remove,删除了新列表的第3个元素，而后循环结束\n",
    "    if s == 'cat':\n",
    "        lst.remove(s) # 会改变原列表，删除失败\n",
    "print(lst)"
   ]
  },
  {
   "cell_type": "code",
   "execution_count": 69,
   "id": "46b14164-dbe5-4c61-af92-750ec8de6c51",
   "metadata": {},
   "outputs": [
    {
     "name": "stdout",
     "output_type": "stream",
     "text": [
      "['ant', 'bee', 1, 2]\n"
     ]
    }
   ],
   "source": [
    "# 解决方案一：不改变原列表，重新构造一个列表\n",
    "lst = ['ant','bee','cat',1,2,'cat']\n",
    "ret = []\n",
    "for i in range(len(lst)):\n",
    "    if lst[i] != 'cat':\n",
    "        ret.append(lst[i]) \n",
    "print(ret)"
   ]
  },
  {
   "cell_type": "code",
   "execution_count": 70,
   "id": "71d19d95-39a4-4e4a-bbc2-0422e7740b09",
   "metadata": {},
   "outputs": [
    {
     "name": "stdout",
     "output_type": "stream",
     "text": [
      "['ant', 'bee', 1, 2]\n"
     ]
    }
   ],
   "source": [
    "# 解决方案二：循环删除(每次都需要从头对列表进行遍历)\n",
    "lst = ['ant','bee','cat',1,2,'cat']\n",
    "while True:\n",
    "    if 'cat' in lst:\n",
    "        lst.remove('cat')\n",
    "    else:\n",
    "        break\n",
    "print(lst)"
   ]
  },
  {
   "cell_type": "code",
   "execution_count": 71,
   "id": "cfd02b39-a24e-4fb1-946a-6a31ae714315",
   "metadata": {},
   "outputs": [
    {
     "name": "stdout",
     "output_type": "stream",
     "text": [
      "['ant', 'bee', 1, 2]\n"
     ]
    }
   ],
   "source": [
    "# 解决方案三：使用负向索引\n",
    "lst = ['ant','bee','cat','cat',1,'cat',2,'cat']\n",
    "for i in range(-len(lst),0):\n",
    "    if lst[i] == 'cat':\n",
    "        lst.remove(lst[i]) # 删除列表中第一次出现的该值\n",
    "print(lst)"
   ]
  },
  {
   "cell_type": "markdown",
   "id": "b2834464-1d2c-42b6-a8fc-9dcc71ffcc76",
   "metadata": {},
   "source": [
    "### 3.2 列表方法"
   ]
  },
  {
   "cell_type": "markdown",
   "id": "a6d6d18c-aeb0-406d-86d7-94248fc1ad6e",
   "metadata": {},
   "source": [
    "#### 3.2.1 统计元素个数: list.count(value)"
   ]
  },
  {
   "cell_type": "code",
   "execution_count": 87,
   "id": "f255f8fa-d2d3-42ac-a835-d2a0dcd6a3d7",
   "metadata": {},
   "outputs": [
    {
     "name": "stdout",
     "output_type": "stream",
     "text": [
      "4\n"
     ]
    }
   ],
   "source": [
    "nums = [2,1,2,3,4,2,3,2]\n",
    "ret = nums.count(2)\n",
    "print(ret)"
   ]
  },
  {
   "cell_type": "code",
   "execution_count": 88,
   "id": "39e1c6b9-6945-4807-96b7-34c171a51ffe",
   "metadata": {},
   "outputs": [
    {
     "name": "stdout",
     "output_type": "stream",
     "text": [
      "['cat', 2, 1, 2, 3, 4, 2, 3, 2, 'cat']\n",
      "2\n"
     ]
    }
   ],
   "source": [
    "nums = [2,1,2,3,4,2,3,2]\n",
    "nums.append('cat')\n",
    "nums.insert(0,'cat')\n",
    "print(nums)\n",
    "ret = nums.count('cat')\n",
    "print(ret)"
   ]
  },
  {
   "cell_type": "code",
   "execution_count": 89,
   "id": "b9d3dd2b-034d-4a15-b28a-f4a71c40f001",
   "metadata": {},
   "outputs": [
    {
     "name": "stdout",
     "output_type": "stream",
     "text": [
      "[2, 1, 2, 3, 4, 2, 3, 2, [2, 1]]\n",
      "4\n",
      "1\n"
     ]
    }
   ],
   "source": [
    "nums = [2,1,2,3,4,2,3,2]\n",
    "nums.append([2,1])\n",
    "print(nums)\n",
    "print(nums.count(2))\n",
    "print(nums.count([2,1]))"
   ]
  },
  {
   "cell_type": "markdown",
   "id": "f0a538af-6c92-41af-9266-e39a3950c40f",
   "metadata": {},
   "source": [
    "#### 3.2.2 获取元素下标:list.index(value)"
   ]
  },
  {
   "cell_type": "code",
   "execution_count": 91,
   "id": "edfe3fe4-79fc-45c1-8dea-65122769b315",
   "metadata": {},
   "outputs": [
    {
     "name": "stdout",
     "output_type": "stream",
     "text": [
      "1\n",
      "3\n"
     ]
    }
   ],
   "source": [
    "# 重复元素返回第一次出现的下标\n",
    "nums = [2,1,2,3,4,2,3,2]\n",
    "print(nums.index(1))\n",
    "print(nums.index(3))"
   ]
  },
  {
   "cell_type": "code",
   "execution_count": 93,
   "id": "bff25709-947c-4642-b68b-982de237b209",
   "metadata": {},
   "outputs": [
    {
     "ename": "ValueError",
     "evalue": "5 is not in list",
     "output_type": "error",
     "traceback": [
      "\u001b[0;31m---------------------------------------------------------------------------\u001b[0m",
      "\u001b[0;31mValueError\u001b[0m                                Traceback (most recent call last)",
      "Cell \u001b[0;32mIn[93], line 3\u001b[0m\n\u001b[1;32m      1\u001b[0m \u001b[38;5;66;03m# 元素不存在时，报错\u001b[39;00m\n\u001b[1;32m      2\u001b[0m nums \u001b[38;5;241m=\u001b[39m [\u001b[38;5;241m2\u001b[39m,\u001b[38;5;241m1\u001b[39m,\u001b[38;5;241m2\u001b[39m,\u001b[38;5;241m3\u001b[39m,\u001b[38;5;241m4\u001b[39m,\u001b[38;5;241m2\u001b[39m,\u001b[38;5;241m3\u001b[39m,\u001b[38;5;241m2\u001b[39m]\n\u001b[0;32m----> 3\u001b[0m \u001b[38;5;28mprint\u001b[39m(\u001b[43mnums\u001b[49m\u001b[38;5;241;43m.\u001b[39;49m\u001b[43mindex\u001b[49m\u001b[43m(\u001b[49m\u001b[38;5;241;43m5\u001b[39;49m\u001b[43m)\u001b[49m)\n",
      "\u001b[0;31mValueError\u001b[0m: 5 is not in list"
     ]
    }
   ],
   "source": [
    "# 元素不存在时，报错\n",
    "nums = [2,1,2,3,4,2,3,2]\n",
    "print(nums.index(5))"
   ]
  },
  {
   "cell_type": "markdown",
   "id": "06e87056-fe9d-401a-a11f-450507014870",
   "metadata": {},
   "source": [
    "#### 3.2.3 颠倒元素顺序：reverse()"
   ]
  },
  {
   "cell_type": "code",
   "execution_count": 94,
   "id": "504d8032-b2bc-4802-ad19-1a69f1e0cd3f",
   "metadata": {},
   "outputs": [
    {
     "name": "stdout",
     "output_type": "stream",
     "text": [
      "[2, 1, 2, 3, 4, 2, 3, 2]\n",
      "[2, 3, 2, 4, 3, 2, 1, 2]\n"
     ]
    }
   ],
   "source": [
    "nums = [2,1,2,3,4,2,3,2]\n",
    "print(nums)\n",
    "nums.reverse()\n",
    "print(nums)"
   ]
  },
  {
   "cell_type": "markdown",
   "id": "dacf6fa7-bd1a-408d-a288-659586ed13ec",
   "metadata": {},
   "source": [
    "#### 3.2.4 元素大小排序：sort()"
   ]
  },
  {
   "cell_type": "code",
   "execution_count": 123,
   "id": "9c9bda25-d4ff-4a5e-ac2f-2b1df6925c0a",
   "metadata": {},
   "outputs": [
    {
     "name": "stdout",
     "output_type": "stream",
     "text": [
      "[2, 1, 6, 3, 4, 7, 3, 9]\n",
      "[1, 2, 3, 3, 4, 6, 7, 9]\n"
     ]
    }
   ],
   "source": [
    "# 1. 默认从小到大\n",
    "nums = [2,1,6,3,4,7,3,9]\n",
    "print(nums)\n",
    "nums.sort() \n",
    "print(nums)"
   ]
  },
  {
   "cell_type": "code",
   "execution_count": 124,
   "id": "4263ab9e-9a41-4528-a59c-6893e99de6d3",
   "metadata": {},
   "outputs": [
    {
     "name": "stdout",
     "output_type": "stream",
     "text": [
      "[2, 1, 6, 3, 4, 7, 3, 9]\n",
      "[9, 7, 6, 4, 3, 3, 2, 1]\n"
     ]
    }
   ],
   "source": [
    "# 2. reverse = True表示从大到小\n",
    "nums = [2,1,6,3,4,7,3,9]\n",
    "print(nums)\n",
    "nums.sort(reverse = True) \n",
    "print(nums)"
   ]
  },
  {
   "cell_type": "code",
   "execution_count": 125,
   "id": "c32aca65-c8bb-4798-9997-c66aecb76659",
   "metadata": {},
   "outputs": [
    {
     "name": "stdout",
     "output_type": "stream",
     "text": [
      "['cat', 2, 1, 'ant', 6, 3, 4, 'dog', 7, 3, 9]\n"
     ]
    },
    {
     "ename": "TypeError",
     "evalue": "'<' not supported between instances of 'int' and 'str'",
     "output_type": "error",
     "traceback": [
      "\u001b[0;31m---------------------------------------------------------------------------\u001b[0m",
      "\u001b[0;31mTypeError\u001b[0m                                 Traceback (most recent call last)",
      "Cell \u001b[0;32mIn[125], line 4\u001b[0m\n\u001b[1;32m      2\u001b[0m nums \u001b[38;5;241m=\u001b[39m [\u001b[38;5;124m'\u001b[39m\u001b[38;5;124mcat\u001b[39m\u001b[38;5;124m'\u001b[39m,\u001b[38;5;241m2\u001b[39m,\u001b[38;5;241m1\u001b[39m,\u001b[38;5;124m'\u001b[39m\u001b[38;5;124mant\u001b[39m\u001b[38;5;124m'\u001b[39m,\u001b[38;5;241m6\u001b[39m,\u001b[38;5;241m3\u001b[39m,\u001b[38;5;241m4\u001b[39m,\u001b[38;5;124m'\u001b[39m\u001b[38;5;124mdog\u001b[39m\u001b[38;5;124m'\u001b[39m,\u001b[38;5;241m7\u001b[39m,\u001b[38;5;241m3\u001b[39m,\u001b[38;5;241m9\u001b[39m]\n\u001b[1;32m      3\u001b[0m \u001b[38;5;28mprint\u001b[39m(nums)\n\u001b[0;32m----> 4\u001b[0m \u001b[43mnums\u001b[49m\u001b[38;5;241;43m.\u001b[39;49m\u001b[43msort\u001b[49m\u001b[43m(\u001b[49m\u001b[43m)\u001b[49m \n\u001b[1;32m      5\u001b[0m \u001b[38;5;28mprint\u001b[39m(nums)\n",
      "\u001b[0;31mTypeError\u001b[0m: '<' not supported between instances of 'int' and 'str'"
     ]
    }
   ],
   "source": [
    "# 3. 混杂元素不支持排序\n",
    "nums = ['cat',2,1,'ant',6,3,4,'dog',7,3,9]\n",
    "print(nums)\n",
    "nums.sort() \n",
    "print(nums)"
   ]
  },
  {
   "cell_type": "code",
   "execution_count": 126,
   "id": "45ae7824-69f6-4c6a-8be3-e1c66ef27557",
   "metadata": {},
   "outputs": [
    {
     "name": "stdout",
     "output_type": "stream",
     "text": [
      "['cat', 'ant', 'dog', 'abt', 'dag']\n",
      "['abt', 'ant', 'cat', 'dag', 'dog']\n",
      "['dog', 'dag', 'cat', 'ant', 'abt']\n"
     ]
    }
   ],
   "source": [
    "nums = ['cat','ant','dog','abt','dag']\n",
    "print(nums)\n",
    "# 4. 字符串按字典序比较大小\n",
    "nums.sort() \n",
    "print(nums)\n",
    "nums.sort(reverse=True) \n",
    "print(nums)"
   ]
  },
  {
   "cell_type": "markdown",
   "id": "2768a6ce-c283-4fe0-abe8-d16fc4305b30",
   "metadata": {},
   "source": [
    "#### 3.2.5 连接元素：join()"
   ]
  },
  {
   "cell_type": "code",
   "execution_count": 109,
   "id": "3592f132-778b-4fac-92b0-a0a96ab69a5c",
   "metadata": {},
   "outputs": [
    {
     "ename": "TypeError",
     "evalue": "sequence item 0: expected str instance, int found",
     "output_type": "error",
     "traceback": [
      "\u001b[0;31m---------------------------------------------------------------------------\u001b[0m",
      "\u001b[0;31mTypeError\u001b[0m                                 Traceback (most recent call last)",
      "Cell \u001b[0;32mIn[109], line 3\u001b[0m\n\u001b[1;32m      1\u001b[0m \u001b[38;5;66;03m# 使用join可将列表中所有元素连接成一个字符串\u001b[39;00m\n\u001b[1;32m      2\u001b[0m lst \u001b[38;5;241m=\u001b[39m [\u001b[38;5;241m1\u001b[39m,\u001b[38;5;241m2\u001b[39m,\u001b[38;5;241m3\u001b[39m,\u001b[38;5;241m4\u001b[39m,\u001b[38;5;241m5\u001b[39m,\u001b[38;5;124m'\u001b[39m\u001b[38;5;124mu\u001b[39m\u001b[38;5;124m'\u001b[39m,\u001b[38;5;124m'\u001b[39m\u001b[38;5;124msts\u001b[39m\u001b[38;5;124m'\u001b[39m]\n\u001b[0;32m----> 3\u001b[0m \u001b[38;5;124;43m'\u001b[39;49m\u001b[38;5;124;43m'\u001b[39;49m\u001b[38;5;241;43m.\u001b[39;49m\u001b[43mjoin\u001b[49m\u001b[43m(\u001b[49m\u001b[43mlst\u001b[49m\u001b[43m)\u001b[49m\n\u001b[1;32m      4\u001b[0m \u001b[38;5;28mprint\u001b[39m(lst)\n",
      "\u001b[0;31mTypeError\u001b[0m: sequence item 0: expected str instance, int found"
     ]
    }
   ],
   "source": [
    "# 使用join可将列表中所有元素连接成一个字符串，要求每个元素都是字符串，否则报错\n",
    "lst = [1,2,3,4,5,'u','sts']\n",
    "''.join(lst)\n",
    "print(lst)"
   ]
  },
  {
   "cell_type": "code",
   "execution_count": 113,
   "id": "e3481243-7b0b-4933-a335-26b467e4a9aa",
   "metadata": {},
   "outputs": [
    {
     "name": "stdout",
     "output_type": "stream",
     "text": [
      "['1', '2', 'u', 'sts']\n",
      "12usts\n",
      "1,2,u,sts\n"
     ]
    }
   ],
   "source": [
    "# str.join(list)中str是一个连接符，表示连接元素之间的符号\n",
    "# join不改变原列表\n",
    "lst = ['1','2','u','sts']\n",
    "ret1 = ''.join(lst)\n",
    "ret2 = ','.join(lst)\n",
    "print(lst)\n",
    "print(ret1)\n",
    "print(ret2)"
   ]
  },
  {
   "cell_type": "code",
   "execution_count": 114,
   "id": "b90f9598-3e80-44d7-99dc-8d82a9716c69",
   "metadata": {},
   "outputs": [
    {
     "name": "stdout",
     "output_type": "stream",
     "text": [
      "1,2,3,4,5,usts\n"
     ]
    }
   ],
   "source": [
    "# 若存在不为字符串的元素，想要join，需要先将每个元素转化为字符串\n",
    "nums = [1,2,3,4,5,'usts']\n",
    "strs = []\n",
    "for i in nums:\n",
    "    strs.append(str(i)) # str()能将元素转化为字符串\n",
    "ret = ','.join(strs)\n",
    "print(ret)"
   ]
  },
  {
   "cell_type": "markdown",
   "id": "0afb2a80-2f53-46a4-944d-3afc5b455390",
   "metadata": {},
   "source": [
    "#### 3.2.6 合并列表：extend()"
   ]
  },
  {
   "cell_type": "code",
   "execution_count": 116,
   "id": "ff661eed-c067-4946-8a78-28cc35649f8b",
   "metadata": {},
   "outputs": [
    {
     "name": "stdout",
     "output_type": "stream",
     "text": [
      "[1, 2, 'usts', 3, 4, 'edu']\n",
      "[3, 4, 'edu']\n"
     ]
    }
   ],
   "source": [
    "# A.extend(B)\n",
    "nums1 = [1,2,'usts']\n",
    "nums2 = [3,4,'edu']\n",
    "nums1.extend(nums2) # nums1改变了，nums2没变\n",
    "print(nums1)\n",
    "print(nums2)"
   ]
  },
  {
   "cell_type": "code",
   "execution_count": 118,
   "id": "38762290-85e0-4379-ae40-183e05a8aef8",
   "metadata": {},
   "outputs": [
    {
     "name": "stdout",
     "output_type": "stream",
     "text": [
      "[1, 2, 'usts', 3, 4, 'edu']\n",
      "[1, 2, 'usts']\n",
      "[3, 4, 'edu']\n"
     ]
    }
   ],
   "source": [
    "# A + B：A与 B都不会改变\n",
    "nums1 = [1,2,'usts']\n",
    "nums2 = [3,4,'edu']\n",
    "print(nums1 + nums2) # nums1和nums2都不变\n",
    "print(nums1)\n",
    "print(nums2)"
   ]
  },
  {
   "cell_type": "markdown",
   "id": "e4822f6f-af4f-4b48-8650-5c273a1fafe1",
   "metadata": {},
   "source": [
    "#### 3.2.7 清空列表：clear()"
   ]
  },
  {
   "cell_type": "code",
   "execution_count": 119,
   "id": "0241444f-961d-4419-a68d-1773582614ad",
   "metadata": {},
   "outputs": [
    {
     "name": "stdout",
     "output_type": "stream",
     "text": [
      "[1, 2, 'usts']\n",
      "[]\n"
     ]
    }
   ],
   "source": [
    "nums1 = [1,2,'usts']\n",
    "print(nums1)\n",
    "nums1.clear()\n",
    "print(nums1)"
   ]
  },
  {
   "cell_type": "code",
   "execution_count": 120,
   "id": "0fcc76f1-0b5f-4ca2-865f-78548d5ab72b",
   "metadata": {},
   "outputs": [
    {
     "name": "stdout",
     "output_type": "stream",
     "text": [
      "[1, 2, 'usts']\n",
      "[]\n"
     ]
    }
   ],
   "source": [
    "nums1 = [1,2,'usts']\n",
    "print(nums1)\n",
    "nums1 = []\n",
    "print(nums1)"
   ]
  },
  {
   "cell_type": "markdown",
   "id": "013490af-320a-4ee3-a31f-a091c239b0b8",
   "metadata": {},
   "source": [
    "### 3.3 列表切片"
   ]
  },
  {
   "cell_type": "markdown",
   "id": "61002dea-f4ab-49d4-b846-6adbdc509863",
   "metadata": {},
   "source": [
    "#### 所谓切片，就是获取列表一部分的方法： list[m:n]"
   ]
  },
  {
   "cell_type": "markdown",
   "id": "1f1dddf2-3d5e-4c72-b378-3eb30f78aa26",
   "metadata": {},
   "source": [
    "* m为开始的下标，n为结束的下标；\n",
    "* m和n可正可负，但n必须大于m\n",
    "* 截取范围为[m,n)，即包含m不包含n"
   ]
  },
  {
   "cell_type": "markdown",
   "id": "62c3a8e6-9c7a-4b91-985c-9781cbc2f7b1",
   "metadata": {},
   "source": [
    "#### 3.3.1 正数下标"
   ]
  },
  {
   "cell_type": "code",
   "execution_count": 131,
   "id": "0d1b30e6-0e2c-4dc8-92e9-af14c64c4d35",
   "metadata": {},
   "outputs": [
    {
     "name": "stdout",
     "output_type": "stream",
     "text": [
      "['cat', 2, 1]\n",
      "[1, 'ant', 6]\n",
      "[]\n",
      "[]\n"
     ]
    }
   ],
   "source": [
    "nums = ['cat',2,1,'ant',6,3,4,'dog',7,3,9]\n",
    "print(nums[0:3])\n",
    "print(nums[2:5])\n",
    "print(nums[3:0]) # n必须大于m\n",
    "print(nums[-1:1])"
   ]
  },
  {
   "cell_type": "markdown",
   "id": "c1450ecd-6349-49e2-b438-279b29828881",
   "metadata": {},
   "source": [
    "#### 3.3.2 负数下标"
   ]
  },
  {
   "cell_type": "code",
   "execution_count": 132,
   "id": "c47b5a0c-96c9-4326-b6d5-edf6ff2a0de7",
   "metadata": {},
   "outputs": [
    {
     "name": "stdout",
     "output_type": "stream",
     "text": [
      "[7, 3]\n",
      "[4, 'dog', 7]\n"
     ]
    }
   ],
   "source": [
    "nums = ['cat',2,1,'ant',6,3,4,'dog',7,3,9]\n",
    "print(nums[-3:-1])\n",
    "print(nums[-5:-2])"
   ]
  },
  {
   "cell_type": "markdown",
   "id": "c2c8864a-d6b0-489c-a0f2-3363b6aeab6f",
   "metadata": {},
   "source": [
    "#### 3.3.3 list[m:]"
   ]
  },
  {
   "cell_type": "code",
   "execution_count": 134,
   "id": "b4f01f78-096b-411b-a345-5f8dc3a3b092",
   "metadata": {},
   "outputs": [
    {
     "name": "stdout",
     "output_type": "stream",
     "text": [
      "[7, 3, 9]\n",
      "[4, 'dog', 7, 3, 9]\n",
      "[2, 1, 'ant', 6, 3, 4, 'dog', 7, 3, 9]\n"
     ]
    }
   ],
   "source": [
    "nums = ['cat',2,1,'ant',6,3,4,'dog',7,3,9]\n",
    "print(nums[-3:])\n",
    "print(nums[-5:])\n",
    "print(nums[1:])"
   ]
  },
  {
   "cell_type": "markdown",
   "id": "43111565-0235-409a-8cfc-08ba7f1ee016",
   "metadata": {},
   "source": [
    "#### 3.3.4 list[:n]"
   ]
  },
  {
   "cell_type": "code",
   "execution_count": 137,
   "id": "65404183-a9ca-46fe-9071-8e540ad0a03c",
   "metadata": {},
   "outputs": [
    {
     "name": "stdout",
     "output_type": "stream",
     "text": [
      "['cat', 2, 1, 'ant', 6, 3, 4, 'dog']\n",
      "['cat', 2, 1, 'ant', 6, 3]\n",
      "['cat', 2, 1, 'ant', 6, 3, 4, 'dog', 7, 3]\n",
      "['cat', 2, 1]\n"
     ]
    }
   ],
   "source": [
    "nums = ['cat',2,1,'ant',6,3,4,'dog',7,3,9]\n",
    "print(nums[:-3])\n",
    "print(nums[:-5])\n",
    "print(nums[:-1])\n",
    "print(nums[:3])"
   ]
  },
  {
   "cell_type": "markdown",
   "id": "73892ad3-2c6c-4bc7-9160-46be71e49126",
   "metadata": {},
   "source": [
    "#### 3.3.5 list[:]: 返回列表本身"
   ]
  },
  {
   "cell_type": "code",
   "execution_count": 147,
   "id": "d0caf2bc-841a-42d0-82e5-e73378dd497d",
   "metadata": {},
   "outputs": [
    {
     "name": "stdout",
     "output_type": "stream",
     "text": [
      "['cat', 2, 1, 'ant', 6, 3, 4, 'dog', 7, 3, 9]\n"
     ]
    }
   ],
   "source": [
    "nums = ['cat',2,1,'ant',6,3,4,'dog',7,3,9]\n",
    "print(nums[:])"
   ]
  },
  {
   "cell_type": "markdown",
   "id": "ff13448b-4929-4026-ad23-9b3418d907f9",
   "metadata": {},
   "source": [
    "#### 3.3.6 list[::step]"
   ]
  },
  {
   "cell_type": "code",
   "execution_count": 149,
   "id": "988b494e-8665-4efb-b51c-e6f2747d37f6",
   "metadata": {},
   "outputs": [
    {
     "name": "stdout",
     "output_type": "stream",
     "text": [
      "['cat', 2, 1, 'ant', 6]\n"
     ]
    }
   ],
   "source": [
    "nums = ['cat',2,1,'ant',6,3,4,'dog',7,3,9]\n",
    "print(nums[0:5:1])"
   ]
  },
  {
   "cell_type": "code",
   "execution_count": 150,
   "id": "312e20f4-52b9-42b0-9630-d235e0f492fc",
   "metadata": {},
   "outputs": [
    {
     "name": "stdout",
     "output_type": "stream",
     "text": [
      "[]\n"
     ]
    }
   ],
   "source": [
    "nums = ['cat',2,1,'ant',6,3,4,'dog',7,3,9]\n",
    "print(nums[0:5:-1])"
   ]
  },
  {
   "cell_type": "code",
   "execution_count": 163,
   "id": "7977086d-14c0-4e86-9b2e-ba65a2956c75",
   "metadata": {},
   "outputs": [
    {
     "name": "stdout",
     "output_type": "stream",
     "text": [
      "[3, 'ant']\n"
     ]
    }
   ],
   "source": [
    "nums = ['cat',2,1,'ant',6,3,4,'dog',7,3,9]\n",
    "print(nums[5:1:-2])"
   ]
  },
  {
   "cell_type": "code",
   "execution_count": 154,
   "id": "0c9a6ec5-665b-4bbc-bfa3-d0d2ac088d4c",
   "metadata": {},
   "outputs": [
    {
     "name": "stdout",
     "output_type": "stream",
     "text": [
      "[9, 3, 7, 'dog', 4, 3, 6, 'ant', 1, 2, 'cat']\n"
     ]
    }
   ],
   "source": [
    "nums = ['cat',2,1,'ant',6,3,4,'dog',7,3,9]\n",
    "print(nums[10::-1])"
   ]
  },
  {
   "cell_type": "code",
   "execution_count": 161,
   "id": "34b17e96-0223-40b1-84f7-351ff70ec0d0",
   "metadata": {},
   "outputs": [
    {
     "name": "stdout",
     "output_type": "stream",
     "text": [
      "['cat', 2, 1, 'ant', 6, 3, 4, 'dog', 7, 3, 9]\n"
     ]
    }
   ],
   "source": [
    "nums = ['cat',2,1,'ant',6,3,4,'dog',7,3,9]\n",
    "print(nums[0::1])"
   ]
  },
  {
   "cell_type": "markdown",
   "id": "191afee4-8192-4780-95c6-3309f557e9bb",
   "metadata": {},
   "source": [
    "### 3.3 更多操作"
   ]
  },
  {
   "cell_type": "markdown",
   "id": "2511964a-3c03-438d-a640-f3ea42bd111c",
   "metadata": {},
   "source": [
    "#### 3.3.1 获取列表长度: len(list)"
   ]
  },
  {
   "cell_type": "code",
   "execution_count": 2,
   "id": "5d77b300-fa0d-4c3d-a57b-390847d7b187",
   "metadata": {},
   "outputs": [
    {
     "name": "stdout",
     "output_type": "stream",
     "text": [
      "11\n",
      "0\n"
     ]
    }
   ],
   "source": [
    "nums1 = ['cat',2,1,'ant',6,3,4,'dog',7,3,9]\n",
    "nums2 = []\n",
    "print(len(nums1))\n",
    "print(len(nums2))"
   ]
  },
  {
   "cell_type": "code",
   "execution_count": 3,
   "id": "f860074f-0bab-4a8e-9025-e7345b535e19",
   "metadata": {},
   "outputs": [
    {
     "name": "stdout",
     "output_type": "stream",
     "text": [
      "1\n"
     ]
    }
   ],
   "source": [
    "nums2.append([1,2])\n",
    "print(len(nums2))"
   ]
  },
  {
   "cell_type": "markdown",
   "id": "abbc5fa4-bfac-488c-95f9-b26d0334358b",
   "metadata": {},
   "source": [
    "#### 3.3.2 遍历列表：for-in"
   ]
  },
  {
   "cell_type": "code",
   "execution_count": 4,
   "id": "94a6a712-878d-41a5-8708-7c2b3aa8440b",
   "metadata": {},
   "outputs": [
    {
     "name": "stdout",
     "output_type": "stream",
     "text": [
      "cat\n",
      "2\n",
      "1\n",
      "ant\n",
      "6\n",
      "3\n",
      "4\n",
      "dog\n",
      "7\n",
      "3\n",
      "9\n"
     ]
    }
   ],
   "source": [
    "nums1 = ['cat',2,1,'ant',6,3,4,'dog',7,3,9]\n",
    "for item in nums1:\n",
    "    print(item)"
   ]
  },
  {
   "cell_type": "code",
   "execution_count": 5,
   "id": "95946d6a-b1eb-43ac-a6ea-93875ae1f8b6",
   "metadata": {},
   "outputs": [
    {
     "name": "stdout",
     "output_type": "stream",
     "text": [
      "cat\n",
      "2\n",
      "1\n",
      "ant\n",
      "6\n",
      "3\n",
      "4\n",
      "dog\n",
      "7\n",
      "3\n",
      "9\n"
     ]
    }
   ],
   "source": [
    "nums1 = ['cat',2,1,'ant',6,3,4,'dog',7,3,9]\n",
    "for i in range(len(nums1)):\n",
    "    print(nums1[i])"
   ]
  },
  {
   "cell_type": "markdown",
   "id": "6fbcfead-07c8-49c3-a7ef-c7f13928f755",
   "metadata": {},
   "source": [
    "#### 3.3.3 搜索列表：in 和 not in"
   ]
  },
  {
   "cell_type": "markdown",
   "id": "1b48cbc0-161a-417d-a521-6e44ac638ad1",
   "metadata": {},
   "source": [
    "作用：判断某个值是否存在于列表中"
   ]
  },
  {
   "cell_type": "code",
   "execution_count": 7,
   "id": "f7696e89-6504-43df-9103-c33c2878d59e",
   "metadata": {},
   "outputs": [
    {
     "name": "stdout",
     "output_type": "stream",
     "text": [
      "True\n",
      "False\n",
      "False\n",
      "True\n"
     ]
    }
   ],
   "source": [
    "nums1 = ['cat',2,1,'ant',6,3,4,'dog',7,3,9]\n",
    "print('ant' in nums1)\n",
    "print(10 in nums1)\n",
    "print('ant' not in nums1)\n",
    "print(10 not in nums1)"
   ]
  },
  {
   "cell_type": "markdown",
   "id": "597a196c-d704-4f48-a6b5-b16ffdd22c69",
   "metadata": {},
   "source": [
    "#### 3.3.4 max()、min()和sum()"
   ]
  },
  {
   "cell_type": "markdown",
   "id": "89bfd4a4-cef4-4f8c-a62c-3d9da135655c",
   "metadata": {},
   "source": [
    "##### 对于数值型列表，可以进行数值计算"
   ]
  },
  {
   "cell_type": "code",
   "execution_count": 8,
   "id": "373105ff-9a7f-4ac7-b170-46a426da5d03",
   "metadata": {},
   "outputs": [
    {
     "name": "stdout",
     "output_type": "stream",
     "text": [
      "the max:  21\n",
      "the min:  2\n",
      "the sum:  85\n"
     ]
    }
   ],
   "source": [
    "nums = [3,10,21,21,12,16,2]\n",
    "print(\"the max: \", max(nums))\n",
    "print(\"the min: \", min(nums))\n",
    "print(\"the sum: \", sum(nums))"
   ]
  },
  {
   "cell_type": "markdown",
   "id": "41f1d91d-d389-4508-a601-2fc64e9dc9a7",
   "metadata": {},
   "source": [
    "#### 3.3.5 列表加法和乘法运算"
   ]
  },
  {
   "cell_type": "code",
   "execution_count": 12,
   "id": "02a2b295-98f0-48a1-9506-f7c8525382d3",
   "metadata": {},
   "outputs": [
    {
     "name": "stdout",
     "output_type": "stream",
     "text": [
      "[1, 2, 3, 3, 4, 5, 6]\n",
      "['ant', 'bee', 'cat', 1, 2, 'dog']\n"
     ]
    }
   ],
   "source": [
    "# 加法----可以用于合并列表（同extend）\n",
    "result1 = [1,2,3] + [3,4,5,6]\n",
    "print(result1)\n",
    "\n",
    "result2 = ['ant','bee','cat'] + [1,2,'dog']\n",
    "print(result2)"
   ]
  },
  {
   "cell_type": "code",
   "execution_count": 19,
   "id": "395de165-4cb5-4ec3-bb8e-ce0df6b05c23",
   "metadata": {},
   "outputs": [
    {
     "name": "stdout",
     "output_type": "stream",
     "text": [
      "[1, 2, 3, 1, 2, 3, 1, 2, 3]\n",
      "['dog', 1, 'cat', 'dog', 1, 'cat']\n"
     ]
    },
    {
     "ename": "TypeError",
     "evalue": "can't multiply sequence by non-int of type 'list'",
     "output_type": "error",
     "traceback": [
      "\u001b[0;31m---------------------------------------------------------------------------\u001b[0m",
      "\u001b[0;31mTypeError\u001b[0m                                 Traceback (most recent call last)",
      "Cell \u001b[0;32mIn[19], line 8\u001b[0m\n\u001b[1;32m      5\u001b[0m result2 \u001b[38;5;241m=\u001b[39m [\u001b[38;5;124m'\u001b[39m\u001b[38;5;124mdog\u001b[39m\u001b[38;5;124m'\u001b[39m,\u001b[38;5;241m1\u001b[39m,\u001b[38;5;124m'\u001b[39m\u001b[38;5;124mcat\u001b[39m\u001b[38;5;124m'\u001b[39m] \u001b[38;5;241m*\u001b[39m \u001b[38;5;241m2\u001b[39m\n\u001b[1;32m      6\u001b[0m \u001b[38;5;28mprint\u001b[39m(result2)\n\u001b[0;32m----> 8\u001b[0m result3 \u001b[38;5;241m=\u001b[39m \u001b[43m[\u001b[49m\u001b[38;5;241;43m1\u001b[39;49m\u001b[43m,\u001b[49m\u001b[38;5;241;43m2\u001b[39;49m\u001b[43m]\u001b[49m\u001b[43m \u001b[49m\u001b[38;5;241;43m*\u001b[39;49m\u001b[43m \u001b[49m\u001b[43m[\u001b[49m\u001b[38;5;124;43m'\u001b[39;49m\u001b[38;5;124;43mcat\u001b[39;49m\u001b[38;5;124;43m'\u001b[39;49m\u001b[43m,\u001b[49m\u001b[38;5;124;43m'\u001b[39;49m\u001b[38;5;124;43mdog\u001b[39;49m\u001b[38;5;124;43m'\u001b[39;49m\u001b[43m]\u001b[49m\n\u001b[1;32m      9\u001b[0m \u001b[38;5;28mprint\u001b[39m(result3)\n",
      "\u001b[0;31mTypeError\u001b[0m: can't multiply sequence by non-int of type 'list'"
     ]
    }
   ],
   "source": [
    "# 乘法\n",
    "result1 = [1,2,3] * 3\n",
    "print(result1)\n",
    "\n",
    "result2 = ['dog',1,'cat'] * 2\n",
    "print(result2)\n",
    "\n",
    "result3 = [1,2] * ['cat','dog']\n",
    "print(result3)"
   ]
  },
  {
   "cell_type": "code",
   "execution_count": 52,
   "id": "7c4b4d64-4bee-44c0-951e-86cff1ff81a8",
   "metadata": {},
   "outputs": [
    {
     "name": "stdout",
     "output_type": "stream",
     "text": [
      "[1, 1, 1, 1, 1, 1, 1, 1, 1, 1]\n",
      "[1, 2, 1, 1, 1, 1, 1, 1, 1, 1]\n"
     ]
    }
   ],
   "source": [
    "result1 = [1] * 10\n",
    "print(result1)\n",
    "result1[1] = 2\n",
    "print(result1)"
   ]
  },
  {
   "cell_type": "code",
   "execution_count": 58,
   "id": "84441950-9f14-446f-9115-84941231c5f4",
   "metadata": {},
   "outputs": [
    {
     "data": {
      "text/plain": [
       "[[2, 1, 1, 1, 1, 1, 1, 1, 1, 1],\n",
       " [2, 1, 1, 1, 1, 1, 1, 1, 1, 1],\n",
       " [2, 1, 1, 1, 1, 1, 1, 1, 1, 1],\n",
       " [2, 1, 1, 1, 1, 1, 1, 1, 1, 1],\n",
       " [2, 1, 1, 1, 1, 1, 1, 1, 1, 1]]"
      ]
     },
     "execution_count": 58,
     "metadata": {},
     "output_type": "execute_result"
    }
   ],
   "source": [
    "result2 = [[1] * 10] * 5 \n",
    "result2\n",
    "result2[0][0] = 2 # 改变一项即改变多项（浅拷贝），使用列表推导式可以避免这一结果\n",
    "result2"
   ]
  },
  {
   "cell_type": "markdown",
   "id": "4a17a94c-5a0d-4729-892a-a60ef03d00ae",
   "metadata": {},
   "source": [
    "#### 3.3.6 列表推导式"
   ]
  },
  {
   "cell_type": "markdown",
   "id": "6ba829fb-530b-4125-b1b3-381ff6066b75",
   "metadata": {},
   "source": [
    "##### 语法：列表名 = [表达式 for 变量 in 可迭代对象]"
   ]
  },
  {
   "cell_type": "code",
   "execution_count": 34,
   "id": "e1ad28b6-e672-422b-ac39-e7c715537810",
   "metadata": {},
   "outputs": [
    {
     "name": "stdout",
     "output_type": "stream",
     "text": [
      "[1, 4, 9, 16, 25]\n"
     ]
    }
   ],
   "source": [
    "nums = [n**2 for n in range(1,6)]\n",
    "print(nums)"
   ]
  },
  {
   "cell_type": "code",
   "execution_count": 36,
   "id": "a24ba6d4-0d75-4850-8ac4-1b17abd82210",
   "metadata": {},
   "outputs": [
    {
     "name": "stdout",
     "output_type": "stream",
     "text": [
      "1\n",
      "2\n",
      "3\n",
      "4\n",
      "5\n"
     ]
    }
   ],
   "source": [
    "for n in range(1,6):\n",
    "    print(n)"
   ]
  },
  {
   "cell_type": "code",
   "execution_count": 39,
   "id": "8faf5f19-9855-4724-86b8-b0fa00fcb640",
   "metadata": {},
   "outputs": [
    {
     "name": "stdout",
     "output_type": "stream",
     "text": [
      "[2, 4, 6, 8, 10, 12, 14, 16, 18, 20, 22, 24, 26, 28, 30, 32, 34, 36, 38, 40, 42, 44, 46, 48, 50, 52, 54, 56, 58, 60, 62, 64, 66, 68, 70, 72, 74, 76, 78, 80, 82, 84, 86, 88, 90, 92, 94, 96, 98]\n"
     ]
    }
   ],
   "source": [
    "# 生成偶数列表\n",
    "nums2 = [n*2 for n in range(1,50)]\n",
    "print(nums2)"
   ]
  },
  {
   "cell_type": "code",
   "execution_count": 41,
   "id": "81f2ef0a-6956-4712-a4c1-324ab3d3d9a3",
   "metadata": {},
   "outputs": [
    {
     "name": "stdout",
     "output_type": "stream",
     "text": [
      "[1, 2, 3, 4, 5, 6, 7, 8, 9, 10, 11, 12, 13, 14, 15, 16, 17, 18, 19, 20, 21, 22, 23, 24, 25, 26, 27, 28, 29, 30, 31, 32, 33, 34, 35, 36, 37, 38, 39, 40, 41, 42, 43, 44, 45, 46, 47, 48, 49, 50, 51, 52, 53, 54, 55, 56, 57, 58, 59, 60, 61, 62, 63, 64, 65, 66, 67, 68, 69, 70, 71, 72, 73, 74, 75, 76, 77, 78, 79, 80, 81, 82, 83, 84, 85, 86, 87, 88, 89, 90, 91, 92, 93, 94, 95, 96, 97, 98, 99]\n"
     ]
    }
   ],
   "source": [
    "# 生成前100个整数列表\n",
    "nums = [n for n in range(1,100)]\n",
    "print(nums)"
   ]
  },
  {
   "cell_type": "code",
   "execution_count": 42,
   "id": "0d7c7083-9d1e-46eb-9316-24714aa0ff9d",
   "metadata": {},
   "outputs": [
    {
     "name": "stdout",
     "output_type": "stream",
     "text": [
      "['CAT', 'DOG', 'BEE']\n"
     ]
    }
   ],
   "source": [
    "# 对整个列表进行大小写转换\n",
    "str1 = ['cat','dog','bee']\n",
    "str2 = [item.upper() for item in str1]\n",
    "print(str2)"
   ]
  },
  {
   "cell_type": "markdown",
   "id": "7bfaeb98-441d-4ed6-9480-18d30439645e",
   "metadata": {},
   "source": [
    "##### 带有判断条件的推导式：\n",
    "##### 语法：列表名 = [表达式 for 变量 in 可迭代对象 if condition]\n",
    "##### 等价于："
   ]
  },
  {
   "cell_type": "raw",
   "id": "fd4192b9-d231-4791-b823-4aac8a8eafd3",
   "metadata": {},
   "source": [
    "ret = []\n",
    "for 变量 in 可迭代对象:\n",
    "    if condition:\n",
    "        ret.append(表达式)"
   ]
  },
  {
   "cell_type": "code",
   "execution_count": 59,
   "id": "3ec49e15-547c-4fb2-9931-819f453af442",
   "metadata": {},
   "outputs": [
    {
     "name": "stdout",
     "output_type": "stream",
     "text": [
      "[12, 50, 21]\n"
     ]
    }
   ],
   "source": [
    "# 列表中大于10的元素\n",
    "nums = [3,9,1,12,50,21]\n",
    "ret = [num for num in nums if num > 10]\n",
    "print(ret)"
   ]
  },
  {
   "cell_type": "code",
   "execution_count": 47,
   "id": "cb8482dc-1385-4ad1-8ac2-5ab80b4336e3",
   "metadata": {},
   "outputs": [
    {
     "name": "stdout",
     "output_type": "stream",
     "text": [
      "[1, 9, 25, 49, 81, 121, 169, 225, 289, 361]\n"
     ]
    }
   ],
   "source": [
    "# 20以内奇数的平方\n",
    "nums = [num**2 for num in range(1,21) if num%2 == 1]\n",
    "print(nums)"
   ]
  },
  {
   "cell_type": "code",
   "execution_count": 48,
   "id": "d9d411a4-1c19-42d3-abe6-120a1e823d4c",
   "metadata": {},
   "outputs": [
    {
     "name": "stdout",
     "output_type": "stream",
     "text": [
      "[1, 4, 9]\n"
     ]
    }
   ],
   "source": [
    "# 多变量\n",
    "x = [1,2,3]\n",
    "y = [1,2,3,4]\n",
    "\n",
    "ret = [i*j for i,j in zip(x,y)]\n",
    "print(ret)"
   ]
  },
  {
   "cell_type": "code",
   "execution_count": 50,
   "id": "04d7433b-681b-4659-af03-120d99a86a0d",
   "metadata": {},
   "outputs": [
    {
     "name": "stdout",
     "output_type": "stream",
     "text": [
      "['black S', 'black M', 'black L', 'white S', 'white M', 'white L']\n"
     ]
    }
   ],
   "source": [
    "# 循环嵌套\n",
    "colors = ['black','white']\n",
    "sizes = ['S','M','L']\n",
    "tshirts = [\"{} {}\".format(color,size) for color in colors for size in sizes]\n",
    "print(tshirts)"
   ]
  },
  {
   "cell_type": "code",
   "execution_count": 60,
   "id": "2e69f3f6-264b-4040-8c08-06313c1f60d0",
   "metadata": {},
   "outputs": [
    {
     "name": "stdout",
     "output_type": "stream",
     "text": [
      "[[1, 1, 1, 1, 1, 1, 1, 1, 1, 1], [1, 1, 1, 1, 1, 1, 1, 1, 1, 1], [1, 1, 1, 1, 1, 1, 1, 1, 1, 1], [1, 1, 1, 1, 1, 1, 1, 1, 1, 1], [1, 1, 1, 1, 1, 1, 1, 1, 1, 1]]\n"
     ]
    },
    {
     "data": {
      "text/plain": [
       "[[2, 1, 1, 1, 1, 1, 1, 1, 1, 1],\n",
       " [1, 1, 1, 1, 1, 1, 1, 1, 1, 1],\n",
       " [1, 1, 1, 1, 1, 1, 1, 1, 1, 1],\n",
       " [1, 1, 1, 1, 1, 1, 1, 1, 1, 1],\n",
       " [1, 1, 1, 1, 1, 1, 1, 1, 1, 1]]"
      ]
     },
     "execution_count": 60,
     "metadata": {},
     "output_type": "execute_result"
    }
   ],
   "source": [
    "# 构造多维数组\n",
    "# result = [[1]*10] * 5\n",
    "result = [[1] * 10 for i in range(5)]\n",
    "print(result)\n",
    "\n",
    "result[0][0] = 2 # 改变一项，不改变其余各项，（深拷贝）\n",
    "result"
   ]
  },
  {
   "cell_type": "markdown",
   "id": "d93acbbb-deed-4bbe-aa40-2584dac0d7e8",
   "metadata": {},
   "source": [
    "### 3.4 二维列表"
   ]
  },
  {
   "cell_type": "markdown",
   "id": "90c4b778-b357-4868-ac0c-7b1fcf7132fb",
   "metadata": {},
   "source": [
    "二维列表：二维列表有2个下标"
   ]
  },
  {
   "cell_type": "code",
   "execution_count": 61,
   "id": "631da265-45ed-4149-852a-d39cc0371768",
   "metadata": {},
   "outputs": [
    {
     "data": {
      "text/plain": [
       "[[1, 2, 3], [4, 5, 6, 7]]"
      ]
     },
     "execution_count": 61,
     "metadata": {},
     "output_type": "execute_result"
    }
   ],
   "source": [
    "nums = [[1,2,3],[4,5,6,7]]\n",
    "nums"
   ]
  },
  {
   "cell_type": "code",
   "execution_count": 63,
   "id": "d20f89b2-ceb9-4b4b-af17-5f95f21919b0",
   "metadata": {},
   "outputs": [
    {
     "name": "stdout",
     "output_type": "stream",
     "text": [
      "1\n",
      "4\n",
      "7\n"
     ]
    },
    {
     "ename": "IndexError",
     "evalue": "list index out of range",
     "output_type": "error",
     "traceback": [
      "\u001b[0;31m---------------------------------------------------------------------------\u001b[0m",
      "\u001b[0;31mIndexError\u001b[0m                                Traceback (most recent call last)",
      "Cell \u001b[0;32mIn[63], line 4\u001b[0m\n\u001b[1;32m      2\u001b[0m \u001b[38;5;28mprint\u001b[39m(nums[\u001b[38;5;241m1\u001b[39m][\u001b[38;5;241m0\u001b[39m])\n\u001b[1;32m      3\u001b[0m \u001b[38;5;28mprint\u001b[39m(nums[\u001b[38;5;241m1\u001b[39m][\u001b[38;5;241m3\u001b[39m])\n\u001b[0;32m----> 4\u001b[0m \u001b[38;5;28mprint\u001b[39m(\u001b[43mnums\u001b[49m\u001b[43m[\u001b[49m\u001b[38;5;241;43m0\u001b[39;49m\u001b[43m]\u001b[49m\u001b[43m[\u001b[49m\u001b[38;5;241;43m3\u001b[39;49m\u001b[43m]\u001b[49m)\n",
      "\u001b[0;31mIndexError\u001b[0m: list index out of range"
     ]
    }
   ],
   "source": [
    "print(nums[0][0])\n",
    "print(nums[1][0])\n",
    "print(nums[1][3])\n",
    "print(nums[0][3])"
   ]
  },
  {
   "cell_type": "code",
   "execution_count": 65,
   "id": "3ec3259d-36e9-4acc-9253-d35b2cef909a",
   "metadata": {},
   "outputs": [
    {
     "ename": "TypeError",
     "evalue": "unsupported operand type(s) for +: 'int' and 'list'",
     "output_type": "error",
     "traceback": [
      "\u001b[0;31m---------------------------------------------------------------------------\u001b[0m",
      "\u001b[0;31mTypeError\u001b[0m                                 Traceback (most recent call last)",
      "Cell \u001b[0;32mIn[65], line 3\u001b[0m\n\u001b[1;32m      1\u001b[0m \u001b[38;5;66;03m# 计算二维列表所有元素之和\u001b[39;00m\n\u001b[1;32m      2\u001b[0m nums \u001b[38;5;241m=\u001b[39m [[\u001b[38;5;241m1\u001b[39m,\u001b[38;5;241m2\u001b[39m,\u001b[38;5;241m3\u001b[39m],[\u001b[38;5;241m4\u001b[39m,\u001b[38;5;241m5\u001b[39m,\u001b[38;5;241m6\u001b[39m]]\n\u001b[0;32m----> 3\u001b[0m \u001b[38;5;28;43msum\u001b[39;49m\u001b[43m(\u001b[49m\u001b[43mnums\u001b[49m\u001b[43m)\u001b[49m\n",
      "\u001b[0;31mTypeError\u001b[0m: unsupported operand type(s) for +: 'int' and 'list'"
     ]
    }
   ],
   "source": [
    "# 计算二维列表所有元素之和\n",
    "nums = [[1,2,3],[4,5,6,7]]\n",
    "sum(nums)"
   ]
  },
  {
   "cell_type": "code",
   "execution_count": 66,
   "id": "92243d3d-92dd-4c99-bad7-40baa3bbbc8b",
   "metadata": {},
   "outputs": [
    {
     "ename": "IndexError",
     "evalue": "list index out of range",
     "output_type": "error",
     "traceback": [
      "\u001b[0;31m---------------------------------------------------------------------------\u001b[0m",
      "\u001b[0;31mIndexError\u001b[0m                                Traceback (most recent call last)",
      "Cell \u001b[0;32mIn[66], line 5\u001b[0m\n\u001b[1;32m      3\u001b[0m \u001b[38;5;28;01mfor\u001b[39;00m i \u001b[38;5;129;01min\u001b[39;00m \u001b[38;5;28mrange\u001b[39m(\u001b[38;5;241m2\u001b[39m):\n\u001b[1;32m      4\u001b[0m     \u001b[38;5;28;01mfor\u001b[39;00m j \u001b[38;5;129;01min\u001b[39;00m \u001b[38;5;28mrange\u001b[39m(\u001b[38;5;241m4\u001b[39m):\n\u001b[0;32m----> 5\u001b[0m         ret \u001b[38;5;241m+\u001b[39m\u001b[38;5;241m=\u001b[39m \u001b[43mnums\u001b[49m\u001b[43m[\u001b[49m\u001b[43mi\u001b[49m\u001b[43m]\u001b[49m\u001b[43m[\u001b[49m\u001b[43mj\u001b[49m\u001b[43m]\u001b[49m\n\u001b[1;32m      6\u001b[0m \u001b[38;5;28mprint\u001b[39m(ret) \u001b[38;5;66;03m# 会越界\u001b[39;00m\n",
      "\u001b[0;31mIndexError\u001b[0m: list index out of range"
     ]
    }
   ],
   "source": [
    "nums = [[1,2,3],[4,5,6,7]]\n",
    "ret = 0\n",
    "for i in range(2):\n",
    "    for j in range(4):\n",
    "        ret += nums[i][j]\n",
    "print(ret) # 会越界"
   ]
  },
  {
   "cell_type": "code",
   "execution_count": 68,
   "id": "9b8fa4ea-f8c0-4131-81c9-8dbb2be021d2",
   "metadata": {},
   "outputs": [
    {
     "name": "stdout",
     "output_type": "stream",
     "text": [
      "28\n"
     ]
    }
   ],
   "source": [
    "nums = [[1,2,3],[4,5,6,7]]\n",
    "ret = 0\n",
    "for row in nums:\n",
    "    for item in row:\n",
    "        ret += item\n",
    "print(ret)"
   ]
  },
  {
   "cell_type": "markdown",
   "id": "c4487311-b750-41e4-b323-cf76ae957e29",
   "metadata": {},
   "source": [
    "### 3.5 元组"
   ]
  },
  {
   "cell_type": "markdown",
   "id": "2f82ae6d-bd51-4714-8851-4801d741aee4",
   "metadata": {},
   "source": [
    "元组：与列表相似，使用小括号\"()\"创建"
   ]
  },
  {
   "cell_type": "code",
   "execution_count": 1,
   "id": "c3eadd37-6f5f-461e-bdc8-237f86a74e1f",
   "metadata": {},
   "outputs": [
    {
     "name": "stdout",
     "output_type": "stream",
     "text": [
      "<class 'list'>\n",
      "<class 'tuple'>\n"
     ]
    }
   ],
   "source": [
    "# tuplename = (value1,value2,...)\n",
    "lst = [1,2,3]\n",
    "tup = (1,2,3)\n",
    "print(type(lst))\n",
    "print(type(tup))"
   ]
  },
  {
   "cell_type": "markdown",
   "id": "7999019a-a5d9-46b0-8e2f-c3ad5de1f96b",
   "metadata": {},
   "source": [
    "#### 3.5.1 列表与元组的本质区别：元组的元素不能修改"
   ]
  },
  {
   "cell_type": "code",
   "execution_count": 1,
   "id": "e26124be-39a3-4ea3-b5e0-37c1ab5b38fb",
   "metadata": {},
   "outputs": [
    {
     "name": "stdout",
     "output_type": "stream",
     "text": [
      "['cat', 2, 3]\n"
     ]
    },
    {
     "ename": "TypeError",
     "evalue": "'tuple' object does not support item assignment",
     "output_type": "error",
     "traceback": [
      "\u001b[0;31m---------------------------------------------------------------------------\u001b[0m",
      "\u001b[0;31mTypeError\u001b[0m                                 Traceback (most recent call last)",
      "Cell \u001b[0;32mIn[1], line 5\u001b[0m\n\u001b[1;32m      3\u001b[0m lst[\u001b[38;5;241m0\u001b[39m] \u001b[38;5;241m=\u001b[39m \u001b[38;5;124m'\u001b[39m\u001b[38;5;124mcat\u001b[39m\u001b[38;5;124m'\u001b[39m\n\u001b[1;32m      4\u001b[0m \u001b[38;5;28mprint\u001b[39m(lst)\n\u001b[0;32m----> 5\u001b[0m \u001b[43mtup\u001b[49m\u001b[43m[\u001b[49m\u001b[38;5;241;43m0\u001b[39;49m\u001b[43m]\u001b[49m \u001b[38;5;241m=\u001b[39m \u001b[38;5;124m'\u001b[39m\u001b[38;5;124mcat\u001b[39m\u001b[38;5;124m'\u001b[39m\n\u001b[1;32m      6\u001b[0m \u001b[38;5;28mprint\u001b[39m(tup)\n",
      "\u001b[0;31mTypeError\u001b[0m: 'tuple' object does not support item assignment"
     ]
    }
   ],
   "source": [
    "lst = [1,2,3]\n",
    "tup = (1,2,3)\n",
    "lst[0] = 'cat'\n",
    "print(lst)\n",
    "tup[0] = 'cat'\n",
    "print(tup)"
   ]
  },
  {
   "cell_type": "code",
   "execution_count": 5,
   "id": "c14bce3e-b779-455b-b690-d111ba29a9f0",
   "metadata": {},
   "outputs": [
    {
     "name": "stdout",
     "output_type": "stream",
     "text": [
      "(1, 2, ['cat', 2, 'dog'])\n",
      "(1, 2, ['bee', 2, 'dog'])\n",
      "(1, 2, ['bee', 'bee', 'dog'])\n"
     ]
    }
   ],
   "source": [
    "# 若列表作为元组的元素，则列表可以改\n",
    "lst = ['cat',2,'dog']\n",
    "tup = (1,2,lst)\n",
    "print(tup)\n",
    "lst[0] = 'bee'\n",
    "print(tup)\n",
    "tup[2][1] = 'bee'\n",
    "print(tup)"
   ]
  },
  {
   "cell_type": "code",
   "execution_count": 8,
   "id": "c19c5ce0-f055-4072-a0ee-bb8584355a92",
   "metadata": {},
   "outputs": [
    {
     "name": "stdout",
     "output_type": "stream",
     "text": [
      "<class 'tuple'>\n",
      "<class 'int'>\n",
      "<class 'tuple'>\n"
     ]
    }
   ],
   "source": [
    "# 空元组/只有一个元素的元组\n",
    "tup = ()\n",
    "print(type(tup))\n",
    "\n",
    "tup1 = (123) #\n",
    "tup2 = (123,) # 若想定义只有一个元素的元组，必须在元素后加一个英文逗号\n",
    "print(type(tup1))\n",
    "print(type(tup2))"
   ]
  },
  {
   "cell_type": "markdown",
   "id": "e583474e-b43d-40c3-82be-a0e687dd73e2",
   "metadata": {},
   "source": [
    "#### 3.5.2 元组的基本操作：凡是改变元组内部元素的操作都不允许"
   ]
  },
  {
   "cell_type": "code",
   "execution_count": 9,
   "id": "3221a4e2-f653-4e3f-8df7-30bd363061ba",
   "metadata": {},
   "outputs": [
    {
     "name": "stdout",
     "output_type": "stream",
     "text": [
      "dog\n"
     ]
    }
   ],
   "source": [
    "# 获取某一项: 使用下标，tup[n]\n",
    "tup = ('cat',1,'dog',2,'bee')\n",
    "print(tup[2])"
   ]
  },
  {
   "cell_type": "code",
   "execution_count": 10,
   "id": "fee43b14-3bf2-4761-b7a0-8d55fef1e0e7",
   "metadata": {},
   "outputs": [
    {
     "name": "stdout",
     "output_type": "stream",
     "text": [
      "('cat', 1, 'dog', 2, 'bee')\n",
      "('cat', 1)\n",
      "('cat', 1, 'dog', 2)\n",
      "('cat', 1, 'dog', 2, 'bee')\n",
      "('bee',)\n",
      "('cat', 1)\n",
      "(2,)\n"
     ]
    }
   ],
   "source": [
    "# 元组切片\n",
    "tup = ('cat',1,'dog',2,'bee')\n",
    "print(tup[:])\n",
    "print(tup[:2])\n",
    "print(tup[:-1])\n",
    "print(tup[0:])\n",
    "print(tup[-1:])\n",
    "print(tup[0:2])\n",
    "print(tup[-2:-1])"
   ]
  },
  {
   "cell_type": "code",
   "execution_count": 11,
   "id": "a3982abd-bf89-47fc-b1f5-1a4b0899a08e",
   "metadata": {},
   "outputs": [
    {
     "name": "stdout",
     "output_type": "stream",
     "text": [
      "cat\n",
      "1\n",
      "dog\n",
      "2\n",
      "bee\n"
     ]
    }
   ],
   "source": [
    "# 遍历元组\n",
    "tup = ('cat',1,'dog',2,'bee')\n",
    "for item in tup:\n",
    "    print(item)"
   ]
  },
  {
   "cell_type": "code",
   "execution_count": 13,
   "id": "d08e4a98-20bd-4266-9e76-d65670508b5c",
   "metadata": {},
   "outputs": [
    {
     "name": "stdout",
     "output_type": "stream",
     "text": [
      "1\n",
      "2\n"
     ]
    },
    {
     "ename": "ValueError",
     "evalue": "tuple.index(x): x not in tuple",
     "output_type": "error",
     "traceback": [
      "\u001b[0;31m---------------------------------------------------------------------------\u001b[0m",
      "\u001b[0;31mValueError\u001b[0m                                Traceback (most recent call last)",
      "Cell \u001b[0;32mIn[13], line 5\u001b[0m\n\u001b[1;32m      3\u001b[0m \u001b[38;5;28mprint\u001b[39m(tup\u001b[38;5;241m.\u001b[39mindex(\u001b[38;5;241m1\u001b[39m))\n\u001b[1;32m      4\u001b[0m \u001b[38;5;28mprint\u001b[39m(tup\u001b[38;5;241m.\u001b[39mindex(\u001b[38;5;124m'\u001b[39m\u001b[38;5;124mdog\u001b[39m\u001b[38;5;124m'\u001b[39m))\n\u001b[0;32m----> 5\u001b[0m \u001b[38;5;28mprint\u001b[39m(\u001b[43mtup\u001b[49m\u001b[38;5;241;43m.\u001b[39;49m\u001b[43mindex\u001b[49m\u001b[43m(\u001b[49m\u001b[38;5;241;43m3\u001b[39;49m\u001b[43m)\u001b[49m)\n",
      "\u001b[0;31mValueError\u001b[0m: tuple.index(x): x not in tuple"
     ]
    }
   ],
   "source": [
    "# 获取元组下标\n",
    "tup = ('cat',1,'dog',2,'bee')\n",
    "print(tup.index(1))\n",
    "print(tup.index('dog'))\n",
    "print(tup.index(3))"
   ]
  },
  {
   "cell_type": "code",
   "execution_count": 16,
   "id": "eb312928-8a78-4d8f-b0d0-2ac3c55e0450",
   "metadata": {},
   "outputs": [
    {
     "name": "stdout",
     "output_type": "stream",
     "text": [
      "6\n",
      "2\n",
      "0\n"
     ]
    }
   ],
   "source": [
    "# 获取元素个数\n",
    "tup = ('cat',1,'dog',2,'bee','bee')\n",
    "print(len(tup))\n",
    "print(tup.count('bee'))\n",
    "print(tup.count(3))"
   ]
  },
  {
   "cell_type": "code",
   "execution_count": 17,
   "id": "4ce70f07-2b80-4d14-9462-362e99be75ea",
   "metadata": {},
   "outputs": [
    {
     "name": "stdout",
     "output_type": "stream",
     "text": [
      "6\n",
      "-1\n"
     ]
    }
   ],
   "source": [
    "# 最大值和最小值\n",
    "nums = (-1,2,3,4,5,6)\n",
    "print(max(nums))\n",
    "print(min(nums))"
   ]
  },
  {
   "cell_type": "markdown",
   "id": "63a91297-1447-4e96-9c0e-72b312ea3cf3",
   "metadata": {},
   "source": [
    "###### 元组存在的意义：在实际项目开发中，不可变的数据很多时候比可变的数据更可靠"
   ]
  },
  {
   "cell_type": "markdown",
   "id": "80d77937-07bb-4345-a517-05282efaee4b",
   "metadata": {},
   "source": [
    "### 3.6 练习"
   ]
  },
  {
   "cell_type": "markdown",
   "id": "70e40fa0-792a-4997-abde-0b2098abfd69",
   "metadata": {},
   "source": [
    "#### 3.6.1 列表去重"
   ]
  },
  {
   "cell_type": "markdown",
   "id": "a5bf7a06-fca8-4743-9d0f-d2384018f3d4",
   "metadata": {},
   "source": [
    "有一个列表：[15,15,33,8,17,45,8,15]，编写程序去除列表中的重复元素，最终列表为：[15,33,6,17,45]"
   ]
  },
  {
   "cell_type": "code",
   "execution_count": 18,
   "id": "56e5e3a0-fe48-482e-833f-bc4176087b61",
   "metadata": {},
   "outputs": [
    {
     "name": "stdout",
     "output_type": "stream",
     "text": [
      "[15, 33, 8, 17, 45]\n"
     ]
    }
   ],
   "source": [
    "# 解法1:\n",
    "lst = [15,15,33,8,17,45,8,15]\n",
    "ret = []\n",
    "for item in lst:\n",
    "    if item not in ret:\n",
    "        ret.append(item)\n",
    "print(ret)"
   ]
  },
  {
   "cell_type": "code",
   "execution_count": 20,
   "id": "785bd91e-e116-42a9-b745-be4fb643b99c",
   "metadata": {},
   "outputs": [
    {
     "name": "stdout",
     "output_type": "stream",
     "text": [
      "[33, 17, 45, 8, 15]\n"
     ]
    }
   ],
   "source": [
    "# 解法2:\n",
    "lst = [15,15,33,8,17,45,8,15]\n",
    "for i in range(-len(lst),-1):\n",
    "    if lst[i] in lst[i+1:]:\n",
    "        lst.remove(lst[i])\n",
    "print(lst)"
   ]
  },
  {
   "cell_type": "markdown",
   "id": "2dddb8de-881d-499c-a861-32539da23a05",
   "metadata": {},
   "source": [
    "#### 3.6.2 输出月份"
   ]
  },
  {
   "cell_type": "markdown",
   "id": "1e5afa30-493d-4a20-ab69-e632e41494b1",
   "metadata": {},
   "source": [
    "输入一个1-12之间的整数，然后输出对应的月份 "
   ]
  },
  {
   "cell_type": "code",
   "execution_count": 22,
   "id": "0ec23982-f07f-4edd-ad8d-f5158db9248a",
   "metadata": {},
   "outputs": [
    {
     "name": "stdin",
     "output_type": "stream",
     "text": [
      "请输入一个1-12之间的整数： 4\n"
     ]
    },
    {
     "name": "stdout",
     "output_type": "stream",
     "text": [
      "Apr\n"
     ]
    }
   ],
   "source": [
    "months = ['Jan','Feb','Mar','Apr','May','June','July','Aug','Sep','Oct','Nov','Dec']\n",
    "n = input(\"请输入一个1-12之间的整数：\")\n",
    "n = int(n)\n",
    "print(months[n-1])"
   ]
  },
  {
   "cell_type": "markdown",
   "id": "a4a973ea-534b-4254-abb1-d607a1def539",
   "metadata": {},
   "source": [
    "#### 3.6.3 求列表中的最大值"
   ]
  },
  {
   "cell_type": "markdown",
   "id": "d319286d-ad86-48f3-97a6-33e473405779",
   "metadata": {},
   "source": [
    "编写一个python程序，将任意5个整数，输入到一个列表中，求出该列表的最大值，并输出，不利用max()函数"
   ]
  },
  {
   "cell_type": "code",
   "execution_count": 27,
   "id": "8d0db2cb-6ae5-4c3c-bbc0-ff203f22a765",
   "metadata": {},
   "outputs": [
    {
     "name": "stdin",
     "output_type": "stream",
     "text": [
      "请输入第1个整数： -1\n",
      "请输入第2个整数： 2\n",
      "请输入第3个整数： 2\n",
      "请输入第4个整数： 12\n",
      "请输入第5个整数： 20\n"
     ]
    },
    {
     "name": "stdout",
     "output_type": "stream",
     "text": [
      "[-1, 2, 2, 12, 20]\n",
      "最大值为： 20\n",
      "最小值为： -1\n",
      "平均值为： 7.0\n"
     ]
    }
   ],
   "source": [
    "nums = []\n",
    "for i in range(5):\n",
    "    n = input(\"请输入第\" +str(i+1)+\"个整数：\")\n",
    "    n = int(n)\n",
    "    nums.append(n)\n",
    "print(nums)\n",
    "\n",
    "# 求列表的最大值\n",
    "ret = nums[0]\n",
    "for i in range(1,5):\n",
    "    if ret < nums[i]:\n",
    "        ret = nums[i]\n",
    "print(\"最大值为：\",ret)\n",
    "\n",
    "# 求列表的最小值\n",
    "ret = nums[0]\n",
    "for i in range(1,5):\n",
    "    if ret > nums[i]:\n",
    "        ret = nums[i]\n",
    "print(\"最小值为：\",ret)\n",
    "\n",
    "\n",
    "# 求列表的平均值\n",
    "ret = 0\n",
    "for i in range(5):\n",
    "    ret += nums[i]\n",
    "print(\"平均值为：\",ret/5)"
   ]
  },
  {
   "cell_type": "code",
   "execution_count": null,
   "id": "9173c075-eb6b-4bd2-8dcc-6ea0559abb1a",
   "metadata": {},
   "outputs": [],
   "source": []
  }
 ],
 "metadata": {
  "kernelspec": {
   "display_name": "Python 3 (ipykernel)",
   "language": "python",
   "name": "python3"
  },
  "language_info": {
   "codemirror_mode": {
    "name": "ipython",
    "version": 3
   },
   "file_extension": ".py",
   "mimetype": "text/x-python",
   "name": "python",
   "nbconvert_exporter": "python",
   "pygments_lexer": "ipython3",
   "version": "3.9.1"
  }
 },
 "nbformat": 4,
 "nbformat_minor": 5
}
