{
 "cells": [
  {
   "cell_type": "markdown",
   "id": "74bf79d1-0c97-477a-b649-89626badd565",
   "metadata": {},
   "source": [
    "## 3. 列表与元组"
   ]
  },
  {
   "cell_type": "markdown",
   "id": "9d4522b1-5092-4518-a4a4-1aa43cc0f6de",
   "metadata": {},
   "source": [
    "### 序列：Python最基本的数据结构\n",
    "* 列表\n",
    "* 元组\n",
    "* 字符串\n",
    "\n",
    "“下标”：同“位置”、“索引”，从0开始"
   ]
  },
  {
   "cell_type": "markdown",
   "id": "67789049-5150-49a0-aaed-58a0bb30778e",
   "metadata": {},
   "source": [
    "### 3.1 列表"
   ]
  },
  {
   "cell_type": "markdown",
   "id": "26b2f154-3b1e-4a19-affa-a11d440ec304",
   "metadata": {},
   "source": [
    "#### 3.1.1 列表的创建"
   ]
  },
  {
   "cell_type": "code",
   "execution_count": 32,
   "id": "ad09c77a-ce72-4627-b2b1-db44ab155817",
   "metadata": {},
   "outputs": [
    {
     "name": "stdout",
     "output_type": "stream",
     "text": [
      "[]\n",
      "['ant', 'cat', 'eve']\n",
      "[1, 2, 'ptyh']\n",
      "[[1, 2], [3, 4], 'test']\n"
     ]
    }
   ],
   "source": [
    "# 使用[]来创建\n",
    "lst1 = [] # 空列表\n",
    "lst2 = ['ant','cat','eve'] # 包含3个字符串的列表\n",
    "lst3 = [1,2,'ptyh'] # 列表中元素的类型可以不一样\n",
    "lst4 = [[1,2],[3,4],'test'] # 列表的元素也可以是列表\n",
    "print(lst1)\n",
    "print(lst2)\n",
    "print(lst3)\n",
    "print(lst4)"
   ]
  },
  {
   "cell_type": "markdown",
   "id": "e9e15867-672f-4e2e-ba47-ad82608d2fb0",
   "metadata": {},
   "source": [
    "#### 3.1.2 获取列表元素"
   ]
  },
  {
   "cell_type": "markdown",
   "id": "1b98c27c-7ed3-46ae-b7a7-8ccd2a9dc815",
   "metadata": {},
   "source": [
    "##### 1. 正数下标：最左边元素的下标为0"
   ]
  },
  {
   "cell_type": "code",
   "execution_count": null,
   "id": "c8cd6209-25a4-4c0a-b813-9dc8a7b4fc4f",
   "metadata": {},
   "outputs": [],
   "source": [
    "lst = ['ant','bee','cat',1,2,'cat']\n",
    "print(lst[1]) # 1表示列表中的第2个元素\n",
    "# print(lst[6])\n",
    "print(lst[end])"
   ]
  },
  {
   "cell_type": "markdown",
   "id": "210982be-dfc4-49f4-9326-3a5292b8aa8b",
   "metadata": {},
   "source": [
    "##### 2. 负数下标：最右边元素的下标为-1"
   ]
  },
  {
   "cell_type": "code",
   "execution_count": 36,
   "id": "d6b9dfa4-f334-4050-9542-c23b7ce04f6e",
   "metadata": {},
   "outputs": [
    {
     "name": "stdout",
     "output_type": "stream",
     "text": [
      "cat\n"
     ]
    }
   ],
   "source": [
    "lst = ['ant','bee','cat',1,2,'cat']\n",
    "print(lst[-1]) # -1表示列表中最后一个元素"
   ]
  },
  {
   "cell_type": "markdown",
   "id": "5f55f242-bd56-44d2-92ce-0911c5c1f27c",
   "metadata": {},
   "source": [
    "#### 3.1.3 修改元素"
   ]
  },
  {
   "cell_type": "code",
   "execution_count": 37,
   "id": "91f46c8f-b006-4ad5-9a2f-cd20c6c0ba97",
   "metadata": {},
   "outputs": [
    {
     "name": "stdout",
     "output_type": "stream",
     "text": [
      "['ant', 'bee', 'cat', 1, 2, 'cat']\n"
     ]
    }
   ],
   "source": [
    "lst = ['ant','bee','cat',1,2,'cat']\n",
    "print(lst)"
   ]
  },
  {
   "cell_type": "code",
   "execution_count": 38,
   "id": "0933fde3-07c8-440b-9894-62caf03a4679",
   "metadata": {},
   "outputs": [
    {
     "name": "stdout",
     "output_type": "stream",
     "text": [
      "cat\n",
      "[3, 4]\n"
     ]
    }
   ],
   "source": [
    "print(lst[2])\n",
    "lst[2] = [3,4]\n",
    "print(lst[2])"
   ]
  },
  {
   "cell_type": "code",
   "execution_count": 39,
   "id": "8652fbf3-31e7-4a2c-b79b-956d40b27194",
   "metadata": {},
   "outputs": [
    {
     "ename": "IndexError",
     "evalue": "list assignment index out of range",
     "output_type": "error",
     "traceback": [
      "\u001b[0;31m---------------------------------------------------------------------------\u001b[0m",
      "\u001b[0;31mIndexError\u001b[0m                                Traceback (most recent call last)",
      "Cell \u001b[0;32mIn[39], line 1\u001b[0m\n\u001b[0;32m----> 1\u001b[0m \u001b[43mlst\u001b[49m\u001b[43m[\u001b[49m\u001b[38;5;241;43m10\u001b[39;49m\u001b[43m]\u001b[49m \u001b[38;5;241m=\u001b[39m \u001b[38;5;241m1\u001b[39m\n",
      "\u001b[0;31mIndexError\u001b[0m: list assignment index out of range"
     ]
    }
   ],
   "source": [
    "lst[10] = 1"
   ]
  },
  {
   "cell_type": "markdown",
   "id": "8294b671-b6f9-4de7-8583-ff9d85d69d2f",
   "metadata": {},
   "source": [
    "#### 3.1.4 添加元素"
   ]
  },
  {
   "cell_type": "code",
   "execution_count": 40,
   "id": "3483c52d-e585-42ff-8310-3cad5a4d9fa6",
   "metadata": {},
   "outputs": [
    {
     "name": "stdout",
     "output_type": "stream",
     "text": [
      "['ant', 'bee', 'cat', 1, 2, 'cat']\n"
     ]
    }
   ],
   "source": [
    "lst = ['ant','bee','cat',1,2,'cat']\n",
    "print(lst)"
   ]
  },
  {
   "cell_type": "markdown",
   "id": "ed196b78-8f26-47b1-9bab-e96aa42617c6",
   "metadata": {},
   "source": [
    "##### 1. insert(n,value): 在下标n处添加元素value"
   ]
  },
  {
   "cell_type": "code",
   "execution_count": 41,
   "id": "9c3afae4-368a-48b6-b1ba-df7f1d032936",
   "metadata": {},
   "outputs": [
    {
     "name": "stdout",
     "output_type": "stream",
     "text": [
      "['ant', 4, 'bee', 'cat', 1, 2, 'cat']\n"
     ]
    }
   ],
   "source": [
    "lst.insert(1,4)\n",
    "print(lst)"
   ]
  },
  {
   "cell_type": "code",
   "execution_count": 42,
   "id": "53d6fb3b-11d7-4a64-97bf-a4677b3547ae",
   "metadata": {},
   "outputs": [
    {
     "name": "stdout",
     "output_type": "stream",
     "text": [
      "['ant', 4, 'bee', 'cat', 1, 2, 4, 4, 'cat']\n"
     ]
    }
   ],
   "source": [
    "lst.insert(-1,4) # -1不代表在元素末尾添加元素\n",
    "lst.insert(-1,4) # -1不代表在元素末尾添加元素\n",
    "print(lst)"
   ]
  },
  {
   "cell_type": "code",
   "execution_count": 43,
   "id": "2046dba1-c33b-4b0d-8fe4-0c7444279106",
   "metadata": {},
   "outputs": [
    {
     "name": "stdout",
     "output_type": "stream",
     "text": [
      "[4, 'ant', 4, 'bee', 'cat', 1, 2, 4, 4, 'cat']\n"
     ]
    }
   ],
   "source": [
    "lst.insert(0,4) # 利用insert在列表开头添加元素\n",
    "print(lst)"
   ]
  },
  {
   "cell_type": "code",
   "execution_count": 44,
   "id": "81bcd30d-c5a2-4eef-918d-33e6b2a7f1cc",
   "metadata": {},
   "outputs": [
    {
     "name": "stdout",
     "output_type": "stream",
     "text": [
      "[4, 'ant', 4, 'bee', 'cat', 1, 2, 4, 4, 'cat', 4]\n"
     ]
    }
   ],
   "source": [
    "# lst.insert(end,4)\n",
    "lst.insert(10,4) # 利用insert在列表末尾添加元素\n",
    "print(lst)"
   ]
  },
  {
   "cell_type": "code",
   "execution_count": 45,
   "id": "3b09f6bd-cc9b-4627-9332-25a32994b8f7",
   "metadata": {},
   "outputs": [
    {
     "name": "stdout",
     "output_type": "stream",
     "text": [
      "[4, 'ant', 4, 'bee', 'cat', 1, 2, 4, 4, 'cat', 4, 4]\n"
     ]
    }
   ],
   "source": [
    "lst.insert(20,4) # 当n超过列表长度时，不报错，而是在末尾添加\n",
    "print(lst)"
   ]
  },
  {
   "cell_type": "markdown",
   "id": "0ac25b75-f43e-4e12-900c-d4bc1192b145",
   "metadata": {},
   "source": [
    "##### 2. append(value): 在列表末尾添加value"
   ]
  },
  {
   "cell_type": "code",
   "execution_count": 46,
   "id": "567e00b8-7b3b-45c4-a6c7-2fe9e2d859ea",
   "metadata": {},
   "outputs": [
    {
     "name": "stdout",
     "output_type": "stream",
     "text": [
      "[4, 'ant', 4, 'bee', 'cat', 1, 2, 4, 4, 'cat', 4, 4, 'dog']\n",
      "[4, 'ant', 4, 'bee', 'cat', 1, 2, 4, 4, 'cat', 4, 4, 'dog', [6, 6]]\n"
     ]
    }
   ],
   "source": [
    "lst.append('dog')\n",
    "print(lst)\n",
    "lst.append([6,6])\n",
    "print(lst)"
   ]
  },
  {
   "cell_type": "markdown",
   "id": "5bd798e8-3238-4d93-9d82-76f3895c5b51",
   "metadata": {},
   "source": [
    "#### 3.1.5 删除元素"
   ]
  },
  {
   "cell_type": "markdown",
   "id": "4a4c10e2-3591-4b64-9095-c725d64d6c8e",
   "metadata": {},
   "source": [
    "##### 1. del list[n]：删除第n+1个元素"
   ]
  },
  {
   "cell_type": "code",
   "execution_count": 52,
   "id": "dae1ce27-a018-4376-a51b-3bff6b62117d",
   "metadata": {},
   "outputs": [
    {
     "name": "stdout",
     "output_type": "stream",
     "text": [
      "['ant', 'bee', 'cat', 1, 2, 'cat']\n"
     ]
    }
   ],
   "source": [
    "lst = ['ant','bee','cat',1,2,'cat']\n",
    "print(lst)"
   ]
  },
  {
   "cell_type": "code",
   "execution_count": 53,
   "id": "3063420e-c4b5-4eb0-a32f-05e074a5ebfb",
   "metadata": {},
   "outputs": [
    {
     "name": "stdout",
     "output_type": "stream",
     "text": [
      "['ant', 'bee', 'cat', 1, 2]\n"
     ]
    }
   ],
   "source": [
    "del lst[-1] # 删除末尾元素\n",
    "print(lst)"
   ]
  },
  {
   "cell_type": "code",
   "execution_count": 54,
   "id": "a16c4801-88ea-426d-b085-ab4a6d08e21c",
   "metadata": {},
   "outputs": [
    {
     "name": "stdout",
     "output_type": "stream",
     "text": [
      "['ant', 'cat', 1, 2]\n"
     ]
    }
   ],
   "source": [
    "del lst[1] # 删除第2个元素\n",
    "print(lst)"
   ]
  },
  {
   "cell_type": "code",
   "execution_count": 55,
   "id": "6865c133-37ce-42ba-87dc-97c818eb881c",
   "metadata": {},
   "outputs": [
    {
     "ename": "IndexError",
     "evalue": "list assignment index out of range",
     "output_type": "error",
     "traceback": [
      "\u001b[0;31m---------------------------------------------------------------------------\u001b[0m",
      "\u001b[0;31mIndexError\u001b[0m                                Traceback (most recent call last)",
      "Cell \u001b[0;32mIn[55], line 1\u001b[0m\n\u001b[0;32m----> 1\u001b[0m \u001b[38;5;28;01mdel\u001b[39;00m lst[\u001b[38;5;241m100\u001b[39m]\n\u001b[1;32m      2\u001b[0m \u001b[38;5;28mprint\u001b[39m(lst)\n",
      "\u001b[0;31mIndexError\u001b[0m: list assignment index out of range"
     ]
    }
   ],
   "source": [
    "del lst[100]\n",
    "print(lst)"
   ]
  },
  {
   "cell_type": "markdown",
   "id": "364963e5-6cf1-4c4b-9083-fee8953e32c9",
   "metadata": {},
   "source": [
    "##### 2. pop(n)：删除第n+1个元素，并返回该元素的值；n省略时，删除最后一个元素"
   ]
  },
  {
   "cell_type": "code",
   "execution_count": 61,
   "id": "762c20e3-fc02-4f86-9136-f028d9e66b12",
   "metadata": {},
   "outputs": [
    {
     "name": "stdout",
     "output_type": "stream",
     "text": [
      "['ant', 'bee', 'cat', 1, 2, 'cat']\n",
      "cat\n",
      "['ant', 'bee', 'cat', 1, 2]\n"
     ]
    }
   ],
   "source": [
    "lst = ['ant','bee','cat',1,2,'cat']\n",
    "print(lst)\n",
    "\n",
    "print(lst.pop()) # n省略时，删除最后一个元素\n",
    "print(lst)"
   ]
  },
  {
   "cell_type": "code",
   "execution_count": 62,
   "id": "23072b4e-a5bf-48d0-9d8c-5b4f62d07841",
   "metadata": {},
   "outputs": [
    {
     "name": "stdout",
     "output_type": "stream",
     "text": [
      "2\n",
      "['ant', 'bee', 'cat', 1]\n"
     ]
    }
   ],
   "source": [
    "print(lst.pop(-1)) # -1仍表示最后一个元素\n",
    "print(lst)"
   ]
  },
  {
   "cell_type": "code",
   "execution_count": 63,
   "id": "59222ff7-822d-456d-b31b-ead241b734dc",
   "metadata": {},
   "outputs": [
    {
     "name": "stdout",
     "output_type": "stream",
     "text": [
      "ant\n",
      "['bee', 'cat', 1]\n"
     ]
    }
   ],
   "source": [
    "print(lst.pop(0)) # 删除第一个元素\n",
    "print(lst)"
   ]
  },
  {
   "cell_type": "markdown",
   "id": "338a4f34-b9f8-4d8f-8e33-ce06be7baa4e",
   "metadata": {},
   "source": [
    "##### 3. remove(value)：根据value来删除元素"
   ]
  },
  {
   "cell_type": "code",
   "execution_count": 64,
   "id": "e3144ab8-c847-4e1f-b555-ad67cc1c0982",
   "metadata": {},
   "outputs": [
    {
     "name": "stdout",
     "output_type": "stream",
     "text": [
      "['ant', 'bee', 'cat', 1, 2, 'cat']\n",
      "['ant', 'bee', 1, 2, 'cat']\n"
     ]
    }
   ],
   "source": [
    "lst = ['ant','bee','cat',1,2,'cat']\n",
    "print(lst)\n",
    "\n",
    "lst.remove('cat') # 只会删除列表中第一个匹配到的值\n",
    "print(lst)"
   ]
  },
  {
   "cell_type": "code",
   "execution_count": 65,
   "id": "9277169c-24d4-4a3d-b651-990be8f1c581",
   "metadata": {},
   "outputs": [
    {
     "ename": "ValueError",
     "evalue": "list.remove(x): x not in list",
     "output_type": "error",
     "traceback": [
      "\u001b[0;31m---------------------------------------------------------------------------\u001b[0m",
      "\u001b[0;31mValueError\u001b[0m                                Traceback (most recent call last)",
      "Cell \u001b[0;32mIn[65], line 1\u001b[0m\n\u001b[0;32m----> 1\u001b[0m \u001b[43mlst\u001b[49m\u001b[38;5;241;43m.\u001b[39;49m\u001b[43mremove\u001b[49m\u001b[43m(\u001b[49m\u001b[38;5;241;43m3\u001b[39;49m\u001b[43m)\u001b[49m \u001b[38;5;66;03m# 删除不存在的元素时，报错\u001b[39;00m\n",
      "\u001b[0;31mValueError\u001b[0m: list.remove(x): x not in list"
     ]
    }
   ],
   "source": [
    "lst.remove(3) # 删除不存在的元素时，报错"
   ]
  },
  {
   "cell_type": "code",
   "execution_count": 66,
   "id": "f2452dc0-a7fa-43e8-90f5-953b59eb2f2e",
   "metadata": {},
   "outputs": [
    {
     "name": "stdout",
     "output_type": "stream",
     "text": [
      "['ant', 'bee', 'cat', 1, 2, 'cat']\n"
     ]
    }
   ],
   "source": [
    "# 为避免报错，可以在删除前判断是否存在\n",
    "lst = ['ant','bee','cat',1,2,'cat']\n",
    "if 'dog' in lst:\n",
    "    lst.remove('dog')\n",
    "print(lst)"
   ]
  },
  {
   "cell_type": "code",
   "execution_count": 72,
   "id": "747a4cdf-2e12-4cd0-a8d7-c2765416d839",
   "metadata": {},
   "outputs": [
    {
     "ename": "IndexError",
     "evalue": "list index out of range",
     "output_type": "error",
     "traceback": [
      "\u001b[0;31m---------------------------------------------------------------------------\u001b[0m",
      "\u001b[0;31mIndexError\u001b[0m                                Traceback (most recent call last)",
      "Cell \u001b[0;32mIn[72], line 4\u001b[0m\n\u001b[1;32m      2\u001b[0m lst \u001b[38;5;241m=\u001b[39m [\u001b[38;5;124m'\u001b[39m\u001b[38;5;124mant\u001b[39m\u001b[38;5;124m'\u001b[39m,\u001b[38;5;124m'\u001b[39m\u001b[38;5;124mbee\u001b[39m\u001b[38;5;124m'\u001b[39m,\u001b[38;5;124m'\u001b[39m\u001b[38;5;124mcat\u001b[39m\u001b[38;5;124m'\u001b[39m,\u001b[38;5;241m1\u001b[39m,\u001b[38;5;241m2\u001b[39m,\u001b[38;5;124m'\u001b[39m\u001b[38;5;124mcat\u001b[39m\u001b[38;5;124m'\u001b[39m]\n\u001b[1;32m      3\u001b[0m \u001b[38;5;28;01mfor\u001b[39;00m i \u001b[38;5;129;01min\u001b[39;00m \u001b[38;5;28mrange\u001b[39m(\u001b[38;5;28mlen\u001b[39m(lst)):\n\u001b[0;32m----> 4\u001b[0m     \u001b[38;5;28;01mif\u001b[39;00m \u001b[43mlst\u001b[49m\u001b[43m[\u001b[49m\u001b[43mi\u001b[49m\u001b[43m]\u001b[49m \u001b[38;5;241m==\u001b[39m \u001b[38;5;124m'\u001b[39m\u001b[38;5;124mcat\u001b[39m\u001b[38;5;124m'\u001b[39m:\n\u001b[1;32m      5\u001b[0m         lst\u001b[38;5;241m.\u001b[39mremove(lst[i]) \u001b[38;5;66;03m# 会改变原列表，从而后续访问列表时，报错\u001b[39;00m\n\u001b[1;32m      6\u001b[0m \u001b[38;5;28mprint\u001b[39m(lst)\n",
      "\u001b[0;31mIndexError\u001b[0m: list index out of range"
     ]
    }
   ],
   "source": [
    "# 若想把列表中所有的某值删除，可以使用for循环\n",
    "lst = ['ant','bee','cat',1,2,'cat']\n",
    "for i in range(len(lst)):\n",
    "    if lst[i] == 'cat':\n",
    "        lst.remove(lst[i]) # 会改变原列表，从而后续访问列表时，报错\n",
    "print(lst)"
   ]
  },
  {
   "cell_type": "code",
   "execution_count": 77,
   "id": "e51db5bf-fb99-4c8c-ad61-0d7fcd6cfcaf",
   "metadata": {},
   "outputs": [
    {
     "name": "stdout",
     "output_type": "stream",
     "text": [
      "['ant', 'bee', 1, 2, 'cat']\n"
     ]
    }
   ],
   "source": [
    "# 若想把列表中所有的某值删除，可以使用for循环\n",
    "lst = ['ant','bee','cat','cat',1,2,'cat']\n",
    "for s in lst: \n",
    "#第1次删除元素后，列表为['ant','bee','cat',1,2,'cat']， 进入循环时，s跳过了cat，遍历到了1\n",
    "#直到s遍历到最后一个'cat'，满足删除条件，执行remove,删除了新列表的第3个元素，而后循环结束\n",
    "    if s == 'cat':\n",
    "        lst.remove(s) # 会改变原列表\n",
    "print(lst)"
   ]
  },
  {
   "cell_type": "code",
   "execution_count": 69,
   "id": "46b14164-dbe5-4c61-af92-750ec8de6c51",
   "metadata": {},
   "outputs": [
    {
     "name": "stdout",
     "output_type": "stream",
     "text": [
      "['ant', 'bee', 1, 2]\n"
     ]
    }
   ],
   "source": [
    "# 解决方案一：不改变原列表，重新构造一个列表\n",
    "lst = ['ant','bee','cat',1,2,'cat']\n",
    "ret = []\n",
    "for i in range(len(lst)):\n",
    "    if lst[i] != 'cat':\n",
    "        ret.append(lst[i]) \n",
    "print(ret)"
   ]
  },
  {
   "cell_type": "code",
   "execution_count": 70,
   "id": "71d19d95-39a4-4e4a-bbc2-0422e7740b09",
   "metadata": {},
   "outputs": [
    {
     "name": "stdout",
     "output_type": "stream",
     "text": [
      "['ant', 'bee', 1, 2]\n"
     ]
    }
   ],
   "source": [
    "# 解决方案二：循环删除(每次都需要从头对列表进行遍历)\n",
    "lst = ['ant','bee','cat',1,2,'cat']\n",
    "while True:\n",
    "    if 'cat' in lst:\n",
    "        lst.remove('cat')\n",
    "    else:\n",
    "        break\n",
    "print(lst)"
   ]
  },
  {
   "cell_type": "code",
   "execution_count": 71,
   "id": "cfd02b39-a24e-4fb1-946a-6a31ae714315",
   "metadata": {},
   "outputs": [
    {
     "name": "stdout",
     "output_type": "stream",
     "text": [
      "['ant', 'bee', 1, 2]\n"
     ]
    }
   ],
   "source": [
    "# 解决方案三：使用负向索引\n",
    "lst = ['ant','bee','cat','cat',1,'cat',2,'cat']\n",
    "for i in range(-len(lst),0):\n",
    "    if lst[i] == 'cat':\n",
    "        lst.remove(lst[i]) # 删除列表中第一次出现的该值\n",
    "print(lst)"
   ]
  },
  {
   "cell_type": "markdown",
   "id": "b2834464-1d2c-42b6-a8fc-9dcc71ffcc76",
   "metadata": {},
   "source": [
    "### 3.2 列表方法"
   ]
  },
  {
   "cell_type": "markdown",
   "id": "a6d6d18c-aeb0-406d-86d7-94248fc1ad6e",
   "metadata": {},
   "source": [
    "#### 3.2.1 统计元素个数: list.count(value)"
   ]
  },
  {
   "cell_type": "code",
   "execution_count": 87,
   "id": "f255f8fa-d2d3-42ac-a835-d2a0dcd6a3d7",
   "metadata": {},
   "outputs": [
    {
     "name": "stdout",
     "output_type": "stream",
     "text": [
      "4\n"
     ]
    }
   ],
   "source": [
    "nums = [2,1,2,3,4,2,3,2]\n",
    "ret = nums.count(2)\n",
    "print(ret)"
   ]
  },
  {
   "cell_type": "code",
   "execution_count": 88,
   "id": "39e1c6b9-6945-4807-96b7-34c171a51ffe",
   "metadata": {},
   "outputs": [
    {
     "name": "stdout",
     "output_type": "stream",
     "text": [
      "['cat', 2, 1, 2, 3, 4, 2, 3, 2, 'cat']\n",
      "2\n"
     ]
    }
   ],
   "source": [
    "nums = [2,1,2,3,4,2,3,2]\n",
    "nums.append('cat')\n",
    "nums.insert(0,'cat')\n",
    "print(nums)\n",
    "ret = nums.count('cat')\n",
    "print(ret)"
   ]
  },
  {
   "cell_type": "code",
   "execution_count": 89,
   "id": "b9d3dd2b-034d-4a15-b28a-f4a71c40f001",
   "metadata": {},
   "outputs": [
    {
     "name": "stdout",
     "output_type": "stream",
     "text": [
      "[2, 1, 2, 3, 4, 2, 3, 2, [2, 1]]\n",
      "4\n",
      "1\n"
     ]
    }
   ],
   "source": [
    "nums = [2,1,2,3,4,2,3,2]\n",
    "nums.append([2,1])\n",
    "print(nums)\n",
    "print(nums.count(2))\n",
    "print(nums.count([2,1]))"
   ]
  },
  {
   "cell_type": "markdown",
   "id": "f0a538af-6c92-41af-9266-e39a3950c40f",
   "metadata": {},
   "source": [
    "#### 3.2.2 获取元素下标:list.index(value)"
   ]
  },
  {
   "cell_type": "code",
   "execution_count": 91,
   "id": "edfe3fe4-79fc-45c1-8dea-65122769b315",
   "metadata": {},
   "outputs": [
    {
     "name": "stdout",
     "output_type": "stream",
     "text": [
      "1\n",
      "3\n"
     ]
    }
   ],
   "source": [
    "# 重复元素返回第一次出现的下标\n",
    "nums = [2,1,2,3,4,2,3,2]\n",
    "print(nums.index(1))\n",
    "print(nums.index(3))"
   ]
  },
  {
   "cell_type": "code",
   "execution_count": 93,
   "id": "bff25709-947c-4642-b68b-982de237b209",
   "metadata": {},
   "outputs": [
    {
     "ename": "ValueError",
     "evalue": "5 is not in list",
     "output_type": "error",
     "traceback": [
      "\u001b[0;31m---------------------------------------------------------------------------\u001b[0m",
      "\u001b[0;31mValueError\u001b[0m                                Traceback (most recent call last)",
      "Cell \u001b[0;32mIn[93], line 3\u001b[0m\n\u001b[1;32m      1\u001b[0m \u001b[38;5;66;03m# 元素不存在时，报错\u001b[39;00m\n\u001b[1;32m      2\u001b[0m nums \u001b[38;5;241m=\u001b[39m [\u001b[38;5;241m2\u001b[39m,\u001b[38;5;241m1\u001b[39m,\u001b[38;5;241m2\u001b[39m,\u001b[38;5;241m3\u001b[39m,\u001b[38;5;241m4\u001b[39m,\u001b[38;5;241m2\u001b[39m,\u001b[38;5;241m3\u001b[39m,\u001b[38;5;241m2\u001b[39m]\n\u001b[0;32m----> 3\u001b[0m \u001b[38;5;28mprint\u001b[39m(\u001b[43mnums\u001b[49m\u001b[38;5;241;43m.\u001b[39;49m\u001b[43mindex\u001b[49m\u001b[43m(\u001b[49m\u001b[38;5;241;43m5\u001b[39;49m\u001b[43m)\u001b[49m)\n",
      "\u001b[0;31mValueError\u001b[0m: 5 is not in list"
     ]
    }
   ],
   "source": [
    "# 元素不存在时，报错\n",
    "nums = [2,1,2,3,4,2,3,2]\n",
    "print(nums.index(5))"
   ]
  },
  {
   "cell_type": "markdown",
   "id": "06e87056-fe9d-401a-a11f-450507014870",
   "metadata": {},
   "source": [
    "#### 3.2.3 颠倒元素顺序：reverse()"
   ]
  },
  {
   "cell_type": "code",
   "execution_count": 94,
   "id": "504d8032-b2bc-4802-ad19-1a69f1e0cd3f",
   "metadata": {},
   "outputs": [
    {
     "name": "stdout",
     "output_type": "stream",
     "text": [
      "[2, 1, 2, 3, 4, 2, 3, 2]\n",
      "[2, 3, 2, 4, 3, 2, 1, 2]\n"
     ]
    }
   ],
   "source": [
    "nums = [2,1,2,3,4,2,3,2]\n",
    "print(nums)\n",
    "nums.reverse()\n",
    "print(nums)"
   ]
  },
  {
   "cell_type": "markdown",
   "id": "dacf6fa7-bd1a-408d-a288-659586ed13ec",
   "metadata": {},
   "source": [
    "#### 3.2.4 元素大小排序：sort()"
   ]
  },
  {
   "cell_type": "code",
   "execution_count": 123,
   "id": "9c9bda25-d4ff-4a5e-ac2f-2b1df6925c0a",
   "metadata": {},
   "outputs": [
    {
     "name": "stdout",
     "output_type": "stream",
     "text": [
      "[2, 1, 6, 3, 4, 7, 3, 9]\n",
      "[1, 2, 3, 3, 4, 6, 7, 9]\n"
     ]
    }
   ],
   "source": [
    "# 1. 默认从小到大\n",
    "nums = [2,1,6,3,4,7,3,9]\n",
    "print(nums)\n",
    "nums.sort() \n",
    "print(nums)"
   ]
  },
  {
   "cell_type": "code",
   "execution_count": 124,
   "id": "4263ab9e-9a41-4528-a59c-6893e99de6d3",
   "metadata": {},
   "outputs": [
    {
     "name": "stdout",
     "output_type": "stream",
     "text": [
      "[2, 1, 6, 3, 4, 7, 3, 9]\n",
      "[9, 7, 6, 4, 3, 3, 2, 1]\n"
     ]
    }
   ],
   "source": [
    "# 2. reverse = True表示从大到小\n",
    "nums = [2,1,6,3,4,7,3,9]\n",
    "print(nums)\n",
    "nums.sort(reverse = True) \n",
    "print(nums)"
   ]
  },
  {
   "cell_type": "code",
   "execution_count": 125,
   "id": "c32aca65-c8bb-4798-9997-c66aecb76659",
   "metadata": {},
   "outputs": [
    {
     "name": "stdout",
     "output_type": "stream",
     "text": [
      "['cat', 2, 1, 'ant', 6, 3, 4, 'dog', 7, 3, 9]\n"
     ]
    },
    {
     "ename": "TypeError",
     "evalue": "'<' not supported between instances of 'int' and 'str'",
     "output_type": "error",
     "traceback": [
      "\u001b[0;31m---------------------------------------------------------------------------\u001b[0m",
      "\u001b[0;31mTypeError\u001b[0m                                 Traceback (most recent call last)",
      "Cell \u001b[0;32mIn[125], line 4\u001b[0m\n\u001b[1;32m      2\u001b[0m nums \u001b[38;5;241m=\u001b[39m [\u001b[38;5;124m'\u001b[39m\u001b[38;5;124mcat\u001b[39m\u001b[38;5;124m'\u001b[39m,\u001b[38;5;241m2\u001b[39m,\u001b[38;5;241m1\u001b[39m,\u001b[38;5;124m'\u001b[39m\u001b[38;5;124mant\u001b[39m\u001b[38;5;124m'\u001b[39m,\u001b[38;5;241m6\u001b[39m,\u001b[38;5;241m3\u001b[39m,\u001b[38;5;241m4\u001b[39m,\u001b[38;5;124m'\u001b[39m\u001b[38;5;124mdog\u001b[39m\u001b[38;5;124m'\u001b[39m,\u001b[38;5;241m7\u001b[39m,\u001b[38;5;241m3\u001b[39m,\u001b[38;5;241m9\u001b[39m]\n\u001b[1;32m      3\u001b[0m \u001b[38;5;28mprint\u001b[39m(nums)\n\u001b[0;32m----> 4\u001b[0m \u001b[43mnums\u001b[49m\u001b[38;5;241;43m.\u001b[39;49m\u001b[43msort\u001b[49m\u001b[43m(\u001b[49m\u001b[43m)\u001b[49m \n\u001b[1;32m      5\u001b[0m \u001b[38;5;28mprint\u001b[39m(nums)\n",
      "\u001b[0;31mTypeError\u001b[0m: '<' not supported between instances of 'int' and 'str'"
     ]
    }
   ],
   "source": [
    "# 3. 混杂元素不支持排序\n",
    "nums = ['cat',2,1,'ant',6,3,4,'dog',7,3,9]\n",
    "print(nums)\n",
    "nums.sort() \n",
    "print(nums)"
   ]
  },
  {
   "cell_type": "code",
   "execution_count": 126,
   "id": "45ae7824-69f6-4c6a-8be3-e1c66ef27557",
   "metadata": {},
   "outputs": [
    {
     "name": "stdout",
     "output_type": "stream",
     "text": [
      "['cat', 'ant', 'dog', 'abt', 'dag']\n",
      "['abt', 'ant', 'cat', 'dag', 'dog']\n",
      "['dog', 'dag', 'cat', 'ant', 'abt']\n"
     ]
    }
   ],
   "source": [
    "nums = ['cat','ant','dog','abt','dag']\n",
    "print(nums)\n",
    "# 4. 字符串按字典序比较大小\n",
    "nums.sort() \n",
    "print(nums)\n",
    "nums.sort(reverse=True) \n",
    "print(nums)"
   ]
  },
  {
   "cell_type": "markdown",
   "id": "2768a6ce-c283-4fe0-abe8-d16fc4305b30",
   "metadata": {},
   "source": [
    "#### 3.2.5 连接元素：join()"
   ]
  },
  {
   "cell_type": "code",
   "execution_count": 109,
   "id": "3592f132-778b-4fac-92b0-a0a96ab69a5c",
   "metadata": {},
   "outputs": [
    {
     "ename": "TypeError",
     "evalue": "sequence item 0: expected str instance, int found",
     "output_type": "error",
     "traceback": [
      "\u001b[0;31m---------------------------------------------------------------------------\u001b[0m",
      "\u001b[0;31mTypeError\u001b[0m                                 Traceback (most recent call last)",
      "Cell \u001b[0;32mIn[109], line 3\u001b[0m\n\u001b[1;32m      1\u001b[0m \u001b[38;5;66;03m# 使用join可将列表中所有元素连接成一个字符串\u001b[39;00m\n\u001b[1;32m      2\u001b[0m lst \u001b[38;5;241m=\u001b[39m [\u001b[38;5;241m1\u001b[39m,\u001b[38;5;241m2\u001b[39m,\u001b[38;5;241m3\u001b[39m,\u001b[38;5;241m4\u001b[39m,\u001b[38;5;241m5\u001b[39m,\u001b[38;5;124m'\u001b[39m\u001b[38;5;124mu\u001b[39m\u001b[38;5;124m'\u001b[39m,\u001b[38;5;124m'\u001b[39m\u001b[38;5;124msts\u001b[39m\u001b[38;5;124m'\u001b[39m]\n\u001b[0;32m----> 3\u001b[0m \u001b[38;5;124;43m'\u001b[39;49m\u001b[38;5;124;43m'\u001b[39;49m\u001b[38;5;241;43m.\u001b[39;49m\u001b[43mjoin\u001b[49m\u001b[43m(\u001b[49m\u001b[43mlst\u001b[49m\u001b[43m)\u001b[49m\n\u001b[1;32m      4\u001b[0m \u001b[38;5;28mprint\u001b[39m(lst)\n",
      "\u001b[0;31mTypeError\u001b[0m: sequence item 0: expected str instance, int found"
     ]
    }
   ],
   "source": [
    "# 使用join可将列表中所有元素连接成一个字符串，要求每个元素都是字符串，否则报错\n",
    "lst = [1,2,3,4,5,'u','sts']\n",
    "''.join(lst)\n",
    "print(lst)"
   ]
  },
  {
   "cell_type": "code",
   "execution_count": 113,
   "id": "e3481243-7b0b-4933-a335-26b467e4a9aa",
   "metadata": {},
   "outputs": [
    {
     "name": "stdout",
     "output_type": "stream",
     "text": [
      "['1', '2', 'u', 'sts']\n",
      "12usts\n",
      "1,2,u,sts\n"
     ]
    }
   ],
   "source": [
    "# str.join(list)中str是一个连接符，表示连接元素之间的符号\n",
    "# join不改变原列表\n",
    "lst = ['1','2','u','sts']\n",
    "ret1 = ''.join(lst)\n",
    "ret2 = ','.join(lst)\n",
    "print(lst)\n",
    "print(ret1)\n",
    "print(ret2)"
   ]
  },
  {
   "cell_type": "code",
   "execution_count": 114,
   "id": "b90f9598-3e80-44d7-99dc-8d82a9716c69",
   "metadata": {},
   "outputs": [
    {
     "name": "stdout",
     "output_type": "stream",
     "text": [
      "1,2,3,4,5,usts\n"
     ]
    }
   ],
   "source": [
    "# 若存在不为字符串的元素，想要join，需要先将每个元素转化为字符串\n",
    "nums = [1,2,3,4,5,'usts']\n",
    "strs = []\n",
    "for i in nums:\n",
    "    strs.append(str(i)) # str()能将元素转化为字符串\n",
    "ret = ','.join(strs)\n",
    "print(ret)"
   ]
  },
  {
   "cell_type": "markdown",
   "id": "0afb2a80-2f53-46a4-944d-3afc5b455390",
   "metadata": {},
   "source": [
    "#### 3.2.6 合并列表：extend()"
   ]
  },
  {
   "cell_type": "code",
   "execution_count": 116,
   "id": "ff661eed-c067-4946-8a78-28cc35649f8b",
   "metadata": {},
   "outputs": [
    {
     "name": "stdout",
     "output_type": "stream",
     "text": [
      "[1, 2, 'usts', 3, 4, 'edu']\n",
      "[3, 4, 'edu']\n"
     ]
    }
   ],
   "source": [
    "# A.extend(B)\n",
    "nums1 = [1,2,'usts']\n",
    "nums2 = [3,4,'edu']\n",
    "nums1.extend(nums2) # nums1改变了，nums2没变\n",
    "print(nums1)\n",
    "print(nums2)"
   ]
  },
  {
   "cell_type": "code",
   "execution_count": 118,
   "id": "38762290-85e0-4379-ae40-183e05a8aef8",
   "metadata": {},
   "outputs": [
    {
     "name": "stdout",
     "output_type": "stream",
     "text": [
      "[1, 2, 'usts', 3, 4, 'edu']\n",
      "[1, 2, 'usts']\n",
      "[3, 4, 'edu']\n"
     ]
    }
   ],
   "source": [
    "# A + B：A与 B都不会改变\n",
    "nums1 = [1,2,'usts']\n",
    "nums2 = [3,4,'edu']\n",
    "print(nums1 + nums2) # nums1和nums2都不变\n",
    "print(nums1)\n",
    "print(nums2)"
   ]
  },
  {
   "cell_type": "markdown",
   "id": "e4822f6f-af4f-4b48-8650-5c273a1fafe1",
   "metadata": {},
   "source": [
    "#### 3.2.7 清空列表：clear()"
   ]
  },
  {
   "cell_type": "code",
   "execution_count": 119,
   "id": "0241444f-961d-4419-a68d-1773582614ad",
   "metadata": {},
   "outputs": [
    {
     "name": "stdout",
     "output_type": "stream",
     "text": [
      "[1, 2, 'usts']\n",
      "[]\n"
     ]
    }
   ],
   "source": [
    "nums1 = [1,2,'usts']\n",
    "print(nums1)\n",
    "nums1.clear()\n",
    "print(nums1)"
   ]
  },
  {
   "cell_type": "code",
   "execution_count": 120,
   "id": "0fcc76f1-0b5f-4ca2-865f-78548d5ab72b",
   "metadata": {},
   "outputs": [
    {
     "name": "stdout",
     "output_type": "stream",
     "text": [
      "[1, 2, 'usts']\n",
      "[]\n"
     ]
    }
   ],
   "source": [
    "nums1 = [1,2,'usts']\n",
    "print(nums1)\n",
    "nums1 = []\n",
    "print(nums1)"
   ]
  },
  {
   "cell_type": "markdown",
   "id": "013490af-320a-4ee3-a31f-a091c239b0b8",
   "metadata": {},
   "source": [
    "### 3.3 列表切片"
   ]
  },
  {
   "cell_type": "markdown",
   "id": "61002dea-f4ab-49d4-b846-6adbdc509863",
   "metadata": {},
   "source": [
    "#### 所谓切片，就是获取列表一部分的方法： list[m:n]"
   ]
  },
  {
   "cell_type": "markdown",
   "id": "1f1dddf2-3d5e-4c72-b378-3eb30f78aa26",
   "metadata": {},
   "source": [
    "* m为开始的下标，n为结束的下标；\n",
    "* m和n可正可负，但n必须大于m\n",
    "* 截取范围为[m,n)，即包含m不包含n"
   ]
  },
  {
   "cell_type": "markdown",
   "id": "62c3a8e6-9c7a-4b91-985c-9781cbc2f7b1",
   "metadata": {},
   "source": [
    "#### 3.3.1 正数下标"
   ]
  },
  {
   "cell_type": "code",
   "execution_count": 131,
   "id": "0d1b30e6-0e2c-4dc8-92e9-af14c64c4d35",
   "metadata": {},
   "outputs": [
    {
     "name": "stdout",
     "output_type": "stream",
     "text": [
      "['cat', 2, 1]\n",
      "[1, 'ant', 6]\n",
      "[]\n",
      "[]\n"
     ]
    }
   ],
   "source": [
    "nums = ['cat',2,1,'ant',6,3,4,'dog',7,3,9]\n",
    "print(nums[0:3])\n",
    "print(nums[2:5])\n",
    "print(nums[3:0]) # n必须大于m\n",
    "print(nums[-1:1])"
   ]
  },
  {
   "cell_type": "markdown",
   "id": "c1450ecd-6349-49e2-b438-279b29828881",
   "metadata": {},
   "source": [
    "#### 3.3.2 负数下标"
   ]
  },
  {
   "cell_type": "code",
   "execution_count": 132,
   "id": "c47b5a0c-96c9-4326-b6d5-edf6ff2a0de7",
   "metadata": {},
   "outputs": [
    {
     "name": "stdout",
     "output_type": "stream",
     "text": [
      "[7, 3]\n",
      "[4, 'dog', 7]\n"
     ]
    }
   ],
   "source": [
    "nums = ['cat',2,1,'ant',6,3,4,'dog',7,3,9]\n",
    "print(nums[-3:-1])\n",
    "print(nums[-5:-2])"
   ]
  },
  {
   "cell_type": "markdown",
   "id": "c2c8864a-d6b0-489c-a0f2-3363b6aeab6f",
   "metadata": {},
   "source": [
    "#### 3.3.3 list[m:]"
   ]
  },
  {
   "cell_type": "code",
   "execution_count": 134,
   "id": "b4f01f78-096b-411b-a345-5f8dc3a3b092",
   "metadata": {},
   "outputs": [
    {
     "name": "stdout",
     "output_type": "stream",
     "text": [
      "[7, 3, 9]\n",
      "[4, 'dog', 7, 3, 9]\n",
      "[2, 1, 'ant', 6, 3, 4, 'dog', 7, 3, 9]\n"
     ]
    }
   ],
   "source": [
    "nums = ['cat',2,1,'ant',6,3,4,'dog',7,3,9]\n",
    "print(nums[-3:])\n",
    "print(nums[-5:])\n",
    "print(nums[1:])"
   ]
  },
  {
   "cell_type": "markdown",
   "id": "43111565-0235-409a-8cfc-08ba7f1ee016",
   "metadata": {},
   "source": [
    "#### 3.3.4 list[:n]"
   ]
  },
  {
   "cell_type": "code",
   "execution_count": 137,
   "id": "65404183-a9ca-46fe-9071-8e540ad0a03c",
   "metadata": {},
   "outputs": [
    {
     "name": "stdout",
     "output_type": "stream",
     "text": [
      "['cat', 2, 1, 'ant', 6, 3, 4, 'dog']\n",
      "['cat', 2, 1, 'ant', 6, 3]\n",
      "['cat', 2, 1, 'ant', 6, 3, 4, 'dog', 7, 3]\n",
      "['cat', 2, 1]\n"
     ]
    }
   ],
   "source": [
    "nums = ['cat',2,1,'ant',6,3,4,'dog',7,3,9]\n",
    "print(nums[:-3])\n",
    "print(nums[:-5])\n",
    "print(nums[:-1])\n",
    "print(nums[:3])"
   ]
  },
  {
   "cell_type": "markdown",
   "id": "73892ad3-2c6c-4bc7-9160-46be71e49126",
   "metadata": {},
   "source": [
    "#### 3.3.5 list[:]: 返回列表本身"
   ]
  },
  {
   "cell_type": "code",
   "execution_count": 147,
   "id": "d0caf2bc-841a-42d0-82e5-e73378dd497d",
   "metadata": {},
   "outputs": [
    {
     "name": "stdout",
     "output_type": "stream",
     "text": [
      "['cat', 2, 1, 'ant', 6, 3, 4, 'dog', 7, 3, 9]\n"
     ]
    }
   ],
   "source": [
    "nums = ['cat',2,1,'ant',6,3,4,'dog',7,3,9]\n",
    "print(nums[:])"
   ]
  },
  {
   "cell_type": "markdown",
   "id": "ff13448b-4929-4026-ad23-9b3418d907f9",
   "metadata": {},
   "source": [
    "#### 3.3.6 list[::step]"
   ]
  },
  {
   "cell_type": "code",
   "execution_count": 149,
   "id": "988b494e-8665-4efb-b51c-e6f2747d37f6",
   "metadata": {},
   "outputs": [
    {
     "name": "stdout",
     "output_type": "stream",
     "text": [
      "['cat', 2, 1, 'ant', 6]\n"
     ]
    }
   ],
   "source": [
    "nums = ['cat',2,1,'ant',6,3,4,'dog',7,3,9]\n",
    "print(nums[0:5:1])"
   ]
  },
  {
   "cell_type": "code",
   "execution_count": 150,
   "id": "312e20f4-52b9-42b0-9630-d235e0f492fc",
   "metadata": {},
   "outputs": [
    {
     "name": "stdout",
     "output_type": "stream",
     "text": [
      "[]\n"
     ]
    }
   ],
   "source": [
    "nums = ['cat',2,1,'ant',6,3,4,'dog',7,3,9]\n",
    "print(nums[0:5:-1])"
   ]
  },
  {
   "cell_type": "code",
   "execution_count": 163,
   "id": "7977086d-14c0-4e86-9b2e-ba65a2956c75",
   "metadata": {},
   "outputs": [
    {
     "name": "stdout",
     "output_type": "stream",
     "text": [
      "[3, 'ant']\n"
     ]
    }
   ],
   "source": [
    "nums = ['cat',2,1,'ant',6,3,4,'dog',7,3,9]\n",
    "print(nums[5:1:-2])"
   ]
  },
  {
   "cell_type": "code",
   "execution_count": 154,
   "id": "0c9a6ec5-665b-4bbc-bfa3-d0d2ac088d4c",
   "metadata": {},
   "outputs": [
    {
     "name": "stdout",
     "output_type": "stream",
     "text": [
      "[9, 3, 7, 'dog', 4, 3, 6, 'ant', 1, 2, 'cat']\n"
     ]
    }
   ],
   "source": [
    "nums = ['cat',2,1,'ant',6,3,4,'dog',7,3,9]\n",
    "print(nums[10::-1])"
   ]
  },
  {
   "cell_type": "code",
   "execution_count": 161,
   "id": "34b17e96-0223-40b1-84f7-351ff70ec0d0",
   "metadata": {},
   "outputs": [
    {
     "name": "stdout",
     "output_type": "stream",
     "text": [
      "['cat', 2, 1, 'ant', 6, 3, 4, 'dog', 7, 3, 9]\n"
     ]
    }
   ],
   "source": [
    "nums = ['cat',2,1,'ant',6,3,4,'dog',7,3,9]\n",
    "print(nums[0::1])"
   ]
  },
  {
   "cell_type": "code",
   "execution_count": null,
   "id": "10a34e63-524a-444a-8594-22768e0efc58",
   "metadata": {},
   "outputs": [],
   "source": []
  }
 ],
 "metadata": {
  "kernelspec": {
   "display_name": "Python 3 (ipykernel)",
   "language": "python",
   "name": "python3"
  },
  "language_info": {
   "codemirror_mode": {
    "name": "ipython",
    "version": 3
   },
   "file_extension": ".py",
   "mimetype": "text/x-python",
   "name": "python",
   "nbconvert_exporter": "python",
   "pygments_lexer": "ipython3",
   "version": "3.9.1"
  }
 },
 "nbformat": 4,
 "nbformat_minor": 5
}
