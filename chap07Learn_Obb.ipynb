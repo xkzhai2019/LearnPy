{
 "cells": [
  {
   "cell_type": "markdown",
   "id": "24226fd2-1a73-46fb-984f-ae17b364d6cd",
   "metadata": {},
   "source": [
    "## 7. 类与对象"
   ]
  },
  {
   "cell_type": "markdown",
   "id": "a6904c6e-4510-41ed-a457-c363f2457da6",
   "metadata": {},
   "source": [
    "### 7.1 创建对象"
   ]
  },
  {
   "cell_type": "markdown",
   "id": "a1cce189-d71c-44c0-a76e-5778c29a8b41",
   "metadata": {},
   "source": [
    "##### 要创建一个对象，首先要定义一个类，使用class关键字来定义一个类"
   ]
  },
  {
   "cell_type": "raw",
   "id": "6e7b2fca-222f-4f69-9d15-2b3a4990fcbc",
   "metadata": {},
   "source": [
    "class 类名：\n",
    "    属性名 = 值\n",
    "    def 方法名(self):\n",
    "        ..."
   ]
  },
  {
   "cell_type": "code",
   "execution_count": 5,
   "id": "fa84ee39-1201-438c-80b4-bd52b307e674",
   "metadata": {},
   "outputs": [],
   "source": [
    "# 定义一个英雄类\n",
    "class Hero: # 类名采用“大驼峰命名法”\n",
    "    name = \"船长\"\n",
    "    type = \"力量型\"\n",
    "    def skill(self):\n",
    "        print(\"放大招\")"
   ]
  },
  {
   "cell_type": "code",
   "execution_count": 6,
   "id": "ead65602-a5cd-41f6-a09d-54f2817ae697",
   "metadata": {},
   "outputs": [
    {
     "name": "stdout",
     "output_type": "stream",
     "text": [
      "船长\n",
      "力量型\n",
      "放大招\n"
     ]
    }
   ],
   "source": [
    "# 实例化对象\n",
    "h = Hero()\n",
    "# 通过点运算符(.)来获取对象属性\n",
    "print(h.name)\n",
    "print(h.type)\n",
    "# 通过点运算符(.)执行对象的方法\n",
    "h.skill()"
   ]
  },
  {
   "cell_type": "markdown",
   "id": "57c50c37-d1c2-4ce1-98a5-b4a9d10ab671",
   "metadata": {},
   "source": [
    "### 7.2 构造函数：\\_\\_init\\_\\_()"
   ]
  },
  {
   "cell_type": "code",
   "execution_count": 8,
   "id": "7e68bebf-6ed3-4f2a-a47b-3f9fed7aa080",
   "metadata": {},
   "outputs": [
    {
     "name": "stdout",
     "output_type": "stream",
     "text": [
      "name:船长, type: 力量型\n",
      "name:船长, type: 力量型\n"
     ]
    }
   ],
   "source": [
    "# 定义一个英雄类\n",
    "class Hero: # 类名采用“大驼峰命名法”\n",
    "    name = \"船长\"\n",
    "    type = \"力量型\"\n",
    "    def skill(self):\n",
    "        print(\"放大招\")\n",
    "\n",
    "# 实例化第一个对象\n",
    "h1 = Hero()\n",
    "print(f'name:{h1.name}, type: {h1.type}')\n",
    "\n",
    "# 实例化第二个对象\n",
    "h2 = Hero()\n",
    "print(f'name:{h2.name}, type: {h2.type}')"
   ]
  },
  {
   "cell_type": "raw",
   "id": "01ffc344-d6f2-436a-9f7b-06ceb99e35a9",
   "metadata": {},
   "source": [
    "# 使用\"__init__()\"这一构造函数为每个对象定义独特的属性:\n",
    "class 类名:\n",
    "    def __init__(self,A,B,C):\n",
    "        self.A = xxx\n",
    "        self.B = xxx\n",
    "        self.C = xxx"
   ]
  },
  {
   "cell_type": "code",
   "execution_count": 11,
   "id": "c5cb1f5e-327a-40e6-b74f-56657a36a0af",
   "metadata": {},
   "outputs": [
    {
     "name": "stdout",
     "output_type": "stream",
     "text": [
      "name:船长, type: 力量型\n",
      "name:先知, type: 智慧型\n"
     ]
    }
   ],
   "source": [
    "# 构造函数的作用在于：接收不同的参数，生成不同的对象\n",
    "class Hero: # 类名采用“大驼峰命名法”\n",
    "    def __init__(self,name,type):\n",
    "        self.name = name\n",
    "        self.type = type\n",
    "    def skill(self):\n",
    "        print(\"放大招\")\n",
    "\n",
    "# 实例化第一个对象\n",
    "h1 = Hero('船长','力量型') # 在创建对象时，自动调用“魔法方法”__init__()方法\n",
    "print(f'name:{h1.name}, type: {h1.type}')\n",
    "\n",
    "# 实例化第二个对象\n",
    "h2 = Hero('先知','智慧型')\n",
    "print(f'name:{h2.name}, type: {h2.type}')"
   ]
  },
  {
   "cell_type": "markdown",
   "id": "ab373829-a0e8-4425-86b0-1f40623a7dea",
   "metadata": {},
   "source": [
    "### 7.3 类属性和实例属性"
   ]
  },
  {
   "cell_type": "markdown",
   "id": "e28901ea-8cfd-4154-9299-a5c7b075c6b6",
   "metadata": {},
   "source": [
    "#### 7.3.1 类属性"
   ]
  },
  {
   "cell_type": "code",
   "execution_count": 19,
   "id": "a1256a0e-0f5d-4d21-9eda-1105adbf716f",
   "metadata": {},
   "outputs": [
    {
     "name": "stdout",
     "output_type": "stream",
     "text": [
      "DOTA hero\n",
      "DOTA hero\n",
      "DOTA hero\n"
     ]
    }
   ],
   "source": [
    "# 类属性：在class中定义的属性\n",
    "# 实例属性：__init__()中使用self定义的属性\n",
    "class Hero: # 类名采用“大驼峰命名法”\n",
    "    title = \"DOTA hero\"\n",
    "    def __init__(self,name,type):\n",
    "        self.name = name\n",
    "        self.type = type\n",
    "    def skill(self):\n",
    "        print(\"放大招\")\n",
    "\n",
    "# 实例化第一个对象\n",
    "h1 = Hero('船长','力量型') # 在创建对象时，自动调用“魔法方法”__init__()方法\n",
    "# 实例化第二个对象\n",
    "h2 = Hero('先知','智慧型')\n",
    "print(h1.title)\n",
    "print(h2.title)\n",
    "print(Hero.title) # 类属性的规范方法方式是用Hero.title这种方式"
   ]
  },
  {
   "cell_type": "markdown",
   "id": "1dd4374f-54cd-4d63-a7b8-39999cea12bf",
   "metadata": {},
   "source": [
    "#### 7.3.2 类属性与实例属性同名"
   ]
  },
  {
   "cell_type": "code",
   "execution_count": 16,
   "id": "ab110983-c177-4f52-9816-b7130b6270da",
   "metadata": {},
   "outputs": [
    {
     "name": "stdout",
     "output_type": "stream",
     "text": [
      "船长\n",
      "先知\n",
      "DOTA hero\n"
     ]
    }
   ],
   "source": [
    "# 类属性与实例属性不要使用相同的名字，否则实例属性会覆盖类属性\n",
    "class Hero: # 类名采用“大驼峰命名法”\n",
    "    name = \"DOTA hero\"\n",
    "    def __init__(self,name,type):\n",
    "        self.name = name\n",
    "        self.type = type\n",
    "    def skill(self):\n",
    "        print(\"放大招\")\n",
    "\n",
    "# 实例化第一个对象\n",
    "h1 = Hero('船长','力量型') # 在创建对象时，自动调用“魔法方法”__init__()方法\n",
    "# 实例化第二个对象\n",
    "h2 = Hero('先知','智慧型')\n",
    "print(h1.name)\n",
    "print(h2.name)\n",
    "print(Hero.name) # 类属性的规范方法方式是用Hero.title这种方式"
   ]
  },
  {
   "cell_type": "markdown",
   "id": "3a918f66-b3f5-4b07-b5c2-8852d9ca054b",
   "metadata": {},
   "source": [
    "#### 7.3.3 在实例方法中访问类属性"
   ]
  },
  {
   "cell_type": "code",
   "execution_count": 22,
   "id": "39af8054-d45b-4804-b02b-984e6efee1a9",
   "metadata": {},
   "outputs": [
    {
     "name": "stdout",
     "output_type": "stream",
     "text": [
      "放大招\n",
      "DOTA hero\n",
      "DOTA hero\n"
     ]
    }
   ],
   "source": [
    "class Hero: \n",
    "    title = \"DOTA hero\"\n",
    "    def __init__(self,name,type):\n",
    "        self.name = name\n",
    "        self.type = type\n",
    "    def skill(self):\n",
    "        print(\"放大招\")\n",
    "        print(self.__class__.title)\n",
    "        print(Hero.title)\n",
    "h1 = Hero('船长','力量型')\n",
    "h1.skill()"
   ]
  },
  {
   "cell_type": "code",
   "execution_count": 28,
   "id": "631d3280-a5d4-4df3-aa9a-7dd38899111a",
   "metadata": {},
   "outputs": [
    {
     "name": "stdout",
     "output_type": "stream",
     "text": [
      "2\n"
     ]
    }
   ],
   "source": [
    "# 利用类属性统计实例个数：所有实例共享一个属性\n",
    "class Hero: # 类名采用“大驼峰命名法”\n",
    "    count = 0\n",
    "    def __init__(self,name,type):\n",
    "        self.name = name\n",
    "        self.type = type\n",
    "        self.__class__.count += 1\n",
    "# 实例化第一个对象\n",
    "h1 = Hero('船长','力量型') # 在创建对象时，自动调用“魔法方法”__init__()方法\n",
    "# 实例化第二个对象\n",
    "h2 = Hero('先知','智慧型') \n",
    "print(Hero.count)"
   ]
  },
  {
   "cell_type": "markdown",
   "id": "20c5acb4-46f7-4bea-934d-5ac4e30b216e",
   "metadata": {},
   "source": [
    "### 7.4 类方法和实例方法"
   ]
  },
  {
   "cell_type": "raw",
   "id": "c1747204-ad94-4b70-b010-c3bbc164ffd4",
   "metadata": {},
   "source": [
    "# 使用@classmethod关键字来定义类方法\n",
    "@classmethod\n",
    "def 方法名(cls):\n",
    "    ..."
   ]
  },
  {
   "cell_type": "code",
   "execution_count": 42,
   "id": "6e3fbbaf-f17c-40f4-aaf7-050cd43e69b8",
   "metadata": {},
   "outputs": [
    {
     "name": "stdout",
     "output_type": "stream",
     "text": [
      "船长 放大招啦！\n",
      "1\n"
     ]
    }
   ],
   "source": [
    "class Hero: # 类名采用“大驼峰命名法”\n",
    "    count = 0\n",
    "    def __init__(self,name,type):\n",
    "        self.name = name\n",
    "        self.type = type\n",
    "    # 定义实例方法\n",
    "    def skill(self):\n",
    "        print(f'{self.name} 放大招啦！')\n",
    "    # 定义类方法，访问类属性\n",
    "    @classmethod\n",
    "    def getcount(cls): \n",
    "        cls.count += 1\n",
    "        print(cls.count)\n",
    "h1 = Hero('船长','力量型')\n",
    "h1.skill()\n",
    "Hero.getcount()"
   ]
  },
  {
   "cell_type": "code",
   "execution_count": 45,
   "id": "51b7b6c3-15a2-4480-ac8c-3b784d062357",
   "metadata": {},
   "outputs": [
    {
     "name": "stdout",
     "output_type": "stream",
     "text": [
      "先知 放大招啦！\n",
      "6\n",
      "7\n"
     ]
    }
   ],
   "source": [
    "h2 = Hero('先知','智力型')\n",
    "h2.skill()\n",
    "h1.getcount() # 对象调用类方法\n",
    "Hero.getcount() # 类名嗲用类方法"
   ]
  },
  {
   "cell_type": "markdown",
   "id": "3768ad6e-2f04-4017-9672-eeb3d4f8116e",
   "metadata": {},
   "source": [
    "### 7.5 静态方法"
   ]
  },
  {
   "cell_type": "raw",
   "id": "16b24a5f-db74-4b6c-bdca-797b09cbfdf5",
   "metadata": {},
   "source": [
    "# 使用@staticmethod关键字来定义静态方法\n",
    "@staticmethod\n",
    "def 方法名():\n",
    "    ..."
   ]
  },
  {
   "cell_type": "code",
   "execution_count": 49,
   "id": "be20b3c3-a5d2-45ef-8a9b-6ea01693cf12",
   "metadata": {},
   "outputs": [
    {
     "name": "stdout",
     "output_type": "stream",
     "text": [
      "3\n",
      "5\n"
     ]
    }
   ],
   "source": [
    "class Hero: # 类名采用“大驼峰命名法”\n",
    "    count = 0\n",
    "    def __init__(self,name,type):\n",
    "        self.name = name\n",
    "        self.type = type\n",
    "    \n",
    "    # 定义实例方法\n",
    "    def skill(self):\n",
    "        print(f'{self.name} 放大招啦！')\n",
    "    \n",
    "    # 定义类方法，访问类属性\n",
    "    @classmethod\n",
    "    def getcount(cls): \n",
    "        cls.count += 1\n",
    "        print(cls.count)\n",
    "\n",
    "    # 定义静态方法:无法访问实例属性，一般也不会和类进行交互，不常用\n",
    "    @staticmethod\n",
    "    def add(x,y):\n",
    "        print(x + y)\n",
    "        # print(self.name)\n",
    "\n",
    "h1 = Hero('船长','力量型')\n",
    "# 调用静态方法\n",
    "h1.add(1,2)\n",
    "Hero.add(2,3)"
   ]
  },
  {
   "cell_type": "markdown",
   "id": "bfc523c5-aaf6-4f67-9627-5e9b457145a0",
   "metadata": {},
   "source": [
    "### 7.6 继承"
   ]
  },
  {
   "cell_type": "raw",
   "id": "de72a616-e9c4-4fb2-8b2f-553cb6f9fdc5",
   "metadata": {},
   "source": [
    "class 子类名(父类名):\n",
    "    ..."
   ]
  },
  {
   "cell_type": "code",
   "execution_count": 61,
   "id": "c1d4dd6c-7dcb-4266-aedb-ae3323c207f8",
   "metadata": {},
   "outputs": [
    {
     "name": "stdout",
     "output_type": "stream",
     "text": [
      "调用了Student构造\n",
      "human\n",
      "Student\n",
      "walking\n"
     ]
    }
   ],
   "source": [
    "# 父类\n",
    "class Person:\n",
    "    type = 'human' # 类属性\n",
    "    def __init__(self,name,age):\n",
    "        self.name = name\n",
    "        self.age = age\n",
    "        print(\"调用了Person构造\")\n",
    "    def walk(self): # 实例方法\n",
    "        print('walking')\n",
    "\n",
    "# 子类\n",
    "class Student(Person):\n",
    "    def __init__(self,name,age):\n",
    "        self.name = name\n",
    "        self.age =age\n",
    "        print(\"调用了Student构造\")\n",
    "    def getname(self):\n",
    "        print(self.name)\n",
    "\n",
    "# 实例化对象\n",
    "s = Student('Jack',19)\n",
    "# 子类对象调用父类的type属性和walk()方法\n",
    "print(s.type) \n",
    "s.type = 'Student'\n",
    "print(s.type)\n",
    "s.walk()"
   ]
  },
  {
   "cell_type": "code",
   "execution_count": 67,
   "id": "69a73035-d529-408d-bde2-d1bf4bced61e",
   "metadata": {},
   "outputs": [
    {
     "name": "stdout",
     "output_type": "stream",
     "text": [
      "human\n",
      "walking\n",
      "Jack\n",
      "human\n",
      "walking\n",
      "Mr. Lincoin\n"
     ]
    }
   ],
   "source": [
    "## 多个类继承同一个父类\n",
    "# 父类\n",
    "class Person:\n",
    "    type = 'human' # 类属性\n",
    "    def walk(self): # 实例方法\n",
    "        print('walking')\n",
    "\n",
    "# 子类1\n",
    "class Student(Person):\n",
    "    def __init__(self,name,age):\n",
    "        self.name = name\n",
    "        self.age =age\n",
    "    def getname(self):\n",
    "        print(self.name)\n",
    "\n",
    "# 子类2\n",
    "class Teacher(Person):\n",
    "    def __init__(self,name,course):\n",
    "        self.name = name\n",
    "        self.course = course\n",
    "    def getname(self):\n",
    "        print(self.name)\n",
    "\n",
    "# Student实例化\n",
    "s = Student('Jack',18)\n",
    "print(s.type)\n",
    "s.walk()\n",
    "s.getname()\n",
    "\n",
    "# Teacher实例化\n",
    "t = Teacher('Mr. Lincoin',40)\n",
    "print(t.type)\n",
    "t.walk()\n",
    "t.getname()"
   ]
  },
  {
   "cell_type": "markdown",
   "id": "198df026-dcae-48a5-a629-b724a321c3ff",
   "metadata": {},
   "source": [
    "### 7.7 练习 "
   ]
  },
  {
   "cell_type": "markdown",
   "id": "d44e20e4-ee69-454d-8120-acb131a6d2a8",
   "metadata": {},
   "source": [
    "#### 7.7.1 封装一个矩形类"
   ]
  },
  {
   "cell_type": "markdown",
   "id": "611b19bf-3ebb-4b17-8d0d-758366108159",
   "metadata": {},
   "source": [
    "定义一个矩形类Rect，它的实例有两个属性：width、height，还有两个方法：get_girth()获取周长，get_area()获取矩形面积"
   ]
  },
  {
   "cell_type": "code",
   "execution_count": 69,
   "id": "1ecf3326-beaf-4efe-9884-c3f98c075aaf",
   "metadata": {},
   "outputs": [
    {
     "name": "stdout",
     "output_type": "stream",
     "text": [
      "60\n",
      "200\n"
     ]
    }
   ],
   "source": [
    "class Rect:\n",
    "    def __init__(self,width,height):\n",
    "        self.width = width\n",
    "        self.height = height\n",
    "    def get_girth(self):\n",
    "        return 2*(self.width + self.height)\n",
    "    def get_area(self):\n",
    "        return self.width*self.height\n",
    "\n",
    "r1 = Rect(10,20)\n",
    "print(r1.get_girth())\n",
    "print(r1.get_area())"
   ]
  },
  {
   "cell_type": "markdown",
   "id": "2ce9fc97-d9ef-4f60-a6e5-e70cf5b9ec74",
   "metadata": {},
   "source": [
    "#### 7.7.2 封装一个银行账户类"
   ]
  },
  {
   "cell_type": "markdown",
   "id": "081fb4e2-45d5-4679-a8d2-c5e47206a9c4",
   "metadata": {},
   "source": [
    "定义一个银行账户类BankUser, 有两个实例属性：id和money，有3个实例方法：addmoney()、drawmoney()、getmoney()"
   ]
  },
  {
   "cell_type": "code",
   "execution_count": 72,
   "id": "dc4fe067-f19c-4674-8c80-ff716a7ff65f",
   "metadata": {},
   "outputs": [
    {
     "name": "stdout",
     "output_type": "stream",
     "text": [
      "1001号用户现有余额：10000\n",
      "1001号用户存入金额：1000，现有余额：11000\n",
      "1001号用户取出金额：2000，现有余额：9000\n"
     ]
    }
   ],
   "source": [
    "class BankUser:\n",
    "    def __init__(self,id,money):\n",
    "        self.id = id\n",
    "        self.money = money\n",
    "    def addmoney(self,num):\n",
    "        self.money += num\n",
    "    def drawmoney(self,num):\n",
    "        self.money -= num\n",
    "    def getmoney(self):\n",
    "        return self.money\n",
    "bank1 = BankUser('1001',10000)\n",
    "print(f'{bank1.id}号用户现有余额：{bank1.getmoney()}')\n",
    "bank1.addmoney(1000)\n",
    "print(f'{bank1.id}号用户存入金额：1000，现有余额：{bank1.getmoney()}')\n",
    "bank1.drawmoney(2000)\n",
    "print(f'{bank1.id}号用户取出金额：2000，现有余额：{bank1.getmoney()}')"
   ]
  }
 ],
 "metadata": {
  "kernelspec": {
   "display_name": "Python 3 (ipykernel)",
   "language": "python",
   "name": "python3"
  },
  "language_info": {
   "codemirror_mode": {
    "name": "ipython",
    "version": 3
   },
   "file_extension": ".py",
   "mimetype": "text/x-python",
   "name": "python",
   "nbconvert_exporter": "python",
   "pygments_lexer": "ipython3",
   "version": "3.9.1"
  }
 },
 "nbformat": 4,
 "nbformat_minor": 5
}
