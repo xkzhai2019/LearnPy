{
 "cells": [
  {
   "cell_type": "markdown",
   "id": "4451d5ed-56d4-4456-8f98-154b157a577b",
   "metadata": {},
   "source": [
    "## 5. 字典与集合"
   ]
  },
  {
   "cell_type": "markdown",
   "id": "1806b761-7aad-4d59-937a-d6c4f0fcde31",
   "metadata": {},
   "source": [
    "##### 仅靠序列（列表、元组、字符串）无法满足实际开发的需求，python提供了另外两种数据结构：字典和集合（映射和集合）"
   ]
  },
  {
   "cell_type": "markdown",
   "id": "27ce6d11-18a0-44e6-af54-65eebd872207",
   "metadata": {},
   "source": [
    "### 5.1 字典概述"
   ]
  },
  {
   "cell_type": "markdown",
   "id": "b04375b0-71b7-419a-b8ff-47ff9c5e12d2",
   "metadata": {},
   "source": [
    "##### 所谓字典，是由一对对的“键：值”组合而成，每个键与一个值相关联，用途包括：\n",
    "* 保存用户积分信息：键是用户昵称，值是积分\n",
    "* 保存商品售价：键是商品名，值是售价\n",
    "* 保存图书销售情况：键是书名，值是销量\n",
    "* 等等"
   ]
  },
  {
   "cell_type": "markdown",
   "id": "9d8db7d1-86aa-4c99-b5e2-988490a6edf8",
   "metadata": {},
   "source": [
    "#### 5.1.1 创建字典：使用大括号\"{}\""
   ]
  },
  {
   "cell_type": "markdown",
   "id": "1ca71194-fb31-4273-8c0a-dae364269308",
   "metadata": {},
   "source": [
    "##### 在python中，使用大括号“{}”来创建字典："
   ]
  },
  {
   "cell_type": "markdown",
   "id": "d76ee358-d594-4bb8-a4cf-8d41b62a3bc4",
   "metadata": {},
   "source": [
    "dictName = {key1:value1, key2:value2,..., keyN: valueN}"
   ]
  },
  {
   "cell_type": "markdown",
   "id": "9b192a82-a24e-4826-8eb6-47a41d971d49",
   "metadata": {},
   "source": [
    "键与值之间用英文冒号“：”分开，键值对之间用英文逗号“,”隔开：\n",
    "* 键必须是唯一的，字典中不能出现重复的键\n",
    "* 键必须是不可变的，可以使用数字、字符串或元组，不能使用列表\n",
    "* 值可以不唯一，可以是任意数据结构（包括数字、字符串、列表、元组、字典）"
   ]
  },
  {
   "cell_type": "code",
   "execution_count": 2,
   "id": "c6ef643a-0347-465c-8652-c3694be175f8",
   "metadata": {},
   "outputs": [
    {
     "name": "stdout",
     "output_type": "stream",
     "text": [
      "{}\n"
     ]
    }
   ],
   "source": [
    "# 空字典\n",
    "user = {}\n",
    "print(user)"
   ]
  },
  {
   "cell_type": "code",
   "execution_count": 5,
   "id": "31a784d3-ce30-48ae-a708-ee82bda43560",
   "metadata": {},
   "outputs": [
    {
     "name": "stdout",
     "output_type": "stream",
     "text": [
      "{'Jack': 1001, 'Yom': 1002, 'Tony': 1003}\n"
     ]
    }
   ],
   "source": [
    "# 创建包含3个键值对的字典\n",
    "user = {'Jack': 1001, 'Yom': 1002, 'Tony': 1003}\n",
    "print(user)"
   ]
  },
  {
   "cell_type": "code",
   "execution_count": 7,
   "id": "5c627ee0-de22-422f-bcc5-28ef14215fc0",
   "metadata": {},
   "outputs": [
    {
     "name": "stdout",
     "output_type": "stream",
     "text": [
      "{'Jack': 1002, 'Tony': 1003}\n"
     ]
    }
   ],
   "source": [
    "# 键不可以重复-------重复时，会使用最新的值来匹配\n",
    "user = {'Jack': 1001, 'Jack': 1002, 'Tony': 1003}\n",
    "print(user)"
   ]
  },
  {
   "cell_type": "code",
   "execution_count": 9,
   "id": "c7948e16-fc8c-4e14-a526-6e72607a0e4a",
   "metadata": {},
   "outputs": [
    {
     "ename": "TypeError",
     "evalue": "unhashable type: 'list'",
     "output_type": "error",
     "traceback": [
      "\u001b[0;31m---------------------------------------------------------------------------\u001b[0m",
      "\u001b[0;31mTypeError\u001b[0m                                 Traceback (most recent call last)",
      "Cell \u001b[0;32mIn[9], line 2\u001b[0m\n\u001b[1;32m      1\u001b[0m \u001b[38;5;66;03m# 键必须是不可变的----可变的列表，不能作为键\u001b[39;00m\n\u001b[0;32m----> 2\u001b[0m user \u001b[38;5;241m=\u001b[39m {[\u001b[38;5;241m1\u001b[39m,\u001b[38;5;241m2\u001b[39m]: \u001b[38;5;241m1001\u001b[39m, \u001b[38;5;124m'\u001b[39m\u001b[38;5;124mJack\u001b[39m\u001b[38;5;124m'\u001b[39m: \u001b[38;5;241m1002\u001b[39m, \u001b[38;5;124m'\u001b[39m\u001b[38;5;124mTony\u001b[39m\u001b[38;5;124m'\u001b[39m: \u001b[38;5;241m1003\u001b[39m}\n\u001b[1;32m      3\u001b[0m \u001b[38;5;28mprint\u001b[39m(user)\n",
      "\u001b[0;31mTypeError\u001b[0m: unhashable type: 'list'"
     ]
    }
   ],
   "source": [
    "# 键必须是不可变的----可变的列表，不能作为键\n",
    "user = {[1,2]: 1001, 'Jack': 1002, 'Tony': 1003}\n",
    "print(user)"
   ]
  },
  {
   "cell_type": "markdown",
   "id": "cabf7b11-f799-4656-940f-b62d4440bdfb",
   "metadata": {},
   "source": [
    "#### 5.1.2 获取某个键对应的值：dict[key]"
   ]
  },
  {
   "cell_type": "code",
   "execution_count": 3,
   "id": "3e136cc3-4577-455a-871c-4a8ec8b3e20b",
   "metadata": {},
   "outputs": [
    {
     "name": "stdout",
     "output_type": "stream",
     "text": [
      "1001\n"
     ]
    },
    {
     "ename": "KeyError",
     "evalue": "'Lucy'",
     "output_type": "error",
     "traceback": [
      "\u001b[0;31m---------------------------------------------------------------------------\u001b[0m",
      "\u001b[0;31mKeyError\u001b[0m                                  Traceback (most recent call last)",
      "Cell \u001b[0;32mIn[3], line 4\u001b[0m\n\u001b[1;32m      2\u001b[0m user \u001b[38;5;241m=\u001b[39m {\u001b[38;5;124m'\u001b[39m\u001b[38;5;124mJack\u001b[39m\u001b[38;5;124m'\u001b[39m: \u001b[38;5;241m1001\u001b[39m, \u001b[38;5;124m'\u001b[39m\u001b[38;5;124mLuck\u001b[39m\u001b[38;5;124m'\u001b[39m: \u001b[38;5;241m1002\u001b[39m, \u001b[38;5;124m'\u001b[39m\u001b[38;5;124mTony\u001b[39m\u001b[38;5;124m'\u001b[39m: \u001b[38;5;241m1003\u001b[39m}\n\u001b[1;32m      3\u001b[0m \u001b[38;5;28mprint\u001b[39m(user[\u001b[38;5;124m'\u001b[39m\u001b[38;5;124mJack\u001b[39m\u001b[38;5;124m'\u001b[39m])\n\u001b[0;32m----> 4\u001b[0m \u001b[38;5;28mprint\u001b[39m(\u001b[43muser\u001b[49m\u001b[43m[\u001b[49m\u001b[38;5;124;43m'\u001b[39;49m\u001b[38;5;124;43mLucy\u001b[39;49m\u001b[38;5;124;43m'\u001b[39;49m\u001b[43m]\u001b[49m)\n",
      "\u001b[0;31mKeyError\u001b[0m: 'Lucy'"
     ]
    }
   ],
   "source": [
    "# dict[key]------若key不存在，则报错\n",
    "user = {'Jack': 1001, 'Luck': 1002, 'Tony': 1003}\n",
    "print(user['Jack'])\n",
    "print(user['Lucy'])"
   ]
  },
  {
   "cell_type": "code",
   "execution_count": 44,
   "id": "8d31b574-6b3c-43e9-b30e-fb7a369b1743",
   "metadata": {},
   "outputs": [
    {
     "name": "stdout",
     "output_type": "stream",
     "text": [
      "1001\n",
      "None\n",
      "{'Jack': 1001, 'Luck': 1002, 'Tony': 1003}\n"
     ]
    }
   ],
   "source": [
    "# dict.get(key)------若key不存在，返回Node\n",
    "user = {'Jack': 1001, 'Luck': 1002, 'Tony': 1003}\n",
    "print(user.get('Jack'))\n",
    "print(user.get('Lucy'))\n",
    "print(user)"
   ]
  },
  {
   "cell_type": "markdown",
   "id": "2b409553-5c2f-4c74-8b84-fe44620b2a36",
   "metadata": {},
   "source": [
    "#### 5.1.3 修改某个键对应的值：dict[key] = newValue"
   ]
  },
  {
   "cell_type": "code",
   "execution_count": 10,
   "id": "8efbd2f9-0380-46ca-a10c-64bbeef27b25",
   "metadata": {},
   "outputs": [
    {
     "name": "stdout",
     "output_type": "stream",
     "text": [
      "1002\n",
      "1011\n",
      "{'Jack': 1001, 'Luck': 1011, 'Tony': 1003, 'Lucky': 1011}\n"
     ]
    }
   ],
   "source": [
    "# dict[key] = newValue --------- map.set()\n",
    "user = {'Jack': 1001, 'Luck': 1002, 'Tony': 1003}\n",
    "print(user.get('Luck'))\n",
    "user['Luck'] = 1011\n",
    "print(user.get('Luck'))\n",
    "\n",
    "user['Lucky'] = 1011 # 若修改时，不存在这个键，则默认为添加元素\n",
    "print(user)"
   ]
  },
  {
   "cell_type": "markdown",
   "id": "09721aff-8dec-446a-a80c-6a6b64c47b50",
   "metadata": {},
   "source": [
    "#### 5.1.4 增加键值对：dict[key] = value"
   ]
  },
  {
   "cell_type": "code",
   "execution_count": 11,
   "id": "6aadbaff-75b4-451f-adca-744039944e95",
   "metadata": {},
   "outputs": [
    {
     "name": "stdout",
     "output_type": "stream",
     "text": [
      "{'Jack': 1001, 'Luck': 1002, 'Tony': 1003}\n",
      "{'Jack': 1001, 'Luck': 1002, 'Tony': 1003, 'Lucky': 1011}\n"
     ]
    }
   ],
   "source": [
    "# dict[key] = Value --------- 与修改一样\n",
    "user = {'Jack': 1001, 'Luck': 1002, 'Tony': 1003}\n",
    "print(user)\n",
    "user['Lucky'] = 1011 # 若修改时，不存在这个键，则默认为添加元素\n",
    "print(user)"
   ]
  },
  {
   "cell_type": "markdown",
   "id": "4b6abb45-ef2d-4e03-a1f2-27d168350a98",
   "metadata": {},
   "source": [
    "#### 5.1.5 删除键值对：del dict[key]"
   ]
  },
  {
   "cell_type": "code",
   "execution_count": 14,
   "id": "cbe9abb0-e203-4d19-960a-53284e8c130c",
   "metadata": {},
   "outputs": [
    {
     "name": "stdout",
     "output_type": "stream",
     "text": [
      "{'Jack': 1001, 'Luck': 1002, 'Tony': 1003}\n",
      "{'Luck': 1002, 'Tony': 1003}\n"
     ]
    },
    {
     "ename": "KeyError",
     "evalue": "'Jack'",
     "output_type": "error",
     "traceback": [
      "\u001b[0;31m---------------------------------------------------------------------------\u001b[0m",
      "\u001b[0;31mKeyError\u001b[0m                                  Traceback (most recent call last)",
      "Cell \u001b[0;32mIn[14], line 7\u001b[0m\n\u001b[1;32m      4\u001b[0m \u001b[38;5;28;01mdel\u001b[39;00m user[\u001b[38;5;124m'\u001b[39m\u001b[38;5;124mJack\u001b[39m\u001b[38;5;124m'\u001b[39m]\n\u001b[1;32m      5\u001b[0m \u001b[38;5;28mprint\u001b[39m(user)\n\u001b[0;32m----> 7\u001b[0m \u001b[38;5;28;01mdel\u001b[39;00m user[\u001b[38;5;124m'\u001b[39m\u001b[38;5;124mJack\u001b[39m\u001b[38;5;124m'\u001b[39m] \u001b[38;5;66;03m# 若删除不存在的键，则报错\u001b[39;00m\n\u001b[1;32m      8\u001b[0m \u001b[38;5;28mprint\u001b[39m(user)\n",
      "\u001b[0;31mKeyError\u001b[0m: 'Jack'"
     ]
    }
   ],
   "source": [
    "# del dick[key] -------- 与列表删除元素类似\n",
    "user = {'Jack': 1001, 'Luck': 1002, 'Tony': 1003}\n",
    "print(user)\n",
    "del user['Jack']\n",
    "print(user)\n",
    "\n",
    "del user['Jack'] # 若删除不存在的键，则报错\n",
    "print(user)"
   ]
  },
  {
   "cell_type": "code",
   "execution_count": 22,
   "id": "93fd804c-5d81-4846-9e9e-c5447aaf632b",
   "metadata": {},
   "outputs": [
    {
     "name": "stdout",
     "output_type": "stream",
     "text": [
      "{'Jack': 1002, 'Tony': 1003}\n",
      "{'Tony': 1003}\n"
     ]
    },
    {
     "ename": "KeyError",
     "evalue": "'Jack'",
     "output_type": "error",
     "traceback": [
      "\u001b[0;31m---------------------------------------------------------------------------\u001b[0m",
      "\u001b[0;31mKeyError\u001b[0m                                  Traceback (most recent call last)",
      "Cell \u001b[0;32mIn[22], line 6\u001b[0m\n\u001b[1;32m      3\u001b[0m \u001b[38;5;28;01mdel\u001b[39;00m user[\u001b[38;5;124m'\u001b[39m\u001b[38;5;124mJack\u001b[39m\u001b[38;5;124m'\u001b[39m] \u001b[38;5;66;03m# 若构造时有重复的，构造出来的字典不会包含重复的键\u001b[39;00m\n\u001b[1;32m      4\u001b[0m \u001b[38;5;28mprint\u001b[39m(user)\n\u001b[0;32m----> 6\u001b[0m \u001b[38;5;28;01mdel\u001b[39;00m user[\u001b[38;5;124m'\u001b[39m\u001b[38;5;124mJack\u001b[39m\u001b[38;5;124m'\u001b[39m] \u001b[38;5;66;03m# 若构造时有重复的，构造出来的字典不会包含重复的键\u001b[39;00m\n\u001b[1;32m      7\u001b[0m \u001b[38;5;28mprint\u001b[39m(user)\n",
      "\u001b[0;31mKeyError\u001b[0m: 'Jack'"
     ]
    }
   ],
   "source": [
    "user = {'Jack': 1001, 'Jack': 1002, 'Tony': 1003}\n",
    "print(user)\n",
    "del user['Jack'] # 若构造时有重复的，构造出来的字典不会包含重复的键\n",
    "print(user)\n",
    "\n",
    "del user['Jack'] # 若构造时有重复的，构造出来的字典不会包含重复的键\n",
    "print(user)"
   ]
  },
  {
   "cell_type": "markdown",
   "id": "b0f81c01-d1fa-49ad-9c56-ffe38b664a4b",
   "metadata": {},
   "source": [
    "### 5.2 字典方法"
   ]
  },
  {
   "cell_type": "markdown",
   "id": "eed93ba1-89d6-42ba-aa32-09cfd0cf61a1",
   "metadata": {},
   "source": [
    "#### 5.2.1 清空字典：dict.clear()"
   ]
  },
  {
   "cell_type": "code",
   "execution_count": 25,
   "id": "a8110d04-43eb-439f-b635-25afe570071e",
   "metadata": {},
   "outputs": [
    {
     "name": "stdout",
     "output_type": "stream",
     "text": [
      "{'Jack': 1001, 'Luck': 1002, 'Tony': 1003}\n",
      "{}\n"
     ]
    }
   ],
   "source": [
    "# dict.clear()方法\n",
    "user = {'Jack': 1001, 'Luck': 1002, 'Tony': 1003}\n",
    "print(user)\n",
    "user.clear()\n",
    "print(user)"
   ]
  },
  {
   "cell_type": "code",
   "execution_count": 26,
   "id": "1f5e61e9-4dec-418f-9665-a1116fdacae6",
   "metadata": {},
   "outputs": [
    {
     "name": "stdout",
     "output_type": "stream",
     "text": [
      "{'Jack': 1001, 'Luck': 1002, 'Tony': 1003}\n",
      "{}\n"
     ]
    }
   ],
   "source": [
    "# dick = {}\n",
    "user = {'Jack': 1001, 'Luck': 1002, 'Tony': 1003}\n",
    "print(user)\n",
    "user = {}\n",
    "print(user)"
   ]
  },
  {
   "cell_type": "markdown",
   "id": "355f1ca3-0582-4c09-8567-95671514b929",
   "metadata": {},
   "source": [
    "#### 5.2.2 复制字典: dict.copy()"
   ]
  },
  {
   "cell_type": "code",
   "execution_count": 28,
   "id": "d13dfb56-2a17-4f06-8040-2eb03e1e7195",
   "metadata": {},
   "outputs": [
    {
     "name": "stdout",
     "output_type": "stream",
     "text": [
      "{'Jack': 1001, 'Luck': 1002, 'Tony': 1003}\n",
      "{'Jack': 1001, 'Luck': 1002, 'Tony': 1003}\n",
      "{'Jack': 1001, 'Luck': 1002, 'Tony': 1003}\n",
      "{'Jack': 1011, 'Luck': 1002, 'Tony': 1003}\n"
     ]
    }
   ],
   "source": [
    "# dict.copy()-----返回一个具有相同键值对的新字典\n",
    "d1 = {'Jack': 1001, 'Luck': 1002, 'Tony': 1003}\n",
    "d2 = d1.copy() # 浅拷贝\n",
    "print(d1)\n",
    "print(d2)\n",
    "\n",
    "d2['Jack'] = 1011\n",
    "print(d1)\n",
    "print(d2)"
   ]
  },
  {
   "cell_type": "code",
   "execution_count": 35,
   "id": "35e9b075-4f59-4478-8c99-8570e112ce07",
   "metadata": {},
   "outputs": [
    {
     "name": "stdout",
     "output_type": "stream",
     "text": [
      "{'Jack': 1001, 'Luck': 1002, 'Tony': 1003, 'num': [1, 2, 3]}\n",
      "{'Jack': 1001, 'Luck': 1002, 'Tony': 1003, 'num': [1, 2, 3]}\n",
      "{'Jack': 1001, 'Luck': 1002, 'Tony': 1003, 'num': [1, 2, 3]}\n",
      "{'Jack': 1011, 'Luck': 1002, 'Tony': 1003, 'num': [2, 3]}\n",
      "{'Jack': 1001, 'Luck': 1002, 'Tony': 1003, 'num': [2, 3]}\n",
      "{'Jack': 1011, 'Luck': 1002, 'Tony': 1003, 'num': [2, 3]}\n"
     ]
    }
   ],
   "source": [
    "# dict.copy()-----返回一个具有相同键值对的新字典\n",
    "d1 = {'Jack': 1001, 'Luck': 1002, 'Tony': 1003,'num':[1,2,3]}\n",
    "d2 = d1.copy() # 浅拷贝: 深拷贝父对象，则子对象不拷贝，还是引用\n",
    "d3 = d1 # 浅拷贝：引用（别名）\n",
    "print(d1)\n",
    "print(d2)\n",
    "print(d3)\n",
    "\n",
    "d1['Jack'] = 1011\n",
    "d1['num'].remove(1)\n",
    "print(d1)\n",
    "print(d2) # 父对象是深拷贝，所以d1['Jack']修改后，d2['Jack']不修改；子对象是浅拷贝，所以[1,2,3]修改后，同时修改\n",
    "print(d3) "
   ]
  },
  {
   "cell_type": "code",
   "execution_count": 38,
   "id": "f3a12059-783f-4d6a-be74-b041364a8d79",
   "metadata": {},
   "outputs": [
    {
     "name": "stdout",
     "output_type": "stream",
     "text": [
      "{'Jack': 1001, 'Luck': 1002, 'Tony': 1003, 'num': [1, 2, 3]}\n",
      "{'Jack': 1001, 'Luck': 1002, 'Tony': 1003, 'num': [1, 2, 3]}\n",
      "{'Jack': 1001, 'Luck': 1002, 'Tony': 1003, 'num': [1, 2, 3]}\n",
      "{'Jack': 1001, 'Luck': 1002, 'Tony': 1003, 'num': [1, 2, 3]}\n",
      "{'Jack': 1011, 'Luck': 1002, 'Tony': 1003, 'num': [2, 3]}\n",
      "{'Jack': 1001, 'Luck': 1002, 'Tony': 1003, 'num': [2, 3]}\n",
      "{'Jack': 1011, 'Luck': 1002, 'Tony': 1003, 'num': [2, 3]}\n",
      "{'Jack': 1001, 'Luck': 1002, 'Tony': 1003, 'num': [1, 2, 3]}\n"
     ]
    }
   ],
   "source": [
    "# deepcopy()-----深拷贝\n",
    "import copy\n",
    "d1 = {'Jack': 1001, 'Luck': 1002, 'Tony': 1003,'num':[1,2,3]}\n",
    "d2 = d1.copy() # 浅拷贝: 深拷贝父对象，则子对象不拷贝，还是引用\n",
    "d3 = d1 # 浅拷贝：引用（别名）\n",
    "d4 = copy.deepcopy(d1) #深拷贝：深拷贝父对象和子对象\n",
    "print(d1)\n",
    "print(d2)\n",
    "print(d3)\n",
    "print(d4)\n",
    "\n",
    "d1['Jack'] = 1011\n",
    "d1['num'].remove(1)\n",
    "print(d1)\n",
    "print(d2) # 父对象是深拷贝，所以d1['Jack']修改后，d2['Jack']不修改；子对象是浅拷贝，所以[1,2,3]修改后，同时修改\n",
    "print(d3) \n",
    "print(d4) "
   ]
  },
  {
   "cell_type": "markdown",
   "id": "fc84d397-df01-466f-ba18-6e39b958da0f",
   "metadata": {},
   "source": [
    "#### 5.2.3 更新字典：dict1.update(dict2)"
   ]
  },
  {
   "cell_type": "code",
   "execution_count": 39,
   "id": "63194314-e0ac-410d-aae4-025583cd616b",
   "metadata": {},
   "outputs": [
    {
     "name": "stdout",
     "output_type": "stream",
     "text": [
      "{'one': 1, 'two': 2, 'three': 3}\n",
      "{'one': 1, 'two': 2, 'three': 3.4, 'four': 4}\n",
      "{'three': 3.4, 'four': 4}\n"
     ]
    }
   ],
   "source": [
    "# 使用dict2更新dict1：若dict1中已有，则value被覆盖；若dict1中不存在，则添加\n",
    "d1 = {'one':1,'two':2,'three':3}\n",
    "d2 = {'three':3.4, 'four':4}\n",
    "print(d1)\n",
    "d1.update(d2)\n",
    "print(d1)\n",
    "print(d2)"
   ]
  },
  {
   "cell_type": "markdown",
   "id": "708c422e-8a60-4a88-9e4f-d61741b7b040",
   "metadata": {},
   "source": [
    "#### 5.2.4 创建新字典：dict.fromkeys(iterable, value=None)"
   ]
  },
  {
   "cell_type": "code",
   "execution_count": 40,
   "id": "2bb2d223-b1c3-4db7-81c6-97213c5feade",
   "metadata": {},
   "outputs": [
    {
     "name": "stdout",
     "output_type": "stream",
     "text": [
      "{'one': None, 'two': None, 'three': None}\n"
     ]
    }
   ],
   "source": [
    "ret = dict.fromkeys(['one','two','three'])\n",
    "print(ret)"
   ]
  },
  {
   "cell_type": "code",
   "execution_count": 43,
   "id": "a735e6d3-4aea-4cef-9679-1a5c38f32eb2",
   "metadata": {},
   "outputs": [
    {
     "name": "stdout",
     "output_type": "stream",
     "text": [
      "{'one': [1, 2, 3], 'two': [1, 2, 3], 'three': [1, 2, 3]}\n",
      "{'one': [1, 2, 3, 4], 'two': [1, 2, 3, 4], 'three': [1, 2, 3, 4]}\n"
     ]
    }
   ],
   "source": [
    "ret = dict.fromkeys(['one','two','three'],[1,2,3])\n",
    "print(ret)\n",
    "ret['one'].append(4)\n",
    "print(ret)"
   ]
  },
  {
   "cell_type": "markdown",
   "id": "05de4206-0a83-44b7-9eb1-133a80b40fb0",
   "metadata": {},
   "source": [
    "#### 5.2.5 设置默认值：setdefault()"
   ]
  },
  {
   "cell_type": "code",
   "execution_count": 46,
   "id": "de5e4eb9-58a7-4017-a7d8-374d21593762",
   "metadata": {},
   "outputs": [
    {
     "name": "stdout",
     "output_type": "stream",
     "text": [
      "{'Jack': 1001, 'Luck': 1002, 'Tony': 1003, 'num': [1, 2, 3]}\n",
      "1001\n",
      "{'Jack': 1001, 'Luck': 1002, 'Tony': 1003, 'num': [1, 2, 3]}\n",
      "1001\n"
     ]
    }
   ],
   "source": [
    "# dict.setdefault(key,value)-----类似于增加和get()\n",
    "d1 = {'Jack': 1001, 'Luck': 1002, 'Tony': 1003,'num':[1,2,3]}\n",
    "ret = d1.setdefault('Jack') #若键存在，则返回对应的值\n",
    "print(d1)\n",
    "print(ret)\n",
    "\n",
    "ret = d1.setdefault('Jack',1011) #若键存在，则返回对应的值\n",
    "print(d1)\n",
    "print(ret)"
   ]
  },
  {
   "cell_type": "code",
   "execution_count": 48,
   "id": "2a82adeb-fbd2-4436-9b29-84cb2875438d",
   "metadata": {},
   "outputs": [
    {
     "name": "stdout",
     "output_type": "stream",
     "text": [
      "{'Jack': 1001, 'Luck': 1002, 'Tony': 1003, 'num': [1, 2, 3], 'Jock': None}\n",
      "None\n",
      "{'Jack': 1001, 'Luck': 1002, 'Tony': 1003, 'num': [1, 2, 3], 'Jock': None, 'Tom': 1004}\n",
      "1004\n"
     ]
    }
   ],
   "source": [
    "d1 = {'Jack': 1001, 'Luck': 1002, 'Tony': 1003,'num':[1,2,3]}\n",
    "ret = d1.setdefault('Jock') #若键不存在，则增加\n",
    "print(d1)\n",
    "print(ret)\n",
    "\n",
    "ret = d1.setdefault('Tom',1004) #若键不存在，则增加\n",
    "print(d1)\n",
    "print(ret)"
   ]
  },
  {
   "cell_type": "markdown",
   "id": "50605458-f631-4d11-8532-f90fd77f32e8",
   "metadata": {},
   "source": [
    "#### 5.2.6 获取所有键：keys()"
   ]
  },
  {
   "cell_type": "code",
   "execution_count": 52,
   "id": "0376e1fd-08fd-401e-ada5-3861288684fa",
   "metadata": {},
   "outputs": [
    {
     "name": "stdout",
     "output_type": "stream",
     "text": [
      "dict_keys(['Jack', 'Luck', 'Tony', 'num'])\n",
      "<class 'dict_keys'>\n"
     ]
    }
   ],
   "source": [
    "d1 = {'Jack': 1001, 'Luck': 1002, 'Tony': 1003,'num':[1,2,3]}\n",
    "print(d1.keys()) # keys()方法返回的是一个可迭代对象：可以使用for-in来遍历；可以转化为list\n",
    "print(type(user.keys()))"
   ]
  },
  {
   "cell_type": "code",
   "execution_count": 53,
   "id": "6c604ca9-86f8-4d70-9685-ae0ada393ced",
   "metadata": {},
   "outputs": [
    {
     "name": "stdout",
     "output_type": "stream",
     "text": [
      "dict_keys(['Jack', 'Luck', 'Tony', 'num'])\n",
      "<class 'list'>\n"
     ]
    }
   ],
   "source": [
    "# 转化成列表\n",
    "d1 = {'Jack': 1001, 'Luck': 1002, 'Tony': 1003,'num':[1,2,3]}\n",
    "print(d1.keys()) # keys()方法返回的是一个可迭代对象：可以使用for-in来遍历；可以转化为list\n",
    "keys = list(d1.keys())\n",
    "print(type(keys))"
   ]
  },
  {
   "cell_type": "code",
   "execution_count": 55,
   "id": "002c5729-7f6e-4ba9-857a-a580d7d1ddaf",
   "metadata": {},
   "outputs": [
    {
     "name": "stdout",
     "output_type": "stream",
     "text": [
      "Jack : 1001\n",
      "Luck : 1002\n",
      "Tony : 1003\n",
      "num : [1, 2, 3]\n"
     ]
    }
   ],
   "source": [
    "# for-in遍历\n",
    "d1 = {'Jack': 1001, 'Luck': 1002, 'Tony': 1003,'num':[1,2,3]}\n",
    "for key in d1.keys():\n",
    "    print(key,\":\",d1.get(key))"
   ]
  },
  {
   "cell_type": "markdown",
   "id": "f0b42126-b971-4dbb-976f-4f00b55059ea",
   "metadata": {},
   "source": [
    "#### 5.2.7 获取所有值：values()"
   ]
  },
  {
   "cell_type": "code",
   "execution_count": 57,
   "id": "896ff77a-a6c3-4967-8cb2-ce3dfdf811df",
   "metadata": {},
   "outputs": [
    {
     "name": "stdout",
     "output_type": "stream",
     "text": [
      "dict_values([1001, 1002, 1003, [1, 2, 3]])\n",
      "<class 'dict_values'>\n"
     ]
    }
   ],
   "source": [
    "d1 = {'Jack': 1001, 'Luck': 1002, 'Tony': 1003,'num':[1,2,3]}\n",
    "print(d1.values())\n",
    "print(type(d1.values()))"
   ]
  },
  {
   "cell_type": "code",
   "execution_count": 58,
   "id": "bec89b8d-3042-4441-b6f9-17b733a389cd",
   "metadata": {},
   "outputs": [
    {
     "name": "stdout",
     "output_type": "stream",
     "text": [
      "dict_values([1001, 1002, 1003, [1, 2, 3]])\n",
      "<class 'list'>\n"
     ]
    }
   ],
   "source": [
    "# 转化成列表\n",
    "d1 = {'Jack': 1001, 'Luck': 1002, 'Tony': 1003,'num':[1,2,3]}\n",
    "print(d1.values())\n",
    "values = list(d1.values())\n",
    "print(type(values))"
   ]
  },
  {
   "cell_type": "code",
   "execution_count": 60,
   "id": "de37250e-5f70-4aed-bcee-7f858f3cc773",
   "metadata": {},
   "outputs": [
    {
     "name": "stdout",
     "output_type": "stream",
     "text": [
      "1001\n",
      "1002\n",
      "1003\n",
      "[1, 2, 3]\n"
     ]
    }
   ],
   "source": [
    "# for-in\n",
    "d1 = {'Jack': 1001, 'Luck': 1002, 'Tony': 1003,'num':[1,2,3]}\n",
    "for value in d1.values():\n",
    "    print(value)"
   ]
  },
  {
   "cell_type": "markdown",
   "id": "5b31e7ab-ccf9-4b46-87e7-3c7f0f6c0ddb",
   "metadata": {},
   "source": [
    "#### 5.2.8 获取所有键值对：items()"
   ]
  },
  {
   "cell_type": "code",
   "execution_count": 61,
   "id": "7cebae27-f11e-448c-97e9-b45615f3d899",
   "metadata": {},
   "outputs": [
    {
     "name": "stdout",
     "output_type": "stream",
     "text": [
      "dict_items([('Jack', 1001), ('Luck', 1002), ('Tony', 1003), ('num', [1, 2, 3])])\n"
     ]
    }
   ],
   "source": [
    "d1 = {'Jack': 1001, 'Luck': 1002, 'Tony': 1003,'num':[1,2,3]}\n",
    "print(d1.items())"
   ]
  },
  {
   "cell_type": "code",
   "execution_count": 62,
   "id": "69b92898-fda3-42df-b1f0-3fa37338ee02",
   "metadata": {},
   "outputs": [
    {
     "name": "stdout",
     "output_type": "stream",
     "text": [
      "dict_items([('Jack', 1001), ('Luck', 1002), ('Tony', 1003), ('num', [1, 2, 3])])\n",
      "<class 'list'>\n"
     ]
    }
   ],
   "source": [
    "# 转化成列表\n",
    "d1 = {'Jack': 1001, 'Luck': 1002, 'Tony': 1003,'num':[1,2,3]}\n",
    "print(d1.items())\n",
    "items = list(d1.items())\n",
    "print(type(items))"
   ]
  },
  {
   "cell_type": "code",
   "execution_count": 67,
   "id": "a9e0edf0-4dfc-45a4-bcff-6143a6b064ea",
   "metadata": {},
   "outputs": [
    {
     "name": "stdout",
     "output_type": "stream",
     "text": [
      "Jack: 1001\n",
      "Luck: 1002\n",
      "Tony: 1003\n",
      "num: [1, 2, 3]\n"
     ]
    }
   ],
   "source": [
    "# for-in遍历\n",
    "d1 = {'Jack': 1001, 'Luck': 1002, 'Tony': 1003,'num':[1,2,3]}\n",
    "for key,value in d1.items():\n",
    "    ret = f'{key}: {value}'\n",
    "    print(ret)"
   ]
  },
  {
   "cell_type": "markdown",
   "id": "df7ee91e-cc20-44f1-a005-1494f8a5210a",
   "metadata": {},
   "source": [
    "### 5.3 更多操作"
   ]
  },
  {
   "cell_type": "markdown",
   "id": "528aa642-23e4-409e-ba6d-2e8ebea41b3a",
   "metadata": {},
   "source": [
    "#### 5.3.1 获取长度：len()-----键值对的个数"
   ]
  },
  {
   "cell_type": "code",
   "execution_count": 69,
   "id": "0ace99aa-15c4-4415-80fa-7bd4ce4025f7",
   "metadata": {},
   "outputs": [
    {
     "name": "stdout",
     "output_type": "stream",
     "text": [
      "4\n"
     ]
    }
   ],
   "source": [
    "d1 = {'Jack': 1001, 'Luck': 1002, 'Tony': 1003,'num':[1,2,3]}\n",
    "print(len(d1))"
   ]
  },
  {
   "cell_type": "markdown",
   "id": "e6a551fc-7a04-43e0-8cb7-7fb920f77cd1",
   "metadata": {},
   "source": [
    "#### 5.3.2 检索字典：in、not in"
   ]
  },
  {
   "cell_type": "code",
   "execution_count": 72,
   "id": "3a77ad08-876f-47a4-b799-179922ecfd86",
   "metadata": {},
   "outputs": [
    {
     "name": "stdout",
     "output_type": "stream",
     "text": [
      "True\n",
      "False\n"
     ]
    }
   ],
   "source": [
    "# 通过“键”来判断是否存在\n",
    "d1 = {'Jack': 1001, 'Luck': 1002, 'Tony': 1003,'num':[1,2,3]}\n",
    "print('Jack' in d1)\n",
    "print('Jacky' in d1)"
   ]
  },
  {
   "cell_type": "code",
   "execution_count": 73,
   "id": "7dbb1857-5604-43f5-8891-fe9c30fe066e",
   "metadata": {},
   "outputs": [
    {
     "name": "stdout",
     "output_type": "stream",
     "text": [
      "False\n",
      "True\n"
     ]
    }
   ],
   "source": [
    "d1 = {'Jack': 1001, 'Luck': 1002, 'Tony': 1003,'num':[1,2,3]}\n",
    "print('Jack' not in d1)\n",
    "print('Jacky' not in d1)"
   ]
  },
  {
   "cell_type": "markdown",
   "id": "9c68d41b-4b72-4907-97c4-bd215e47852e",
   "metadata": {},
   "source": [
    "#### 5.3.3 合并字典：｜"
   ]
  },
  {
   "cell_type": "code",
   "execution_count": 74,
   "id": "afe12181-523d-41cc-bd7d-46130dcbc032",
   "metadata": {},
   "outputs": [
    {
     "name": "stdout",
     "output_type": "stream",
     "text": [
      "{'one': 1, 'two': 2, 'three': 3}\n",
      "{'one': 1, 'two': 2, 'three': 3.4, 'four': 4}\n",
      "{'three': 3.4, 'four': 4}\n"
     ]
    }
   ],
   "source": [
    "d1 = {'one':1,'two':2,'three':3}\n",
    "d2 = {'three':3.4, 'four':4}\n",
    "print(d1)\n",
    "d1.update(d2)\n",
    "print(d1)\n",
    "print(d2)"
   ]
  },
  {
   "cell_type": "code",
   "execution_count": 78,
   "id": "1d92bb10-2476-4767-8246-12cb86dfdca9",
   "metadata": {},
   "outputs": [
    {
     "name": "stdout",
     "output_type": "stream",
     "text": [
      "{'one': 1, 'two': 2, 'three': 3}\n",
      "{'three': 3.4, 'four': 4}\n",
      "{'one': 1, 'two': 2, 'three': 3}\n",
      "{'three': 3.4, 'four': 4}\n",
      "{'one': 1, 'two': 2, 'three': 3.4, 'four': 4}\n"
     ]
    }
   ],
   "source": [
    "d1 = {'one':1,'two':2,'three':3}\n",
    "d2 = {'three':3.4, 'four':4}\n",
    "print(d1)\n",
    "print(d2)\n",
    "\n",
    "ret = d1 | d2 # 不改变d1和d2\n",
    "print(d1) \n",
    "print(d2)\n",
    "print(ret)"
   ]
  },
  {
   "cell_type": "markdown",
   "id": "5aebc1f6-dbfc-4af0-967d-467dd48a606d",
   "metadata": {},
   "source": [
    "#### 5.3.4 字典推导式"
   ]
  },
  {
   "cell_type": "code",
   "execution_count": 79,
   "id": "1c7a6c98-39f6-47d5-9a40-9b5d9288b8b2",
   "metadata": {},
   "outputs": [
    {
     "name": "stdout",
     "output_type": "stream",
     "text": [
      "{'a': 1, 'b': 2, 'c': 3}\n"
     ]
    }
   ],
   "source": [
    "# 字典名 = {key:value for (key,value) in seq}\n",
    "items = [('a',1),('b',2),('c',3)]\n",
    "ret = {key:value for (key,value) in items}\n",
    "print(ret)"
   ]
  },
  {
   "cell_type": "code",
   "execution_count": 80,
   "id": "8004007b-e9d3-4467-9c2a-a4ce32572713",
   "metadata": {},
   "outputs": [
    {
     "name": "stdout",
     "output_type": "stream",
     "text": [
      "{'Jack': 1001, 'Lucy': 1002, 'Tony': 1003}\n"
     ]
    }
   ],
   "source": [
    "names = ['Jack','Lucy','Tony']\n",
    "ids = [1001,1002,1003]\n",
    "ret = {name:value for (name,value) in zip(names,ids)}\n",
    "print(ret)"
   ]
  },
  {
   "cell_type": "code",
   "execution_count": null,
   "id": "dfa0e20d-b5bc-46b8-8152-cfbc5a6e036a",
   "metadata": {},
   "outputs": [],
   "source": []
  }
 ],
 "metadata": {
  "kernelspec": {
   "display_name": "Python 3 (ipykernel)",
   "language": "python",
   "name": "python3"
  },
  "language_info": {
   "codemirror_mode": {
    "name": "ipython",
    "version": 3
   },
   "file_extension": ".py",
   "mimetype": "text/x-python",
   "name": "python",
   "nbconvert_exporter": "python",
   "pygments_lexer": "ipython3",
   "version": "3.9.1"
  }
 },
 "nbformat": 4,
 "nbformat_minor": 5
}
