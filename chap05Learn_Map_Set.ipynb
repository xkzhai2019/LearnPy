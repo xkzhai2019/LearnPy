{
 "cells": [
  {
   "cell_type": "markdown",
   "id": "4451d5ed-56d4-4456-8f98-154b157a577b",
   "metadata": {},
   "source": [
    "## 5. 字典与集合"
   ]
  },
  {
   "cell_type": "markdown",
   "id": "1806b761-7aad-4d59-937a-d6c4f0fcde31",
   "metadata": {},
   "source": [
    "##### 仅靠序列（列表、元组、字符串）无法满足实际开发的需求，python提供了另外两种数据结构：字典和集合（映射和集合）"
   ]
  },
  {
   "cell_type": "markdown",
   "id": "27ce6d11-18a0-44e6-af54-65eebd872207",
   "metadata": {},
   "source": [
    "### 5.1 字典概述"
   ]
  },
  {
   "cell_type": "markdown",
   "id": "b04375b0-71b7-419a-b8ff-47ff9c5e12d2",
   "metadata": {},
   "source": [
    "##### 所谓字典，是由一对对的“键：值”组合而成，每个键与一个值相关联，用途包括：\n",
    "* 保存用户积分信息：键是用户昵称，值是积分\n",
    "* 保存商品售价：键是商品名，值是售价\n",
    "* 保存图书销售情况：键是书名，值是销量\n",
    "* 等等"
   ]
  },
  {
   "cell_type": "markdown",
   "id": "9d8db7d1-86aa-4c99-b5e2-988490a6edf8",
   "metadata": {},
   "source": [
    "#### 5.1.1 创建字典：使用大括号\"{}\""
   ]
  },
  {
   "cell_type": "markdown",
   "id": "1ca71194-fb31-4273-8c0a-dae364269308",
   "metadata": {},
   "source": [
    "##### 在python中，使用大括号“{}”来创建字典："
   ]
  },
  {
   "cell_type": "markdown",
   "id": "d76ee358-d594-4bb8-a4cf-8d41b62a3bc4",
   "metadata": {},
   "source": [
    "dictName = {key1:value1, key2:value2,..., keyN: valueN}"
   ]
  },
  {
   "cell_type": "markdown",
   "id": "9b192a82-a24e-4826-8eb6-47a41d971d49",
   "metadata": {},
   "source": [
    "键与值之间用英文冒号“：”分开，键值对之间用英文逗号“,”隔开：\n",
    "* 键必须是唯一的，字典中不能出现重复的键\n",
    "* 键必须是不可变的，可以使用数字、字符串或元组，不能使用列表\n",
    "* 值可以不唯一，可以是任意数据结构（包括数字、字符串、列表、元组、字典）"
   ]
  },
  {
   "cell_type": "code",
   "execution_count": 2,
   "id": "c6ef643a-0347-465c-8652-c3694be175f8",
   "metadata": {},
   "outputs": [
    {
     "name": "stdout",
     "output_type": "stream",
     "text": [
      "{}\n"
     ]
    }
   ],
   "source": [
    "# 空字典\n",
    "user = {}\n",
    "print(user)"
   ]
  },
  {
   "cell_type": "code",
   "execution_count": 5,
   "id": "31a784d3-ce30-48ae-a708-ee82bda43560",
   "metadata": {},
   "outputs": [
    {
     "name": "stdout",
     "output_type": "stream",
     "text": [
      "{'Jack': 1001, 'Yom': 1002, 'Tony': 1003}\n"
     ]
    }
   ],
   "source": [
    "# 创建包含3个键值对的字典\n",
    "user = {'Jack': 1001, 'Yom': 1002, 'Tony': 1003}\n",
    "print(user)"
   ]
  },
  {
   "cell_type": "code",
   "execution_count": 7,
   "id": "5c627ee0-de22-422f-bcc5-28ef14215fc0",
   "metadata": {},
   "outputs": [
    {
     "name": "stdout",
     "output_type": "stream",
     "text": [
      "{'Jack': 1002, 'Tony': 1003}\n"
     ]
    }
   ],
   "source": [
    "# 键不可以重复-------重复时，会使用最新的值来匹配\n",
    "user = {'Jack': 1001, 'Jack': 1002, 'Tony': 1003}\n",
    "print(user)"
   ]
  },
  {
   "cell_type": "code",
   "execution_count": 9,
   "id": "c7948e16-fc8c-4e14-a526-6e72607a0e4a",
   "metadata": {},
   "outputs": [
    {
     "ename": "TypeError",
     "evalue": "unhashable type: 'list'",
     "output_type": "error",
     "traceback": [
      "\u001b[0;31m---------------------------------------------------------------------------\u001b[0m",
      "\u001b[0;31mTypeError\u001b[0m                                 Traceback (most recent call last)",
      "Cell \u001b[0;32mIn[9], line 2\u001b[0m\n\u001b[1;32m      1\u001b[0m \u001b[38;5;66;03m# 键必须是不可变的----可变的列表，不能作为键\u001b[39;00m\n\u001b[0;32m----> 2\u001b[0m user \u001b[38;5;241m=\u001b[39m {[\u001b[38;5;241m1\u001b[39m,\u001b[38;5;241m2\u001b[39m]: \u001b[38;5;241m1001\u001b[39m, \u001b[38;5;124m'\u001b[39m\u001b[38;5;124mJack\u001b[39m\u001b[38;5;124m'\u001b[39m: \u001b[38;5;241m1002\u001b[39m, \u001b[38;5;124m'\u001b[39m\u001b[38;5;124mTony\u001b[39m\u001b[38;5;124m'\u001b[39m: \u001b[38;5;241m1003\u001b[39m}\n\u001b[1;32m      3\u001b[0m \u001b[38;5;28mprint\u001b[39m(user)\n",
      "\u001b[0;31mTypeError\u001b[0m: unhashable type: 'list'"
     ]
    }
   ],
   "source": [
    "# 键必须是不可变的----可变的列表，不能作为键\n",
    "user = {[1,2]: 1001, 'Jack': 1002, 'Tony': 1003}\n",
    "print(user)"
   ]
  },
  {
   "cell_type": "markdown",
   "id": "cabf7b11-f799-4656-940f-b62d4440bdfb",
   "metadata": {},
   "source": [
    "#### 5.1.2 获取某个键对应的值：dict[key]"
   ]
  },
  {
   "cell_type": "code",
   "execution_count": 3,
   "id": "3e136cc3-4577-455a-871c-4a8ec8b3e20b",
   "metadata": {},
   "outputs": [
    {
     "name": "stdout",
     "output_type": "stream",
     "text": [
      "1001\n"
     ]
    },
    {
     "ename": "KeyError",
     "evalue": "'Lucy'",
     "output_type": "error",
     "traceback": [
      "\u001b[0;31m---------------------------------------------------------------------------\u001b[0m",
      "\u001b[0;31mKeyError\u001b[0m                                  Traceback (most recent call last)",
      "Cell \u001b[0;32mIn[3], line 4\u001b[0m\n\u001b[1;32m      2\u001b[0m user \u001b[38;5;241m=\u001b[39m {\u001b[38;5;124m'\u001b[39m\u001b[38;5;124mJack\u001b[39m\u001b[38;5;124m'\u001b[39m: \u001b[38;5;241m1001\u001b[39m, \u001b[38;5;124m'\u001b[39m\u001b[38;5;124mLuck\u001b[39m\u001b[38;5;124m'\u001b[39m: \u001b[38;5;241m1002\u001b[39m, \u001b[38;5;124m'\u001b[39m\u001b[38;5;124mTony\u001b[39m\u001b[38;5;124m'\u001b[39m: \u001b[38;5;241m1003\u001b[39m}\n\u001b[1;32m      3\u001b[0m \u001b[38;5;28mprint\u001b[39m(user[\u001b[38;5;124m'\u001b[39m\u001b[38;5;124mJack\u001b[39m\u001b[38;5;124m'\u001b[39m])\n\u001b[0;32m----> 4\u001b[0m \u001b[38;5;28mprint\u001b[39m(\u001b[43muser\u001b[49m\u001b[43m[\u001b[49m\u001b[38;5;124;43m'\u001b[39;49m\u001b[38;5;124;43mLucy\u001b[39;49m\u001b[38;5;124;43m'\u001b[39;49m\u001b[43m]\u001b[49m)\n",
      "\u001b[0;31mKeyError\u001b[0m: 'Lucy'"
     ]
    }
   ],
   "source": [
    "# dict[key]------若key不存在，则报错\n",
    "user = {'Jack': 1001, 'Luck': 1002, 'Tony': 1003}\n",
    "print(user['Jack'])\n",
    "print(user['Lucy'])"
   ]
  },
  {
   "cell_type": "code",
   "execution_count": 44,
   "id": "8d31b574-6b3c-43e9-b30e-fb7a369b1743",
   "metadata": {},
   "outputs": [
    {
     "name": "stdout",
     "output_type": "stream",
     "text": [
      "1001\n",
      "None\n",
      "{'Jack': 1001, 'Luck': 1002, 'Tony': 1003}\n"
     ]
    }
   ],
   "source": [
    "# dict.get(key)------若key不存在，返回Node\n",
    "user = {'Jack': 1001, 'Luck': 1002, 'Tony': 1003}\n",
    "print(user.get('Jack'))\n",
    "print(user.get('Lucy'))\n",
    "print(user)"
   ]
  },
  {
   "cell_type": "markdown",
   "id": "2b409553-5c2f-4c74-8b84-fe44620b2a36",
   "metadata": {},
   "source": [
    "#### 5.1.3 修改某个键对应的值：dict[key] = newValue"
   ]
  },
  {
   "cell_type": "code",
   "execution_count": 10,
   "id": "8efbd2f9-0380-46ca-a10c-64bbeef27b25",
   "metadata": {},
   "outputs": [
    {
     "name": "stdout",
     "output_type": "stream",
     "text": [
      "1002\n",
      "1011\n",
      "{'Jack': 1001, 'Luck': 1011, 'Tony': 1003, 'Lucky': 1011}\n"
     ]
    }
   ],
   "source": [
    "# dict[key] = newValue --------- map.set()\n",
    "user = {'Jack': 1001, 'Luck': 1002, 'Tony': 1003}\n",
    "print(user.get('Luck'))\n",
    "user['Luck'] = 1011\n",
    "print(user.get('Luck'))\n",
    "\n",
    "user['Lucky'] = 1011 # 若修改时，不存在这个键，则默认为添加元素\n",
    "print(user)"
   ]
  },
  {
   "cell_type": "markdown",
   "id": "09721aff-8dec-446a-a80c-6a6b64c47b50",
   "metadata": {},
   "source": [
    "#### 5.1.4 增加键值对：dict[key] = value"
   ]
  },
  {
   "cell_type": "code",
   "execution_count": 11,
   "id": "6aadbaff-75b4-451f-adca-744039944e95",
   "metadata": {},
   "outputs": [
    {
     "name": "stdout",
     "output_type": "stream",
     "text": [
      "{'Jack': 1001, 'Luck': 1002, 'Tony': 1003}\n",
      "{'Jack': 1001, 'Luck': 1002, 'Tony': 1003, 'Lucky': 1011}\n"
     ]
    }
   ],
   "source": [
    "# dict[key] = Value --------- 与修改一样\n",
    "user = {'Jack': 1001, 'Luck': 1002, 'Tony': 1003}\n",
    "print(user)\n",
    "user['Lucky'] = 1011 # 若修改时，不存在这个键，则默认为添加元素\n",
    "print(user)"
   ]
  },
  {
   "cell_type": "markdown",
   "id": "4b6abb45-ef2d-4e03-a1f2-27d168350a98",
   "metadata": {},
   "source": [
    "#### 5.1.5 删除键值对：del dict[key]"
   ]
  },
  {
   "cell_type": "code",
   "execution_count": 14,
   "id": "cbe9abb0-e203-4d19-960a-53284e8c130c",
   "metadata": {},
   "outputs": [
    {
     "name": "stdout",
     "output_type": "stream",
     "text": [
      "{'Jack': 1001, 'Luck': 1002, 'Tony': 1003}\n",
      "{'Luck': 1002, 'Tony': 1003}\n"
     ]
    },
    {
     "ename": "KeyError",
     "evalue": "'Jack'",
     "output_type": "error",
     "traceback": [
      "\u001b[0;31m---------------------------------------------------------------------------\u001b[0m",
      "\u001b[0;31mKeyError\u001b[0m                                  Traceback (most recent call last)",
      "Cell \u001b[0;32mIn[14], line 7\u001b[0m\n\u001b[1;32m      4\u001b[0m \u001b[38;5;28;01mdel\u001b[39;00m user[\u001b[38;5;124m'\u001b[39m\u001b[38;5;124mJack\u001b[39m\u001b[38;5;124m'\u001b[39m]\n\u001b[1;32m      5\u001b[0m \u001b[38;5;28mprint\u001b[39m(user)\n\u001b[0;32m----> 7\u001b[0m \u001b[38;5;28;01mdel\u001b[39;00m user[\u001b[38;5;124m'\u001b[39m\u001b[38;5;124mJack\u001b[39m\u001b[38;5;124m'\u001b[39m] \u001b[38;5;66;03m# 若删除不存在的键，则报错\u001b[39;00m\n\u001b[1;32m      8\u001b[0m \u001b[38;5;28mprint\u001b[39m(user)\n",
      "\u001b[0;31mKeyError\u001b[0m: 'Jack'"
     ]
    }
   ],
   "source": [
    "# del dick[key] -------- 与列表删除元素类似\n",
    "user = {'Jack': 1001, 'Luck': 1002, 'Tony': 1003}\n",
    "print(user)\n",
    "del user['Jack']\n",
    "print(user)\n",
    "\n",
    "del user['Jack'] # 若删除不存在的键，则报错\n",
    "print(user)"
   ]
  },
  {
   "cell_type": "code",
   "execution_count": 22,
   "id": "93fd804c-5d81-4846-9e9e-c5447aaf632b",
   "metadata": {},
   "outputs": [
    {
     "name": "stdout",
     "output_type": "stream",
     "text": [
      "{'Jack': 1002, 'Tony': 1003}\n",
      "{'Tony': 1003}\n"
     ]
    },
    {
     "ename": "KeyError",
     "evalue": "'Jack'",
     "output_type": "error",
     "traceback": [
      "\u001b[0;31m---------------------------------------------------------------------------\u001b[0m",
      "\u001b[0;31mKeyError\u001b[0m                                  Traceback (most recent call last)",
      "Cell \u001b[0;32mIn[22], line 6\u001b[0m\n\u001b[1;32m      3\u001b[0m \u001b[38;5;28;01mdel\u001b[39;00m user[\u001b[38;5;124m'\u001b[39m\u001b[38;5;124mJack\u001b[39m\u001b[38;5;124m'\u001b[39m] \u001b[38;5;66;03m# 若构造时有重复的，构造出来的字典不会包含重复的键\u001b[39;00m\n\u001b[1;32m      4\u001b[0m \u001b[38;5;28mprint\u001b[39m(user)\n\u001b[0;32m----> 6\u001b[0m \u001b[38;5;28;01mdel\u001b[39;00m user[\u001b[38;5;124m'\u001b[39m\u001b[38;5;124mJack\u001b[39m\u001b[38;5;124m'\u001b[39m] \u001b[38;5;66;03m# 若构造时有重复的，构造出来的字典不会包含重复的键\u001b[39;00m\n\u001b[1;32m      7\u001b[0m \u001b[38;5;28mprint\u001b[39m(user)\n",
      "\u001b[0;31mKeyError\u001b[0m: 'Jack'"
     ]
    }
   ],
   "source": [
    "user = {'Jack': 1001, 'Jack': 1002, 'Tony': 1003}\n",
    "print(user)\n",
    "del user['Jack'] # 若构造时有重复的，构造出来的字典不会包含重复的键\n",
    "print(user)\n",
    "\n",
    "del user['Jack'] # 若构造时有重复的，构造出来的字典不会包含重复的键\n",
    "print(user)"
   ]
  },
  {
   "cell_type": "markdown",
   "id": "b0f81c01-d1fa-49ad-9c56-ffe38b664a4b",
   "metadata": {},
   "source": [
    "### 5.2 字典方法"
   ]
  },
  {
   "cell_type": "markdown",
   "id": "eed93ba1-89d6-42ba-aa32-09cfd0cf61a1",
   "metadata": {},
   "source": [
    "#### 5.2.1 清空字典：dict.clear()"
   ]
  },
  {
   "cell_type": "code",
   "execution_count": 25,
   "id": "a8110d04-43eb-439f-b635-25afe570071e",
   "metadata": {},
   "outputs": [
    {
     "name": "stdout",
     "output_type": "stream",
     "text": [
      "{'Jack': 1001, 'Luck': 1002, 'Tony': 1003}\n",
      "{}\n"
     ]
    }
   ],
   "source": [
    "# dict.clear()方法\n",
    "user = {'Jack': 1001, 'Luck': 1002, 'Tony': 1003}\n",
    "print(user)\n",
    "user.clear()\n",
    "print(user)"
   ]
  },
  {
   "cell_type": "code",
   "execution_count": 26,
   "id": "1f5e61e9-4dec-418f-9665-a1116fdacae6",
   "metadata": {},
   "outputs": [
    {
     "name": "stdout",
     "output_type": "stream",
     "text": [
      "{'Jack': 1001, 'Luck': 1002, 'Tony': 1003}\n",
      "{}\n"
     ]
    }
   ],
   "source": [
    "# dick = {}\n",
    "user = {'Jack': 1001, 'Luck': 1002, 'Tony': 1003}\n",
    "print(user)\n",
    "user = {}\n",
    "print(user)"
   ]
  },
  {
   "cell_type": "markdown",
   "id": "355f1ca3-0582-4c09-8567-95671514b929",
   "metadata": {},
   "source": [
    "#### 5.2.2 复制字典: dict.copy()"
   ]
  },
  {
   "cell_type": "code",
   "execution_count": 28,
   "id": "d13dfb56-2a17-4f06-8040-2eb03e1e7195",
   "metadata": {},
   "outputs": [
    {
     "name": "stdout",
     "output_type": "stream",
     "text": [
      "{'Jack': 1001, 'Luck': 1002, 'Tony': 1003}\n",
      "{'Jack': 1001, 'Luck': 1002, 'Tony': 1003}\n",
      "{'Jack': 1001, 'Luck': 1002, 'Tony': 1003}\n",
      "{'Jack': 1011, 'Luck': 1002, 'Tony': 1003}\n"
     ]
    }
   ],
   "source": [
    "# dict.copy()-----返回一个具有相同键值对的新字典\n",
    "d1 = {'Jack': 1001, 'Luck': 1002, 'Tony': 1003}\n",
    "d2 = d1.copy() # 浅拷贝\n",
    "print(d1)\n",
    "print(d2)\n",
    "\n",
    "d2['Jack'] = 1011\n",
    "print(d1)\n",
    "print(d2)"
   ]
  },
  {
   "cell_type": "code",
   "execution_count": 35,
   "id": "35e9b075-4f59-4478-8c99-8570e112ce07",
   "metadata": {},
   "outputs": [
    {
     "name": "stdout",
     "output_type": "stream",
     "text": [
      "{'Jack': 1001, 'Luck': 1002, 'Tony': 1003, 'num': [1, 2, 3]}\n",
      "{'Jack': 1001, 'Luck': 1002, 'Tony': 1003, 'num': [1, 2, 3]}\n",
      "{'Jack': 1001, 'Luck': 1002, 'Tony': 1003, 'num': [1, 2, 3]}\n",
      "{'Jack': 1011, 'Luck': 1002, 'Tony': 1003, 'num': [2, 3]}\n",
      "{'Jack': 1001, 'Luck': 1002, 'Tony': 1003, 'num': [2, 3]}\n",
      "{'Jack': 1011, 'Luck': 1002, 'Tony': 1003, 'num': [2, 3]}\n"
     ]
    }
   ],
   "source": [
    "# dict.copy()-----返回一个具有相同键值对的新字典\n",
    "d1 = {'Jack': 1001, 'Luck': 1002, 'Tony': 1003,'num':[1,2,3]}\n",
    "d2 = d1.copy() # 浅拷贝: 深拷贝父对象，则子对象不拷贝，还是引用\n",
    "d3 = d1 # 浅拷贝：引用（别名）\n",
    "print(d1)\n",
    "print(d2)\n",
    "print(d3)\n",
    "\n",
    "d1['Jack'] = 1011\n",
    "d1['num'].remove(1)\n",
    "print(d1)\n",
    "print(d2) # 父对象是深拷贝，所以d1['Jack']修改后，d2['Jack']不修改；子对象是浅拷贝，所以[1,2,3]修改后，同时修改\n",
    "print(d3) "
   ]
  },
  {
   "cell_type": "code",
   "execution_count": 38,
   "id": "f3a12059-783f-4d6a-be74-b041364a8d79",
   "metadata": {},
   "outputs": [
    {
     "name": "stdout",
     "output_type": "stream",
     "text": [
      "{'Jack': 1001, 'Luck': 1002, 'Tony': 1003, 'num': [1, 2, 3]}\n",
      "{'Jack': 1001, 'Luck': 1002, 'Tony': 1003, 'num': [1, 2, 3]}\n",
      "{'Jack': 1001, 'Luck': 1002, 'Tony': 1003, 'num': [1, 2, 3]}\n",
      "{'Jack': 1001, 'Luck': 1002, 'Tony': 1003, 'num': [1, 2, 3]}\n",
      "{'Jack': 1011, 'Luck': 1002, 'Tony': 1003, 'num': [2, 3]}\n",
      "{'Jack': 1001, 'Luck': 1002, 'Tony': 1003, 'num': [2, 3]}\n",
      "{'Jack': 1011, 'Luck': 1002, 'Tony': 1003, 'num': [2, 3]}\n",
      "{'Jack': 1001, 'Luck': 1002, 'Tony': 1003, 'num': [1, 2, 3]}\n"
     ]
    }
   ],
   "source": [
    "# deepcopy()-----深拷贝\n",
    "import copy\n",
    "d1 = {'Jack': 1001, 'Luck': 1002, 'Tony': 1003,'num':[1,2,3]}\n",
    "d2 = d1.copy() # 浅拷贝: 深拷贝父对象，则子对象不拷贝，还是引用\n",
    "d3 = d1 # 浅拷贝：引用（别名）\n",
    "d4 = copy.deepcopy(d1) #深拷贝：深拷贝父对象和子对象\n",
    "print(d1)\n",
    "print(d2)\n",
    "print(d3)\n",
    "print(d4)\n",
    "\n",
    "d1['Jack'] = 1011\n",
    "d1['num'].remove(1)\n",
    "print(d1)\n",
    "print(d2) # 父对象是深拷贝，所以d1['Jack']修改后，d2['Jack']不修改；子对象是浅拷贝，所以[1,2,3]修改后，同时修改\n",
    "print(d3) \n",
    "print(d4) "
   ]
  },
  {
   "cell_type": "markdown",
   "id": "fc84d397-df01-466f-ba18-6e39b958da0f",
   "metadata": {},
   "source": [
    "#### 5.2.3 更新字典：dict1.update(dict2)"
   ]
  },
  {
   "cell_type": "code",
   "execution_count": 39,
   "id": "63194314-e0ac-410d-aae4-025583cd616b",
   "metadata": {},
   "outputs": [
    {
     "name": "stdout",
     "output_type": "stream",
     "text": [
      "{'one': 1, 'two': 2, 'three': 3}\n",
      "{'one': 1, 'two': 2, 'three': 3.4, 'four': 4}\n",
      "{'three': 3.4, 'four': 4}\n"
     ]
    }
   ],
   "source": [
    "# 使用dict2更新dict1：若dict1中已有，则value被覆盖；若dict1中不存在，则添加\n",
    "d1 = {'one':1,'two':2,'three':3}\n",
    "d2 = {'three':3.4, 'four':4}\n",
    "print(d1)\n",
    "d1.update(d2)\n",
    "print(d1)\n",
    "print(d2)"
   ]
  },
  {
   "cell_type": "markdown",
   "id": "708c422e-8a60-4a88-9e4f-d61741b7b040",
   "metadata": {},
   "source": [
    "#### 5.2.4 创建新字典：dict.fromkeys(iterable, value=None)"
   ]
  },
  {
   "cell_type": "code",
   "execution_count": 40,
   "id": "2bb2d223-b1c3-4db7-81c6-97213c5feade",
   "metadata": {},
   "outputs": [
    {
     "name": "stdout",
     "output_type": "stream",
     "text": [
      "{'one': None, 'two': None, 'three': None}\n"
     ]
    }
   ],
   "source": [
    "ret = dict.fromkeys(['one','two','three'])\n",
    "print(ret)"
   ]
  },
  {
   "cell_type": "code",
   "execution_count": 43,
   "id": "a735e6d3-4aea-4cef-9679-1a5c38f32eb2",
   "metadata": {},
   "outputs": [
    {
     "name": "stdout",
     "output_type": "stream",
     "text": [
      "{'one': [1, 2, 3], 'two': [1, 2, 3], 'three': [1, 2, 3]}\n",
      "{'one': [1, 2, 3, 4], 'two': [1, 2, 3, 4], 'three': [1, 2, 3, 4]}\n"
     ]
    }
   ],
   "source": [
    "ret = dict.fromkeys(['one','two','three'],[1,2,3])\n",
    "print(ret)\n",
    "ret['one'].append(4)\n",
    "print(ret)"
   ]
  },
  {
   "cell_type": "markdown",
   "id": "05de4206-0a83-44b7-9eb1-133a80b40fb0",
   "metadata": {},
   "source": [
    "#### 5.2.5 设置默认值：setdefault()"
   ]
  },
  {
   "cell_type": "code",
   "execution_count": 46,
   "id": "de5e4eb9-58a7-4017-a7d8-374d21593762",
   "metadata": {},
   "outputs": [
    {
     "name": "stdout",
     "output_type": "stream",
     "text": [
      "{'Jack': 1001, 'Luck': 1002, 'Tony': 1003, 'num': [1, 2, 3]}\n",
      "1001\n",
      "{'Jack': 1001, 'Luck': 1002, 'Tony': 1003, 'num': [1, 2, 3]}\n",
      "1001\n"
     ]
    }
   ],
   "source": [
    "# dict.setdefault(key,value)-----类似于增加和get()\n",
    "d1 = {'Jack': 1001, 'Luck': 1002, 'Tony': 1003,'num':[1,2,3]}\n",
    "ret = d1.setdefault('Jack') #若键存在，则返回对应的值\n",
    "print(d1)\n",
    "print(ret)\n",
    "\n",
    "ret = d1.setdefault('Jack',1011) #若键存在，则返回对应的值\n",
    "print(d1)\n",
    "print(ret)"
   ]
  },
  {
   "cell_type": "code",
   "execution_count": 48,
   "id": "2a82adeb-fbd2-4436-9b29-84cb2875438d",
   "metadata": {},
   "outputs": [
    {
     "name": "stdout",
     "output_type": "stream",
     "text": [
      "{'Jack': 1001, 'Luck': 1002, 'Tony': 1003, 'num': [1, 2, 3], 'Jock': None}\n",
      "None\n",
      "{'Jack': 1001, 'Luck': 1002, 'Tony': 1003, 'num': [1, 2, 3], 'Jock': None, 'Tom': 1004}\n",
      "1004\n"
     ]
    }
   ],
   "source": [
    "d1 = {'Jack': 1001, 'Luck': 1002, 'Tony': 1003,'num':[1,2,3]}\n",
    "ret = d1.setdefault('Jock') #若键不存在，则增加\n",
    "print(d1)\n",
    "print(ret)\n",
    "\n",
    "ret = d1.setdefault('Tom',1004) #若键不存在，则增加\n",
    "print(d1)\n",
    "print(ret)"
   ]
  },
  {
   "cell_type": "markdown",
   "id": "50605458-f631-4d11-8532-f90fd77f32e8",
   "metadata": {},
   "source": [
    "#### 5.2.6 获取所有键：keys()"
   ]
  },
  {
   "cell_type": "code",
   "execution_count": 52,
   "id": "0376e1fd-08fd-401e-ada5-3861288684fa",
   "metadata": {},
   "outputs": [
    {
     "name": "stdout",
     "output_type": "stream",
     "text": [
      "dict_keys(['Jack', 'Luck', 'Tony', 'num'])\n",
      "<class 'dict_keys'>\n"
     ]
    }
   ],
   "source": [
    "d1 = {'Jack': 1001, 'Luck': 1002, 'Tony': 1003,'num':[1,2,3]}\n",
    "print(d1.keys()) # keys()方法返回的是一个可迭代对象：可以使用for-in来遍历；可以转化为list\n",
    "print(type(user.keys()))"
   ]
  },
  {
   "cell_type": "code",
   "execution_count": 53,
   "id": "6c604ca9-86f8-4d70-9685-ae0ada393ced",
   "metadata": {},
   "outputs": [
    {
     "name": "stdout",
     "output_type": "stream",
     "text": [
      "dict_keys(['Jack', 'Luck', 'Tony', 'num'])\n",
      "<class 'list'>\n"
     ]
    }
   ],
   "source": [
    "# 转化成列表\n",
    "d1 = {'Jack': 1001, 'Luck': 1002, 'Tony': 1003,'num':[1,2,3]}\n",
    "print(d1.keys()) # keys()方法返回的是一个可迭代对象：可以使用for-in来遍历；可以转化为list\n",
    "keys = list(d1.keys())\n",
    "print(type(keys))"
   ]
  },
  {
   "cell_type": "code",
   "execution_count": 55,
   "id": "002c5729-7f6e-4ba9-857a-a580d7d1ddaf",
   "metadata": {},
   "outputs": [
    {
     "name": "stdout",
     "output_type": "stream",
     "text": [
      "Jack : 1001\n",
      "Luck : 1002\n",
      "Tony : 1003\n",
      "num : [1, 2, 3]\n"
     ]
    }
   ],
   "source": [
    "# for-in遍历\n",
    "d1 = {'Jack': 1001, 'Luck': 1002, 'Tony': 1003,'num':[1,2,3]}\n",
    "for key in d1.keys():\n",
    "    print(key,\":\",d1.get(key))"
   ]
  },
  {
   "cell_type": "markdown",
   "id": "f0b42126-b971-4dbb-976f-4f00b55059ea",
   "metadata": {},
   "source": [
    "#### 5.2.7 获取所有值：values()"
   ]
  },
  {
   "cell_type": "code",
   "execution_count": 57,
   "id": "896ff77a-a6c3-4967-8cb2-ce3dfdf811df",
   "metadata": {},
   "outputs": [
    {
     "name": "stdout",
     "output_type": "stream",
     "text": [
      "dict_values([1001, 1002, 1003, [1, 2, 3]])\n",
      "<class 'dict_values'>\n"
     ]
    }
   ],
   "source": [
    "d1 = {'Jack': 1001, 'Luck': 1002, 'Tony': 1003,'num':[1,2,3]}\n",
    "print(d1.values())\n",
    "print(type(d1.values()))"
   ]
  },
  {
   "cell_type": "code",
   "execution_count": 58,
   "id": "bec89b8d-3042-4441-b6f9-17b733a389cd",
   "metadata": {},
   "outputs": [
    {
     "name": "stdout",
     "output_type": "stream",
     "text": [
      "dict_values([1001, 1002, 1003, [1, 2, 3]])\n",
      "<class 'list'>\n"
     ]
    }
   ],
   "source": [
    "# 转化成列表\n",
    "d1 = {'Jack': 1001, 'Luck': 1002, 'Tony': 1003,'num':[1,2,3]}\n",
    "print(d1.values())\n",
    "values = list(d1.values())\n",
    "print(type(values))"
   ]
  },
  {
   "cell_type": "code",
   "execution_count": 60,
   "id": "de37250e-5f70-4aed-bcee-7f858f3cc773",
   "metadata": {},
   "outputs": [
    {
     "name": "stdout",
     "output_type": "stream",
     "text": [
      "1001\n",
      "1002\n",
      "1003\n",
      "[1, 2, 3]\n"
     ]
    }
   ],
   "source": [
    "# for-in\n",
    "d1 = {'Jack': 1001, 'Luck': 1002, 'Tony': 1003,'num':[1,2,3]}\n",
    "for value in d1.values():\n",
    "    print(value)"
   ]
  },
  {
   "cell_type": "markdown",
   "id": "5b31e7ab-ccf9-4b46-87e7-3c7f0f6c0ddb",
   "metadata": {},
   "source": [
    "#### 5.2.8 获取所有键值对：items()"
   ]
  },
  {
   "cell_type": "code",
   "execution_count": 61,
   "id": "7cebae27-f11e-448c-97e9-b45615f3d899",
   "metadata": {},
   "outputs": [
    {
     "name": "stdout",
     "output_type": "stream",
     "text": [
      "dict_items([('Jack', 1001), ('Luck', 1002), ('Tony', 1003), ('num', [1, 2, 3])])\n"
     ]
    }
   ],
   "source": [
    "d1 = {'Jack': 1001, 'Luck': 1002, 'Tony': 1003,'num':[1,2,3]}\n",
    "print(d1.items())"
   ]
  },
  {
   "cell_type": "code",
   "execution_count": 62,
   "id": "69b92898-fda3-42df-b1f0-3fa37338ee02",
   "metadata": {},
   "outputs": [
    {
     "name": "stdout",
     "output_type": "stream",
     "text": [
      "dict_items([('Jack', 1001), ('Luck', 1002), ('Tony', 1003), ('num', [1, 2, 3])])\n",
      "<class 'list'>\n"
     ]
    }
   ],
   "source": [
    "# 转化成列表\n",
    "d1 = {'Jack': 1001, 'Luck': 1002, 'Tony': 1003,'num':[1,2,3]}\n",
    "print(d1.items())\n",
    "items = list(d1.items())\n",
    "print(type(items))"
   ]
  },
  {
   "cell_type": "code",
   "execution_count": 67,
   "id": "a9e0edf0-4dfc-45a4-bcff-6143a6b064ea",
   "metadata": {},
   "outputs": [
    {
     "name": "stdout",
     "output_type": "stream",
     "text": [
      "Jack: 1001\n",
      "Luck: 1002\n",
      "Tony: 1003\n",
      "num: [1, 2, 3]\n"
     ]
    }
   ],
   "source": [
    "# for-in遍历\n",
    "d1 = {'Jack': 1001, 'Luck': 1002, 'Tony': 1003,'num':[1,2,3]}\n",
    "for key,value in d1.items():\n",
    "    ret = f'{key}: {value}'\n",
    "    print(ret)"
   ]
  },
  {
   "cell_type": "markdown",
   "id": "df7ee91e-cc20-44f1-a005-1494f8a5210a",
   "metadata": {},
   "source": [
    "### 5.3 更多操作"
   ]
  },
  {
   "cell_type": "markdown",
   "id": "528aa642-23e4-409e-ba6d-2e8ebea41b3a",
   "metadata": {},
   "source": [
    "#### 5.3.1 获取长度：len()-----键值对的个数"
   ]
  },
  {
   "cell_type": "code",
   "execution_count": 69,
   "id": "0ace99aa-15c4-4415-80fa-7bd4ce4025f7",
   "metadata": {},
   "outputs": [
    {
     "name": "stdout",
     "output_type": "stream",
     "text": [
      "4\n"
     ]
    }
   ],
   "source": [
    "d1 = {'Jack': 1001, 'Luck': 1002, 'Tony': 1003,'num':[1,2,3]}\n",
    "print(len(d1))"
   ]
  },
  {
   "cell_type": "markdown",
   "id": "e6a551fc-7a04-43e0-8cb7-7fb920f77cd1",
   "metadata": {},
   "source": [
    "#### 5.3.2 检索字典：in、not in"
   ]
  },
  {
   "cell_type": "code",
   "execution_count": 72,
   "id": "3a77ad08-876f-47a4-b799-179922ecfd86",
   "metadata": {},
   "outputs": [
    {
     "name": "stdout",
     "output_type": "stream",
     "text": [
      "True\n",
      "False\n"
     ]
    }
   ],
   "source": [
    "# 通过“键”来判断是否存在\n",
    "d1 = {'Jack': 1001, 'Luck': 1002, 'Tony': 1003,'num':[1,2,3]}\n",
    "print('Jack' in d1)\n",
    "print('Jacky' in d1)"
   ]
  },
  {
   "cell_type": "code",
   "execution_count": 73,
   "id": "7dbb1857-5604-43f5-8891-fe9c30fe066e",
   "metadata": {},
   "outputs": [
    {
     "name": "stdout",
     "output_type": "stream",
     "text": [
      "False\n",
      "True\n"
     ]
    }
   ],
   "source": [
    "d1 = {'Jack': 1001, 'Luck': 1002, 'Tony': 1003,'num':[1,2,3]}\n",
    "print('Jack' not in d1)\n",
    "print('Jacky' not in d1)"
   ]
  },
  {
   "cell_type": "markdown",
   "id": "9c68d41b-4b72-4907-97c4-bd215e47852e",
   "metadata": {},
   "source": [
    "#### 5.3.3 合并字典：｜"
   ]
  },
  {
   "cell_type": "code",
   "execution_count": 74,
   "id": "afe12181-523d-41cc-bd7d-46130dcbc032",
   "metadata": {},
   "outputs": [
    {
     "name": "stdout",
     "output_type": "stream",
     "text": [
      "{'one': 1, 'two': 2, 'three': 3}\n",
      "{'one': 1, 'two': 2, 'three': 3.4, 'four': 4}\n",
      "{'three': 3.4, 'four': 4}\n"
     ]
    }
   ],
   "source": [
    "d1 = {'one':1,'two':2,'three':3}\n",
    "d2 = {'three':3.4, 'four':4}\n",
    "print(d1)\n",
    "d1.update(d2)\n",
    "print(d1)\n",
    "print(d2)"
   ]
  },
  {
   "cell_type": "code",
   "execution_count": 78,
   "id": "1d92bb10-2476-4767-8246-12cb86dfdca9",
   "metadata": {},
   "outputs": [
    {
     "name": "stdout",
     "output_type": "stream",
     "text": [
      "{'one': 1, 'two': 2, 'three': 3}\n",
      "{'three': 3.4, 'four': 4}\n",
      "{'one': 1, 'two': 2, 'three': 3}\n",
      "{'three': 3.4, 'four': 4}\n",
      "{'one': 1, 'two': 2, 'three': 3.4, 'four': 4}\n"
     ]
    }
   ],
   "source": [
    "d1 = {'one':1,'two':2,'three':3}\n",
    "d2 = {'three':3.4, 'four':4}\n",
    "print(d1)\n",
    "print(d2)\n",
    "\n",
    "ret = d1 | d2 # 不改变d1和d2\n",
    "print(d1) \n",
    "print(d2)\n",
    "print(ret)"
   ]
  },
  {
   "cell_type": "markdown",
   "id": "5aebc1f6-dbfc-4af0-967d-467dd48a606d",
   "metadata": {},
   "source": [
    "#### 5.3.4 字典推导式"
   ]
  },
  {
   "cell_type": "code",
   "execution_count": 79,
   "id": "1c7a6c98-39f6-47d5-9a40-9b5d9288b8b2",
   "metadata": {},
   "outputs": [
    {
     "name": "stdout",
     "output_type": "stream",
     "text": [
      "{'a': 1, 'b': 2, 'c': 3}\n"
     ]
    }
   ],
   "source": [
    "# 字典名 = {key:value for (key,value) in seq}\n",
    "items = [('a',1),('b',2),('c',3)]\n",
    "ret = {key:value for (key,value) in items}\n",
    "print(ret)"
   ]
  },
  {
   "cell_type": "code",
   "execution_count": 80,
   "id": "8004007b-e9d3-4467-9c2a-a4ce32572713",
   "metadata": {},
   "outputs": [
    {
     "name": "stdout",
     "output_type": "stream",
     "text": [
      "{'Jack': 1001, 'Lucy': 1002, 'Tony': 1003}\n"
     ]
    }
   ],
   "source": [
    "names = ['Jack','Lucy','Tony']\n",
    "ids = [1001,1002,1003]\n",
    "ret = {name:value for (name,value) in zip(names,ids)}\n",
    "print(ret)"
   ]
  },
  {
   "cell_type": "markdown",
   "id": "c5f76efa-7123-4a66-939e-b3ce239455d5",
   "metadata": {},
   "source": [
    "### 5.4 集合"
   ]
  },
  {
   "cell_type": "markdown",
   "id": "9c80237e-2caf-48b3-8fc1-08b09ed4992f",
   "metadata": {},
   "source": [
    "##### 集合与字典非常类似，也使用大括号“{}”来创建"
   ]
  },
  {
   "cell_type": "code",
   "execution_count": 9,
   "id": "625fcfb9-a3fc-4664-9437-f51795ee8351",
   "metadata": {},
   "outputs": [
    {
     "name": "stdout",
     "output_type": "stream",
     "text": [
      "<class 'set'>\n",
      "<class 'dict'>\n"
     ]
    }
   ],
   "source": [
    "items= set() # 空集合不能使用{}来创建，因为{}创建的是字典\n",
    "print(type(items))\n",
    "items = {}\n",
    "print(type(items))"
   ]
  },
  {
   "cell_type": "code",
   "execution_count": 10,
   "id": "ae6cb1b2-c232-451d-a640-fbf0f20051c0",
   "metadata": {},
   "outputs": [
    {
     "name": "stdout",
     "output_type": "stream",
     "text": [
      "{1, 2, 3, 4, 5}\n"
     ]
    }
   ],
   "source": [
    "items = {1,2,3,5,4,3} # 集合不会出现相同的元素，会自动去重\n",
    "print(items) # 虽然会按从小到大排列，但集合是无序的"
   ]
  },
  {
   "cell_type": "markdown",
   "id": "b62ccb35-b6ff-43e9-835b-67da18fad66a",
   "metadata": {},
   "source": [
    "#### 5.4.1 基本操作"
   ]
  },
  {
   "cell_type": "code",
   "execution_count": 11,
   "id": "3f7419df-a931-4360-9f49-4111e959524e",
   "metadata": {},
   "outputs": [
    {
     "name": "stdout",
     "output_type": "stream",
     "text": [
      "5\n"
     ]
    }
   ],
   "source": [
    "# 获取集合长度\n",
    "items = {1,2,3,5,4,3}\n",
    "print(len(items))"
   ]
  },
  {
   "cell_type": "code",
   "execution_count": 13,
   "id": "91941362-4571-4b22-b3a0-90d6edf97926",
   "metadata": {},
   "outputs": [
    {
     "name": "stdout",
     "output_type": "stream",
     "text": [
      "True\n",
      "False\n",
      "False\n",
      "True\n"
     ]
    }
   ],
   "source": [
    "# 判断是否包含\n",
    "items = {1,2,3,5,4,3}\n",
    "print(1 in items)\n",
    "print(1 not in items)\n",
    "print(10 in items)\n",
    "print(10 not in items)"
   ]
  },
  {
   "cell_type": "code",
   "execution_count": 17,
   "id": "6fa37353-f38d-4e6f-be88-dff15caa5f77",
   "metadata": {},
   "outputs": [
    {
     "name": "stdout",
     "output_type": "stream",
     "text": [
      "<class 'set'>\n",
      "{1, 2, 3, 4, 5}\n",
      "<class 'list'>\n",
      "[1, 2, 3, 4, 5]\n"
     ]
    }
   ],
   "source": [
    "# 将集合转化为列表\n",
    "items = {1,2,3,5,4,3}\n",
    "print(type(items))\n",
    "print(items)\n",
    "ret = list(items)\n",
    "print(type(ret))\n",
    "print(ret)"
   ]
  },
  {
   "cell_type": "code",
   "execution_count": 19,
   "id": "c209a68d-69f5-4ef7-b462-8f6344a91ee6",
   "metadata": {},
   "outputs": [
    {
     "name": "stdout",
     "output_type": "stream",
     "text": [
      "{1, 2, 3, 4, 5}\n",
      "{1, 2, 3, 4, 5, 6}\n",
      "{1, 2, 3, 4, 5, 6}\n"
     ]
    }
   ],
   "source": [
    "# 向集合中添加元素\n",
    "items = {1,2,3,5,4,3}\n",
    "print(items)\n",
    "items.add(6)\n",
    "print(items)\n",
    "items.add(3)\n",
    "print(items)"
   ]
  },
  {
   "cell_type": "code",
   "execution_count": 21,
   "id": "9ea85114-ddfa-4301-9a21-3232ab7b727e",
   "metadata": {},
   "outputs": [
    {
     "name": "stdout",
     "output_type": "stream",
     "text": [
      "{1, 2, 3, 4, 5}\n",
      "{1, 2, 4, 5}\n"
     ]
    },
    {
     "ename": "KeyError",
     "evalue": "6",
     "output_type": "error",
     "traceback": [
      "\u001b[0;31m---------------------------------------------------------------------------\u001b[0m",
      "\u001b[0;31mKeyError\u001b[0m                                  Traceback (most recent call last)",
      "Cell \u001b[0;32mIn[21], line 6\u001b[0m\n\u001b[1;32m      4\u001b[0m items\u001b[38;5;241m.\u001b[39mremove(\u001b[38;5;241m3\u001b[39m)\n\u001b[1;32m      5\u001b[0m \u001b[38;5;28mprint\u001b[39m(items)\n\u001b[0;32m----> 6\u001b[0m \u001b[43mitems\u001b[49m\u001b[38;5;241;43m.\u001b[39;49m\u001b[43mremove\u001b[49m\u001b[43m(\u001b[49m\u001b[38;5;241;43m6\u001b[39;49m\u001b[43m)\u001b[49m \u001b[38;5;66;03m# 元素不存在，会报错\u001b[39;00m\n\u001b[1;32m      7\u001b[0m \u001b[38;5;28mprint\u001b[39m(items)\n",
      "\u001b[0;31mKeyError\u001b[0m: 6"
     ]
    }
   ],
   "source": [
    "# 从集合中删除元素\n",
    "items = {1,2,3,5,4,3}\n",
    "print(items)\n",
    "items.remove(3)\n",
    "print(items)\n",
    "items.remove(6) # 元素不存在，会报错\n",
    "print(items)"
   ]
  },
  {
   "cell_type": "code",
   "execution_count": 22,
   "id": "158285dd-1ec2-4696-9e3d-3eb17ebe2a54",
   "metadata": {},
   "outputs": [
    {
     "name": "stdout",
     "output_type": "stream",
     "text": [
      "{1, 2, 3, 4, 5}\n",
      "{1, 2, 4, 5}\n",
      "{1, 2, 4, 5}\n"
     ]
    }
   ],
   "source": [
    "items = {1,2,3,5,4,3}\n",
    "print(items)\n",
    "items.discard(3) \n",
    "print(items)\n",
    "items.discard(6) # 使用discard删除不存在的元素，不报错，也不执行任何操作\n",
    "print(items)"
   ]
  },
  {
   "cell_type": "code",
   "execution_count": 62,
   "id": "7cade4a4-3593-4513-a533-29df45637b21",
   "metadata": {},
   "outputs": [
    {
     "name": "stdout",
     "output_type": "stream",
     "text": [
      "{2, 3, 4, 5, 'dog', 'cat'}\n",
      "{2, 3, 4, 5, 'dog', 'cat'}\n",
      "{2, 3, 4, 5, 'dog', 'cat'}\n",
      "{2, 3, 4, 5, 'dog', 'cat'}\n",
      "{2, 3, 4, 5, 'dog', 'cat'}\n",
      "{2, 3, 4, 5, 'dog', 'cat'}\n",
      "{2, 3, 4, 5, 'dog', 'cat'}\n",
      "{2, 3, 4, 5, 'dog', 'cat'}\n",
      "{2, 3, 4, 5, 'dog', 'cat'}\n",
      "{2, 3, 4, 5, 'dog', 'cat'}\n",
      "{2, 3, 4, 5, 'dog', 'cat'}\n",
      "{2, 3, 4, 5, 'dog', 'cat'}\n",
      "{2, 3, 4, 5, 'dog', 'cat'}\n",
      "{2, 3, 4, 5, 'dog', 'cat'}\n",
      "{2, 3, 4, 5, 'dog', 'cat'}\n",
      "{2, 3, 4, 5, 'dog', 'cat'}\n",
      "{2, 3, 4, 5, 'dog', 'cat'}\n",
      "{2, 3, 4, 5, 'dog', 'cat'}\n",
      "{2, 3, 4, 5, 'dog', 'cat'}\n",
      "{2, 3, 4, 5, 'dog', 'cat'}\n",
      "{2, 3, 4, 5, 'dog', 'cat'}\n",
      "{2, 3, 4, 5, 'dog', 'cat'}\n",
      "{2, 3, 4, 5, 'dog', 'cat'}\n",
      "{2, 3, 4, 5, 'dog', 'cat'}\n",
      "{2, 3, 4, 5, 'dog', 'cat'}\n",
      "{2, 3, 4, 5, 'dog', 'cat'}\n",
      "{2, 3, 4, 5, 'dog', 'cat'}\n",
      "{2, 3, 4, 5, 'dog', 'cat'}\n",
      "{2, 3, 4, 5, 'dog', 'cat'}\n",
      "{2, 3, 4, 5, 'dog', 'cat'}\n",
      "{2, 3, 4, 5, 'dog', 'cat'}\n",
      "{2, 3, 4, 5, 'dog', 'cat'}\n",
      "{2, 3, 4, 5, 'dog', 'cat'}\n",
      "{2, 3, 4, 5, 'dog', 'cat'}\n",
      "{2, 3, 4, 5, 'dog', 'cat'}\n",
      "{2, 3, 4, 5, 'dog', 'cat'}\n",
      "{2, 3, 4, 5, 'dog', 'cat'}\n",
      "{2, 3, 4, 5, 'dog', 'cat'}\n",
      "{2, 3, 4, 5, 'dog', 'cat'}\n",
      "{2, 3, 4, 5, 'dog', 'cat'}\n",
      "{2, 3, 4, 5, 'dog', 'cat'}\n",
      "{2, 3, 4, 5, 'dog', 'cat'}\n",
      "{2, 3, 4, 5, 'dog', 'cat'}\n",
      "{2, 3, 4, 5, 'dog', 'cat'}\n",
      "{2, 3, 4, 5, 'dog', 'cat'}\n",
      "{2, 3, 4, 5, 'dog', 'cat'}\n",
      "{2, 3, 4, 5, 'dog', 'cat'}\n",
      "{2, 3, 4, 5, 'dog', 'cat'}\n",
      "{2, 3, 4, 5, 'dog', 'cat'}\n",
      "{2, 3, 4, 5, 'dog', 'cat'}\n",
      "{2, 3, 4, 5, 'dog', 'cat'}\n",
      "{2, 3, 4, 5, 'dog', 'cat'}\n",
      "{2, 3, 4, 5, 'dog', 'cat'}\n",
      "{2, 3, 4, 5, 'dog', 'cat'}\n",
      "{2, 3, 4, 5, 'dog', 'cat'}\n",
      "{2, 3, 4, 5, 'dog', 'cat'}\n",
      "{2, 3, 4, 5, 'dog', 'cat'}\n",
      "{2, 3, 4, 5, 'dog', 'cat'}\n",
      "{2, 3, 4, 5, 'dog', 'cat'}\n",
      "{2, 3, 4, 5, 'dog', 'cat'}\n",
      "{2, 3, 4, 5, 'dog', 'cat'}\n",
      "{2, 3, 4, 5, 'dog', 'cat'}\n",
      "{2, 3, 4, 5, 'dog', 'cat'}\n",
      "{2, 3, 4, 5, 'dog', 'cat'}\n",
      "{2, 3, 4, 5, 'dog', 'cat'}\n",
      "{2, 3, 4, 5, 'dog', 'cat'}\n",
      "{2, 3, 4, 5, 'dog', 'cat'}\n",
      "{2, 3, 4, 5, 'dog', 'cat'}\n",
      "{2, 3, 4, 5, 'dog', 'cat'}\n",
      "{2, 3, 4, 5, 'dog', 'cat'}\n",
      "{2, 3, 4, 5, 'dog', 'cat'}\n",
      "{2, 3, 4, 5, 'dog', 'cat'}\n",
      "{2, 3, 4, 5, 'dog', 'cat'}\n",
      "{2, 3, 4, 5, 'dog', 'cat'}\n",
      "{2, 3, 4, 5, 'dog', 'cat'}\n",
      "{2, 3, 4, 5, 'dog', 'cat'}\n",
      "{2, 3, 4, 5, 'dog', 'cat'}\n",
      "{2, 3, 4, 5, 'dog', 'cat'}\n",
      "{2, 3, 4, 5, 'dog', 'cat'}\n",
      "{2, 3, 4, 5, 'dog', 'cat'}\n",
      "{2, 3, 4, 5, 'dog', 'cat'}\n",
      "{2, 3, 4, 5, 'dog', 'cat'}\n",
      "{2, 3, 4, 5, 'dog', 'cat'}\n",
      "{2, 3, 4, 5, 'dog', 'cat'}\n",
      "{2, 3, 4, 5, 'dog', 'cat'}\n",
      "{2, 3, 4, 5, 'dog', 'cat'}\n",
      "{2, 3, 4, 5, 'dog', 'cat'}\n",
      "{2, 3, 4, 5, 'dog', 'cat'}\n",
      "{2, 3, 4, 5, 'dog', 'cat'}\n",
      "{2, 3, 4, 5, 'dog', 'cat'}\n",
      "{2, 3, 4, 5, 'dog', 'cat'}\n",
      "{2, 3, 4, 5, 'dog', 'cat'}\n",
      "{2, 3, 4, 5, 'dog', 'cat'}\n",
      "{2, 3, 4, 5, 'dog', 'cat'}\n",
      "{2, 3, 4, 5, 'dog', 'cat'}\n",
      "{2, 3, 4, 5, 'dog', 'cat'}\n",
      "{2, 3, 4, 5, 'dog', 'cat'}\n",
      "{2, 3, 4, 5, 'dog', 'cat'}\n",
      "{2, 3, 4, 5, 'dog', 'cat'}\n",
      "{2, 3, 4, 5, 'dog', 'cat'}\n",
      "{'ccc', 'ddd', 'aaa'}\n",
      "{'ccc', 'ddd', 'aaa'}\n",
      "{'ccc', 'ddd', 'aaa'}\n",
      "{'ccc', 'ddd', 'aaa'}\n",
      "{'ccc', 'ddd', 'aaa'}\n",
      "{'ccc', 'ddd', 'aaa'}\n",
      "{'ccc', 'ddd', 'aaa'}\n",
      "{'ccc', 'ddd', 'aaa'}\n",
      "{'ccc', 'ddd', 'aaa'}\n",
      "{'ccc', 'ddd', 'aaa'}\n",
      "{'ccc', 'ddd', 'aaa'}\n",
      "{'ccc', 'ddd', 'aaa'}\n",
      "{'ccc', 'ddd', 'aaa'}\n",
      "{'ccc', 'ddd', 'aaa'}\n",
      "{'ccc', 'ddd', 'aaa'}\n",
      "{'ccc', 'ddd', 'aaa'}\n",
      "{'ccc', 'ddd', 'aaa'}\n",
      "{'ccc', 'ddd', 'aaa'}\n",
      "{'ccc', 'ddd', 'aaa'}\n",
      "{'ccc', 'ddd', 'aaa'}\n",
      "{'ccc', 'ddd', 'aaa'}\n",
      "{'ccc', 'ddd', 'aaa'}\n",
      "{'ccc', 'ddd', 'aaa'}\n",
      "{'ccc', 'ddd', 'aaa'}\n",
      "{'ccc', 'ddd', 'aaa'}\n",
      "{'ccc', 'ddd', 'aaa'}\n",
      "{'ccc', 'ddd', 'aaa'}\n",
      "{'ccc', 'ddd', 'aaa'}\n",
      "{'ccc', 'ddd', 'aaa'}\n",
      "{'ccc', 'ddd', 'aaa'}\n",
      "{'ccc', 'ddd', 'aaa'}\n",
      "{'ccc', 'ddd', 'aaa'}\n",
      "{'ccc', 'ddd', 'aaa'}\n",
      "{'ccc', 'ddd', 'aaa'}\n",
      "{'ccc', 'ddd', 'aaa'}\n",
      "{'ccc', 'ddd', 'aaa'}\n",
      "{'ccc', 'ddd', 'aaa'}\n",
      "{'ccc', 'ddd', 'aaa'}\n",
      "{'ccc', 'ddd', 'aaa'}\n",
      "{'ccc', 'ddd', 'aaa'}\n",
      "{'ccc', 'ddd', 'aaa'}\n",
      "{'ccc', 'ddd', 'aaa'}\n",
      "{'ccc', 'ddd', 'aaa'}\n",
      "{'ccc', 'ddd', 'aaa'}\n",
      "{'ccc', 'ddd', 'aaa'}\n",
      "{'ccc', 'ddd', 'aaa'}\n",
      "{'ccc', 'ddd', 'aaa'}\n",
      "{'ccc', 'ddd', 'aaa'}\n",
      "{'ccc', 'ddd', 'aaa'}\n",
      "{'ccc', 'ddd', 'aaa'}\n",
      "{'ccc', 'ddd', 'aaa'}\n",
      "{'ccc', 'ddd', 'aaa'}\n",
      "{'ccc', 'ddd', 'aaa'}\n",
      "{'ccc', 'ddd', 'aaa'}\n",
      "{'ccc', 'ddd', 'aaa'}\n",
      "{'ccc', 'ddd', 'aaa'}\n",
      "{'ccc', 'ddd', 'aaa'}\n",
      "{'ccc', 'ddd', 'aaa'}\n",
      "{'ccc', 'ddd', 'aaa'}\n",
      "{'ccc', 'ddd', 'aaa'}\n",
      "{'ccc', 'ddd', 'aaa'}\n",
      "{'ccc', 'ddd', 'aaa'}\n",
      "{'ccc', 'ddd', 'aaa'}\n",
      "{'ccc', 'ddd', 'aaa'}\n",
      "{'ccc', 'ddd', 'aaa'}\n",
      "{'ccc', 'ddd', 'aaa'}\n",
      "{'ccc', 'ddd', 'aaa'}\n",
      "{'ccc', 'ddd', 'aaa'}\n",
      "{'ccc', 'ddd', 'aaa'}\n",
      "{'ccc', 'ddd', 'aaa'}\n",
      "{'ccc', 'ddd', 'aaa'}\n",
      "{'ccc', 'ddd', 'aaa'}\n",
      "{'ccc', 'ddd', 'aaa'}\n",
      "{'ccc', 'ddd', 'aaa'}\n",
      "{'ccc', 'ddd', 'aaa'}\n",
      "{'ccc', 'ddd', 'aaa'}\n",
      "{'ccc', 'ddd', 'aaa'}\n",
      "{'ccc', 'ddd', 'aaa'}\n",
      "{'ccc', 'ddd', 'aaa'}\n",
      "{'ccc', 'ddd', 'aaa'}\n",
      "{'ccc', 'ddd', 'aaa'}\n",
      "{'ccc', 'ddd', 'aaa'}\n",
      "{'ccc', 'ddd', 'aaa'}\n",
      "{'ccc', 'ddd', 'aaa'}\n",
      "{'ccc', 'ddd', 'aaa'}\n",
      "{'ccc', 'ddd', 'aaa'}\n",
      "{'ccc', 'ddd', 'aaa'}\n",
      "{'ccc', 'ddd', 'aaa'}\n",
      "{'ccc', 'ddd', 'aaa'}\n",
      "{'ccc', 'ddd', 'aaa'}\n",
      "{'ccc', 'ddd', 'aaa'}\n",
      "{'ccc', 'ddd', 'aaa'}\n",
      "{'ccc', 'ddd', 'aaa'}\n",
      "{'ccc', 'ddd', 'aaa'}\n",
      "{'ccc', 'ddd', 'aaa'}\n",
      "{'ccc', 'ddd', 'aaa'}\n",
      "{'ccc', 'ddd', 'aaa'}\n",
      "{'ccc', 'ddd', 'aaa'}\n",
      "{'ccc', 'ddd', 'aaa'}\n",
      "{'ccc', 'ddd', 'aaa'}\n"
     ]
    }
   ],
   "source": [
    "# 使用pop()随机删除一个元素------需多次运行，观察结果\n",
    "for i in range(100):\n",
    "    items = {2,3,5,1,'cat',4,3,'dog'} # 1总是排在第一位，所以总是删除1\n",
    "    items.pop() \n",
    "    print(items)\n",
    "\n",
    "for i in range(100):\n",
    "    items = {'aaa','bbb','ccc','ddd'} # 仍然观察不到随机现象，所以pop()本质上是删除排在第一位的元素-------回顾出栈\n",
    "    items.pop() \n",
    "    print(items)"
   ]
  },
  {
   "cell_type": "code",
   "execution_count": 64,
   "id": "fa54c667-1f08-486d-a821-add6292a1a6b",
   "metadata": {},
   "outputs": [
    {
     "name": "stdout",
     "output_type": "stream",
     "text": [
      "{1, 2, 3, 4, 5, 'dog', 'cat'}\n",
      "set()\n"
     ]
    }
   ],
   "source": [
    "# 清空集合\n",
    "items = {2,3,5,1,'cat',4,3,'dog'}\n",
    "print(items)\n",
    "items.clear()\n",
    "print(items)"
   ]
  },
  {
   "cell_type": "code",
   "execution_count": 65,
   "id": "5db88bda-8790-4f30-bf59-a7de1523d49f",
   "metadata": {},
   "outputs": [
    {
     "name": "stdout",
     "output_type": "stream",
     "text": [
      "{1, 2, 3, 4, 5, 'dog', 'cat'}\n",
      "set()\n"
     ]
    }
   ],
   "source": [
    "items = {2,3,5,1,'cat',4,3,'dog'}\n",
    "print(items)\n",
    "items = set()\n",
    "print(items)"
   ]
  },
  {
   "cell_type": "markdown",
   "id": "6a4d10d0-5335-41a5-a9c9-49bbc050f55e",
   "metadata": {},
   "source": [
    "#### 5.4.2 集合之间的操作"
   ]
  },
  {
   "cell_type": "code",
   "execution_count": 68,
   "id": "e27b7f22-d586-4197-9376-1fc716410b62",
   "metadata": {},
   "outputs": [
    {
     "name": "stdout",
     "output_type": "stream",
     "text": [
      "{1, 2, 'cat'}\n",
      "set()\n"
     ]
    }
   ],
   "source": [
    "# 求交集\n",
    "items = {2,3,5,1,'cat',4,3,'dog'} & {'cat',1,2,10}\n",
    "print(items)\n",
    "items = {2,3,5,1,'cat',4,3,'dog'} & {'red',11,12,10}\n",
    "print(items)"
   ]
  },
  {
   "cell_type": "code",
   "execution_count": 70,
   "id": "17c1045f-acfa-4200-a026-3040b9e023b3",
   "metadata": {},
   "outputs": [
    {
     "name": "stdout",
     "output_type": "stream",
     "text": [
      "{1, 2, 3, 4, 5, 'dog', 'cat'}\n",
      "{1, 2, 3, 4, 5, 'red', 11, 10, 12, 'dog', 'cat'}\n"
     ]
    }
   ],
   "source": [
    "# 求并集\n",
    "items = {2,3,5,1,'cat',4,3,'dog'} | {'cat',1,2,4}\n",
    "print(items)\n",
    "items = {2,3,5,1,'cat',4,3,'dog'} | {'red',11,12,10}\n",
    "print(items)"
   ]
  },
  {
   "cell_type": "code",
   "execution_count": 72,
   "id": "6a57764e-31f2-4fbb-b31d-078532c6b35d",
   "metadata": {},
   "outputs": [
    {
     "name": "stdout",
     "output_type": "stream",
     "text": [
      "{'dog', 3, 5}\n",
      "{3, 4, 5, 'dog', 'cat'}\n"
     ]
    }
   ],
   "source": [
    "# 求差集\n",
    "items = {2,3,5,1,'cat',4,3,'dog'}  - {'cat',1,2,4}\n",
    "print(items)\n",
    "items = {2,3,5,1,'cat',4,3,'dog'} - {'red',1,2,10}\n",
    "print(items)"
   ]
  },
  {
   "cell_type": "markdown",
   "id": "169f15f1-a2ee-421e-bb5b-4739ed05de8f",
   "metadata": {},
   "source": [
    "#### 5.4.3 集合推导式"
   ]
  },
  {
   "cell_type": "code",
   "execution_count": 73,
   "id": "379042bf-b69a-4dbe-9ef2-8a2cc5715179",
   "metadata": {},
   "outputs": [
    {
     "name": "stdout",
     "output_type": "stream",
     "text": [
      "{11, 12, 13, 14, 15}\n"
     ]
    }
   ],
   "source": [
    "# 集合名 = {表达式 for 变量名 in 可迭代对象}\n",
    "nums = {n+10 for n in range(1,6) }\n",
    "print(nums)"
   ]
  },
  {
   "cell_type": "code",
   "execution_count": 74,
   "id": "fd9d8c37-1bd9-4c81-9a17-0d3ec1e95165",
   "metadata": {},
   "outputs": [
    {
     "name": "stdout",
     "output_type": "stream",
     "text": [
      "{12, 14}\n"
     ]
    }
   ],
   "source": [
    "nums = {n+10 for n in range(1,6) if n%2==0}\n",
    "print(nums)"
   ]
  },
  {
   "cell_type": "markdown",
   "id": "208ec78a-9866-4cd4-9ad1-74d52c49071a",
   "metadata": {},
   "source": [
    "#### 5.4.4 列表去重"
   ]
  },
  {
   "cell_type": "code",
   "execution_count": 76,
   "id": "a67f3a74-751e-4064-bfcc-87f5cefaf25b",
   "metadata": {},
   "outputs": [
    {
     "name": "stdout",
     "output_type": "stream",
     "text": [
      "['red', 'black', 'red', 1, 2, 2, False]\n",
      "['red', 'black', 1, 2, False]\n"
     ]
    }
   ],
   "source": [
    "# 常规做法\n",
    "items = ['red','black','red',1,2,2,False]\n",
    "print(items)\n",
    "ret = []\n",
    "for item in items:\n",
    "    if item not in ret:\n",
    "        ret.append(item)\n",
    "print(ret)"
   ]
  },
  {
   "cell_type": "code",
   "execution_count": 77,
   "id": "a9fc721c-f97d-4372-b105-e67fc17d1924",
   "metadata": {},
   "outputs": [
    {
     "name": "stdout",
     "output_type": "stream",
     "text": [
      "['red', 'black', 'red', 1, 2, 2, False]\n",
      "{False, 1, 2, 'black', 'red'}\n"
     ]
    }
   ],
   "source": [
    "# 利用set\n",
    "items = ['red','black','red',1,2,2,False]\n",
    "print(items)\n",
    "ret = {item for item in items} # 推导式\n",
    "print(ret)"
   ]
  },
  {
   "cell_type": "code",
   "execution_count": 79,
   "id": "bdc8eb90-a1bb-49fa-bbb9-d1571db013ef",
   "metadata": {},
   "outputs": [
    {
     "name": "stdout",
     "output_type": "stream",
     "text": [
      "['red', 'black', 'red', 1, 2, 2, False]\n",
      "{False, 1, 2, 'black', 'red'}\n",
      "[False, 1, 2, 'black', 'red']\n"
     ]
    }
   ],
   "source": [
    "items = ['red','black','red',1,2,2,False]\n",
    "print(items)\n",
    "ret = set(items)\n",
    "print(ret)\n",
    "print(list(ret))"
   ]
  },
  {
   "cell_type": "markdown",
   "id": "2676bf61-3973-436c-b37f-6756d86cc8f5",
   "metadata": {},
   "source": [
    "### 5.5 练习"
   ]
  },
  {
   "cell_type": "markdown",
   "id": "22a7e3a2-6e85-433a-8f09-ee0f6350dd45",
   "metadata": {},
   "source": [
    "#### 5.5.1 统计数字出现的次数"
   ]
  },
  {
   "cell_type": "markdown",
   "id": "57d92346-80f5-419b-89e1-39355f283e65",
   "metadata": {},
   "source": [
    "##### 输入一串数字，统计每个数字出现的次数，把结果保存到一个字典中："
   ]
  },
  {
   "cell_type": "code",
   "execution_count": 82,
   "id": "fbac3349-2de5-4e75-b0c1-384f20ce0f44",
   "metadata": {},
   "outputs": [
    {
     "name": "stdin",
     "output_type": "stream",
     "text": [
      "请输入一串数字： 123423234156\n"
     ]
    },
    {
     "name": "stdout",
     "output_type": "stream",
     "text": [
      "{'1': 2, '2': 3, '3': 3, '4': 2, '5': 1, '6': 1}\n"
     ]
    }
   ],
   "source": [
    "nums = input(\"请输入一串数字：\")\n",
    "ret = {}\n",
    "for num in nums:\n",
    "    if num in ret:\n",
    "        ret[num]  += 1\n",
    "    else:\n",
    "        ret[num] = 1\n",
    "print(ret)"
   ]
  },
  {
   "cell_type": "markdown",
   "id": "898a29ea-8afb-4783-9ae0-f3ca637b2e08",
   "metadata": {},
   "source": [
    "#### 5.5.2 统计出现次数最多的字母"
   ]
  },
  {
   "cell_type": "markdown",
   "id": "6e292eee-2002-49c8-b7df-1db4c1209e46",
   "metadata": {},
   "source": [
    "##### 已有字符串“PythonGoJavaScriptPHP”，统计出现次数最多的字母，不区分大小写："
   ]
  },
  {
   "cell_type": "code",
   "execution_count": 93,
   "id": "ee7974e3-f5e0-44ee-a5e2-05cc8e522316",
   "metadata": {},
   "outputs": [
    {
     "name": "stdout",
     "output_type": "stream",
     "text": [
      "p\n",
      "p\n"
     ]
    }
   ],
   "source": [
    "s = \"PythonGoJavaScriptPHP\"\n",
    "s = s.lower()\n",
    "s_set = set(s)\n",
    "s_dict = {}\n",
    "# 统计字母出现的次数\n",
    "for char in s:\n",
    "    if char not in s_dict:\n",
    "        s_dict[char] = 1\n",
    "    else:\n",
    "        s_dict[char] += 1\n",
    "# 寻找次数最多的字母\n",
    "ret = 0;\n",
    "for char in s_set:\n",
    "    if s_dict[char] > ret:\n",
    "        ret = s_dict[char]\n",
    "        ret_r = char\n",
    "print(ret_r)\n",
    "\n",
    "count = max(s_dict.values())\n",
    "for key,value in s_dict.items():\n",
    "    if value == count:\n",
    "        print(key)"
   ]
  }
 ],
 "metadata": {
  "kernelspec": {
   "display_name": "Python 3 (ipykernel)",
   "language": "python",
   "name": "python3"
  },
  "language_info": {
   "codemirror_mode": {
    "name": "ipython",
    "version": 3
   },
   "file_extension": ".py",
   "mimetype": "text/x-python",
   "name": "python",
   "nbconvert_exporter": "python",
   "pygments_lexer": "ipython3",
   "version": "3.9.1"
  }
 },
 "nbformat": 4,
 "nbformat_minor": 5
}
