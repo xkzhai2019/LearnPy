{
 "cells": [
  {
   "cell_type": "markdown",
   "id": "97676936-e158-4de2-aa8d-260de7131a86",
   "metadata": {},
   "source": [
    "## 4.字符串 "
   ]
  },
  {
   "cell_type": "markdown",
   "id": "b9f34d7c-83ec-4714-ba78-bcdafdc09c14",
   "metadata": {},
   "source": [
    "在数据类型上：\n",
    "* python不区分“字符”和“字符串”，单一字符会被当作只有一个字符的字符串处理\n",
    "* 字符串是一种不可变的，修改元素、添加元素、删除元素都不合法"
   ]
  },
  {
   "cell_type": "markdown",
   "id": "ef23462b-8d74-4898-978e-263270fd239d",
   "metadata": {},
   "source": [
    "### 4.1 多行字符串"
   ]
  },
  {
   "cell_type": "markdown",
   "id": "d84650c9-d841-459d-bb66-fd05a84ff2ee",
   "metadata": {},
   "source": [
    "若字符串过长，为了代码的可读性，可以将字符串分行显示(本质上是一个字符串)"
   ]
  },
  {
   "cell_type": "code",
   "execution_count": 7,
   "id": "fff69104-3d07-4fd4-b200-615ef10f5d46",
   "metadata": {},
   "outputs": [
    {
     "name": "stdout",
     "output_type": "stream",
     "text": [
      "python turtorial python turtorial python turtorial\n",
      "python turtorial python turtorial python turtorial\n",
      "python turtorial python turtorial python turtorial\n",
      "True\n"
     ]
    }
   ],
   "source": [
    "# 引号搭配反斜杠----每行末尾加上反斜杠\n",
    "s1 = 'python turtorial python turtorial python turtorial'\n",
    "print(s1)\n",
    "\n",
    "s2 = '\\\n",
    "python turtorial \\\n",
    "python turtorial \\\n",
    "python turtorial\\\n",
    "'\n",
    "print(s2)\n",
    "\n",
    "s3 = 'python turtorial \\\n",
    "python turtorial \\\n",
    "python turtorial'\n",
    "print(s3)\n",
    "\n",
    "print(s1==s2)"
   ]
  },
  {
   "cell_type": "code",
   "execution_count": 9,
   "id": "d61cc389-88c1-48b9-8067-7f10a59c25bc",
   "metadata": {},
   "outputs": [
    {
     "name": "stdout",
     "output_type": "stream",
     "text": [
      "python turtorial python turtorial python turtorial\n",
      "\n",
      "python turtorial\n",
      "python turtorial\n",
      "python turtorial\n",
      "\n",
      "<class 'str'>\n",
      "False\n"
     ]
    }
   ],
   "source": [
    "# 三引号\n",
    "s1 = 'python turtorial python turtorial python turtorial'\n",
    "print(s1)\n",
    "\n",
    "s2 = '''\n",
    "python turtorial\n",
    "python turtorial\n",
    "python turtorial\n",
    "'''\n",
    "print(s2)\n",
    "print(type(s2))\n",
    "\n",
    "print(s1==s2)"
   ]
  },
  {
   "cell_type": "markdown",
   "id": "77589387-ae3f-4393-9908-cc618cb9029f",
   "metadata": {},
   "source": [
    "### 4.2 原始字符串"
   ]
  },
  {
   "cell_type": "code",
   "execution_count": 10,
   "id": "12c5008d-4158-442e-9d42-dd01b8e0fdf5",
   "metadata": {},
   "outputs": [
    {
     "name": "stdout",
     "output_type": "stream",
     "text": [
      "C:\n",
      "orthwest\n",
      "orthwind\n"
     ]
    }
   ],
   "source": [
    "s = 'C:\\northwest\\northwind'\n",
    "print(s)"
   ]
  },
  {
   "cell_type": "code",
   "execution_count": 11,
   "id": "1a1613a1-046f-4ada-a7e3-c29dc52ecad5",
   "metadata": {},
   "outputs": [
    {
     "name": "stdout",
     "output_type": "stream",
     "text": [
      "C:\\northwest\\northwind\n"
     ]
    }
   ],
   "source": [
    "# 转义字符\n",
    "s = 'C:\\\\northwest\\\\northwind'\n",
    "print(s)"
   ]
  },
  {
   "cell_type": "code",
   "execution_count": 15,
   "id": "6e6e63c2-051b-4b10-a09d-f8ebf6187f26",
   "metadata": {},
   "outputs": [
    {
     "name": "stdout",
     "output_type": "stream",
     "text": [
      "C:\\northwest\\northwind\n",
      "C:%&%\\\\northwest\\\\northwind\n"
     ]
    }
   ],
   "source": [
    "# 原始字符串\n",
    "s1 = r'C:\\northwest\\northwind'\n",
    "print(s1)\n",
    "s2 = R'C:%&%\\\\northwest\\\\northwind'\n",
    "print(s2)"
   ]
  },
  {
   "cell_type": "markdown",
   "id": "abe8fe3e-3054-4502-866e-963e5d31b1d5",
   "metadata": {},
   "source": [
    "### 4.3 基本操作"
   ]
  },
  {
   "cell_type": "markdown",
   "id": "b9450ca9-db1a-4a96-9bcc-190db4283722",
   "metadata": {},
   "source": [
    "凡是改变字符串的操作都是不允许的"
   ]
  },
  {
   "cell_type": "code",
   "execution_count": 18,
   "id": "84d40c88-9872-484e-8d24-5326a96bf8f1",
   "metadata": {},
   "outputs": [
    {
     "name": "stdout",
     "output_type": "stream",
     "text": [
      "P\n",
      "n\n"
     ]
    }
   ],
   "source": [
    "# 获取某个字符-----同列表\n",
    "s = 'Python'\n",
    "print(s[0])\n",
    "print(s[-1])"
   ]
  },
  {
   "cell_type": "code",
   "execution_count": 22,
   "id": "7b7261d2-32bc-41a8-8810-a71cefebc829",
   "metadata": {},
   "outputs": [
    {
     "name": "stdout",
     "output_type": "stream",
     "text": [
      "False\n",
      "True\n",
      "True\n"
     ]
    }
   ],
   "source": [
    "# 比较字符串-----字典序\n",
    "s1 = 'ABC'\n",
    "s2 = 'ABD'\n",
    "s3 = 'ABCD'\n",
    "s4 = 'abc'\n",
    "print(s1>s2)\n",
    "print(s1<s3) # 前一部分字符相同，但s3字符数更多\n",
    "print(s1<s4) # 小写字母的ASCII码比大写字母更大"
   ]
  },
  {
   "cell_type": "code",
   "execution_count": 23,
   "id": "56321793-03bf-4488-8464-cc63963f5e4a",
   "metadata": {},
   "outputs": [
    {
     "name": "stdout",
     "output_type": "stream",
     "text": [
      "['a', 'e', ' ', 'a', ' ', 'c', 'e', ' ', 'd', 'a']\n"
     ]
    }
   ],
   "source": [
    "# 找出字符串中小于某个字符的所有字符\n",
    "s = 'have a nice day'\n",
    "ret = [] # 由于字符串不可变，因此用列表存储结果\n",
    "for char in s:\n",
    "    if(char<'h'):\n",
    "        ret.append(char)\n",
    "print(ret)"
   ]
  },
  {
   "cell_type": "markdown",
   "id": "eb7341a2-c384-4646-b334-ae5ec1054bb9",
   "metadata": {},
   "source": [
    "### 4.4 字符串方法"
   ]
  },
  {
   "cell_type": "markdown",
   "id": "f2c35612-51c9-47e6-b51a-c7fa24d2cfb6",
   "metadata": {},
   "source": [
    "#### 4.4.1 统计字符个数：count(char)"
   ]
  },
  {
   "cell_type": "code",
   "execution_count": 26,
   "id": "6d5427b7-f6ff-4f7b-ba42-2d58e4a81115",
   "metadata": {},
   "outputs": [
    {
     "name": "stdout",
     "output_type": "stream",
     "text": [
      "9\n",
      "2\n"
     ]
    }
   ],
   "source": [
    "s = 'hi python'\n",
    "print(len(s))\n",
    "print(s.count('h'))"
   ]
  },
  {
   "cell_type": "markdown",
   "id": "70d64ea5-7442-4313-91d5-4ad0d8d5cf2b",
   "metadata": {},
   "source": [
    "#### 4.4.2 获取子串的下标：index(substr)"
   ]
  },
  {
   "cell_type": "markdown",
   "id": "e64606d7-03fa-49fc-b122-2712228ef7b4",
   "metadata": {},
   "source": [
    "返回子串第一次出现的下标-----字符串匹配"
   ]
  },
  {
   "cell_type": "code",
   "execution_count": 28,
   "id": "e032af2d-c015-4caf-832d-87084cef11d6",
   "metadata": {},
   "outputs": [
    {
     "name": "stdout",
     "output_type": "stream",
     "text": [
      "2\n"
     ]
    }
   ],
   "source": [
    "# 单个字符\n",
    "s = 'hello python'\n",
    "print(s.index('l'))"
   ]
  },
  {
   "cell_type": "code",
   "execution_count": 32,
   "id": "64d19760-ae8e-40b1-ba09-5873583eae65",
   "metadata": {},
   "outputs": [
    {
     "name": "stdout",
     "output_type": "stream",
     "text": [
      "6\n"
     ]
    },
    {
     "ename": "ValueError",
     "evalue": "substring not found",
     "output_type": "error",
     "traceback": [
      "\u001b[0;31m---------------------------------------------------------------------------\u001b[0m",
      "\u001b[0;31mValueError\u001b[0m                                Traceback (most recent call last)",
      "Cell \u001b[0;32mIn[32], line 4\u001b[0m\n\u001b[1;32m      2\u001b[0m s \u001b[38;5;241m=\u001b[39m \u001b[38;5;124m'\u001b[39m\u001b[38;5;124mhello python\u001b[39m\u001b[38;5;124m'\u001b[39m\n\u001b[1;32m      3\u001b[0m \u001b[38;5;28mprint\u001b[39m(s\u001b[38;5;241m.\u001b[39mindex(\u001b[38;5;124m'\u001b[39m\u001b[38;5;124mpython\u001b[39m\u001b[38;5;124m'\u001b[39m))\n\u001b[0;32m----> 4\u001b[0m \u001b[38;5;28mprint\u001b[39m(\u001b[43ms\u001b[49m\u001b[38;5;241;43m.\u001b[39;49m\u001b[43mindex\u001b[49m\u001b[43m(\u001b[49m\u001b[38;5;124;43m'\u001b[39;49m\u001b[38;5;124;43mPyhon\u001b[39;49m\u001b[38;5;124;43m'\u001b[39;49m\u001b[43m)\u001b[49m)\n\u001b[1;32m      5\u001b[0m \u001b[38;5;28mprint\u001b[39m(s\u001b[38;5;241m.\u001b[39mindex(\u001b[38;5;124m'\u001b[39m\u001b[38;5;124mpythoner\u001b[39m\u001b[38;5;124m'\u001b[39m))\n",
      "\u001b[0;31mValueError\u001b[0m: substring not found"
     ]
    }
   ],
   "source": [
    "# 多个字符\n",
    "s = 'hello python'\n",
    "print(s.index('python'))\n",
    "print(s.index('Pyhon'))\n",
    "print(s.index('pythoner'))"
   ]
  },
  {
   "cell_type": "markdown",
   "id": "c5d4018f-2913-4ce1-bfc6-1692178dd4fc",
   "metadata": {},
   "source": [
    "#### 4.4.3 替换字符串：replace(old,new,n)"
   ]
  },
  {
   "cell_type": "code",
   "execution_count": 37,
   "id": "9442db44-b450-4602-b492-c092db299026",
   "metadata": {},
   "outputs": [
    {
     "name": "stdout",
     "output_type": "stream",
     "text": [
      "I love python\n",
      "I love c++\n",
      "I love python\n",
      "I love python\n"
     ]
    }
   ],
   "source": [
    "s = 'I love python'\n",
    "ret1 = s.replace('python','c++')\n",
    "print(s)\n",
    "print(ret1)\n",
    "\n",
    "ret2 = s.replace('python1','c++')\n",
    "print(s)\n",
    "print(ret2)"
   ]
  },
  {
   "cell_type": "code",
   "execution_count": 39,
   "id": "cb26bff5-7e81-4bf8-b23f-de7a018ac6bb",
   "metadata": {},
   "outputs": [
    {
     "name": "stdout",
     "output_type": "stream",
     "text": [
      "I love pythonpython python\n",
      "I love c++c++ c++\n"
     ]
    }
   ],
   "source": [
    "s = 'I love pythonpython python'\n",
    "ret = s.replace('python','c++') # 全部替换\n",
    "print(s)\n",
    "print(ret)"
   ]
  },
  {
   "cell_type": "code",
   "execution_count": 41,
   "id": "699107f5-7fa4-4ae9-b69c-8b1079a93729",
   "metadata": {},
   "outputs": [
    {
     "name": "stdout",
     "output_type": "stream",
     "text": [
      "I love pythonpython python\n",
      "I love c++c++ python\n"
     ]
    }
   ],
   "source": [
    "s = 'I love pythonpython python'\n",
    "ret = s.replace('python','c++',2) # 替换2次\n",
    "print(s)\n",
    "print(ret)"
   ]
  },
  {
   "cell_type": "markdown",
   "id": "bf9e373f-6a94-467d-b6c4-f6b366f0822d",
   "metadata": {},
   "source": [
    "#### 4.4.4 分割字符串split(delimiter)"
   ]
  },
  {
   "cell_type": "code",
   "execution_count": 43,
   "id": "4d46aea9-fd86-42a9-991a-7bff016bf9fb",
   "metadata": {},
   "outputs": [
    {
     "name": "stdout",
     "output_type": "stream",
     "text": [
      "['red', 'green', 'blue']\n",
      "['red,green,blue']\n"
     ]
    }
   ],
   "source": [
    "s = 'red,green,blue'\n",
    "colors = s.split(',')\n",
    "print(colors)\n",
    "\n",
    "colors2 = s.split() # 不带参数时，默认把空白符当作分隔符\n",
    "print(colors2)"
   ]
  },
  {
   "cell_type": "code",
   "execution_count": 45,
   "id": "eb2573ae-5d78-45c5-800f-88ae40587622",
   "metadata": {},
   "outputs": [
    {
     "name": "stdout",
     "output_type": "stream",
     "text": [
      "['red', 'green', 'blue']\n"
     ]
    }
   ],
   "source": [
    "s = 'red green blue'\n",
    "colors = s.split()\n",
    "print(colors)"
   ]
  },
  {
   "cell_type": "markdown",
   "id": "00d8894d-b6ce-4b60-8ece-c7ed7ccfff56",
   "metadata": {},
   "source": [
    "#### 4.4.5 去除首尾符号：strip(char)"
   ]
  },
  {
   "cell_type": "code",
   "execution_count": 48,
   "id": "b3684034-d9e0-437a-af3c-60766f13923d",
   "metadata": {},
   "outputs": [
    {
     "name": "stdout",
     "output_type": "stream",
     "text": [
      "8\n",
      "6\n"
     ]
    }
   ],
   "source": [
    "s = ' Python '\n",
    "ret = s.strip() # 默认把空白符作为去除的字符\n",
    "print(len(s))\n",
    "print(len(ret))"
   ]
  },
  {
   "cell_type": "code",
   "execution_count": 2,
   "id": "b05c1a80-ed48-4f3e-9794-f71a6dcda04b",
   "metadata": {},
   "outputs": [
    {
     "name": "stdout",
     "output_type": "stream",
     "text": [
      "***Python**%\n",
      "Python**%\n"
     ]
    }
   ],
   "source": [
    "s = '***Python**%'\n",
    "ret = s.strip('*')\n",
    "print(s)\n",
    "print(ret)"
   ]
  },
  {
   "cell_type": "markdown",
   "id": "8b24c65f-96f5-4a00-bf00-b287b997ef6f",
   "metadata": {},
   "source": [
    "#### 4.4.6 大小写转换"
   ]
  },
  {
   "cell_type": "code",
   "execution_count": 53,
   "id": "827a576a-6d09-4eec-82b9-1ae8be35fdec",
   "metadata": {},
   "outputs": [
    {
     "name": "stdout",
     "output_type": "stream",
     "text": [
      "Hello everyone\n",
      "lower: hello everyone\n",
      "upper HELLO EVERYONE\n",
      "swapcase: hELLO EVERYONE\n",
      "capitalize: Hello everyone\n",
      "tilte: Hello Everyone\n"
     ]
    }
   ],
   "source": [
    "s = 'Hello everyone'\n",
    "ret1 = s.lower()\n",
    "ret2 = s.upper()\n",
    "ret3 = s.swapcase()\n",
    "ret4 = s.capitalize()\n",
    "ret5 = s.title()\n",
    "\n",
    "print(s)\n",
    "print(\"lower:\",ret1)\n",
    "print(\"upper\",ret2)\n",
    "print(\"swapcase:\",ret3) # 取反\n",
    "print(\"capitalize:\",ret4) # 首字母\n",
    "print(\"tilte:\",ret5)"
   ]
  },
  {
   "cell_type": "code",
   "execution_count": 54,
   "id": "782dab38-4a7a-4f43-9cc2-00b5058a2a16",
   "metadata": {},
   "outputs": [
    {
     "name": "stdout",
     "output_type": "stream",
     "text": [
      "That'S My Dog\n"
     ]
    }
   ],
   "source": [
    "s = \"that's my dog\"\n",
    "print(s.title())"
   ]
  },
  {
   "cell_type": "markdown",
   "id": "9d6d3713-dded-4927-a466-d14dedf90ef3",
   "metadata": {},
   "source": [
    "#### 4.4.7 判断字符串"
   ]
  },
  {
   "cell_type": "code",
   "execution_count": 60,
   "id": "d27deb8a-4e6d-4d4c-bcc4-aaa978b7f0dc",
   "metadata": {},
   "outputs": [
    {
     "name": "stdout",
     "output_type": "stream",
     "text": [
      "5\n",
      "5\n",
      "-1\n"
     ]
    },
    {
     "ename": "ValueError",
     "evalue": "substring not found",
     "output_type": "error",
     "traceback": [
      "\u001b[0;31m---------------------------------------------------------------------------\u001b[0m",
      "\u001b[0;31mValueError\u001b[0m                                Traceback (most recent call last)",
      "Cell \u001b[0;32mIn[60], line 7\u001b[0m\n\u001b[1;32m      4\u001b[0m \u001b[38;5;28mprint\u001b[39m(s\u001b[38;5;241m.\u001b[39mindex(\u001b[38;5;124m'\u001b[39m\u001b[38;5;124mis\u001b[39m\u001b[38;5;124m'\u001b[39m))\n\u001b[1;32m      6\u001b[0m \u001b[38;5;28mprint\u001b[39m(s\u001b[38;5;241m.\u001b[39mfind(\u001b[38;5;124m'\u001b[39m\u001b[38;5;124mas\u001b[39m\u001b[38;5;124m'\u001b[39m)) \u001b[38;5;66;03m# find找不到返回-1\u001b[39;00m\n\u001b[0;32m----> 7\u001b[0m \u001b[38;5;28mprint\u001b[39m(\u001b[43ms\u001b[49m\u001b[38;5;241;43m.\u001b[39;49m\u001b[43mindex\u001b[49m\u001b[43m(\u001b[49m\u001b[38;5;124;43m'\u001b[39;49m\u001b[38;5;124;43mas\u001b[39;49m\u001b[38;5;124;43m'\u001b[39;49m\u001b[43m)\u001b[49m) \u001b[38;5;66;03m# index找不到则报错\u001b[39;00m\n",
      "\u001b[0;31mValueError\u001b[0m: substring not found"
     ]
    }
   ],
   "source": [
    "# find()检索-----注意与index的区别\n",
    "s = 'Life is simple, I is use python.'\n",
    "print(s.find('is')) # 返回第一次出现的位置\n",
    "print(s.index('is'))\n",
    "\n",
    "print(s.find('as')) # find找不到返回-1\n",
    "print(s.index('as')) # index找不到则报错"
   ]
  },
  {
   "cell_type": "code",
   "execution_count": 62,
   "id": "f37d2e32-528c-4098-a14f-bc53c7f4f68b",
   "metadata": {},
   "outputs": [
    {
     "name": "stdout",
     "output_type": "stream",
     "text": [
      "True\n",
      "True\n"
     ]
    }
   ],
   "source": [
    "# in判断是否包含\n",
    "s = 'Life is simple, I is use python.'\n",
    "print('is' in s)\n",
    "print('as' not in s)"
   ]
  },
  {
   "cell_type": "code",
   "execution_count": 66,
   "id": "077088e3-b624-4284-8dbf-5e9d006e0621",
   "metadata": {},
   "outputs": [
    {
     "name": "stdout",
     "output_type": "stream",
     "text": [
      "True\n",
      "True\n",
      "False\n",
      "True\n",
      "True\n"
     ]
    }
   ],
   "source": [
    "# startswith() 和 endswith()\n",
    "s = \"Rome wasn't built in a day\"\n",
    "print(s.startswith('R'))\n",
    "print(s.startswith('Rome'))\n",
    "print(s.startswith('rome'))\n",
    "\n",
    "print(s.endswith('day'))\n",
    "print(s.endswith('y'))"
   ]
  },
  {
   "cell_type": "code",
   "execution_count": 70,
   "id": "d51ce2c6-b878-41fa-a8fd-fd359607fcec",
   "metadata": {},
   "outputs": [
    {
     "name": "stdout",
     "output_type": "stream",
     "text": [
      "-1\n",
      "7\n",
      "-1\n"
     ]
    }
   ],
   "source": [
    "# find(B,start,end), startswith(B,start,end), endswith(B,start,end)\n",
    "# 等同于切片\n",
    "s = 'I love python, java and c++.'\n",
    "print(s.find('python',10)) # 查找范围[10,∞)\n",
    "print(s.find('python',5,30)) # 查找范围[5,30)\n",
    "print(s.find('python',5,10)) # 查找范围[5,10)"
   ]
  },
  {
   "cell_type": "code",
   "execution_count": 95,
   "id": "67b6cad3-b4f0-44a5-a3a0-548db89d1f09",
   "metadata": {},
   "outputs": [
    {
     "name": "stdout",
     "output_type": "stream",
     "text": [
      "False\n",
      "True\n",
      "True\n",
      "True\n",
      "False\n",
      "True\n",
      "False\n"
     ]
    }
   ],
   "source": [
    "# 其他相关方法\n",
    "s1 = 'Python#'\n",
    "print(s1.isalpha()) # 判断字符串是否只有英文字母\n",
    "s2 = '123'\n",
    "print(s2.isdigit()) # 判断字符串是否只有数字\n",
    "s3 = 'python123'\n",
    "print(s3.isalnum()) # 判断字符串是否只有数字和字母\n",
    "s4 = 'python'\n",
    "print(s4.islower()) # 是否均为小写字母\n",
    "s5 = 'Python'\n",
    "print(s5.isupper()) # 是否均为大写字母\n",
    "print(s5.istitle())\n",
    "s6 = \"That's My Dog\"\n",
    "print(s6.istitle()) # 需自行编写代码，才能处理复杂情况"
   ]
  },
  {
   "cell_type": "markdown",
   "id": "3d44de93-db9e-4598-bc5b-73ba35256c75",
   "metadata": {},
   "source": [
    "#### 4.4.8 对齐方式"
   ]
  },
  {
   "cell_type": "code",
   "execution_count": 98,
   "id": "ab5213a9-71f4-45e6-a220-5fbb3a56d3fc",
   "metadata": {},
   "outputs": [
    {
     "name": "stdout",
     "output_type": "stream",
     "text": [
      "Python\n"
     ]
    }
   ],
   "source": [
    "# ljust(width,fillchar)-------width表示宽度，fillchar用于填充\n",
    "s = 'Python'\n",
    "ret = s.ljust(5,'*')\n",
    "print(ret)"
   ]
  },
  {
   "cell_type": "code",
   "execution_count": 99,
   "id": "b5b057e7-8795-4439-90e1-e4e3952ed127",
   "metadata": {},
   "outputs": [
    {
     "name": "stdout",
     "output_type": "stream",
     "text": [
      "****Python\n"
     ]
    }
   ],
   "source": [
    "# rjust(width,fillchar)-------width表示宽度，fillchar用于填充\n",
    "s = 'Python'\n",
    "ret = s.rjust(10,'*')\n",
    "print(ret)"
   ]
  },
  {
   "cell_type": "code",
   "execution_count": 102,
   "id": "1ce13ed4-48bc-42ea-96c9-f2c6d3c64907",
   "metadata": {},
   "outputs": [
    {
     "name": "stdout",
     "output_type": "stream",
     "text": [
      "Python\n",
      "**Python**\n",
      "***Python**\n"
     ]
    }
   ],
   "source": [
    "# center(width,fillchar)-------width表示宽度，fillchar用于填充\n",
    "s = 'Python'\n",
    "ret1 = s.center(5,'*')\n",
    "print(ret1)\n",
    "\n",
    "ret2 = s.center(10,'*')\n",
    "print(ret2)\n",
    "\n",
    "ret3 = s.center(11,'*')\n",
    "print(ret3)"
   ]
  },
  {
   "cell_type": "code",
   "execution_count": 3,
   "id": "e2302b12-1fd4-4952-94f6-2cf7130456b0",
   "metadata": {},
   "outputs": [
    {
     "name": "stdin",
     "output_type": "stream",
     "text": [
      "请输入年份： 2023\n",
      "请输入月份： 1\n",
      "请输入日期： 5\n"
     ]
    },
    {
     "name": "stdout",
     "output_type": "stream",
     "text": [
      "2023-01-05\n"
     ]
    }
   ],
   "source": [
    "# 利用对齐方式，处理日期时间\n",
    "# 2025-5-1 ---------> 2025-05-01\n",
    "year = input(\"请输入年份：\")\n",
    "month = input(\"请输入月份：\")\n",
    "day = input(\"请输入日期：\")\n",
    "\n",
    "month = month.rjust(2,'0')\n",
    "day = day.rjust(2,'0')\n",
    "\n",
    "ret = year + '-' + month + '-' + day\n",
    "print(ret)"
   ]
  },
  {
   "cell_type": "markdown",
   "id": "ba258cef-3d0a-4ba7-8151-4c1407c94c72",
   "metadata": {},
   "source": [
    "### 4.5 切片"
   ]
  },
  {
   "cell_type": "markdown",
   "id": "8ce8cf16-eec5-4b34-8aa1-df7d2e8f369d",
   "metadata": {},
   "source": [
    "##### 在python中，所有的序列（列表、元组、字符串）都可以用“切片”的方式来截取：str[m:n]\n",
    "* m是范围开始的下标，n是范围结束时的下标\n",
    "* 截取范围[m,n)\n",
    "* m和n可以是正数，可以是负数，但n不能小于m"
   ]
  },
  {
   "cell_type": "code",
   "execution_count": 13,
   "id": "89732767-d895-48e1-b50a-431dfb938039",
   "metadata": {},
   "outputs": [
    {
     "name": "stdout",
     "output_type": "stream",
     "text": [
      "lass\n",
      "lassroom\n",
      "class\n"
     ]
    }
   ],
   "source": [
    "# 正数下标\n",
    "s = 'classroom'\n",
    "print(s[1:5])\n",
    "print(s[1:])\n",
    "print(s[:5])"
   ]
  },
  {
   "cell_type": "code",
   "execution_count": 17,
   "id": "b42eb60b-9455-48bb-ac10-de3140efe7dd",
   "metadata": {},
   "outputs": [
    {
     "name": "stdout",
     "output_type": "stream",
     "text": [
      "\n",
      "sroo\n",
      "lassroo\n",
      "\n",
      "m\n",
      "class\n"
     ]
    }
   ],
   "source": [
    "# 负数下标\n",
    "s = 'classroom'\n",
    "print(s[-1:-5])\n",
    "print(s[-5:-1])\n",
    "print(s[1:-1]) # 这里n比m小\n",
    "print(s[-1:1])\n",
    "print(s[-1:])\n",
    "print(s[:-4])"
   ]
  },
  {
   "cell_type": "code",
   "execution_count": 20,
   "id": "bfc02941-51e6-45d0-b6c5-66fa01ecc428",
   "metadata": {},
   "outputs": [
    {
     "name": "stdout",
     "output_type": "stream",
     "text": [
      "classroom\n",
      "lassroom\n",
      "lassroom\n"
     ]
    }
   ],
   "source": [
    "# [:]\n",
    "s = 'classroom'\n",
    "print(s[:])\n",
    "print(s[1:10]) # n超出范围时，默认到结尾位置\n",
    "print(s[1:])"
   ]
  },
  {
   "cell_type": "code",
   "execution_count": 24,
   "id": "9d024816-5ab4-425b-b5e6-1a835b436fdd",
   "metadata": {},
   "outputs": [
    {
     "name": "stdout",
     "output_type": "stream",
     "text": [
      "python\n",
      "java c++ php ruby python\n"
     ]
    }
   ],
   "source": [
    "# 多种切片方法存在的必要性\n",
    "s = 'hello java c++ php ruby python'\n",
    "# 截取python\n",
    "print(s[-6:])\n",
    "# 截取java...\n",
    "print(s[6:])"
   ]
  },
  {
   "cell_type": "markdown",
   "id": "8c0c180a-cdd9-4334-bd20-0a2af7334bc1",
   "metadata": {},
   "source": [
    "### 4.6 更多实用操作"
   ]
  },
  {
   "cell_type": "markdown",
   "id": "25d71d6c-8b4e-4551-abe3-87047e68fd0b",
   "metadata": {},
   "source": [
    "#### 4.6.1 获取长度len()：所有序列都可以使用len()函数来获取长度"
   ]
  },
  {
   "cell_type": "code",
   "execution_count": 26,
   "id": "275dce78-7956-49dc-b3bb-2e2f053fafe6",
   "metadata": {},
   "outputs": [
    {
     "name": "stdout",
     "output_type": "stream",
     "text": [
      "15\n"
     ]
    }
   ],
   "source": [
    "s = 'usts edu cn com' # 包括空格\n",
    "print(len(s))"
   ]
  },
  {
   "cell_type": "code",
   "execution_count": 29,
   "id": "8fc7130f-7028-4972-9fcb-2eb0666ba23a",
   "metadata": {},
   "outputs": [
    {
     "name": "stdout",
     "output_type": "stream",
     "text": [
      "8\n"
     ]
    }
   ],
   "source": [
    "s = '落霞与孤鹜齐飞 ' # 一个英文字母是一个字符长度，一个汉字是一个字符长度\n",
    "print(len(s))"
   ]
  },
  {
   "cell_type": "code",
   "execution_count": 33,
   "id": "0119e6ef-44c7-45e3-a6a0-527fd76ef0aa",
   "metadata": {},
   "outputs": [
    {
     "name": "stdout",
     "output_type": "stream",
     "text": [
      "7\n"
     ]
    }
   ],
   "source": [
    "# 整数的长度\n",
    "n = 5201314\n",
    "\n",
    "length = len(str(n)) # 需要将整数转换为字符串\n",
    "print(length)"
   ]
  },
  {
   "cell_type": "markdown",
   "id": "705647dd-43dc-4502-a5d5-62fcbc645ffb",
   "metadata": {},
   "source": [
    "#### 4.6.2 类型转换-----列表、元组、字符串：list()和tuple()"
   ]
  },
  {
   "cell_type": "markdown",
   "id": "180dec8d-938c-4da5-91fb-36ba6b5e63a4",
   "metadata": {},
   "source": [
    "##### 1. 将元组转化为列表\n"
   ]
  },
  {
   "cell_type": "code",
   "execution_count": 45,
   "id": "1e94a230-3d95-4dec-8613-e4e991d62a3f",
   "metadata": {},
   "outputs": [
    {
     "name": "stdout",
     "output_type": "stream",
     "text": [
      "<class 'tuple'>\n",
      "<class 'list'>\n",
      "['bee', 2, 'cat', 3, 'dog']\n"
     ]
    },
    {
     "ename": "TypeError",
     "evalue": "'tuple' object does not support item assignment",
     "output_type": "error",
     "traceback": [
      "\u001b[0;31m---------------------------------------------------------------------------\u001b[0m",
      "\u001b[0;31mTypeError\u001b[0m                                 Traceback (most recent call last)",
      "Cell \u001b[0;32mIn[45], line 7\u001b[0m\n\u001b[1;32m      5\u001b[0m ret[\u001b[38;5;241m0\u001b[39m] \u001b[38;5;241m=\u001b[39m \u001b[38;5;124m'\u001b[39m\u001b[38;5;124mbee\u001b[39m\u001b[38;5;124m'\u001b[39m\n\u001b[1;32m      6\u001b[0m \u001b[38;5;28mprint\u001b[39m(ret)\n\u001b[0;32m----> 7\u001b[0m \u001b[43mtup\u001b[49m\u001b[43m[\u001b[49m\u001b[38;5;241;43m0\u001b[39;49m\u001b[43m]\u001b[49m \u001b[38;5;241m=\u001b[39m \u001b[38;5;124m'\u001b[39m\u001b[38;5;124mbee\u001b[39m\u001b[38;5;124m'\u001b[39m\n",
      "\u001b[0;31mTypeError\u001b[0m: 'tuple' object does not support item assignment"
     ]
    }
   ],
   "source": [
    "tup = (1,2,'cat',3,'dog')\n",
    "print(type(tup))\n",
    "ret = list(tup)\n",
    "print(type(ret))\n",
    "ret[0] = 'bee'\n",
    "print(ret)\n",
    "tup[0] = 'bee'"
   ]
  },
  {
   "cell_type": "markdown",
   "id": "e593c12b-41b3-4e15-8a02-5e0031075c20",
   "metadata": {},
   "source": [
    "##### 2. 将字符串转化为列表\n"
   ]
  },
  {
   "cell_type": "code",
   "execution_count": 47,
   "id": "39bd118f-7098-4273-a2af-1c935a10ee44",
   "metadata": {},
   "outputs": [
    {
     "name": "stdout",
     "output_type": "stream",
     "text": [
      "<class 'list'>\n",
      "['L', 'o', 'v', 'e', 'J', 'a', 'v', 'a']\n"
     ]
    },
    {
     "ename": "TypeError",
     "evalue": "'str' object does not support item assignment",
     "output_type": "error",
     "traceback": [
      "\u001b[0;31m---------------------------------------------------------------------------\u001b[0m",
      "\u001b[0;31mTypeError\u001b[0m                                 Traceback (most recent call last)",
      "Cell \u001b[0;32mIn[47], line 7\u001b[0m\n\u001b[1;32m      4\u001b[0m ret[\u001b[38;5;241m0\u001b[39m] \u001b[38;5;241m=\u001b[39m \u001b[38;5;124m'\u001b[39m\u001b[38;5;124mL\u001b[39m\u001b[38;5;124m'\u001b[39m\n\u001b[1;32m      5\u001b[0m \u001b[38;5;28mprint\u001b[39m(ret)\n\u001b[0;32m----> 7\u001b[0m \u001b[43ms\u001b[49m\u001b[43m[\u001b[49m\u001b[38;5;241;43m0\u001b[39;49m\u001b[43m]\u001b[49m \u001b[38;5;241m=\u001b[39m \u001b[38;5;124m'\u001b[39m\u001b[38;5;124mL\u001b[39m\u001b[38;5;124m'\u001b[39m\n",
      "\u001b[0;31mTypeError\u001b[0m: 'str' object does not support item assignment"
     ]
    }
   ],
   "source": [
    "s = 'loveJava'\n",
    "ret = list(s)\n",
    "print(type(ret))\n",
    "ret[0] = 'L'\n",
    "print(ret)\n",
    "\n",
    "s[0] = 'L'"
   ]
  },
  {
   "cell_type": "code",
   "execution_count": 48,
   "id": "efb511f2-7dc0-4bf4-b282-b70b11c7bbd3",
   "metadata": {},
   "outputs": [
    {
     "name": "stdout",
     "output_type": "stream",
     "text": [
      "<class 'list'>\n",
      "['loveJava']\n"
     ]
    }
   ],
   "source": [
    "s = 'loveJava'\n",
    "ret = s.split()\n",
    "print(type(ret))\n",
    "print(ret)"
   ]
  },
  {
   "cell_type": "markdown",
   "id": "e45fa4d0-dfc7-4bdf-a429-bcbf82320711",
   "metadata": {},
   "source": [
    "##### 3. 将列表转化为元组"
   ]
  },
  {
   "cell_type": "code",
   "execution_count": 51,
   "id": "453cf845-5698-4ee6-a4c7-53f5690055dd",
   "metadata": {},
   "outputs": [
    {
     "name": "stdout",
     "output_type": "stream",
     "text": [
      "[3, 1, 2, 'dog']\n",
      "(3, 1, 2, 'dog')\n"
     ]
    }
   ],
   "source": [
    "items = [3,1,2,'dog']\n",
    "print(items)\n",
    "ret = tuple(items)\n",
    "print(ret)"
   ]
  },
  {
   "cell_type": "markdown",
   "id": "77cc3138-0ee7-4deb-8ad4-6042e70abba5",
   "metadata": {},
   "source": [
    "##### 4. 将字符串转化为元组"
   ]
  },
  {
   "cell_type": "code",
   "execution_count": 54,
   "id": "85f3685b-9b84-4a93-a386-a6c1eedf73f8",
   "metadata": {},
   "outputs": [
    {
     "name": "stdout",
     "output_type": "stream",
     "text": [
      "('l', 'o', 'v', 'e', 'J', 'a', 'v', 'a')\n",
      "('loveJava',)\n"
     ]
    }
   ],
   "source": [
    "s = 'loveJava'\n",
    "ret = tuple(s) # 字符串会被拆分\n",
    "print(ret)\n",
    "\n",
    "ret2 = tuple(s.split())\n",
    "print(ret2)"
   ]
  },
  {
   "cell_type": "markdown",
   "id": "761d4c62-15b4-4d0c-bfc0-aacfac2369cb",
   "metadata": {},
   "source": [
    "#### 4.6.3 字符串运算"
   ]
  },
  {
   "cell_type": "code",
   "execution_count": 65,
   "id": "deb85bca-c105-4cfa-abf7-3b63f2343def",
   "metadata": {},
   "outputs": [
    {
     "name": "stdout",
     "output_type": "stream",
     "text": [
      "classroom\n",
      "<class 'str'>\n",
      "None\n"
     ]
    }
   ],
   "source": [
    "# 加法-----等同于字符串拼接\n",
    "s1 = 'class' + 'room'\n",
    "print(s1)\n",
    "print(type(s1))\n",
    "\n",
    "print(('class'.split()).extend('room'.split()))"
   ]
  },
  {
   "cell_type": "code",
   "execution_count": 69,
   "id": "30e10c59-f588-4016-9ded-fb2c41ddcf77",
   "metadata": {},
   "outputs": [
    {
     "name": "stdout",
     "output_type": "stream",
     "text": [
      "classclass\n",
      "homehomehome\n",
      "classclasshomehomehome\n"
     ]
    }
   ],
   "source": [
    "# 乘法-------复制字符串(只能与正整数相乘)\n",
    "s1 = 'class' * 2\n",
    "s2 = \"home\" * 3\n",
    "print(s1)\n",
    "print(s2)\n",
    "print(s1+s2)"
   ]
  },
  {
   "cell_type": "code",
   "execution_count": 70,
   "id": "40d709f2-acfb-488d-b621-058f25f54d24",
   "metadata": {},
   "outputs": [
    {
     "ename": "TypeError",
     "evalue": "can't multiply sequence by non-int of type 'list'",
     "output_type": "error",
     "traceback": [
      "\u001b[0;31m---------------------------------------------------------------------------\u001b[0m",
      "\u001b[0;31mTypeError\u001b[0m                                 Traceback (most recent call last)",
      "Cell \u001b[0;32mIn[70], line 1\u001b[0m\n\u001b[0;32m----> 1\u001b[0m s3 \u001b[38;5;241m=\u001b[39m \u001b[38;5;124;43m'\u001b[39;49m\u001b[38;5;124;43mclass\u001b[39;49m\u001b[38;5;124;43m'\u001b[39;49m\u001b[43m \u001b[49m\u001b[38;5;241;43m*\u001b[39;49m\u001b[43m \u001b[49m\u001b[43m[\u001b[49m\u001b[38;5;241;43m1\u001b[39;49m\u001b[43m,\u001b[49m\u001b[38;5;241;43m2\u001b[39;49m\u001b[43m]\u001b[49m\n",
      "\u001b[0;31mTypeError\u001b[0m: can't multiply sequence by non-int of type 'list'"
     ]
    }
   ],
   "source": [
    "s3 = 'class' * [1,2]"
   ]
  },
  {
   "cell_type": "code",
   "execution_count": 72,
   "id": "07826350-dd9f-4f7a-81fb-6a2d2f57aa32",
   "metadata": {},
   "outputs": [
    {
     "name": "stdout",
     "output_type": "stream",
     "text": [
      "\n"
     ]
    }
   ],
   "source": [
    "s4 = 'class' * -1\n",
    "print(s4)"
   ]
  },
  {
   "cell_type": "markdown",
   "id": "241226e5-0081-45e9-b451-d0b53aad482a",
   "metadata": {},
   "source": [
    "#### 4.6.4 字符串拼接"
   ]
  },
  {
   "cell_type": "markdown",
   "id": "39812675-b13f-4891-8806-40e4b667e20a",
   "metadata": {},
   "source": [
    "##### 1. 利用字符串格式化%s实现字符串拼接"
   ]
  },
  {
   "cell_type": "code",
   "execution_count": 76,
   "id": "97e0aa8f-a1d5-4925-9f7e-296e677ee52b",
   "metadata": {},
   "outputs": [
    {
     "name": "stdout",
     "output_type": "stream",
     "text": [
      "Jack is 18 years old\n",
      "Jack is %s years old\n",
      "Jack is 18 years old\n"
     ]
    }
   ],
   "source": [
    "ret1 = 'Jack is %s years old' % 18\n",
    "print(ret1)\n",
    "\n",
    "ret2 = 'Jack is %s years old'\n",
    "print(ret2)\n",
    "\n",
    "ret3 = r'Jack is %s years old' % 18\n",
    "print(ret3)"
   ]
  },
  {
   "cell_type": "code",
   "execution_count": 77,
   "id": "e225ce9a-e413-4892-bf43-dbe4e77123f7",
   "metadata": {},
   "outputs": [
    {
     "name": "stdout",
     "output_type": "stream",
     "text": [
      "10 + 20 = 30\n"
     ]
    }
   ],
   "source": [
    "a = 10\n",
    "b = 20\n",
    "ret = a + b\n",
    "print('10 + 20 = %s' % ret)"
   ]
  },
  {
   "cell_type": "markdown",
   "id": "512ee105-cafc-40b9-873c-fb5d9da29cd3",
   "metadata": {},
   "source": [
    "##### 2. format()"
   ]
  },
  {
   "cell_type": "markdown",
   "id": "86ba67d2-0f70-4488-ab21-a0de769b5961",
   "metadata": {},
   "source": [
    "##### 与占位符'{}'结合使用"
   ]
  },
  {
   "cell_type": "code",
   "execution_count": 79,
   "id": "c6ecc898-2992-445a-b7d3-75d9b380c1c1",
   "metadata": {},
   "outputs": [
    {
     "name": "stdout",
     "output_type": "stream",
     "text": [
      "Jack is 18 years old\n"
     ]
    }
   ],
   "source": [
    "ret1 = 'Jack is {age} years old'.format(age=18)\n",
    "print(ret1)"
   ]
  },
  {
   "cell_type": "code",
   "execution_count": 80,
   "id": "b06d9fb7-02f3-40f5-89b1-f05a864de6ff",
   "metadata": {},
   "outputs": [
    {
     "name": "stdout",
     "output_type": "stream",
     "text": [
      "Jack is 18 years old\n"
     ]
    }
   ],
   "source": [
    "ret2 = \"{name} is {age} years old\".format(name='Jack',age=18)\n",
    "print(ret2)"
   ]
  },
  {
   "cell_type": "code",
   "execution_count": 81,
   "id": "3ea33e24-c40d-4a8f-841a-3d9f2f21c6cc",
   "metadata": {},
   "outputs": [
    {
     "name": "stdout",
     "output_type": "stream",
     "text": [
      "Jack is 18 years old\n"
     ]
    }
   ],
   "source": [
    "# 不使用变量\n",
    "ret3 = \"{} is {} years old\".format('Jack',18)\n",
    "print(ret3)"
   ]
  },
  {
   "cell_type": "markdown",
   "id": "ce76bb94-09f1-4be7-a1af-8c7916ba707f",
   "metadata": {},
   "source": [
    "##### 3. f-string"
   ]
  },
  {
   "cell_type": "code",
   "execution_count": 84,
   "id": "1c1c7b9c-d0c3-44b7-8ebe-696dd3e9bc98",
   "metadata": {},
   "outputs": [
    {
     "name": "stdout",
     "output_type": "stream",
     "text": [
      "Jack is 18 years old\n",
      "<class 'str'>\n"
     ]
    }
   ],
   "source": [
    "# 插入一个变量-------使用{}将变量包裹起来\n",
    "age = 18\n",
    "ret = f'Jack is {age} years old'\n",
    "print(ret)\n",
    "print(type(ret))"
   ]
  },
  {
   "cell_type": "code",
   "execution_count": 85,
   "id": "d62a7728-31df-4190-88dc-c7338a4e3e2b",
   "metadata": {},
   "outputs": [
    {
     "name": "stdout",
     "output_type": "stream",
     "text": [
      "Jack is 18 years old\n"
     ]
    }
   ],
   "source": [
    "# 插入多个变量\n",
    "name = 'Jack'\n",
    "age = 18\n",
    "ret = f'{name} is {age} years old'\n",
    "print(ret)"
   ]
  },
  {
   "cell_type": "code",
   "execution_count": 86,
   "id": "2843686a-b3f7-470a-99e0-6ebee7664b5e",
   "metadata": {},
   "outputs": [
    {
     "name": "stdout",
     "output_type": "stream",
     "text": [
      "10 + 20 = 30\n"
     ]
    }
   ],
   "source": [
    "# 插入表达式\n",
    "a = 10\n",
    "b = 20\n",
    "ret = f'{a} + {b} = {a+b}'\n",
    "print(ret)"
   ]
  },
  {
   "cell_type": "markdown",
   "id": "b9d80884-f692-4209-b7fc-5a88d30e40d0",
   "metadata": {},
   "source": [
    "### 4.7 练习"
   ]
  },
  {
   "cell_type": "markdown",
   "id": "2f4971cd-93ef-4909-9b33-b74e1e041f20",
   "metadata": {},
   "source": [
    "#### 4.7.1 统计单词的个数"
   ]
  },
  {
   "cell_type": "markdown",
   "id": "010ca936-b82c-4ad3-a820-2e92476251bc",
   "metadata": {},
   "source": [
    "有一个字符串“where there is a will, there is a way”，编写一个程序统计有多少个单词"
   ]
  },
  {
   "cell_type": "code",
   "execution_count": 88,
   "id": "b01ea7b2-6a20-42bc-b402-48cc3cea0fca",
   "metadata": {},
   "outputs": [
    {
     "name": "stdout",
     "output_type": "stream",
     "text": [
      "9\n"
     ]
    }
   ],
   "source": [
    "s = 'where there is a will, there is a way.'\n",
    "ret = s.split(' ')\n",
    "print(len(ret))"
   ]
  },
  {
   "cell_type": "code",
   "execution_count": 92,
   "id": "5ad7462f-b152-4944-85d5-c165a523350b",
   "metadata": {},
   "outputs": [
    {
     "name": "stdout",
     "output_type": "stream",
     "text": [
      "10\n"
     ]
    }
   ],
   "source": [
    "# 利用逗号、空格和句号的总数：不准确\n",
    "s = 'where there is a will, there is a way.'\n",
    "count = 0\n",
    "for char in s:\n",
    "    if char==' ' or char==',' or char=='.':\n",
    "        count = count + 1\n",
    "print(count)"
   ]
  },
  {
   "cell_type": "markdown",
   "id": "d5bb874c-91e5-4206-885f-f78c5807b7aa",
   "metadata": {},
   "source": [
    "#### 4.7.2 将首字母转化成大写"
   ]
  },
  {
   "cell_type": "markdown",
   "id": "b6572dfe-719e-47e2-a4f6-599bf02ce6a5",
   "metadata": {},
   "source": [
    "有一个字符串“a friend in need is a friend indeed”，将每个单词的首字母转换成大写"
   ]
  },
  {
   "cell_type": "code",
   "execution_count": 97,
   "id": "117634c4-1f11-40ef-894d-14b1fc842cc7",
   "metadata": {},
   "outputs": [
    {
     "name": "stdout",
     "output_type": "stream",
     "text": [
      "A Friend In Need Is A Friend Indeed.\n"
     ]
    }
   ],
   "source": [
    "# 使用title方法\n",
    "s = 'a friend in need is a friend indeed.'\n",
    "print(s.title())"
   ]
  },
  {
   "cell_type": "code",
   "execution_count": 3,
   "id": "eab252ea-6def-4ad0-9573-615352d92f5f",
   "metadata": {},
   "outputs": [
    {
     "name": "stdout",
     "output_type": "stream",
     "text": [
      "[\"That's\", 'my', 'dog']\n",
      " That's My Dog\n"
     ]
    }
   ],
   "source": [
    "# 不使用title方法---利用字符串切割\n",
    "s = 'a friend in need is a friend indeed.'\n",
    "s = \"That's my dog\"\n",
    "ret = ''\n",
    "print(s.split(' '))\n",
    "for item in s.split(' '):\n",
    "    ret = ret+' '+ item.capitalize()\n",
    "print(ret)"
   ]
  },
  {
   "cell_type": "code",
   "execution_count": 4,
   "id": "42660abb-481f-4389-861b-d05a90c378c6",
   "metadata": {},
   "outputs": [
    {
     "name": "stdout",
     "output_type": "stream",
     "text": [
      "That's My Dog\n"
     ]
    }
   ],
   "source": [
    "# 先找到空格，将空格下面的一个字符换成大写\n",
    "s = 'a friend in need is a friend indeed'\n",
    "s = \"That's my dog\"\n",
    "ret = ''\n",
    "for i in range(len(s)):\n",
    "    if i==0:\n",
    "        ret += s[i].upper()\n",
    "    else:\n",
    "        if(s[i-1]==' '):\n",
    "            ret += s[i].upper()\n",
    "        else:\n",
    "            ret += s[i]\n",
    "print(ret)"
   ]
  },
  {
   "cell_type": "code",
   "execution_count": null,
   "id": "1a95da5a-1a5d-4407-8581-7b031a832dfe",
   "metadata": {},
   "outputs": [],
   "source": []
  }
 ],
 "metadata": {
  "kernelspec": {
   "display_name": "Python 3 (ipykernel)",
   "language": "python",
   "name": "python3"
  },
  "language_info": {
   "codemirror_mode": {
    "name": "ipython",
    "version": 3
   },
   "file_extension": ".py",
   "mimetype": "text/x-python",
   "name": "python",
   "nbconvert_exporter": "python",
   "pygments_lexer": "ipython3",
   "version": "3.9.1"
  }
 },
 "nbformat": 4,
 "nbformat_minor": 5
}
