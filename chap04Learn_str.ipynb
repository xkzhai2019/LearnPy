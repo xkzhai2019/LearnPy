{
 "cells": [
  {
   "cell_type": "markdown",
   "id": "97676936-e158-4de2-aa8d-260de7131a86",
   "metadata": {},
   "source": [
    "## 4.字符串 "
   ]
  },
  {
   "cell_type": "markdown",
   "id": "b9f34d7c-83ec-4714-ba78-bcdafdc09c14",
   "metadata": {},
   "source": [
    "在数据类型上：\n",
    "* python不区分“字符”和“字符串”，单一字符会被当作只有一个字符的字符串处理\n",
    "* 字符串是一种不可变的，修改元素、添加元素、删除元素都不合法"
   ]
  },
  {
   "cell_type": "markdown",
   "id": "ef23462b-8d74-4898-978e-263270fd239d",
   "metadata": {},
   "source": [
    "### 4.1 多行字符串"
   ]
  },
  {
   "cell_type": "markdown",
   "id": "d84650c9-d841-459d-bb66-fd05a84ff2ee",
   "metadata": {},
   "source": [
    "若字符串过长，为了代码的可读性，可以将字符串分行显示(本质上是一个字符串)"
   ]
  },
  {
   "cell_type": "code",
   "execution_count": 7,
   "id": "fff69104-3d07-4fd4-b200-615ef10f5d46",
   "metadata": {},
   "outputs": [
    {
     "name": "stdout",
     "output_type": "stream",
     "text": [
      "python turtorial python turtorial python turtorial\n",
      "python turtorial python turtorial python turtorial\n",
      "python turtorial python turtorial python turtorial\n",
      "True\n"
     ]
    }
   ],
   "source": [
    "# 引号搭配反斜杠----每行末尾加上反斜杠\n",
    "s1 = 'python turtorial python turtorial python turtorial'\n",
    "print(s1)\n",
    "\n",
    "s2 = '\\\n",
    "python turtorial \\\n",
    "python turtorial \\\n",
    "python turtorial\\\n",
    "'\n",
    "print(s2)\n",
    "\n",
    "s3 = 'python turtorial \\\n",
    "python turtorial \\\n",
    "python turtorial'\n",
    "print(s3)\n",
    "\n",
    "print(s1==s2)"
   ]
  },
  {
   "cell_type": "code",
   "execution_count": 9,
   "id": "d61cc389-88c1-48b9-8067-7f10a59c25bc",
   "metadata": {},
   "outputs": [
    {
     "name": "stdout",
     "output_type": "stream",
     "text": [
      "python turtorial python turtorial python turtorial\n",
      "\n",
      "python turtorial\n",
      "python turtorial\n",
      "python turtorial\n",
      "\n",
      "<class 'str'>\n",
      "False\n"
     ]
    }
   ],
   "source": [
    "# 三引号\n",
    "s1 = 'python turtorial python turtorial python turtorial'\n",
    "print(s1)\n",
    "\n",
    "s2 = '''\n",
    "python turtorial\n",
    "python turtorial\n",
    "python turtorial\n",
    "'''\n",
    "print(s2)\n",
    "print(type(s2))\n",
    "\n",
    "print(s1==s2)"
   ]
  },
  {
   "cell_type": "markdown",
   "id": "77589387-ae3f-4393-9908-cc618cb9029f",
   "metadata": {},
   "source": [
    "### 4.2 原始字符串"
   ]
  },
  {
   "cell_type": "code",
   "execution_count": 10,
   "id": "12c5008d-4158-442e-9d42-dd01b8e0fdf5",
   "metadata": {},
   "outputs": [
    {
     "name": "stdout",
     "output_type": "stream",
     "text": [
      "C:\n",
      "orthwest\n",
      "orthwind\n"
     ]
    }
   ],
   "source": [
    "s = 'C:\\northwest\\northwind'\n",
    "print(s)"
   ]
  },
  {
   "cell_type": "code",
   "execution_count": 11,
   "id": "1a1613a1-046f-4ada-a7e3-c29dc52ecad5",
   "metadata": {},
   "outputs": [
    {
     "name": "stdout",
     "output_type": "stream",
     "text": [
      "C:\\northwest\\northwind\n"
     ]
    }
   ],
   "source": [
    "# 转义字符\n",
    "s = 'C:\\\\northwest\\\\northwind'\n",
    "print(s)"
   ]
  },
  {
   "cell_type": "code",
   "execution_count": 15,
   "id": "6e6e63c2-051b-4b10-a09d-f8ebf6187f26",
   "metadata": {},
   "outputs": [
    {
     "name": "stdout",
     "output_type": "stream",
     "text": [
      "C:\\northwest\\northwind\n",
      "C:%&%\\\\northwest\\\\northwind\n"
     ]
    }
   ],
   "source": [
    "# 原始字符串\n",
    "s1 = r'C:\\northwest\\northwind'\n",
    "print(s1)\n",
    "s2 = R'C:%&%\\\\northwest\\\\northwind'\n",
    "print(s2)"
   ]
  },
  {
   "cell_type": "markdown",
   "id": "abe8fe3e-3054-4502-866e-963e5d31b1d5",
   "metadata": {},
   "source": [
    "### 4.3 基本操作"
   ]
  },
  {
   "cell_type": "markdown",
   "id": "b9450ca9-db1a-4a96-9bcc-190db4283722",
   "metadata": {},
   "source": [
    "凡是改变字符串的操作都是不允许的"
   ]
  },
  {
   "cell_type": "code",
   "execution_count": 18,
   "id": "84d40c88-9872-484e-8d24-5326a96bf8f1",
   "metadata": {},
   "outputs": [
    {
     "name": "stdout",
     "output_type": "stream",
     "text": [
      "P\n",
      "n\n"
     ]
    }
   ],
   "source": [
    "# 获取某个字符-----同列表\n",
    "s = 'Python'\n",
    "print(s[0])\n",
    "print(s[-1])"
   ]
  },
  {
   "cell_type": "code",
   "execution_count": 22,
   "id": "7b7261d2-32bc-41a8-8810-a71cefebc829",
   "metadata": {},
   "outputs": [
    {
     "name": "stdout",
     "output_type": "stream",
     "text": [
      "False\n",
      "True\n",
      "True\n"
     ]
    }
   ],
   "source": [
    "# 比较字符串-----字典序\n",
    "s1 = 'ABC'\n",
    "s2 = 'ABD'\n",
    "s3 = 'ABCD'\n",
    "s4 = 'abc'\n",
    "print(s1>s2)\n",
    "print(s1<s3) # 前一部分字符相同，但s3字符数更多\n",
    "print(s1<s4) # 小写字母的ASCII码比大写字母更大"
   ]
  },
  {
   "cell_type": "code",
   "execution_count": 23,
   "id": "56321793-03bf-4488-8464-cc63963f5e4a",
   "metadata": {},
   "outputs": [
    {
     "name": "stdout",
     "output_type": "stream",
     "text": [
      "['a', 'e', ' ', 'a', ' ', 'c', 'e', ' ', 'd', 'a']\n"
     ]
    }
   ],
   "source": [
    "# 找出字符串中小于某个字符的所有字符\n",
    "s = 'have a nice day'\n",
    "ret = [] # 由于字符串不可变，因此用列表存储结果\n",
    "for char in s:\n",
    "    if(char<'h'):\n",
    "        ret.append(char)\n",
    "print(ret)"
   ]
  },
  {
   "cell_type": "markdown",
   "id": "eb7341a2-c384-4646-b334-ae5ec1054bb9",
   "metadata": {},
   "source": [
    "### 4.4 字符串方法"
   ]
  },
  {
   "cell_type": "markdown",
   "id": "f2c35612-51c9-47e6-b51a-c7fa24d2cfb6",
   "metadata": {},
   "source": [
    "#### 4.4.1 统计字符个数：count(char)"
   ]
  },
  {
   "cell_type": "code",
   "execution_count": 26,
   "id": "6d5427b7-f6ff-4f7b-ba42-2d58e4a81115",
   "metadata": {},
   "outputs": [
    {
     "name": "stdout",
     "output_type": "stream",
     "text": [
      "9\n",
      "2\n"
     ]
    }
   ],
   "source": [
    "s = 'hi python'\n",
    "print(len(s))\n",
    "print(s.count('h'))"
   ]
  },
  {
   "cell_type": "markdown",
   "id": "70d64ea5-7442-4313-91d5-4ad0d8d5cf2b",
   "metadata": {},
   "source": [
    "#### 4.4.2 获取子串的下标：index(substr)"
   ]
  },
  {
   "cell_type": "markdown",
   "id": "e64606d7-03fa-49fc-b122-2712228ef7b4",
   "metadata": {},
   "source": [
    "返回子串第一次出现的下标-----字符串匹配"
   ]
  },
  {
   "cell_type": "code",
   "execution_count": 28,
   "id": "e032af2d-c015-4caf-832d-87084cef11d6",
   "metadata": {},
   "outputs": [
    {
     "name": "stdout",
     "output_type": "stream",
     "text": [
      "2\n"
     ]
    }
   ],
   "source": [
    "# 单个字符\n",
    "s = 'hello python'\n",
    "print(s.index('l'))"
   ]
  },
  {
   "cell_type": "code",
   "execution_count": 32,
   "id": "64d19760-ae8e-40b1-ba09-5873583eae65",
   "metadata": {},
   "outputs": [
    {
     "name": "stdout",
     "output_type": "stream",
     "text": [
      "6\n"
     ]
    },
    {
     "ename": "ValueError",
     "evalue": "substring not found",
     "output_type": "error",
     "traceback": [
      "\u001b[0;31m---------------------------------------------------------------------------\u001b[0m",
      "\u001b[0;31mValueError\u001b[0m                                Traceback (most recent call last)",
      "Cell \u001b[0;32mIn[32], line 4\u001b[0m\n\u001b[1;32m      2\u001b[0m s \u001b[38;5;241m=\u001b[39m \u001b[38;5;124m'\u001b[39m\u001b[38;5;124mhello python\u001b[39m\u001b[38;5;124m'\u001b[39m\n\u001b[1;32m      3\u001b[0m \u001b[38;5;28mprint\u001b[39m(s\u001b[38;5;241m.\u001b[39mindex(\u001b[38;5;124m'\u001b[39m\u001b[38;5;124mpython\u001b[39m\u001b[38;5;124m'\u001b[39m))\n\u001b[0;32m----> 4\u001b[0m \u001b[38;5;28mprint\u001b[39m(\u001b[43ms\u001b[49m\u001b[38;5;241;43m.\u001b[39;49m\u001b[43mindex\u001b[49m\u001b[43m(\u001b[49m\u001b[38;5;124;43m'\u001b[39;49m\u001b[38;5;124;43mPyhon\u001b[39;49m\u001b[38;5;124;43m'\u001b[39;49m\u001b[43m)\u001b[49m)\n\u001b[1;32m      5\u001b[0m \u001b[38;5;28mprint\u001b[39m(s\u001b[38;5;241m.\u001b[39mindex(\u001b[38;5;124m'\u001b[39m\u001b[38;5;124mpythoner\u001b[39m\u001b[38;5;124m'\u001b[39m))\n",
      "\u001b[0;31mValueError\u001b[0m: substring not found"
     ]
    }
   ],
   "source": [
    "# 多个字符\n",
    "s = 'hello python'\n",
    "print(s.index('python'))\n",
    "print(s.index('Pyhon'))\n",
    "print(s.index('pythoner'))"
   ]
  },
  {
   "cell_type": "markdown",
   "id": "c5d4018f-2913-4ce1-bfc6-1692178dd4fc",
   "metadata": {},
   "source": [
    "#### 4.4.3 替换字符串：replace(old,new,n)"
   ]
  },
  {
   "cell_type": "code",
   "execution_count": 37,
   "id": "9442db44-b450-4602-b492-c092db299026",
   "metadata": {},
   "outputs": [
    {
     "name": "stdout",
     "output_type": "stream",
     "text": [
      "I love python\n",
      "I love c++\n",
      "I love python\n",
      "I love python\n"
     ]
    }
   ],
   "source": [
    "s = 'I love python'\n",
    "ret1 = s.replace('python','c++')\n",
    "print(s)\n",
    "print(ret1)\n",
    "\n",
    "ret2 = s.replace('python1','c++')\n",
    "print(s)\n",
    "print(ret2)"
   ]
  },
  {
   "cell_type": "code",
   "execution_count": 39,
   "id": "cb26bff5-7e81-4bf8-b23f-de7a018ac6bb",
   "metadata": {},
   "outputs": [
    {
     "name": "stdout",
     "output_type": "stream",
     "text": [
      "I love pythonpython python\n",
      "I love c++c++ c++\n"
     ]
    }
   ],
   "source": [
    "s = 'I love pythonpython python'\n",
    "ret = s.replace('python','c++') # 全部替换\n",
    "print(s)\n",
    "print(ret)"
   ]
  },
  {
   "cell_type": "code",
   "execution_count": 41,
   "id": "699107f5-7fa4-4ae9-b69c-8b1079a93729",
   "metadata": {},
   "outputs": [
    {
     "name": "stdout",
     "output_type": "stream",
     "text": [
      "I love pythonpython python\n",
      "I love c++c++ python\n"
     ]
    }
   ],
   "source": [
    "s = 'I love pythonpython python'\n",
    "ret = s.replace('python','c++',2) # 替换2次\n",
    "print(s)\n",
    "print(ret)"
   ]
  },
  {
   "cell_type": "markdown",
   "id": "bf9e373f-6a94-467d-b6c4-f6b366f0822d",
   "metadata": {},
   "source": [
    "#### 4.4.4 分割字符串split(delimiter)"
   ]
  },
  {
   "cell_type": "code",
   "execution_count": 43,
   "id": "4d46aea9-fd86-42a9-991a-7bff016bf9fb",
   "metadata": {},
   "outputs": [
    {
     "name": "stdout",
     "output_type": "stream",
     "text": [
      "['red', 'green', 'blue']\n",
      "['red,green,blue']\n"
     ]
    }
   ],
   "source": [
    "s = 'red,green,blue'\n",
    "colors = s.split(',')\n",
    "print(colors)\n",
    "\n",
    "colors2 = s.split() # 不带参数时，默认把空白符当作分隔符\n",
    "print(colors2)"
   ]
  },
  {
   "cell_type": "code",
   "execution_count": 45,
   "id": "eb2573ae-5d78-45c5-800f-88ae40587622",
   "metadata": {},
   "outputs": [
    {
     "name": "stdout",
     "output_type": "stream",
     "text": [
      "['red', 'green', 'blue']\n"
     ]
    }
   ],
   "source": [
    "s = 'red green blue'\n",
    "colors = s.split()\n",
    "print(colors)"
   ]
  },
  {
   "cell_type": "markdown",
   "id": "00d8894d-b6ce-4b60-8ece-c7ed7ccfff56",
   "metadata": {},
   "source": [
    "#### 4.4.5 去除首尾符号：strip(char)"
   ]
  },
  {
   "cell_type": "code",
   "execution_count": 48,
   "id": "b3684034-d9e0-437a-af3c-60766f13923d",
   "metadata": {},
   "outputs": [
    {
     "name": "stdout",
     "output_type": "stream",
     "text": [
      "8\n",
      "6\n"
     ]
    }
   ],
   "source": [
    "s = ' Python '\n",
    "ret = s.strip() # 默认把空白符作为去除的字符\n",
    "print(len(s))\n",
    "print(len(ret))"
   ]
  },
  {
   "cell_type": "code",
   "execution_count": 50,
   "id": "b05c1a80-ed48-4f3e-9794-f71a6dcda04b",
   "metadata": {},
   "outputs": [
    {
     "name": "stdout",
     "output_type": "stream",
     "text": [
      "***Python***\n",
      "Python\n"
     ]
    }
   ],
   "source": [
    "s = '***Python***'\n",
    "ret = s.strip('*')\n",
    "print(s)\n",
    "print(ret)"
   ]
  },
  {
   "cell_type": "markdown",
   "id": "8b24c65f-96f5-4a00-bf00-b287b997ef6f",
   "metadata": {},
   "source": [
    "#### 4.4.6 大小写转换"
   ]
  },
  {
   "cell_type": "code",
   "execution_count": 53,
   "id": "827a576a-6d09-4eec-82b9-1ae8be35fdec",
   "metadata": {},
   "outputs": [
    {
     "name": "stdout",
     "output_type": "stream",
     "text": [
      "Hello everyone\n",
      "lower: hello everyone\n",
      "upper HELLO EVERYONE\n",
      "swapcase: hELLO EVERYONE\n",
      "capitalize: Hello everyone\n",
      "tilte: Hello Everyone\n"
     ]
    }
   ],
   "source": [
    "s = 'Hello everyone'\n",
    "ret1 = s.lower()\n",
    "ret2 = s.upper()\n",
    "ret3 = s.swapcase()\n",
    "ret4 = s.capitalize()\n",
    "ret5 = s.title()\n",
    "\n",
    "print(s)\n",
    "print(\"lower:\",ret1)\n",
    "print(\"upper\",ret2)\n",
    "print(\"swapcase:\",ret3) # 取反\n",
    "print(\"capitalize:\",ret4) # 首字母\n",
    "print(\"tilte:\",ret5)"
   ]
  },
  {
   "cell_type": "code",
   "execution_count": 54,
   "id": "782dab38-4a7a-4f43-9cc2-00b5058a2a16",
   "metadata": {},
   "outputs": [
    {
     "name": "stdout",
     "output_type": "stream",
     "text": [
      "That'S My Dog\n"
     ]
    }
   ],
   "source": [
    "s = \"that's my dog\"\n",
    "print(s.title())"
   ]
  },
  {
   "cell_type": "markdown",
   "id": "9d6d3713-dded-4927-a466-d14dedf90ef3",
   "metadata": {},
   "source": [
    "#### 4.4.7 判断字符串"
   ]
  },
  {
   "cell_type": "code",
   "execution_count": 60,
   "id": "d27deb8a-4e6d-4d4c-bcc4-aaa978b7f0dc",
   "metadata": {},
   "outputs": [
    {
     "name": "stdout",
     "output_type": "stream",
     "text": [
      "5\n",
      "5\n",
      "-1\n"
     ]
    },
    {
     "ename": "ValueError",
     "evalue": "substring not found",
     "output_type": "error",
     "traceback": [
      "\u001b[0;31m---------------------------------------------------------------------------\u001b[0m",
      "\u001b[0;31mValueError\u001b[0m                                Traceback (most recent call last)",
      "Cell \u001b[0;32mIn[60], line 7\u001b[0m\n\u001b[1;32m      4\u001b[0m \u001b[38;5;28mprint\u001b[39m(s\u001b[38;5;241m.\u001b[39mindex(\u001b[38;5;124m'\u001b[39m\u001b[38;5;124mis\u001b[39m\u001b[38;5;124m'\u001b[39m))\n\u001b[1;32m      6\u001b[0m \u001b[38;5;28mprint\u001b[39m(s\u001b[38;5;241m.\u001b[39mfind(\u001b[38;5;124m'\u001b[39m\u001b[38;5;124mas\u001b[39m\u001b[38;5;124m'\u001b[39m)) \u001b[38;5;66;03m# find找不到返回-1\u001b[39;00m\n\u001b[0;32m----> 7\u001b[0m \u001b[38;5;28mprint\u001b[39m(\u001b[43ms\u001b[49m\u001b[38;5;241;43m.\u001b[39;49m\u001b[43mindex\u001b[49m\u001b[43m(\u001b[49m\u001b[38;5;124;43m'\u001b[39;49m\u001b[38;5;124;43mas\u001b[39;49m\u001b[38;5;124;43m'\u001b[39;49m\u001b[43m)\u001b[49m) \u001b[38;5;66;03m# index找不到则报错\u001b[39;00m\n",
      "\u001b[0;31mValueError\u001b[0m: substring not found"
     ]
    }
   ],
   "source": [
    "# find()检索-----注意与index的区别\n",
    "s = 'Life is simple, I is use python.'\n",
    "print(s.find('is')) # 返回第一次出现的位置\n",
    "print(s.index('is'))\n",
    "\n",
    "print(s.find('as')) # find找不到返回-1\n",
    "print(s.index('as')) # index找不到则报错"
   ]
  },
  {
   "cell_type": "code",
   "execution_count": 62,
   "id": "f37d2e32-528c-4098-a14f-bc53c7f4f68b",
   "metadata": {},
   "outputs": [
    {
     "name": "stdout",
     "output_type": "stream",
     "text": [
      "True\n",
      "True\n"
     ]
    }
   ],
   "source": [
    "# in判断是否包含\n",
    "s = 'Life is simple, I is use python.'\n",
    "print('is' in s)\n",
    "print('as' not in s)"
   ]
  },
  {
   "cell_type": "code",
   "execution_count": 66,
   "id": "077088e3-b624-4284-8dbf-5e9d006e0621",
   "metadata": {},
   "outputs": [
    {
     "name": "stdout",
     "output_type": "stream",
     "text": [
      "True\n",
      "True\n",
      "False\n",
      "True\n",
      "True\n"
     ]
    }
   ],
   "source": [
    "# startswith() 和 endswith()\n",
    "s = \"Rome wasn't built in a day\"\n",
    "print(s.startswith('R'))\n",
    "print(s.startswith('Rome'))\n",
    "print(s.startswith('rome'))\n",
    "\n",
    "print(s.endswith('day'))\n",
    "print(s.endswith('y'))"
   ]
  },
  {
   "cell_type": "code",
   "execution_count": 70,
   "id": "d51ce2c6-b878-41fa-a8fd-fd359607fcec",
   "metadata": {},
   "outputs": [
    {
     "name": "stdout",
     "output_type": "stream",
     "text": [
      "-1\n",
      "7\n",
      "-1\n"
     ]
    }
   ],
   "source": [
    "# find(B,start,end), startswith(B,start,end), endswith(B,start,end)\n",
    "# 等同于切片\n",
    "s = 'I love python, java and c++.'\n",
    "print(s.find('python',10)) # 查找范围[10,∞)\n",
    "print(s.find('python',5,30)) # 查找范围[5,30)\n",
    "print(s.find('python',5,10)) # 查找范围[5,10)"
   ]
  },
  {
   "cell_type": "code",
   "execution_count": 95,
   "id": "67b6cad3-b4f0-44a5-a3a0-548db89d1f09",
   "metadata": {},
   "outputs": [
    {
     "name": "stdout",
     "output_type": "stream",
     "text": [
      "False\n",
      "True\n",
      "True\n",
      "True\n",
      "False\n",
      "True\n",
      "False\n"
     ]
    }
   ],
   "source": [
    "# 其他相关方法\n",
    "s1 = 'Python#'\n",
    "print(s1.isalpha()) # 判断字符串是否只有英文字母\n",
    "s2 = '123'\n",
    "print(s2.isdigit()) # 判断字符串是否只有数字\n",
    "s3 = 'python123'\n",
    "print(s3.isalnum()) # 判断字符串是否只有数字和字母\n",
    "s4 = 'python'\n",
    "print(s4.islower()) # 是否均为小写字母\n",
    "s5 = 'Python'\n",
    "print(s5.isupper()) # 是否均为大写字母\n",
    "print(s5.istitle())\n",
    "s6 = \"That's My Dog\"\n",
    "print(s6.istitle()) # 需自行编写代码，才能处理复杂情况"
   ]
  },
  {
   "cell_type": "markdown",
   "id": "3d44de93-db9e-4598-bc5b-73ba35256c75",
   "metadata": {},
   "source": [
    "#### 4.4.8 对齐方式"
   ]
  },
  {
   "cell_type": "code",
   "execution_count": 98,
   "id": "ab5213a9-71f4-45e6-a220-5fbb3a56d3fc",
   "metadata": {},
   "outputs": [
    {
     "name": "stdout",
     "output_type": "stream",
     "text": [
      "Python\n"
     ]
    }
   ],
   "source": [
    "# ljust(width,fillchar)-------width表示宽度，fillchar用于填充\n",
    "s = 'Python'\n",
    "ret = s.ljust(5,'*')\n",
    "print(ret)"
   ]
  },
  {
   "cell_type": "code",
   "execution_count": 99,
   "id": "b5b057e7-8795-4439-90e1-e4e3952ed127",
   "metadata": {},
   "outputs": [
    {
     "name": "stdout",
     "output_type": "stream",
     "text": [
      "****Python\n"
     ]
    }
   ],
   "source": [
    "# rjust(width,fillchar)-------width表示宽度，fillchar用于填充\n",
    "s = 'Python'\n",
    "ret = s.rjust(10,'*')\n",
    "print(ret)"
   ]
  },
  {
   "cell_type": "code",
   "execution_count": 102,
   "id": "1ce13ed4-48bc-42ea-96c9-f2c6d3c64907",
   "metadata": {},
   "outputs": [
    {
     "name": "stdout",
     "output_type": "stream",
     "text": [
      "Python\n",
      "**Python**\n",
      "***Python**\n"
     ]
    }
   ],
   "source": [
    "# center(width,fillchar)-------width表示宽度，fillchar用于填充\n",
    "s = 'Python'\n",
    "ret1 = s.center(5,'*')\n",
    "print(ret1)\n",
    "\n",
    "ret2 = s.center(10,'*')\n",
    "print(ret2)\n",
    "\n",
    "ret3 = s.center(11,'*')\n",
    "print(ret3)"
   ]
  },
  {
   "cell_type": "code",
   "execution_count": 104,
   "id": "e2302b12-1fd4-4952-94f6-2cf7130456b0",
   "metadata": {},
   "outputs": [
    {
     "name": "stdin",
     "output_type": "stream",
     "text": [
      "请输入年份： 2021\n",
      "请输入月份： 1\n",
      "请输入日期： 11\n"
     ]
    },
    {
     "name": "stdout",
     "output_type": "stream",
     "text": [
      "2021-01-11\n"
     ]
    }
   ],
   "source": [
    "# 利用对齐方式，处理日期时间\n",
    "# 2025-5-1 ---------> 2025-05-01\n",
    "year = input(\"请输入年份：\")\n",
    "month = input(\"请输入月份：\")\n",
    "day = input(\"请输入日期：\")\n",
    "\n",
    "month = month.rjust(2,'0')\n",
    "day = day.rjust(2,'0')\n",
    "\n",
    "ret = year + '-' + month + '-' + day\n",
    "print(ret)"
   ]
  }
 ],
 "metadata": {
  "kernelspec": {
   "display_name": "Python 3 (ipykernel)",
   "language": "python",
   "name": "python3"
  },
  "language_info": {
   "codemirror_mode": {
    "name": "ipython",
    "version": 3
   },
   "file_extension": ".py",
   "mimetype": "text/x-python",
   "name": "python",
   "nbconvert_exporter": "python",
   "pygments_lexer": "ipython3",
   "version": "3.9.1"
  }
 },
 "nbformat": 4,
 "nbformat_minor": 5
}
