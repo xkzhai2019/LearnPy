{
 "cells": [
  {
   "cell_type": "markdown",
   "id": "7ec38585-3a64-4893-ab3c-5ae2e8e87c5c",
   "metadata": {},
   "source": [
    "## 一、简答题"
   ]
  },
  {
   "cell_type": "markdown",
   "id": "2e06a821-4dab-47b8-8896-5d6f0bd43562",
   "metadata": {},
   "source": [
    "### 1. 运行并解释以下两段程序的输出结果"
   ]
  },
  {
   "cell_type": "code",
   "execution_count": 3,
   "id": "8a394e02-15a4-4c39-a084-65a1eabe0b5c",
   "metadata": {},
   "outputs": [
    {
     "name": "stdout",
     "output_type": "stream",
     "text": [
      "[1]\n",
      "[1, 1]\n",
      "[1, 1, 1]\n"
     ]
    }
   ],
   "source": [
    "# 代码1\n",
    "def f1(ls=[]):\n",
    "    ls.append(1)\n",
    "    return ls\n",
    "\n",
    "print(f1()) # [1]\n",
    "print(f1()) # [1]\n",
    "print(f1()) # [1]"
   ]
  },
  {
   "cell_type": "markdown",
   "id": "d8537643-8dee-4ee6-8189-32dbbfb4e196",
   "metadata": {},
   "source": [
    "默认值是可变对象时，如果只调用一次f1()，结果没有问题，但如果连续多次调用f1()，会导致一些问题------ 《python即学即用》Page131"
   ]
  },
  {
   "cell_type": "code",
   "execution_count": 6,
   "id": "b5387d1f-c19b-4845-b4c5-0078344158c0",
   "metadata": {},
   "outputs": [
    {
     "name": "stdout",
     "output_type": "stream",
     "text": [
      "{'name': 'Mary', 'id': 2}\n",
      "[{'name': 'Mary', 'id': 2}, {'name': 'Mary', 'id': 2}, {'name': 'Mary', 'id': 2}]\n"
     ]
    }
   ],
   "source": [
    "# 代码2\n",
    "person = {\"name\": \"\", \"id\": 0} \n",
    "team = []\n",
    "\n",
    "for i in range(3): \n",
    "    x = person  # 这里x就是person的别名\n",
    "    x[\"id\"] = i  \n",
    "    team.append(x) \n",
    "\n",
    "# team = [{\"name\": \"\",\"id\":2},{\"name\": \"\",\"id\":2},{\"name\": \"\",\"id\":2}]\n",
    "team[0][\"name\"] = \"Peter\" \n",
    "team[1][\"name\"] = \"Paul\" \n",
    "team[2][\"name\"] = \"Mary\" # 字典是可变对象，team[0]/[1]/[2]共用同一段内存\n",
    "# team = [{\"name\": \"Mary\",\"id\":2},{\"name\": \"Mary\",\"id\":2},{\"name\": \"Mary\",\"id\":2}] \n",
    "print(team[1]) # {\"name\": \"Mary\",\"id\":2}\n",
    "print(team) # [{\"name\": \"Mary\",\"id\":2},{\"name\": \"Mary\",\"id\":2},{\"name\": \"Mary\",\"id\":2}] "
   ]
  },
  {
   "cell_type": "code",
   "execution_count": 7,
   "id": "54648722-a4b0-41f1-8249-78510e09c3aa",
   "metadata": {},
   "outputs": [
    {
     "name": "stdout",
     "output_type": "stream",
     "text": [
      "[]\n"
     ]
    }
   ],
   "source": []
  },
  {
   "cell_type": "markdown",
   "id": "ab096e98-8877-4a55-87c6-91f680aafab7",
   "metadata": {},
   "source": [
    "## 二、编程题"
   ]
  },
  {
   "cell_type": "markdown",
   "id": "2211c4a7-b8d7-4987-819c-c549262835d9",
   "metadata": {},
   "source": [
    "### 1. 用列表推导实现一个过滤器"
   ]
  },
  {
   "cell_type": "code",
   "execution_count": 10,
   "id": "62b410aa-0ccd-4766-9feb-d383a775c61e",
   "metadata": {},
   "outputs": [],
   "source": [
    "# 实现一个判断数字n是否为素数的函数isPrime(n):\n",
    "from math import sqrt\n",
    "def isprime(n):\n",
    "    if n==1:\n",
    "        return False\n",
    "    else:\n",
    "        for i in range(2,n):\n",
    "            if n%i == 0:\n",
    "                return False\n",
    "    return True"
   ]
  },
  {
   "cell_type": "code",
   "execution_count": 11,
   "id": "4094a969-7d05-45e9-85a6-affbf86afe30",
   "metadata": {},
   "outputs": [
    {
     "name": "stdout",
     "output_type": "stream",
     "text": [
      "[2, 3, 5, 7, 11, 13, 17, 19, 23, 29, 31, 37, 41, 43, 47, 53, 59, 61, 67, 71, 73, 79, 83, 89, 97]\n"
     ]
    }
   ],
   "source": [
    "# 利用列表推导获得100以内的素数列表：\n",
    "ret = [x for x in range(1,101) if isprime(x)]\n",
    "print(ret)"
   ]
  },
  {
   "cell_type": "markdown",
   "id": "af3f714e-31ce-46b7-8f17-eb16fb65d506",
   "metadata": {},
   "source": [
    "### 2. 用列表推导实现两列表对应元素的操作"
   ]
  },
  {
   "cell_type": "code",
   "execution_count": 12,
   "id": "34c77e7a-e749-425b-85d0-b6892d3614c8",
   "metadata": {},
   "outputs": [
    {
     "name": "stdout",
     "output_type": "stream",
     "text": [
      "[1.0, 4.0, 27.0, 4.0]\n"
     ]
    }
   ],
   "source": [
    "# 获得新列表z，列表内元素z[i] = pow(x[i],y[i])\n",
    "x = [1,2,3,4]\n",
    "y = [0,2,3,1]\n",
    "\n",
    "from math import pow\n",
    "z = [pow(xi,yi) for (xi,yi) in zip(x,y)]\n",
    "print(z)"
   ]
  },
  {
   "cell_type": "markdown",
   "id": "97d3a0db-aa6d-467f-8c03-7f17aafdd4d5",
   "metadata": {},
   "source": [
    "### 3. 使用条件表达式，将x,y中的最大值赋值给z"
   ]
  },
  {
   "cell_type": "code",
   "execution_count": 13,
   "id": "6fca4f55-1ad4-42ca-9006-54b38f186e2b",
   "metadata": {},
   "outputs": [
    {
     "name": "stdout",
     "output_type": "stream",
     "text": [
      "12\n"
     ]
    }
   ],
   "source": [
    "x = 10\n",
    "y = 12\n",
    "\n",
    "z = x if x > y else y\n",
    "print(z)"
   ]
  },
  {
   "cell_type": "markdown",
   "id": "f1f46d17-3e99-420e-b666-dde561444b98",
   "metadata": {},
   "source": [
    "### 4. 构造一个生产n以内素数的生成器"
   ]
  },
  {
   "cell_type": "code",
   "execution_count": 21,
   "id": "e605c262-aa11-492d-a14e-37b13c8ec56e",
   "metadata": {},
   "outputs": [
    {
     "name": "stdout",
     "output_type": "stream",
     "text": [
      "[2, 3, 5, 7, 11, 13, 17, 19, 23, 29, 31, 37, 41, 43, 47, 53, 59, 61, 67, 71, 73, 79, 83, 89, 97]\n"
     ]
    }
   ],
   "source": [
    "def pro_prime(n):\n",
    "    def is_prime(x):\n",
    "        if x==1:\n",
    "            return False\n",
    "        else:\n",
    "            for i in range(2,x):\n",
    "                if x%i == 0:\n",
    "                    return False\n",
    "        return True\n",
    "        \n",
    "    for i in range(1,n+1):\n",
    "        if is_prime(i):\n",
    "            yield i\n",
    "ret = pro_prime(100)\n",
    "print(list(ret))"
   ]
  },
  {
   "cell_type": "markdown",
   "id": "9fae9c6b-4c5d-459c-a386-3604f9d2a7aa",
   "metadata": {},
   "source": [
    "### 5. 网站优惠促销"
   ]
  },
  {
   "cell_type": "markdown",
   "id": "adcc1f8d-dd4c-4774-9850-fece7ffa35fc",
   "metadata": {},
   "source": [
    "某大型网上购物网站进行中秋节优惠促销活动，请在不改变原计费函数charge()的基础上，输出“中秋节快乐!”，并实现总价打8 折的优惠。"
   ]
  },
  {
   "cell_type": "markdown",
   "id": "873bc493-2016-407e-b6ff-6e9c4c342b26",
   "metadata": {},
   "source": [
    "* 实现原计费函数 charge(商品名称, 商品数量 )。\n",
    "  \n",
    " 假设只有三种商品，商品名称和单价存储在字典{“water”：1.5，“egg”: 1，“meat”: 15}中；\n",
    "\n",
    " 假设每次只购买一种商品，购买数量1 ~ 5 件, 不打折；购买数量6 ~ 10 件，打95 折；购买数量大于10 打9 折；\n",
    "\n",
    " 返回商品应付总货款。"
   ]
  },
  {
   "cell_type": "markdown",
   "id": "31012a1c-da9f-4e5b-8b67-c2e23d665c63",
   "metadata": {},
   "source": [
    "* 在不改变原计费函数源代码和调用方式的前提下，增加如下功能：\n",
    "  \n",
    " 每次 charge 函数被调用时，输出“中秋节快乐!”；\n",
    "\n",
    " 在原计费函数 charge 返回总价的基础上，对总价打8 折。"
   ]
  },
  {
   "cell_type": "code",
   "execution_count": 38,
   "id": "8b983f98-42d8-4044-b453-d1a53134a7ef",
   "metadata": {},
   "outputs": [
    {
     "name": "stdout",
     "output_type": "stream",
     "text": [
      "中秋节快乐\n",
      "108.0\n",
      "中秋节快乐\n",
      "1080.0\n"
     ]
    }
   ],
   "source": [
    "goods = {\"water\":1.5,\"egg\":1,\"meat\":15}\n",
    "# 定义装饰器\n",
    "def shop(fn):\n",
    "    def inner(*args,**kwargs):\n",
    "        ret = fn(*args,**kwargs)\n",
    "        print(\"中秋节快乐\")\n",
    "        return ret*0.8\n",
    "    return inner\n",
    "\n",
    "@shop\n",
    "def charge(name,count):\n",
    "    if count==0:\n",
    "        return count\n",
    "    elif count in range(6):\n",
    "        return count*goods[name]\n",
    "    elif count in range(6,11):\n",
    "        return count*goods[name]*0.95\n",
    "    else:\n",
    "        return count*goods[name]*0.9\n",
    "ret1 = charge(\"water\",100)\n",
    "print(ret1)\n",
    "ret2 = charge(\"meat\",100)\n",
    "print(ret2)"
   ]
  },
  {
   "cell_type": "code",
   "execution_count": null,
   "id": "4db1a56f-2929-4ab4-944a-dac14422596c",
   "metadata": {},
   "outputs": [],
   "source": []
  }
 ],
 "metadata": {
  "kernelspec": {
   "display_name": "Python 3 (ipykernel)",
   "language": "python",
   "name": "python3"
  },
  "language_info": {
   "codemirror_mode": {
    "name": "ipython",
    "version": 3
   },
   "file_extension": ".py",
   "mimetype": "text/x-python",
   "name": "python",
   "nbconvert_exporter": "python",
   "pygments_lexer": "ipython3",
   "version": "3.9.1"
  }
 },
 "nbformat": 4,
 "nbformat_minor": 5
}
