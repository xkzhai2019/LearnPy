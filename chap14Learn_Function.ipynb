{
 "cells": [
  {
   "cell_type": "markdown",
   "id": "fcb124d6-45ed-4fea-81f8-f0f9721e36b0",
   "metadata": {},
   "source": [
    "## 14. 函数式编程---一种编程思想"
   ]
  },
  {
   "cell_type": "markdown",
   "id": "aebd5131-02ad-4351-b3eb-d24b55f63b45",
   "metadata": {},
   "source": [
    "### 14.1 高阶函数"
   ]
  },
  {
   "cell_type": "markdown",
   "id": "f7163abf-69f6-45af-a7e3-fd014b5d8f77",
   "metadata": {},
   "source": [
    "如果一个函数的参数也是一个函数，那么这个函数就称为“高阶函数”，高阶函数是函数式编程的一种实践："
   ]
  },
  {
   "cell_type": "code",
   "execution_count": 45,
   "id": "87c60274-739b-4b04-88e3-f0f4028665c0",
   "metadata": {},
   "outputs": [
    {
     "name": "stdout",
     "output_type": "stream",
     "text": [
      "30\n"
     ]
    }
   ],
   "source": [
    "# 示例1\n",
    "def getsum(a,b,f):\n",
    "    return f(a)+f(b)\n",
    "ret = getsum(-10,20,abs)\n",
    "print(ret)"
   ]
  },
  {
   "cell_type": "code",
   "execution_count": 47,
   "id": "6242be40-53c6-4ce6-be35-79ad04efcbae",
   "metadata": {},
   "outputs": [
    {
     "name": "stdout",
     "output_type": "stream",
     "text": [
      "64\n",
      "True\n"
     ]
    }
   ],
   "source": [
    "# 示例2\n",
    "def square(x):\n",
    "    return x**2\n",
    "\n",
    "def pow_2(fun):\n",
    "    return fun\n",
    "\n",
    "f = pow_2(square)\n",
    "print(f(8))\n",
    "print(f==square)"
   ]
  },
  {
   "cell_type": "markdown",
   "id": "62fc4c69-0828-443d-bd72-993a91ca56ed",
   "metadata": {},
   "source": [
    "在python中，较少会自定义一个高阶函数，更多的是使用python内置的高阶函数"
   ]
  },
  {
   "cell_type": "markdown",
   "id": "ad972db9-5031-4b52-b65c-7c5f9f136d68",
   "metadata": {},
   "source": [
    "#### 14.1.1 filter"
   ]
  },
  {
   "cell_type": "markdown",
   "id": "358c2a95-d664-4079-8284-c649e52830d5",
   "metadata": {},
   "source": [
    "filter(function, iterable)：\n",
    "* \"过滤\"可迭代对象中不符合条件的元素，然后返回包含符号条件元素的新的可迭代对象；\n",
    "* 把iterable中的每个元素依次传入function进行“判断”，如果function返回True，则保留该元素"
   ]
  },
  {
   "cell_type": "code",
   "execution_count": 10,
   "id": "3313028a-1b35-40fe-b965-3611c94d91b1",
   "metadata": {},
   "outputs": [
    {
     "name": "stdout",
     "output_type": "stream",
     "text": [
      "[1, 3, 5, 7, 9, 11, 13, 15, 17, 19, 21, 23, 25, 27, 29, 31, 33, 35, 37, 39, 41, 43, 45, 47, 49, 51, 53, 55, 57, 59, 61, 63, 65, 67, 69, 71, 73, 75, 77, 79, 81, 83, 85, 87, 89, 91, 93, 95, 97, 99]\n"
     ]
    }
   ],
   "source": [
    "# 获取0～100之间的所有奇数\n",
    "def is_odd_number(n):\n",
    "    return n%2 != 0\n",
    "\n",
    "items = range(0,101,1)\n",
    "\n",
    "ret = filter(is_odd_number,items)\n",
    "print(list(ret))"
   ]
  },
  {
   "cell_type": "code",
   "execution_count": 7,
   "id": "3c1b1f8f-fba3-4e16-829c-1490e8a83764",
   "metadata": {},
   "outputs": [
    {
     "name": "stdout",
     "output_type": "stream",
     "text": [
      "['1', 'cat']\n",
      "[1001, '1', 'cat']\n"
     ]
    }
   ],
   "source": [
    "# 筛选出属于字符串类型的元素\n",
    "def findstr(n):\n",
    "    return type(n)==str\n",
    "\n",
    "items = [1001,'1','cat']\n",
    "ret = filter(findstr,items)\n",
    "print(list(ret))\n",
    "print(items)"
   ]
  },
  {
   "cell_type": "code",
   "execution_count": 14,
   "id": "932eb29b-d82a-481e-b2ab-3c382b6d3f4a",
   "metadata": {},
   "outputs": [
    {
     "name": "stdout",
     "output_type": "stream",
     "text": [
      "['Python', False, None, 0, '', (), [], {}, 'java']\n",
      "['Python', 'java']\n"
     ]
    }
   ],
   "source": [
    "# 去除所有值为假的元素\n",
    "items = ['Python',False,None,0,'',(),[],{},'java'] \n",
    "print(items)\n",
    "\n",
    "ret = filter(None,items) # 将None设为第一个参数，则默认去除序列中所有值为假的元素\n",
    "print(list(ret))"
   ]
  },
  {
   "cell_type": "markdown",
   "id": "2e4d6dbb-3e15-4647-82e6-79977f6ef464",
   "metadata": {},
   "source": [
    "#### 14.1.2 map()"
   ]
  },
  {
   "cell_type": "markdown",
   "id": "e07ff5e5-405b-414a-8e28-63485dd6088d",
   "metadata": {},
   "source": [
    "map(function,iterable)：把iterable中的每个元素依次传入function进行运算，处理完后添加到新的可迭代对象"
   ]
  },
  {
   "cell_type": "code",
   "execution_count": 17,
   "id": "fc0f87ac-69b4-44c6-9382-ef7af800d15d",
   "metadata": {},
   "outputs": [
    {
     "name": "stdout",
     "output_type": "stream",
     "text": [
      "<map object at 0x7ed54a3fd7c0>\n",
      "[6, 16, 2, 28, 100, 42]\n"
     ]
    }
   ],
   "source": [
    "def fn(n):\n",
    "    return n*2\n",
    "\n",
    "items = [3,8,1,14,50,21]\n",
    "\n",
    "ret = map(fn,items)\n",
    "print(ret)\n",
    "print(list(ret))"
   ]
  },
  {
   "cell_type": "markdown",
   "id": "afc4e839-5320-46a0-8082-f9f53ed4660b",
   "metadata": {},
   "source": [
    "#### 14.1.3 reduce()"
   ]
  },
  {
   "cell_type": "markdown",
   "id": "50cebd02-c781-4885-a1f7-810c01485457",
   "metadata": {},
   "source": [
    "reduce(function,iterable)：对每个元素进行“累加操作”，返回一个“累积下来”的值"
   ]
  },
  {
   "cell_type": "code",
   "execution_count": 18,
   "id": "ea739dca-e879-4a32-9296-70ea273cabe0",
   "metadata": {},
   "outputs": [
    {
     "name": "stdout",
     "output_type": "stream",
     "text": [
      "5050\n"
     ]
    }
   ],
   "source": [
    "# 求和\n",
    "from functools import reduce\n",
    "\n",
    "def fn(prev,cur):\n",
    "    return prev + cur\n",
    "\n",
    "items = range(0,101)\n",
    "ret = reduce(fn,items)\n",
    "print(ret)"
   ]
  },
  {
   "cell_type": "code",
   "execution_count": 19,
   "id": "3dc27081-ab77-4a48-84e6-e6827caa6890",
   "metadata": {},
   "outputs": [
    {
     "name": "stdout",
     "output_type": "stream",
     "text": [
      "50\n"
     ]
    }
   ],
   "source": [
    "# 求最大值\n",
    "from functools import reduce\n",
    "\n",
    "def fn(prev,cur):\n",
    "    return prev if prev > cur else cur\n",
    "\n",
    "items = [3,9,1,14,50,21]\n",
    "ret = reduce(fn,items)\n",
    "print(ret)"
   ]
  },
  {
   "cell_type": "markdown",
   "id": "8e79eda1-9631-4662-85d2-350e008acece",
   "metadata": {},
   "source": [
    "### 14.2 lambda表达式"
   ]
  },
  {
   "cell_type": "markdown",
   "id": "08685b0f-821e-4e89-8386-a6c816c7ca25",
   "metadata": {},
   "source": [
    "lambda 参数: 表达式-----------能够用来创建一个匿名函数，即一个没有名字的函数，主要用于**简化函数、回调函数以及列表推导式**"
   ]
  },
  {
   "cell_type": "markdown",
   "id": "c7a5e8f3-b38e-4709-98e6-b877e9517634",
   "metadata": {},
   "source": [
    "#### 14.2.1 用于简化函数"
   ]
  },
  {
   "cell_type": "code",
   "execution_count": 20,
   "id": "930d6da7-8a2d-406a-a4c9-03b37723f5e2",
   "metadata": {},
   "outputs": [
    {
     "name": "stdout",
     "output_type": "stream",
     "text": [
      "30\n"
     ]
    }
   ],
   "source": [
    "def getsum(a,b):\n",
    "    return a+b\n",
    "\n",
    "print(getsum(10,20))"
   ]
  },
  {
   "cell_type": "code",
   "execution_count": 21,
   "id": "228808d0-8bbf-45e8-8ace-36be708869b3",
   "metadata": {},
   "outputs": [
    {
     "name": "stdout",
     "output_type": "stream",
     "text": [
      "30\n"
     ]
    }
   ],
   "source": [
    "getsum = lambda a,b: a+b\n",
    "print(getsum(10,20))"
   ]
  },
  {
   "cell_type": "code",
   "execution_count": 22,
   "id": "423c9009-a646-482d-8167-1a588d2e289b",
   "metadata": {},
   "outputs": [
    {
     "name": "stdout",
     "output_type": "stream",
     "text": [
      "30\n"
     ]
    }
   ],
   "source": [
    "print((lambda a,b: a+b)(10,20))"
   ]
  },
  {
   "cell_type": "code",
   "execution_count": 24,
   "id": "254f0280-04d3-4af0-9a8a-2ddcdef6a67a",
   "metadata": {},
   "outputs": [
    {
     "name": "stdout",
     "output_type": "stream",
     "text": [
      "5050\n"
     ]
    }
   ],
   "source": [
    "# 较复杂的函数不适合使用lambda表达式\n",
    "def getSum(n):\n",
    "    ret = 0\n",
    "    for i in range(n+1):\n",
    "        ret += i\n",
    "    return ret\n",
    "print(getSum(100))"
   ]
  },
  {
   "cell_type": "markdown",
   "id": "8f059dfe-44bd-48b5-9dec-7f828ec1f7c7",
   "metadata": {},
   "source": [
    "#### 14.2.2 用于回调函数"
   ]
  },
  {
   "cell_type": "code",
   "execution_count": 28,
   "id": "2fce4f5a-ae55-45d6-86e7-7eaeb38cbf74",
   "metadata": {},
   "outputs": [
    {
     "name": "stdout",
     "output_type": "stream",
     "text": [
      "[3, 9, 1, 21]\n",
      "[3, 9, 1, 21]\n"
     ]
    }
   ],
   "source": [
    "# 简化filter()的回调函数\n",
    "def is_odd(n):\n",
    "    return n % 2 == 1\n",
    "\n",
    "ret = filter(is_odd,[3,9,1,12,50,21])\n",
    "print(list(ret))\n",
    "\n",
    "ret2 = filter(lambda x: x%2==1,[3,9,1,12,50,21])\n",
    "print(list(ret2))"
   ]
  },
  {
   "cell_type": "code",
   "execution_count": 34,
   "id": "c780827d-da60-46e0-b4d0-500bf2e12169",
   "metadata": {},
   "outputs": [
    {
     "name": "stdout",
     "output_type": "stream",
     "text": [
      "[6, 18, 2, 24, 100, 42]\n",
      "[6, 18, 2, 24, 100, 42]\n"
     ]
    }
   ],
   "source": [
    "# 简化map()的回调函数\n",
    "def double(n):\n",
    "    return n*2\n",
    "ret1 = map(double,[3,9,1,12,50,21])\n",
    "print(list(ret1))\n",
    "\n",
    "ret2 = map(lambda x: x*2, [3,9,1,12,50,21])\n",
    "print(list(ret2))"
   ]
  },
  {
   "cell_type": "code",
   "execution_count": 35,
   "id": "97dc4468-e6a0-47cc-aed0-151a830d1d8e",
   "metadata": {},
   "outputs": [
    {
     "name": "stdout",
     "output_type": "stream",
     "text": [
      "5050\n",
      "5050\n"
     ]
    }
   ],
   "source": [
    "# 简化reduce()的回调函数\n",
    "from functools import reduce\n",
    "\n",
    "def fn(prev,cur):\n",
    "    return prev + cur\n",
    "\n",
    "items = range(0,101)\n",
    "ret1 = reduce(fn,items)\n",
    "print(ret1)\n",
    "\n",
    "ret2 =reduce(lambda prev,cur: prev+cur,items)\n",
    "print(ret2)"
   ]
  },
  {
   "cell_type": "markdown",
   "id": "11d463de-f7d8-4aea-8fa6-6ea0fcd63bd7",
   "metadata": {},
   "source": [
    "#### 14.2.3 用于列表推导式"
   ]
  },
  {
   "cell_type": "code",
   "execution_count": 36,
   "id": "81c8bd8f-449e-494c-9ac8-0cd790dab7cd",
   "metadata": {},
   "outputs": [
    {
     "name": "stdout",
     "output_type": "stream",
     "text": [
      "[1, 4, 9, 16, 25, 36, 49, 64, 81, 100]\n"
     ]
    }
   ],
   "source": [
    "ret = [(lambda x: x*x)(x) for x in range(1,11)]\n",
    "print(ret)"
   ]
  },
  {
   "cell_type": "markdown",
   "id": "0f232583-5e9f-4a86-8b11-14f708fab46f",
   "metadata": {},
   "source": [
    "### 14.3 装饰器"
   ]
  },
  {
   "cell_type": "markdown",
   "id": "b375b825-4af1-4bfa-a045-6d80c16883b5",
   "metadata": {},
   "source": [
    "在python中，可以使用装饰器来增强一个函数的功能"
   ]
  },
  {
   "cell_type": "markdown",
   "id": "b6c75126-0a00-4183-bdf3-0403cba3d3fc",
   "metadata": {},
   "source": [
    "#### 14.3.1 嵌套函数"
   ]
  },
  {
   "cell_type": "markdown",
   "id": "a9b1b1d2-5666-4715-ba8d-abf69a525e43",
   "metadata": {},
   "source": [
    "嵌套函数：在函数内部定义一个函数"
   ]
  },
  {
   "cell_type": "code",
   "execution_count": 51,
   "id": "efa8cbb3-845d-48bd-a5b8-6c09691423bc",
   "metadata": {},
   "outputs": [
    {
     "name": "stdout",
     "output_type": "stream",
     "text": [
      "outer is running\n",
      "inner is running\n"
     ]
    }
   ],
   "source": [
    "# 示例1\n",
    "def outer():\n",
    "    print(\"outer is running\")\n",
    "    def inner():\n",
    "        print(\"inner is running\")\n",
    "    inner()\n",
    "\n",
    "outer()"
   ]
  },
  {
   "cell_type": "code",
   "execution_count": 52,
   "id": "bc19178a-14e1-4267-8851-76a20f34b76c",
   "metadata": {},
   "outputs": [
    {
     "name": "stdout",
     "output_type": "stream",
     "text": [
      "362904\n"
     ]
    }
   ],
   "source": [
    "# 示例2\n",
    "def fn(a):\n",
    "    def multi(x):\n",
    "        return x*x\n",
    "    m = 1\n",
    "    for i in range(1,multi(a)+1):\n",
    "        m = m*i\n",
    "    return m\n",
    "\n",
    "ret = fn(2) + fn(3)\n",
    "print(ret)"
   ]
  },
  {
   "cell_type": "markdown",
   "id": "1cd4b5a4-c014-4add-86a7-ecf532f889ed",
   "metadata": {},
   "source": [
    "#### 14.3.2 闭包"
   ]
  },
  {
   "cell_type": "markdown",
   "id": "da7a5900-8063-4d44-9d68-1cff77c0b9f6",
   "metadata": {},
   "source": [
    "闭包：由函数及其相关的引用环境组合而成的实体，闭包 = 函数 + 引用环境"
   ]
  },
  {
   "cell_type": "markdown",
   "id": "6372dfb2-17e7-4b9d-b7ab-2b29c4965cca",
   "metadata": {},
   "source": [
    "如果一个函数定义在另一个函数的作用域内，并引用了外层函数的变量，则称该函数为闭包"
   ]
  },
  {
   "cell_type": "code",
   "execution_count": 63,
   "id": "d3bd1df4-c8f8-4520-8612-b44e297ade28",
   "metadata": {},
   "outputs": [
    {
     "name": "stdout",
     "output_type": "stream",
     "text": [
      "<function outer.<locals>.inner at 0x7ed548f71af0>\n",
      "(101, 10)\n"
     ]
    }
   ],
   "source": [
    "# 示例1\n",
    "def outer():\n",
    "    x = 1\n",
    "    z = 10\n",
    "\n",
    "    def inner():\n",
    "        nonlocal x\n",
    "        x = x + 100\n",
    "        #y = x + 100\n",
    "        return x,z\n",
    "    return inner\n",
    "\n",
    "f = outer()\n",
    "print(f)\n",
    "print(f())"
   ]
  },
  {
   "cell_type": "code",
   "execution_count": 61,
   "id": "8f53d253-9a2b-45a2-b127-1b53daa7a2c4",
   "metadata": {},
   "outputs": [
    {
     "name": "stdout",
     "output_type": "stream",
     "text": [
      "(<cell at 0x7ed54a3943d0: int object at 0x7ed54f7c6a50>,)\n"
     ]
    }
   ],
   "source": [
    "print(f.__closure__)"
   ]
  },
  {
   "cell_type": "markdown",
   "id": "2c05f8d5-9f39-425a-a697-4de45b07c9ae",
   "metadata": {},
   "source": [
    "#### 14.3.3 装饰器实践"
   ]
  },
  {
   "cell_type": "code",
   "execution_count": 64,
   "id": "ca89c0ee-7c33-42e1-8ba7-2b6cc495fd3e",
   "metadata": {},
   "outputs": [
    {
     "name": "stdout",
     "output_type": "stream",
     "text": [
      "Running time:  4.590036630630493\n",
      "5000000050000000\n"
     ]
    }
   ],
   "source": [
    "# 计算函数执行时间\n",
    "import time\n",
    "\n",
    "# 定义装饰器\n",
    "def gettime(fn):\n",
    "    def inner(*args,**kwargs):\n",
    "        # 开始时间\n",
    "        start = time.time()\n",
    "        ret = fn(*args,**kwargs)\n",
    "        # 结束时间\n",
    "        end = time.time()\n",
    "        print(\"Running time: \", end - start)\n",
    "        return ret\n",
    "    return inner\n",
    "\n",
    "# 使用装饰器\n",
    "@gettime\n",
    "def getsum(n):\n",
    "    ret = 0\n",
    "    for i in range(n+1):\n",
    "        ret += i\n",
    "    return ret\n",
    "\n",
    "print(getsum(100000000))"
   ]
  },
  {
   "cell_type": "code",
   "execution_count": 65,
   "id": "3ac8776f-ce6b-41d3-97c7-7712f9ff6613",
   "metadata": {},
   "outputs": [
    {
     "name": "stdout",
     "output_type": "stream",
     "text": [
      "Running time:  4.42430567741394\n",
      "5000000050000000\n"
     ]
    }
   ],
   "source": [
    "import time\n",
    "# 定义装饰器\n",
    "def gettime(fn):\n",
    "    def inner(*args,**kwargs):\n",
    "        # 开始时间\n",
    "        start = time.time()\n",
    "        ret = fn(*args,**kwargs)\n",
    "        # 结束时间\n",
    "        end = time.time()\n",
    "        print(\"Running time: \", end - start)\n",
    "        return ret\n",
    "    return inner\n",
    "\n",
    "# 使用装饰器的第2种方式\n",
    "def getsum(n):\n",
    "    ret = 0\n",
    "    for i in range(n+1):\n",
    "        ret += i\n",
    "    return ret\n",
    "getsum = gettime(getsum)\n",
    "\n",
    "print(getsum(100000000))"
   ]
  },
  {
   "cell_type": "code",
   "execution_count": 66,
   "id": "c3bfd406-d8c2-44fb-895d-4b11e5929383",
   "metadata": {},
   "outputs": [
    {
     "name": "stdout",
     "output_type": "stream",
     "text": [
      "5000000050000000\n",
      "Running time:  4.4399309158325195\n"
     ]
    }
   ],
   "source": [
    "# 如果传进来的fn函数没有返回值，在gettime()的inner()这个函数中，就不需要返回一个值\n",
    "import time\n",
    "\n",
    "# 定义装饰器\n",
    "def gettime(fn):\n",
    "    def inner(*args,**kwargs):\n",
    "        start = time.time()\n",
    "        ret = fn(*args,**kwargs)\n",
    "        end = time.time()\n",
    "        print('Running time: ',end-start)\n",
    "    return inner\n",
    "    \n",
    "@gettime\n",
    "def getsum(n):\n",
    "    ret = 0\n",
    "    for i in range(n+1):\n",
    "        ret += i\n",
    "    print(ret)    \n",
    "\n",
    "getsum(100000000)"
   ]
  },
  {
   "cell_type": "code",
   "execution_count": 77,
   "id": "78434cb3-bbd2-46c7-a5db-0ce82e0712b1",
   "metadata": {},
   "outputs": [
    {
     "name": "stdout",
     "output_type": "stream",
     "text": [
      "inner run\n",
      "origin inner run\n",
      "f1 run\n",
      "50000005000000\n",
      "running time: 0.48472046852111816\n",
      "inner run\n",
      "double inner run\n",
      "f2 run\n",
      "50000005000000\n",
      "running time: 0.9235477447509766\n",
      "inner\n",
      "inner\n"
     ]
    }
   ],
   "source": [
    "# 带参数的装饰器------装饰器本身要传递一些额外参数\n",
    "import time\n",
    "def gettime(method):\n",
    "    def outer(fn):\n",
    "        def inner(*args,**kwargs):\n",
    "            print(\"inner run\")\n",
    "            if method == \"origin\":\n",
    "                print(\"origin inner run\")\n",
    "                start = time.time()\n",
    "                res = fn(*args,**kwargs)\n",
    "                end = time.time()\n",
    "                print(\"running time:\",end-start)\n",
    "            elif method == \"double\":\n",
    "                print(\"double inner run\")\n",
    "                start = time.time()\n",
    "                res = fn(*args,**kwargs)\n",
    "                end = time.time()\n",
    "                print(\"running time:\",2*(end-start))\n",
    "        return inner\n",
    "    return outer\n",
    "\n",
    "@gettime(method=\"origin\")\n",
    "def f1(n):\n",
    "    print(\"f1 run\")\n",
    "    ret = 0\n",
    "    for i in range(n+1):\n",
    "        ret += i\n",
    "    print(ret)  \n",
    "\n",
    "@gettime(method=\"double\")\n",
    "def f2(n):\n",
    "    print(\"f2 run\")\n",
    "    ret = 0\n",
    "    for i in range(n+1):\n",
    "        ret += i\n",
    "    print(ret)  \n",
    "\n",
    "f1(10000000)\n",
    "f2(10000000)\n",
    "\n",
    "print(f1.__name__)\n",
    "print(f2.__name__)"
   ]
  },
  {
   "cell_type": "code",
   "execution_count": 79,
   "id": "c70abbc7-7a12-4464-96ff-d7d17370a2c1",
   "metadata": {},
   "outputs": [
    {
     "name": "stdout",
     "output_type": "stream",
     "text": [
      "inner run\n",
      "origin inner run\n",
      "f1 run\n",
      "50000005000000\n",
      "running time: 0.4768028259277344\n",
      "inner run\n",
      "double inner run\n",
      "f2 run\n",
      "50000005000000\n",
      "running time: 0.8976306915283203\n",
      "f1\n",
      "f2\n"
     ]
    }
   ],
   "source": [
    "# 带参数的装饰器------保留原函数属性\n",
    "import time\n",
    "from functools import wraps\n",
    "def gettime(method):\n",
    "    def outer(fn):\n",
    "        @wraps(fn)\n",
    "        def inner(*args,**kwargs):\n",
    "            print(\"inner run\")\n",
    "            if method == \"origin\":\n",
    "                print(\"origin inner run\")\n",
    "                start = time.time()\n",
    "                res = fn(*args,**kwargs)\n",
    "                end = time.time()\n",
    "                print(\"running time:\",end-start)\n",
    "            elif method == \"double\":\n",
    "                print(\"double inner run\")\n",
    "                start = time.time()\n",
    "                res = fn(*args,**kwargs)\n",
    "                end = time.time()\n",
    "                print(\"running time:\",2*(end-start))\n",
    "        return inner\n",
    "    return outer\n",
    "\n",
    "@gettime(method=\"origin\")\n",
    "def f1(n):\n",
    "    print(\"f1 run\")\n",
    "    ret = 0\n",
    "    for i in range(n+1):\n",
    "        ret += i\n",
    "    print(ret)  \n",
    "\n",
    "@gettime(method=\"double\")\n",
    "def f2(n):\n",
    "    print(\"f2 run\")\n",
    "    ret = 0\n",
    "    for i in range(n+1):\n",
    "        ret += i\n",
    "    print(ret)  \n",
    "\n",
    "f1(10000000)\n",
    "f2(10000000)\n",
    "\n",
    "print(f1.__name__)\n",
    "print(f2.__name__)"
   ]
  },
  {
   "cell_type": "code",
   "execution_count": null,
   "id": "112651aa-f810-4454-a686-526edbe51708",
   "metadata": {},
   "outputs": [],
   "source": []
  }
 ],
 "metadata": {
  "kernelspec": {
   "display_name": "Python 3 (ipykernel)",
   "language": "python",
   "name": "python3"
  },
  "language_info": {
   "codemirror_mode": {
    "name": "ipython",
    "version": 3
   },
   "file_extension": ".py",
   "mimetype": "text/x-python",
   "name": "python",
   "nbconvert_exporter": "python",
   "pygments_lexer": "ipython3",
   "version": "3.9.1"
  }
 },
 "nbformat": 4,
 "nbformat_minor": 5
}
